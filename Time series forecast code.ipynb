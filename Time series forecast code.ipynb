{
 "cells": [
  {
   "cell_type": "markdown",
   "id": "33792fd6",
   "metadata": {},
   "source": [
    "# DOWNLOADING THE DATASET"
   ]
  },
  {
   "cell_type": "code",
   "execution_count": 1,
   "id": "a499febb",
   "metadata": {},
   "outputs": [
    {
     "name": "stdout",
     "output_type": "stream",
     "text": [
      "Skipping, found downloaded files in \".\\store-sales-time-series-forecasting\" (use force=True to force download)\n"
     ]
    }
   ],
   "source": [
    "#downloading the datasets\n",
    "import os\n",
    "import opendatasets as od\n",
    "\n",
    "url = 'https://kaggle.com/competitions/store-sales-time-series-forecasting'\n",
    "od.download(url)"
   ]
  },
  {
   "cell_type": "code",
   "execution_count": 2,
   "id": "dec9d012",
   "metadata": {},
   "outputs": [
    {
     "data": {
      "text/plain": [
       "['holidays_events.csv',\n",
       " 'oil.csv',\n",
       " 'sample_submission.csv',\n",
       " 'stores.csv',\n",
       " 'test.csv',\n",
       " 'train.csv',\n",
       " 'transactions.csv']"
      ]
     },
     "execution_count": 2,
     "metadata": {},
     "output_type": "execute_result"
    }
   ],
   "source": [
    "os.listdir('store-sales-time-series-forecasting')#listing datasets directories"
   ]
  },
  {
   "cell_type": "code",
   "execution_count": 3,
   "id": "acef1a16",
   "metadata": {},
   "outputs": [
    {
     "name": "stderr",
     "output_type": "stream",
     "text": [
      "C:\\Users\\hp\\.conda\\Lib\\site-packages\\paramiko\\transport.py:219: CryptographyDeprecationWarning: Blowfish has been deprecated\n",
      "  \"class\": algorithms.Blowfish,\n"
     ]
    },
    {
     "data": {
      "text/html": [
       "        <script type=\"text/javascript\">\n",
       "        window.PlotlyConfig = {MathJaxConfig: 'local'};\n",
       "        if (window.MathJax && window.MathJax.Hub && window.MathJax.Hub.Config) {window.MathJax.Hub.Config({SVG: {font: \"STIX-Web\"}});}\n",
       "        if (typeof require !== 'undefined') {\n",
       "        require.undef(\"plotly\");\n",
       "        requirejs.config({\n",
       "            paths: {\n",
       "                'plotly': ['https://cdn.plot.ly/plotly-2.12.1.min']\n",
       "            }\n",
       "        });\n",
       "        require(['plotly'], function(Plotly) {\n",
       "            window._Plotly = Plotly;\n",
       "        });\n",
       "        }\n",
       "        </script>\n",
       "        "
      ]
     },
     "metadata": {},
     "output_type": "display_data"
    }
   ],
   "source": [
    "#importing modules\n",
    "import pandas as pd\n",
    "import numpy as np\n",
    "import seaborn as sns\n",
    "import matplotlib.pyplot as plt\n",
    "import plotly.express as px\n",
    "import calendar\n",
    "from plotly.subplots import make_subplots\n",
    "import plotly.figure_factory as ff\n",
    "import plotly.offline as offline\n",
    "import plotly.graph_objs as go\n",
    "from sklearn.preprocessing import LabelEncoder \n",
    "from sklearn.preprocessing import StandardScaler \n",
    "from sklearn.model_selection import train_test_split \n",
    "import xgboost as xgb\n",
    "from sklearn.metrics import mean_squared_log_error\n",
    "from catboost import CatBoostRegressor\n",
    "offline.init_notebook_mode(connected = True)"
   ]
  },
  {
   "cell_type": "markdown",
   "id": "72eac8ac",
   "metadata": {},
   "source": [
    "# LOADING THE DATSETS"
   ]
  },
  {
   "cell_type": "code",
   "execution_count": 4,
   "id": "3878eeee",
   "metadata": {},
   "outputs": [],
   "source": [
    "#reading the datasets\n",
    "holiday = pd.read_csv('store-sales-time-series-forecasting/holidays_events.csv')\n",
    "oil = pd.read_csv('store-sales-time-series-forecasting/oil.csv')\n",
    "sub = pd.read_csv('store-sales-time-series-forecasting/sample_submission.csv')\n",
    "store = pd.read_csv('store-sales-time-series-forecasting/stores.csv')\n",
    "test = pd.read_csv('store-sales-time-series-forecasting/test.csv')\n",
    "train = pd.read_csv('store-sales-time-series-forecasting/train.csv')\n",
    "transact = pd.read_csv('store-sales-time-series-forecasting/transactions.csv')"
   ]
  },
  {
   "cell_type": "code",
   "execution_count": 5,
   "id": "9d8058ce",
   "metadata": {},
   "outputs": [
    {
     "name": "stdout",
     "output_type": "stream",
     "text": [
      "Duplicates: False\n",
      "date           object\n",
      "type           object\n",
      "locale         object\n",
      "locale_name    object\n",
      "description    object\n",
      "transferred      bool\n",
      "dtype: object\n",
      "Have null values: False\n",
      "Missing values: 0\n",
      "Shapes: (350, 6)\n"
     ]
    }
   ],
   "source": [
    "#Calling a basic_info function to get the summary of the data \n",
    "def basic_info(holiday):\n",
    "    dup = holiday.duplicated().sum().any()\n",
    "    dtype = holiday.dtypes\n",
    "    null = holiday.isna().sum().any()\n",
    "    total_missing = holiday.isnull().sum().sum()\n",
    "    shapes = holiday.shape\n",
    "    return f\"Duplicates: {dup}\\n{dtype}\\nHave null values: {null}\\nMissing values: {total_missing}\\nShapes: {shapes}\"\n",
    "\n",
    "print(basic_info(holiday))"
   ]
  },
  {
   "cell_type": "code",
   "execution_count": 6,
   "id": "a4053528",
   "metadata": {},
   "outputs": [
    {
     "name": "stdout",
     "output_type": "stream",
     "text": [
      "Duplicates: False\n",
      "date           object\n",
      "dcoilwtico    float64\n",
      "dtype: object\n",
      "Have null values: True\n",
      "Missing values: 43\n",
      "Shapes: (1218, 2)\n"
     ]
    }
   ],
   "source": [
    "print(basic_info(oil))"
   ]
  },
  {
   "cell_type": "code",
   "execution_count": 7,
   "id": "58784696",
   "metadata": {},
   "outputs": [
    {
     "name": "stdout",
     "output_type": "stream",
     "text": [
      "Duplicates: False\n",
      "id         int64\n",
      "sales    float64\n",
      "dtype: object\n",
      "Have null values: False\n",
      "Missing values: 0\n",
      "Shapes: (28512, 2)\n"
     ]
    }
   ],
   "source": [
    "print(basic_info(sub))"
   ]
  },
  {
   "cell_type": "code",
   "execution_count": 8,
   "id": "920fc4b8",
   "metadata": {},
   "outputs": [
    {
     "name": "stdout",
     "output_type": "stream",
     "text": [
      "Duplicates: False\n",
      "store_nbr     int64\n",
      "city         object\n",
      "state        object\n",
      "type         object\n",
      "cluster       int64\n",
      "dtype: object\n",
      "Have null values: False\n",
      "Missing values: 0\n",
      "Shapes: (54, 5)\n"
     ]
    }
   ],
   "source": [
    "print(basic_info(store))"
   ]
  },
  {
   "cell_type": "code",
   "execution_count": 9,
   "id": "992fbe76",
   "metadata": {},
   "outputs": [
    {
     "name": "stdout",
     "output_type": "stream",
     "text": [
      "Duplicates: False\n",
      "date            object\n",
      "store_nbr        int64\n",
      "transactions     int64\n",
      "dtype: object\n",
      "Have null values: False\n",
      "Missing values: 0\n",
      "Shapes: (83488, 3)\n"
     ]
    }
   ],
   "source": [
    "print(basic_info(transact))"
   ]
  },
  {
   "cell_type": "code",
   "execution_count": 10,
   "id": "ad2174ac",
   "metadata": {},
   "outputs": [
    {
     "name": "stdout",
     "output_type": "stream",
     "text": [
      "Duplicates: False\n",
      "id               int64\n",
      "date            object\n",
      "store_nbr        int64\n",
      "family          object\n",
      "sales          float64\n",
      "onpromotion      int64\n",
      "dtype: object\n",
      "Have null values: False\n",
      "Missing values: 0\n",
      "Shapes: (3000888, 6)\n"
     ]
    }
   ],
   "source": [
    "print(basic_info(train))"
   ]
  },
  {
   "cell_type": "code",
   "execution_count": 11,
   "id": "ded7e2f8",
   "metadata": {},
   "outputs": [
    {
     "name": "stdout",
     "output_type": "stream",
     "text": [
      "Duplicates: False\n",
      "id              int64\n",
      "date           object\n",
      "store_nbr       int64\n",
      "family         object\n",
      "onpromotion     int64\n",
      "dtype: object\n",
      "Have null values: False\n",
      "Missing values: 0\n",
      "Shapes: (28512, 5)\n"
     ]
    }
   ],
   "source": [
    "print(basic_info(test))"
   ]
  },
  {
   "cell_type": "code",
   "execution_count": 12,
   "id": "fe192ce5",
   "metadata": {},
   "outputs": [
    {
     "data": {
      "text/html": [
       "<div>\n",
       "<style scoped>\n",
       "    .dataframe tbody tr th:only-of-type {\n",
       "        vertical-align: middle;\n",
       "    }\n",
       "\n",
       "    .dataframe tbody tr th {\n",
       "        vertical-align: top;\n",
       "    }\n",
       "\n",
       "    .dataframe thead th {\n",
       "        text-align: right;\n",
       "    }\n",
       "</style>\n",
       "<table border=\"1\" class=\"dataframe\">\n",
       "  <thead>\n",
       "    <tr style=\"text-align: right;\">\n",
       "      <th></th>\n",
       "      <th>count</th>\n",
       "      <th>mean</th>\n",
       "      <th>std</th>\n",
       "      <th>min</th>\n",
       "      <th>25%</th>\n",
       "      <th>50%</th>\n",
       "      <th>75%</th>\n",
       "      <th>max</th>\n",
       "    </tr>\n",
       "  </thead>\n",
       "  <tbody>\n",
       "    <tr>\n",
       "      <th>id</th>\n",
       "      <td>3000888.0</td>\n",
       "      <td>1.500444e+06</td>\n",
       "      <td>866281.891642</td>\n",
       "      <td>0.0</td>\n",
       "      <td>750221.75</td>\n",
       "      <td>1500443.5</td>\n",
       "      <td>2.250665e+06</td>\n",
       "      <td>3000887.0</td>\n",
       "    </tr>\n",
       "    <tr>\n",
       "      <th>store_nbr</th>\n",
       "      <td>3000888.0</td>\n",
       "      <td>2.750000e+01</td>\n",
       "      <td>15.585787</td>\n",
       "      <td>1.0</td>\n",
       "      <td>14.00</td>\n",
       "      <td>27.5</td>\n",
       "      <td>4.100000e+01</td>\n",
       "      <td>54.0</td>\n",
       "    </tr>\n",
       "    <tr>\n",
       "      <th>sales</th>\n",
       "      <td>3000888.0</td>\n",
       "      <td>3.577757e+02</td>\n",
       "      <td>1101.997721</td>\n",
       "      <td>0.0</td>\n",
       "      <td>0.00</td>\n",
       "      <td>11.0</td>\n",
       "      <td>1.958473e+02</td>\n",
       "      <td>124717.0</td>\n",
       "    </tr>\n",
       "    <tr>\n",
       "      <th>onpromotion</th>\n",
       "      <td>3000888.0</td>\n",
       "      <td>2.602770e+00</td>\n",
       "      <td>12.218882</td>\n",
       "      <td>0.0</td>\n",
       "      <td>0.00</td>\n",
       "      <td>0.0</td>\n",
       "      <td>0.000000e+00</td>\n",
       "      <td>741.0</td>\n",
       "    </tr>\n",
       "  </tbody>\n",
       "</table>\n",
       "</div>"
      ],
      "text/plain": [
       "                 count          mean            std  min        25%  \\\n",
       "id           3000888.0  1.500444e+06  866281.891642  0.0  750221.75   \n",
       "store_nbr    3000888.0  2.750000e+01      15.585787  1.0      14.00   \n",
       "sales        3000888.0  3.577757e+02    1101.997721  0.0       0.00   \n",
       "onpromotion  3000888.0  2.602770e+00      12.218882  0.0       0.00   \n",
       "\n",
       "                   50%           75%        max  \n",
       "id           1500443.5  2.250665e+06  3000887.0  \n",
       "store_nbr         27.5  4.100000e+01       54.0  \n",
       "sales             11.0  1.958473e+02   124717.0  \n",
       "onpromotion        0.0  0.000000e+00      741.0  "
      ]
     },
     "execution_count": 12,
     "metadata": {},
     "output_type": "execute_result"
    }
   ],
   "source": [
    "train.describe().T"
   ]
  },
  {
   "cell_type": "code",
   "execution_count": 13,
   "id": "ffcffa67",
   "metadata": {},
   "outputs": [
    {
     "data": {
      "application/vnd.plotly.v1+json": {
       "config": {
        "plotlyServerURL": "https://plot.ly"
       },
       "data": [
        {
         "mode": "text",
         "text": [
          "<span style='font-size:33px'><b>54</b></span>",
          "<span style='font-size:33px'><b>33</b></span>",
          "<span style='font-size:33px'><b>16</b></span>",
          "<span style='font-size:33px'><b>56</b></span>"
         ],
         "textposition": "bottom center",
         "type": "scatter",
         "x": [
          0,
          1,
          2,
          3
         ],
         "y": [
          1.6,
          1.6,
          1.6,
          1.6
         ]
        },
        {
         "mode": "text",
         "text": [
          "Stores",
          "Products",
          "States",
          "Months"
         ],
         "textposition": "bottom center",
         "type": "scatter",
         "x": [
          0,
          1,
          2,
          3
         ],
         "y": [
          1.1,
          1.1,
          1.1,
          1.1
         ]
        }
       ],
       "layout": {
        "font": {
         "color": "#323232",
         "size": 23
        },
        "height": 300,
        "margin": {
         "b": 0,
         "l": 70,
         "r": 70,
         "t": 90
        },
        "paper_bgcolor": "#fafafa",
        "plot_bgcolor": "#fafafa",
        "shapes": [
         {
          "line": {
           "color": "gray",
           "width": 5
          },
          "type": "line",
          "x0": 0,
          "x1": 1,
          "xref": "x domain",
          "y0": 2.2,
          "y1": 2.2,
          "yref": "y"
         },
         {
          "line": {
           "color": "gray",
           "width": 3
          },
          "type": "line",
          "x0": 0,
          "x1": 1,
          "xref": "x domain",
          "y0": 0.3,
          "y1": 0.3,
          "yref": "y"
         }
        ],
        "showlegend": false,
        "template": {
         "data": {
          "bar": [
           {
            "error_x": {
             "color": "#2a3f5f"
            },
            "error_y": {
             "color": "#2a3f5f"
            },
            "marker": {
             "line": {
              "color": "#E5ECF6",
              "width": 0.5
             },
             "pattern": {
              "fillmode": "overlay",
              "size": 10,
              "solidity": 0.2
             }
            },
            "type": "bar"
           }
          ],
          "barpolar": [
           {
            "marker": {
             "line": {
              "color": "#E5ECF6",
              "width": 0.5
             },
             "pattern": {
              "fillmode": "overlay",
              "size": 10,
              "solidity": 0.2
             }
            },
            "type": "barpolar"
           }
          ],
          "carpet": [
           {
            "aaxis": {
             "endlinecolor": "#2a3f5f",
             "gridcolor": "white",
             "linecolor": "white",
             "minorgridcolor": "white",
             "startlinecolor": "#2a3f5f"
            },
            "baxis": {
             "endlinecolor": "#2a3f5f",
             "gridcolor": "white",
             "linecolor": "white",
             "minorgridcolor": "white",
             "startlinecolor": "#2a3f5f"
            },
            "type": "carpet"
           }
          ],
          "choropleth": [
           {
            "colorbar": {
             "outlinewidth": 0,
             "ticks": ""
            },
            "type": "choropleth"
           }
          ],
          "contour": [
           {
            "colorbar": {
             "outlinewidth": 0,
             "ticks": ""
            },
            "colorscale": [
             [
              0,
              "#0d0887"
             ],
             [
              0.1111111111111111,
              "#46039f"
             ],
             [
              0.2222222222222222,
              "#7201a8"
             ],
             [
              0.3333333333333333,
              "#9c179e"
             ],
             [
              0.4444444444444444,
              "#bd3786"
             ],
             [
              0.5555555555555556,
              "#d8576b"
             ],
             [
              0.6666666666666666,
              "#ed7953"
             ],
             [
              0.7777777777777778,
              "#fb9f3a"
             ],
             [
              0.8888888888888888,
              "#fdca26"
             ],
             [
              1,
              "#f0f921"
             ]
            ],
            "type": "contour"
           }
          ],
          "contourcarpet": [
           {
            "colorbar": {
             "outlinewidth": 0,
             "ticks": ""
            },
            "type": "contourcarpet"
           }
          ],
          "heatmap": [
           {
            "colorbar": {
             "outlinewidth": 0,
             "ticks": ""
            },
            "colorscale": [
             [
              0,
              "#0d0887"
             ],
             [
              0.1111111111111111,
              "#46039f"
             ],
             [
              0.2222222222222222,
              "#7201a8"
             ],
             [
              0.3333333333333333,
              "#9c179e"
             ],
             [
              0.4444444444444444,
              "#bd3786"
             ],
             [
              0.5555555555555556,
              "#d8576b"
             ],
             [
              0.6666666666666666,
              "#ed7953"
             ],
             [
              0.7777777777777778,
              "#fb9f3a"
             ],
             [
              0.8888888888888888,
              "#fdca26"
             ],
             [
              1,
              "#f0f921"
             ]
            ],
            "type": "heatmap"
           }
          ],
          "heatmapgl": [
           {
            "colorbar": {
             "outlinewidth": 0,
             "ticks": ""
            },
            "colorscale": [
             [
              0,
              "#0d0887"
             ],
             [
              0.1111111111111111,
              "#46039f"
             ],
             [
              0.2222222222222222,
              "#7201a8"
             ],
             [
              0.3333333333333333,
              "#9c179e"
             ],
             [
              0.4444444444444444,
              "#bd3786"
             ],
             [
              0.5555555555555556,
              "#d8576b"
             ],
             [
              0.6666666666666666,
              "#ed7953"
             ],
             [
              0.7777777777777778,
              "#fb9f3a"
             ],
             [
              0.8888888888888888,
              "#fdca26"
             ],
             [
              1,
              "#f0f921"
             ]
            ],
            "type": "heatmapgl"
           }
          ],
          "histogram": [
           {
            "marker": {
             "pattern": {
              "fillmode": "overlay",
              "size": 10,
              "solidity": 0.2
             }
            },
            "type": "histogram"
           }
          ],
          "histogram2d": [
           {
            "colorbar": {
             "outlinewidth": 0,
             "ticks": ""
            },
            "colorscale": [
             [
              0,
              "#0d0887"
             ],
             [
              0.1111111111111111,
              "#46039f"
             ],
             [
              0.2222222222222222,
              "#7201a8"
             ],
             [
              0.3333333333333333,
              "#9c179e"
             ],
             [
              0.4444444444444444,
              "#bd3786"
             ],
             [
              0.5555555555555556,
              "#d8576b"
             ],
             [
              0.6666666666666666,
              "#ed7953"
             ],
             [
              0.7777777777777778,
              "#fb9f3a"
             ],
             [
              0.8888888888888888,
              "#fdca26"
             ],
             [
              1,
              "#f0f921"
             ]
            ],
            "type": "histogram2d"
           }
          ],
          "histogram2dcontour": [
           {
            "colorbar": {
             "outlinewidth": 0,
             "ticks": ""
            },
            "colorscale": [
             [
              0,
              "#0d0887"
             ],
             [
              0.1111111111111111,
              "#46039f"
             ],
             [
              0.2222222222222222,
              "#7201a8"
             ],
             [
              0.3333333333333333,
              "#9c179e"
             ],
             [
              0.4444444444444444,
              "#bd3786"
             ],
             [
              0.5555555555555556,
              "#d8576b"
             ],
             [
              0.6666666666666666,
              "#ed7953"
             ],
             [
              0.7777777777777778,
              "#fb9f3a"
             ],
             [
              0.8888888888888888,
              "#fdca26"
             ],
             [
              1,
              "#f0f921"
             ]
            ],
            "type": "histogram2dcontour"
           }
          ],
          "mesh3d": [
           {
            "colorbar": {
             "outlinewidth": 0,
             "ticks": ""
            },
            "type": "mesh3d"
           }
          ],
          "parcoords": [
           {
            "line": {
             "colorbar": {
              "outlinewidth": 0,
              "ticks": ""
             }
            },
            "type": "parcoords"
           }
          ],
          "pie": [
           {
            "automargin": true,
            "type": "pie"
           }
          ],
          "scatter": [
           {
            "fillpattern": {
             "fillmode": "overlay",
             "size": 10,
             "solidity": 0.2
            },
            "type": "scatter"
           }
          ],
          "scatter3d": [
           {
            "line": {
             "colorbar": {
              "outlinewidth": 0,
              "ticks": ""
             }
            },
            "marker": {
             "colorbar": {
              "outlinewidth": 0,
              "ticks": ""
             }
            },
            "type": "scatter3d"
           }
          ],
          "scattercarpet": [
           {
            "marker": {
             "colorbar": {
              "outlinewidth": 0,
              "ticks": ""
             }
            },
            "type": "scattercarpet"
           }
          ],
          "scattergeo": [
           {
            "marker": {
             "colorbar": {
              "outlinewidth": 0,
              "ticks": ""
             }
            },
            "type": "scattergeo"
           }
          ],
          "scattergl": [
           {
            "marker": {
             "colorbar": {
              "outlinewidth": 0,
              "ticks": ""
             }
            },
            "type": "scattergl"
           }
          ],
          "scattermapbox": [
           {
            "marker": {
             "colorbar": {
              "outlinewidth": 0,
              "ticks": ""
             }
            },
            "type": "scattermapbox"
           }
          ],
          "scatterpolar": [
           {
            "marker": {
             "colorbar": {
              "outlinewidth": 0,
              "ticks": ""
             }
            },
            "type": "scatterpolar"
           }
          ],
          "scatterpolargl": [
           {
            "marker": {
             "colorbar": {
              "outlinewidth": 0,
              "ticks": ""
             }
            },
            "type": "scatterpolargl"
           }
          ],
          "scatterternary": [
           {
            "marker": {
             "colorbar": {
              "outlinewidth": 0,
              "ticks": ""
             }
            },
            "type": "scatterternary"
           }
          ],
          "surface": [
           {
            "colorbar": {
             "outlinewidth": 0,
             "ticks": ""
            },
            "colorscale": [
             [
              0,
              "#0d0887"
             ],
             [
              0.1111111111111111,
              "#46039f"
             ],
             [
              0.2222222222222222,
              "#7201a8"
             ],
             [
              0.3333333333333333,
              "#9c179e"
             ],
             [
              0.4444444444444444,
              "#bd3786"
             ],
             [
              0.5555555555555556,
              "#d8576b"
             ],
             [
              0.6666666666666666,
              "#ed7953"
             ],
             [
              0.7777777777777778,
              "#fb9f3a"
             ],
             [
              0.8888888888888888,
              "#fdca26"
             ],
             [
              1,
              "#f0f921"
             ]
            ],
            "type": "surface"
           }
          ],
          "table": [
           {
            "cells": {
             "fill": {
              "color": "#EBF0F8"
             },
             "line": {
              "color": "white"
             }
            },
            "header": {
             "fill": {
              "color": "#C8D4E3"
             },
             "line": {
              "color": "white"
             }
            },
            "type": "table"
           }
          ]
         },
         "layout": {
          "annotationdefaults": {
           "arrowcolor": "#2a3f5f",
           "arrowhead": 0,
           "arrowwidth": 1
          },
          "autotypenumbers": "strict",
          "coloraxis": {
           "colorbar": {
            "outlinewidth": 0,
            "ticks": ""
           }
          },
          "colorscale": {
           "diverging": [
            [
             0,
             "#8e0152"
            ],
            [
             0.1,
             "#c51b7d"
            ],
            [
             0.2,
             "#de77ae"
            ],
            [
             0.3,
             "#f1b6da"
            ],
            [
             0.4,
             "#fde0ef"
            ],
            [
             0.5,
             "#f7f7f7"
            ],
            [
             0.6,
             "#e6f5d0"
            ],
            [
             0.7,
             "#b8e186"
            ],
            [
             0.8,
             "#7fbc41"
            ],
            [
             0.9,
             "#4d9221"
            ],
            [
             1,
             "#276419"
            ]
           ],
           "sequential": [
            [
             0,
             "#0d0887"
            ],
            [
             0.1111111111111111,
             "#46039f"
            ],
            [
             0.2222222222222222,
             "#7201a8"
            ],
            [
             0.3333333333333333,
             "#9c179e"
            ],
            [
             0.4444444444444444,
             "#bd3786"
            ],
            [
             0.5555555555555556,
             "#d8576b"
            ],
            [
             0.6666666666666666,
             "#ed7953"
            ],
            [
             0.7777777777777778,
             "#fb9f3a"
            ],
            [
             0.8888888888888888,
             "#fdca26"
            ],
            [
             1,
             "#f0f921"
            ]
           ],
           "sequentialminus": [
            [
             0,
             "#0d0887"
            ],
            [
             0.1111111111111111,
             "#46039f"
            ],
            [
             0.2222222222222222,
             "#7201a8"
            ],
            [
             0.3333333333333333,
             "#9c179e"
            ],
            [
             0.4444444444444444,
             "#bd3786"
            ],
            [
             0.5555555555555556,
             "#d8576b"
            ],
            [
             0.6666666666666666,
             "#ed7953"
            ],
            [
             0.7777777777777778,
             "#fb9f3a"
            ],
            [
             0.8888888888888888,
             "#fdca26"
            ],
            [
             1,
             "#f0f921"
            ]
           ]
          },
          "colorway": [
           "#636efa",
           "#EF553B",
           "#00cc96",
           "#ab63fa",
           "#FFA15A",
           "#19d3f3",
           "#FF6692",
           "#B6E880",
           "#FF97FF",
           "#FECB52"
          ],
          "font": {
           "color": "#2a3f5f"
          },
          "geo": {
           "bgcolor": "white",
           "lakecolor": "white",
           "landcolor": "#E5ECF6",
           "showlakes": true,
           "showland": true,
           "subunitcolor": "white"
          },
          "hoverlabel": {
           "align": "left"
          },
          "hovermode": "closest",
          "mapbox": {
           "style": "light"
          },
          "paper_bgcolor": "white",
          "plot_bgcolor": "#E5ECF6",
          "polar": {
           "angularaxis": {
            "gridcolor": "white",
            "linecolor": "white",
            "ticks": ""
           },
           "bgcolor": "#E5ECF6",
           "radialaxis": {
            "gridcolor": "white",
            "linecolor": "white",
            "ticks": ""
           }
          },
          "scene": {
           "xaxis": {
            "backgroundcolor": "#E5ECF6",
            "gridcolor": "white",
            "gridwidth": 2,
            "linecolor": "white",
            "showbackground": true,
            "ticks": "",
            "zerolinecolor": "white"
           },
           "yaxis": {
            "backgroundcolor": "#E5ECF6",
            "gridcolor": "white",
            "gridwidth": 2,
            "linecolor": "white",
            "showbackground": true,
            "ticks": "",
            "zerolinecolor": "white"
           },
           "zaxis": {
            "backgroundcolor": "#E5ECF6",
            "gridcolor": "white",
            "gridwidth": 2,
            "linecolor": "white",
            "showbackground": true,
            "ticks": "",
            "zerolinecolor": "white"
           }
          },
          "shapedefaults": {
           "line": {
            "color": "#2a3f5f"
           }
          },
          "ternary": {
           "aaxis": {
            "gridcolor": "white",
            "linecolor": "white",
            "ticks": ""
           },
           "baxis": {
            "gridcolor": "white",
            "linecolor": "white",
            "ticks": ""
           },
           "bgcolor": "#E5ECF6",
           "caxis": {
            "gridcolor": "white",
            "linecolor": "white",
            "ticks": ""
           }
          },
          "title": {
           "x": 0.05
          },
          "xaxis": {
           "automargin": true,
           "gridcolor": "white",
           "linecolor": "white",
           "ticks": "",
           "title": {
            "standoff": 15
           },
           "zerolinecolor": "white",
           "zerolinewidth": 2
          },
          "yaxis": {
           "automargin": true,
           "gridcolor": "white",
           "linecolor": "white",
           "ticks": "",
           "title": {
            "standoff": 15
           },
           "zerolinecolor": "white",
           "zerolinewidth": 2
          }
         }
        },
        "title": {
         "font": {
          "color": "#222",
          "size": 35
         },
         "text": "Store Sales Summary",
         "x": 0.5,
         "y": 0.9
        },
        "width": 700,
        "xaxis": {
         "range": [
          -0.5,
          3.6
         ],
         "visible": false
        },
        "yaxis": {
         "range": [
          -0.2,
          2.2
         ],
         "visible": false
        }
       }
      },
      "text/html": [
       "<div>                            <div id=\"764272a6-f012-444d-98e2-71c0ba575f20\" class=\"plotly-graph-div\" style=\"height:300px; width:700px;\"></div>            <script type=\"text/javascript\">                require([\"plotly\"], function(Plotly) {                    window.PLOTLYENV=window.PLOTLYENV || {};                                    if (document.getElementById(\"764272a6-f012-444d-98e2-71c0ba575f20\")) {                    Plotly.newPlot(                        \"764272a6-f012-444d-98e2-71c0ba575f20\",                        [{\"mode\":\"text\",\"text\":[\"<span style='font-size:33px'><b>54</b></span>\",\"<span style='font-size:33px'><b>33</b></span>\",\"<span style='font-size:33px'><b>16</b></span>\",\"<span style='font-size:33px'><b>56</b></span>\"],\"textposition\":\"bottom center\",\"x\":[0,1,2,3],\"y\":[1.6,1.6,1.6,1.6],\"type\":\"scatter\"},{\"mode\":\"text\",\"text\":[\"Stores\",\"Products\",\"States\",\"Months\"],\"textposition\":\"bottom center\",\"x\":[0,1,2,3],\"y\":[1.1,1.1,1.1,1.1],\"type\":\"scatter\"}],                        {\"template\":{\"data\":{\"histogram2dcontour\":[{\"type\":\"histogram2dcontour\",\"colorbar\":{\"outlinewidth\":0,\"ticks\":\"\"},\"colorscale\":[[0.0,\"#0d0887\"],[0.1111111111111111,\"#46039f\"],[0.2222222222222222,\"#7201a8\"],[0.3333333333333333,\"#9c179e\"],[0.4444444444444444,\"#bd3786\"],[0.5555555555555556,\"#d8576b\"],[0.6666666666666666,\"#ed7953\"],[0.7777777777777778,\"#fb9f3a\"],[0.8888888888888888,\"#fdca26\"],[1.0,\"#f0f921\"]]}],\"choropleth\":[{\"type\":\"choropleth\",\"colorbar\":{\"outlinewidth\":0,\"ticks\":\"\"}}],\"histogram2d\":[{\"type\":\"histogram2d\",\"colorbar\":{\"outlinewidth\":0,\"ticks\":\"\"},\"colorscale\":[[0.0,\"#0d0887\"],[0.1111111111111111,\"#46039f\"],[0.2222222222222222,\"#7201a8\"],[0.3333333333333333,\"#9c179e\"],[0.4444444444444444,\"#bd3786\"],[0.5555555555555556,\"#d8576b\"],[0.6666666666666666,\"#ed7953\"],[0.7777777777777778,\"#fb9f3a\"],[0.8888888888888888,\"#fdca26\"],[1.0,\"#f0f921\"]]}],\"heatmap\":[{\"type\":\"heatmap\",\"colorbar\":{\"outlinewidth\":0,\"ticks\":\"\"},\"colorscale\":[[0.0,\"#0d0887\"],[0.1111111111111111,\"#46039f\"],[0.2222222222222222,\"#7201a8\"],[0.3333333333333333,\"#9c179e\"],[0.4444444444444444,\"#bd3786\"],[0.5555555555555556,\"#d8576b\"],[0.6666666666666666,\"#ed7953\"],[0.7777777777777778,\"#fb9f3a\"],[0.8888888888888888,\"#fdca26\"],[1.0,\"#f0f921\"]]}],\"heatmapgl\":[{\"type\":\"heatmapgl\",\"colorbar\":{\"outlinewidth\":0,\"ticks\":\"\"},\"colorscale\":[[0.0,\"#0d0887\"],[0.1111111111111111,\"#46039f\"],[0.2222222222222222,\"#7201a8\"],[0.3333333333333333,\"#9c179e\"],[0.4444444444444444,\"#bd3786\"],[0.5555555555555556,\"#d8576b\"],[0.6666666666666666,\"#ed7953\"],[0.7777777777777778,\"#fb9f3a\"],[0.8888888888888888,\"#fdca26\"],[1.0,\"#f0f921\"]]}],\"contourcarpet\":[{\"type\":\"contourcarpet\",\"colorbar\":{\"outlinewidth\":0,\"ticks\":\"\"}}],\"contour\":[{\"type\":\"contour\",\"colorbar\":{\"outlinewidth\":0,\"ticks\":\"\"},\"colorscale\":[[0.0,\"#0d0887\"],[0.1111111111111111,\"#46039f\"],[0.2222222222222222,\"#7201a8\"],[0.3333333333333333,\"#9c179e\"],[0.4444444444444444,\"#bd3786\"],[0.5555555555555556,\"#d8576b\"],[0.6666666666666666,\"#ed7953\"],[0.7777777777777778,\"#fb9f3a\"],[0.8888888888888888,\"#fdca26\"],[1.0,\"#f0f921\"]]}],\"surface\":[{\"type\":\"surface\",\"colorbar\":{\"outlinewidth\":0,\"ticks\":\"\"},\"colorscale\":[[0.0,\"#0d0887\"],[0.1111111111111111,\"#46039f\"],[0.2222222222222222,\"#7201a8\"],[0.3333333333333333,\"#9c179e\"],[0.4444444444444444,\"#bd3786\"],[0.5555555555555556,\"#d8576b\"],[0.6666666666666666,\"#ed7953\"],[0.7777777777777778,\"#fb9f3a\"],[0.8888888888888888,\"#fdca26\"],[1.0,\"#f0f921\"]]}],\"mesh3d\":[{\"type\":\"mesh3d\",\"colorbar\":{\"outlinewidth\":0,\"ticks\":\"\"}}],\"scatter\":[{\"fillpattern\":{\"fillmode\":\"overlay\",\"size\":10,\"solidity\":0.2},\"type\":\"scatter\"}],\"parcoords\":[{\"type\":\"parcoords\",\"line\":{\"colorbar\":{\"outlinewidth\":0,\"ticks\":\"\"}}}],\"scatterpolargl\":[{\"type\":\"scatterpolargl\",\"marker\":{\"colorbar\":{\"outlinewidth\":0,\"ticks\":\"\"}}}],\"bar\":[{\"error_x\":{\"color\":\"#2a3f5f\"},\"error_y\":{\"color\":\"#2a3f5f\"},\"marker\":{\"line\":{\"color\":\"#E5ECF6\",\"width\":0.5},\"pattern\":{\"fillmode\":\"overlay\",\"size\":10,\"solidity\":0.2}},\"type\":\"bar\"}],\"scattergeo\":[{\"type\":\"scattergeo\",\"marker\":{\"colorbar\":{\"outlinewidth\":0,\"ticks\":\"\"}}}],\"scatterpolar\":[{\"type\":\"scatterpolar\",\"marker\":{\"colorbar\":{\"outlinewidth\":0,\"ticks\":\"\"}}}],\"histogram\":[{\"marker\":{\"pattern\":{\"fillmode\":\"overlay\",\"size\":10,\"solidity\":0.2}},\"type\":\"histogram\"}],\"scattergl\":[{\"type\":\"scattergl\",\"marker\":{\"colorbar\":{\"outlinewidth\":0,\"ticks\":\"\"}}}],\"scatter3d\":[{\"type\":\"scatter3d\",\"line\":{\"colorbar\":{\"outlinewidth\":0,\"ticks\":\"\"}},\"marker\":{\"colorbar\":{\"outlinewidth\":0,\"ticks\":\"\"}}}],\"scattermapbox\":[{\"type\":\"scattermapbox\",\"marker\":{\"colorbar\":{\"outlinewidth\":0,\"ticks\":\"\"}}}],\"scatterternary\":[{\"type\":\"scatterternary\",\"marker\":{\"colorbar\":{\"outlinewidth\":0,\"ticks\":\"\"}}}],\"scattercarpet\":[{\"type\":\"scattercarpet\",\"marker\":{\"colorbar\":{\"outlinewidth\":0,\"ticks\":\"\"}}}],\"carpet\":[{\"aaxis\":{\"endlinecolor\":\"#2a3f5f\",\"gridcolor\":\"white\",\"linecolor\":\"white\",\"minorgridcolor\":\"white\",\"startlinecolor\":\"#2a3f5f\"},\"baxis\":{\"endlinecolor\":\"#2a3f5f\",\"gridcolor\":\"white\",\"linecolor\":\"white\",\"minorgridcolor\":\"white\",\"startlinecolor\":\"#2a3f5f\"},\"type\":\"carpet\"}],\"table\":[{\"cells\":{\"fill\":{\"color\":\"#EBF0F8\"},\"line\":{\"color\":\"white\"}},\"header\":{\"fill\":{\"color\":\"#C8D4E3\"},\"line\":{\"color\":\"white\"}},\"type\":\"table\"}],\"barpolar\":[{\"marker\":{\"line\":{\"color\":\"#E5ECF6\",\"width\":0.5},\"pattern\":{\"fillmode\":\"overlay\",\"size\":10,\"solidity\":0.2}},\"type\":\"barpolar\"}],\"pie\":[{\"automargin\":true,\"type\":\"pie\"}]},\"layout\":{\"autotypenumbers\":\"strict\",\"colorway\":[\"#636efa\",\"#EF553B\",\"#00cc96\",\"#ab63fa\",\"#FFA15A\",\"#19d3f3\",\"#FF6692\",\"#B6E880\",\"#FF97FF\",\"#FECB52\"],\"font\":{\"color\":\"#2a3f5f\"},\"hovermode\":\"closest\",\"hoverlabel\":{\"align\":\"left\"},\"paper_bgcolor\":\"white\",\"plot_bgcolor\":\"#E5ECF6\",\"polar\":{\"bgcolor\":\"#E5ECF6\",\"angularaxis\":{\"gridcolor\":\"white\",\"linecolor\":\"white\",\"ticks\":\"\"},\"radialaxis\":{\"gridcolor\":\"white\",\"linecolor\":\"white\",\"ticks\":\"\"}},\"ternary\":{\"bgcolor\":\"#E5ECF6\",\"aaxis\":{\"gridcolor\":\"white\",\"linecolor\":\"white\",\"ticks\":\"\"},\"baxis\":{\"gridcolor\":\"white\",\"linecolor\":\"white\",\"ticks\":\"\"},\"caxis\":{\"gridcolor\":\"white\",\"linecolor\":\"white\",\"ticks\":\"\"}},\"coloraxis\":{\"colorbar\":{\"outlinewidth\":0,\"ticks\":\"\"}},\"colorscale\":{\"sequential\":[[0.0,\"#0d0887\"],[0.1111111111111111,\"#46039f\"],[0.2222222222222222,\"#7201a8\"],[0.3333333333333333,\"#9c179e\"],[0.4444444444444444,\"#bd3786\"],[0.5555555555555556,\"#d8576b\"],[0.6666666666666666,\"#ed7953\"],[0.7777777777777778,\"#fb9f3a\"],[0.8888888888888888,\"#fdca26\"],[1.0,\"#f0f921\"]],\"sequentialminus\":[[0.0,\"#0d0887\"],[0.1111111111111111,\"#46039f\"],[0.2222222222222222,\"#7201a8\"],[0.3333333333333333,\"#9c179e\"],[0.4444444444444444,\"#bd3786\"],[0.5555555555555556,\"#d8576b\"],[0.6666666666666666,\"#ed7953\"],[0.7777777777777778,\"#fb9f3a\"],[0.8888888888888888,\"#fdca26\"],[1.0,\"#f0f921\"]],\"diverging\":[[0,\"#8e0152\"],[0.1,\"#c51b7d\"],[0.2,\"#de77ae\"],[0.3,\"#f1b6da\"],[0.4,\"#fde0ef\"],[0.5,\"#f7f7f7\"],[0.6,\"#e6f5d0\"],[0.7,\"#b8e186\"],[0.8,\"#7fbc41\"],[0.9,\"#4d9221\"],[1,\"#276419\"]]},\"xaxis\":{\"gridcolor\":\"white\",\"linecolor\":\"white\",\"ticks\":\"\",\"title\":{\"standoff\":15},\"zerolinecolor\":\"white\",\"automargin\":true,\"zerolinewidth\":2},\"yaxis\":{\"gridcolor\":\"white\",\"linecolor\":\"white\",\"ticks\":\"\",\"title\":{\"standoff\":15},\"zerolinecolor\":\"white\",\"automargin\":true,\"zerolinewidth\":2},\"scene\":{\"xaxis\":{\"backgroundcolor\":\"#E5ECF6\",\"gridcolor\":\"white\",\"linecolor\":\"white\",\"showbackground\":true,\"ticks\":\"\",\"zerolinecolor\":\"white\",\"gridwidth\":2},\"yaxis\":{\"backgroundcolor\":\"#E5ECF6\",\"gridcolor\":\"white\",\"linecolor\":\"white\",\"showbackground\":true,\"ticks\":\"\",\"zerolinecolor\":\"white\",\"gridwidth\":2},\"zaxis\":{\"backgroundcolor\":\"#E5ECF6\",\"gridcolor\":\"white\",\"linecolor\":\"white\",\"showbackground\":true,\"ticks\":\"\",\"zerolinecolor\":\"white\",\"gridwidth\":2}},\"shapedefaults\":{\"line\":{\"color\":\"#2a3f5f\"}},\"annotationdefaults\":{\"arrowcolor\":\"#2a3f5f\",\"arrowhead\":0,\"arrowwidth\":1},\"geo\":{\"bgcolor\":\"white\",\"landcolor\":\"#E5ECF6\",\"subunitcolor\":\"white\",\"showland\":true,\"showlakes\":true,\"lakecolor\":\"white\"},\"title\":{\"x\":0.05},\"mapbox\":{\"style\":\"light\"}}},\"shapes\":[{\"line\":{\"color\":\"gray\",\"width\":5},\"type\":\"line\",\"x0\":0,\"x1\":1,\"xref\":\"x domain\",\"y0\":2.2,\"y1\":2.2,\"yref\":\"y\"},{\"line\":{\"color\":\"gray\",\"width\":3},\"type\":\"line\",\"x0\":0,\"x1\":1,\"xref\":\"x domain\",\"y0\":0.3,\"y1\":0.3,\"yref\":\"y\"}],\"yaxis\":{\"visible\":false,\"range\":[-0.2,2.2]},\"xaxis\":{\"visible\":false,\"range\":[-0.5,3.6]},\"title\":{\"text\":\"Store Sales Summary\",\"x\":0.5,\"y\":0.9,\"font\":{\"size\":35,\"color\":\"#222\"}},\"font\":{\"size\":23,\"color\":\"#323232\"},\"margin\":{\"t\":90,\"l\":70,\"b\":0,\"r\":70},\"showlegend\":false,\"height\":300,\"width\":700,\"plot_bgcolor\":\"#fafafa\",\"paper_bgcolor\":\"#fafafa\"},                        {\"responsive\": true}                    ).then(function(){\n",
       "                            \n",
       "var gd = document.getElementById('764272a6-f012-444d-98e2-71c0ba575f20');\n",
       "var x = new MutationObserver(function (mutations, observer) {{\n",
       "        var display = window.getComputedStyle(gd).display;\n",
       "        if (!display || display === 'none') {{\n",
       "            console.log([gd, 'removed!']);\n",
       "            Plotly.purge(gd);\n",
       "            observer.disconnect();\n",
       "        }}\n",
       "}});\n",
       "\n",
       "// Listen for the removal of the full notebook cells\n",
       "var notebookContainer = gd.closest('#notebook-container');\n",
       "if (notebookContainer) {{\n",
       "    x.observe(notebookContainer, {childList: true});\n",
       "}}\n",
       "\n",
       "// Listen for the clearing of the current output cell\n",
       "var outputEl = gd.closest('.output');\n",
       "if (outputEl) {{\n",
       "    x.observe(outputEl, {childList: true});\n",
       "}}\n",
       "\n",
       "                        })                };                });            </script>        </div>"
      ]
     },
     "metadata": {},
     "output_type": "display_data"
    }
   ],
   "source": [
    "#dataset summary\n",
    "fig=go.Figure()\n",
    "fig.add_trace(go.Scatter(\n",
    "    x=[0, 1, 2, 3],\n",
    "    y=[1.6, 1.6, 1.6, 1.6],\n",
    "    mode=\"text\", \n",
    "    text=[\"<span style='font-size:33px'><b>54</b></span>\", \n",
    "          \"<span style='font-size:33px'><b>33</b></span>\",\n",
    "          \"<span style='font-size:33px'><b>16</b></span>\",\n",
    "          \"<span style='font-size:33px'><b>56</b></span>\"],\n",
    "    textposition=\"bottom center\"\n",
    "))\n",
    "fig.add_trace(go.Scatter(\n",
    "    x=[0, 1, 2, 3],\n",
    "    y=[1.1, 1.1, 1.1, 1.1],\n",
    "    mode=\"text\", \n",
    "    text=[\"Stores\", \"Products\", \"States\", \"Months\"],\n",
    "    textposition=\"bottom center\"\n",
    "))\n",
    "fig.add_hline(y=2.2, line_width=5, line_color='gray')\n",
    "fig.add_hline(y=0.3, line_width=3, line_color='gray')\n",
    "fig.update_yaxes(visible=False)\n",
    "fig.update_xaxes(visible=False)\n",
    "fig.update_layout(showlegend=False, height=300, width=700, \n",
    "                  title='Store Sales Summary', title_x=0.5, title_y=0.9,\n",
    "                  xaxis_range=[-0.5,3.6], yaxis_range=[-0.2,2.2],\n",
    "                  plot_bgcolor='#fafafa', paper_bgcolor='#fafafa',\n",
    "                  font=dict(size=23, color='#323232'),\n",
    "                  title_font=dict(size=35, color='#222'),\n",
    "                  margin=dict(t=90,l=70,b=0,r=70), \n",
    "    )"
   ]
  },
  {
   "cell_type": "code",
   "execution_count": 14,
   "id": "749e241a",
   "metadata": {},
   "outputs": [
    {
     "data": {
      "text/html": [
       "<div>\n",
       "<style scoped>\n",
       "    .dataframe tbody tr th:only-of-type {\n",
       "        vertical-align: middle;\n",
       "    }\n",
       "\n",
       "    .dataframe tbody tr th {\n",
       "        vertical-align: top;\n",
       "    }\n",
       "\n",
       "    .dataframe thead th {\n",
       "        text-align: right;\n",
       "    }\n",
       "</style>\n",
       "<table border=\"1\" class=\"dataframe\">\n",
       "  <thead>\n",
       "    <tr style=\"text-align: right;\">\n",
       "      <th></th>\n",
       "      <th>id</th>\n",
       "      <th>date</th>\n",
       "      <th>store_nbr</th>\n",
       "      <th>family</th>\n",
       "      <th>sales</th>\n",
       "      <th>onpromotion</th>\n",
       "      <th>holiday_type</th>\n",
       "      <th>locale</th>\n",
       "      <th>locale_name</th>\n",
       "      <th>description</th>\n",
       "      <th>...</th>\n",
       "      <th>city</th>\n",
       "      <th>state</th>\n",
       "      <th>store_type</th>\n",
       "      <th>cluster</th>\n",
       "      <th>transactions</th>\n",
       "      <th>year</th>\n",
       "      <th>month</th>\n",
       "      <th>week</th>\n",
       "      <th>quarter</th>\n",
       "      <th>day_of_week</th>\n",
       "    </tr>\n",
       "  </thead>\n",
       "  <tbody>\n",
       "    <tr>\n",
       "      <th>0</th>\n",
       "      <td>0</td>\n",
       "      <td>2013-01-01</td>\n",
       "      <td>1</td>\n",
       "      <td>AUTOMOTIVE</td>\n",
       "      <td>0.0</td>\n",
       "      <td>0</td>\n",
       "      <td>Holiday</td>\n",
       "      <td>National</td>\n",
       "      <td>Ecuador</td>\n",
       "      <td>Primer dia del ano</td>\n",
       "      <td>...</td>\n",
       "      <td>Quito</td>\n",
       "      <td>Pichincha</td>\n",
       "      <td>D</td>\n",
       "      <td>13</td>\n",
       "      <td>NaN</td>\n",
       "      <td>2013</td>\n",
       "      <td>1</td>\n",
       "      <td>1</td>\n",
       "      <td>1</td>\n",
       "      <td>Tuesday</td>\n",
       "    </tr>\n",
       "    <tr>\n",
       "      <th>1</th>\n",
       "      <td>1</td>\n",
       "      <td>2013-01-01</td>\n",
       "      <td>1</td>\n",
       "      <td>BABY CARE</td>\n",
       "      <td>0.0</td>\n",
       "      <td>0</td>\n",
       "      <td>Holiday</td>\n",
       "      <td>National</td>\n",
       "      <td>Ecuador</td>\n",
       "      <td>Primer dia del ano</td>\n",
       "      <td>...</td>\n",
       "      <td>Quito</td>\n",
       "      <td>Pichincha</td>\n",
       "      <td>D</td>\n",
       "      <td>13</td>\n",
       "      <td>NaN</td>\n",
       "      <td>2013</td>\n",
       "      <td>1</td>\n",
       "      <td>1</td>\n",
       "      <td>1</td>\n",
       "      <td>Tuesday</td>\n",
       "    </tr>\n",
       "    <tr>\n",
       "      <th>2</th>\n",
       "      <td>2</td>\n",
       "      <td>2013-01-01</td>\n",
       "      <td>1</td>\n",
       "      <td>BEAUTY</td>\n",
       "      <td>0.0</td>\n",
       "      <td>0</td>\n",
       "      <td>Holiday</td>\n",
       "      <td>National</td>\n",
       "      <td>Ecuador</td>\n",
       "      <td>Primer dia del ano</td>\n",
       "      <td>...</td>\n",
       "      <td>Quito</td>\n",
       "      <td>Pichincha</td>\n",
       "      <td>D</td>\n",
       "      <td>13</td>\n",
       "      <td>NaN</td>\n",
       "      <td>2013</td>\n",
       "      <td>1</td>\n",
       "      <td>1</td>\n",
       "      <td>1</td>\n",
       "      <td>Tuesday</td>\n",
       "    </tr>\n",
       "    <tr>\n",
       "      <th>3</th>\n",
       "      <td>3</td>\n",
       "      <td>2013-01-01</td>\n",
       "      <td>1</td>\n",
       "      <td>BEVERAGES</td>\n",
       "      <td>0.0</td>\n",
       "      <td>0</td>\n",
       "      <td>Holiday</td>\n",
       "      <td>National</td>\n",
       "      <td>Ecuador</td>\n",
       "      <td>Primer dia del ano</td>\n",
       "      <td>...</td>\n",
       "      <td>Quito</td>\n",
       "      <td>Pichincha</td>\n",
       "      <td>D</td>\n",
       "      <td>13</td>\n",
       "      <td>NaN</td>\n",
       "      <td>2013</td>\n",
       "      <td>1</td>\n",
       "      <td>1</td>\n",
       "      <td>1</td>\n",
       "      <td>Tuesday</td>\n",
       "    </tr>\n",
       "    <tr>\n",
       "      <th>4</th>\n",
       "      <td>4</td>\n",
       "      <td>2013-01-01</td>\n",
       "      <td>1</td>\n",
       "      <td>BOOKS</td>\n",
       "      <td>0.0</td>\n",
       "      <td>0</td>\n",
       "      <td>Holiday</td>\n",
       "      <td>National</td>\n",
       "      <td>Ecuador</td>\n",
       "      <td>Primer dia del ano</td>\n",
       "      <td>...</td>\n",
       "      <td>Quito</td>\n",
       "      <td>Pichincha</td>\n",
       "      <td>D</td>\n",
       "      <td>13</td>\n",
       "      <td>NaN</td>\n",
       "      <td>2013</td>\n",
       "      <td>1</td>\n",
       "      <td>1</td>\n",
       "      <td>1</td>\n",
       "      <td>Tuesday</td>\n",
       "    </tr>\n",
       "  </tbody>\n",
       "</table>\n",
       "<p>5 rows × 22 columns</p>\n",
       "</div>"
      ],
      "text/plain": [
       "   id       date  store_nbr      family  sales  onpromotion holiday_type  \\\n",
       "0   0 2013-01-01          1  AUTOMOTIVE    0.0            0      Holiday   \n",
       "1   1 2013-01-01          1   BABY CARE    0.0            0      Holiday   \n",
       "2   2 2013-01-01          1      BEAUTY    0.0            0      Holiday   \n",
       "3   3 2013-01-01          1   BEVERAGES    0.0            0      Holiday   \n",
       "4   4 2013-01-01          1       BOOKS    0.0            0      Holiday   \n",
       "\n",
       "     locale locale_name         description  ...   city      state store_type  \\\n",
       "0  National     Ecuador  Primer dia del ano  ...  Quito  Pichincha          D   \n",
       "1  National     Ecuador  Primer dia del ano  ...  Quito  Pichincha          D   \n",
       "2  National     Ecuador  Primer dia del ano  ...  Quito  Pichincha          D   \n",
       "3  National     Ecuador  Primer dia del ano  ...  Quito  Pichincha          D   \n",
       "4  National     Ecuador  Primer dia del ano  ...  Quito  Pichincha          D   \n",
       "\n",
       "  cluster transactions  year  month  week  quarter  day_of_week  \n",
       "0      13          NaN  2013      1     1        1      Tuesday  \n",
       "1      13          NaN  2013      1     1        1      Tuesday  \n",
       "2      13          NaN  2013      1     1        1      Tuesday  \n",
       "3      13          NaN  2013      1     1        1      Tuesday  \n",
       "4      13          NaN  2013      1     1        1      Tuesday  \n",
       "\n",
       "[5 rows x 22 columns]"
      ]
     },
     "execution_count": 14,
     "metadata": {},
     "output_type": "execute_result"
    }
   ],
   "source": [
    "# merging a copy of train data on other datasets for analysis\n",
    "train1 = train.merge(holiday, on = 'date', how='left')\n",
    "train1 = train1.merge(oil, on = 'date', how='left')\n",
    "train1 = train1.merge(store, on = 'store_nbr', how='left')\n",
    "train1 = train1.merge(transact, on = ['date', 'store_nbr'], how='left')\n",
    "train1 = train1.rename(columns = {\"type_x\" : \"holiday_type\", \"type_y\" : \"store_type\"})\n",
    "\n",
    "train1['date'] = pd.to_datetime(train1['date'])\n",
    "train1['year'] = train1['date'].dt.year\n",
    "train1['month'] = train1['date'].dt.month\n",
    "train1['week'] = train1['date'].dt.isocalendar().week\n",
    "train1['quarter'] = train1['date'].dt.quarter\n",
    "train1['day_of_week'] = train1['date'].dt.day_name()\n",
    "train1[:5]"
   ]
  },
  {
   "cell_type": "code",
   "execution_count": 15,
   "id": "95147bb6",
   "metadata": {},
   "outputs": [
    {
     "data": {
      "text/plain": [
       "Index(['id', 'date', 'store_nbr', 'family', 'sales', 'onpromotion',\n",
       "       'holiday_type', 'locale', 'locale_name', 'description', 'transferred',\n",
       "       'dcoilwtico', 'city', 'state', 'store_type', 'cluster', 'transactions',\n",
       "       'year', 'month', 'week', 'quarter', 'day_of_week'],\n",
       "      dtype='object')"
      ]
     },
     "execution_count": 15,
     "metadata": {},
     "output_type": "execute_result"
    }
   ],
   "source": [
    "train1.columns#getting columns"
   ]
  },
  {
   "cell_type": "code",
   "execution_count": 16,
   "id": "4976d0b5",
   "metadata": {},
   "outputs": [
    {
     "data": {
      "text/html": [
       "<div>\n",
       "<style scoped>\n",
       "    .dataframe tbody tr th:only-of-type {\n",
       "        vertical-align: middle;\n",
       "    }\n",
       "\n",
       "    .dataframe tbody tr th {\n",
       "        vertical-align: top;\n",
       "    }\n",
       "\n",
       "    .dataframe thead th {\n",
       "        text-align: right;\n",
       "    }\n",
       "</style>\n",
       "<table border=\"1\" class=\"dataframe\">\n",
       "  <thead>\n",
       "    <tr style=\"text-align: right;\">\n",
       "      <th></th>\n",
       "      <th>count</th>\n",
       "      <th>mean</th>\n",
       "      <th>std</th>\n",
       "      <th>min</th>\n",
       "      <th>25%</th>\n",
       "      <th>50%</th>\n",
       "      <th>75%</th>\n",
       "      <th>max</th>\n",
       "    </tr>\n",
       "  </thead>\n",
       "  <tbody>\n",
       "    <tr>\n",
       "      <th>id</th>\n",
       "      <td>3054348.0</td>\n",
       "      <td>1504276.775379</td>\n",
       "      <td>866261.012008</td>\n",
       "      <td>0.0</td>\n",
       "      <td>754676.75</td>\n",
       "      <td>1507571.5</td>\n",
       "      <td>2255120.25</td>\n",
       "      <td>3000887.0</td>\n",
       "    </tr>\n",
       "    <tr>\n",
       "      <th>store_nbr</th>\n",
       "      <td>3054348.0</td>\n",
       "      <td>27.5</td>\n",
       "      <td>15.585787</td>\n",
       "      <td>1.0</td>\n",
       "      <td>14.0</td>\n",
       "      <td>27.5</td>\n",
       "      <td>41.0</td>\n",
       "      <td>54.0</td>\n",
       "    </tr>\n",
       "    <tr>\n",
       "      <th>sales</th>\n",
       "      <td>3054348.0</td>\n",
       "      <td>359.020892</td>\n",
       "      <td>1107.285897</td>\n",
       "      <td>0.0</td>\n",
       "      <td>0.0</td>\n",
       "      <td>11.0</td>\n",
       "      <td>196.011</td>\n",
       "      <td>124717.0</td>\n",
       "    </tr>\n",
       "    <tr>\n",
       "      <th>onpromotion</th>\n",
       "      <td>3054348.0</td>\n",
       "      <td>2.61748</td>\n",
       "      <td>12.254939</td>\n",
       "      <td>0.0</td>\n",
       "      <td>0.0</td>\n",
       "      <td>0.0</td>\n",
       "      <td>0.0</td>\n",
       "      <td>741.0</td>\n",
       "    </tr>\n",
       "    <tr>\n",
       "      <th>dcoilwtico</th>\n",
       "      <td>2099196.0</td>\n",
       "      <td>68.015874</td>\n",
       "      <td>25.691342</td>\n",
       "      <td>26.19</td>\n",
       "      <td>46.41</td>\n",
       "      <td>53.43</td>\n",
       "      <td>95.81</td>\n",
       "      <td>110.62</td>\n",
       "    </tr>\n",
       "    <tr>\n",
       "      <th>cluster</th>\n",
       "      <td>3054348.0</td>\n",
       "      <td>8.481481</td>\n",
       "      <td>4.649735</td>\n",
       "      <td>1.0</td>\n",
       "      <td>4.0</td>\n",
       "      <td>8.5</td>\n",
       "      <td>13.0</td>\n",
       "      <td>17.0</td>\n",
       "    </tr>\n",
       "    <tr>\n",
       "      <th>transactions</th>\n",
       "      <td>2805231.0</td>\n",
       "      <td>1697.071441</td>\n",
       "      <td>966.831652</td>\n",
       "      <td>5.0</td>\n",
       "      <td>1046.0</td>\n",
       "      <td>1395.0</td>\n",
       "      <td>2081.0</td>\n",
       "      <td>8359.0</td>\n",
       "    </tr>\n",
       "    <tr>\n",
       "      <th>year</th>\n",
       "      <td>3054348.0</td>\n",
       "      <td>2014.842474</td>\n",
       "      <td>1.345607</td>\n",
       "      <td>2013.0</td>\n",
       "      <td>2014.0</td>\n",
       "      <td>2015.0</td>\n",
       "      <td>2016.0</td>\n",
       "      <td>2017.0</td>\n",
       "    </tr>\n",
       "    <tr>\n",
       "      <th>month</th>\n",
       "      <td>3054348.0</td>\n",
       "      <td>6.22287</td>\n",
       "      <td>3.374251</td>\n",
       "      <td>1.0</td>\n",
       "      <td>3.0</td>\n",
       "      <td>6.0</td>\n",
       "      <td>9.0</td>\n",
       "      <td>12.0</td>\n",
       "    </tr>\n",
       "    <tr>\n",
       "      <th>week</th>\n",
       "      <td>3054348.0</td>\n",
       "      <td>25.308635</td>\n",
       "      <td>14.750509</td>\n",
       "      <td>1.0</td>\n",
       "      <td>13.0</td>\n",
       "      <td>25.0</td>\n",
       "      <td>38.0</td>\n",
       "      <td>53.0</td>\n",
       "    </tr>\n",
       "    <tr>\n",
       "      <th>quarter</th>\n",
       "      <td>3054348.0</td>\n",
       "      <td>2.413652</td>\n",
       "      <td>1.09569</td>\n",
       "      <td>1.0</td>\n",
       "      <td>1.0</td>\n",
       "      <td>2.0</td>\n",
       "      <td>3.0</td>\n",
       "      <td>4.0</td>\n",
       "    </tr>\n",
       "  </tbody>\n",
       "</table>\n",
       "</div>"
      ],
      "text/plain": [
       "                  count            mean            std     min        25%  \\\n",
       "id            3054348.0  1504276.775379  866261.012008     0.0  754676.75   \n",
       "store_nbr     3054348.0            27.5      15.585787     1.0       14.0   \n",
       "sales         3054348.0      359.020892    1107.285897     0.0        0.0   \n",
       "onpromotion   3054348.0         2.61748      12.254939     0.0        0.0   \n",
       "dcoilwtico    2099196.0       68.015874      25.691342   26.19      46.41   \n",
       "cluster       3054348.0        8.481481       4.649735     1.0        4.0   \n",
       "transactions  2805231.0     1697.071441     966.831652     5.0     1046.0   \n",
       "year          3054348.0     2014.842474       1.345607  2013.0     2014.0   \n",
       "month         3054348.0         6.22287       3.374251     1.0        3.0   \n",
       "week          3054348.0       25.308635      14.750509     1.0       13.0   \n",
       "quarter       3054348.0        2.413652        1.09569     1.0        1.0   \n",
       "\n",
       "                    50%         75%        max  \n",
       "id            1507571.5  2255120.25  3000887.0  \n",
       "store_nbr          27.5        41.0       54.0  \n",
       "sales              11.0     196.011   124717.0  \n",
       "onpromotion         0.0         0.0      741.0  \n",
       "dcoilwtico        53.43       95.81     110.62  \n",
       "cluster             8.5        13.0       17.0  \n",
       "transactions     1395.0      2081.0     8359.0  \n",
       "year             2015.0      2016.0     2017.0  \n",
       "month               6.0         9.0       12.0  \n",
       "week               25.0        38.0       53.0  \n",
       "quarter             2.0         3.0        4.0  "
      ]
     },
     "execution_count": 16,
     "metadata": {},
     "output_type": "execute_result"
    }
   ],
   "source": [
    "train1.describe().T#analysis"
   ]
  },
  {
   "cell_type": "markdown",
   "id": "164f9318",
   "metadata": {},
   "source": [
    "# EXPLORATARY DATA ANALYSIS"
   ]
  },
  {
   "cell_type": "code",
   "execution_count": 17,
   "id": "3d2c23b6",
   "metadata": {},
   "outputs": [
    {
     "data": {
      "application/vnd.plotly.v1+json": {
       "config": {
        "plotlyServerURL": "https://plot.ly"
       },
       "data": [
        {
         "marker": {
          "color": [
           "#496595",
           "#496595",
           "#c6ccd8",
           "#c6ccd8",
           "#c6ccd8",
           "#c6ccd8",
           "#c6ccd8",
           "#c6ccd8",
           "#c6ccd8",
           "#c6ccd8"
          ]
         },
         "name": "Family",
         "orientation": "h",
         "type": "bar",
         "x": [
          3790.432797333506,
          2394.9127014996325,
          1355.373698355266,
          1074.1715177838282,
          711.175990751545,
          464.1506115749276,
          351.07881594741565,
          341.96590481506223,
          271.1923808289036,
          265.6297463669238
         ],
         "xaxis": "x",
         "y": [
          "GROCERY I",
          "BEVERAGES",
          "PRODUCE",
          "CLEANING",
          "DAIRY",
          "BREAD/BAKERY",
          "POULTRY",
          "MEATS",
          "PERSONAL CARE",
          "DELI"
         ],
         "yaxis": "y"
        },
        {
         "domain": {
          "x": [
           0.706,
           1
          ],
          "y": [
           0.5,
           1
          ]
         },
         "hole": 0.7,
         "hoverinfo": "label+percent+value",
         "labels": [
          "A",
          "D",
          "B",
          "E",
          "C"
         ],
         "marker": {
          "colors": [
           "#334668",
           "#496595",
           "#6D83AA",
           "#91A2BF",
           "#C8D0DF"
          ]
         },
         "name": "Store type",
         "textinfo": "label",
         "type": "pie",
         "values": [
          708.3781649559717,
          352.08450973283465,
          328.2752329265379,
          270.2854898836476,
          197.79064658889502
         ]
        },
        {
         "marker": {
          "color": [
           "#c6ccd8",
           "#c6ccd8",
           "#c6ccd8",
           "#c6ccd8",
           "#c6ccd8",
           "#c6ccd8",
           "#c6ccd8",
           "#c6ccd8",
           "#c6ccd8",
           "#c6ccd8",
           "#c6ccd8",
           "#c6ccd8",
           "#c6ccd8",
           "#c6ccd8",
           "#c6ccd8",
           "#c6ccd8",
           "#c6ccd8"
          ]
         },
         "name": "Cluster",
         "type": "bar",
         "x": [
          1,
          2,
          3,
          4,
          5,
          6,
          7,
          8,
          9,
          10,
          11,
          12,
          13,
          14,
          15,
          16,
          17
         ],
         "xaxis": "x2",
         "y": [
          327.0228083130706,
          261.02573067915824,
          194.92653373500934,
          297.5378768160161,
          1120.1184051129558,
          344.3154362257511,
          139.77222164144655,
          648.9760656801386,
          275.7258793625844,
          257.00658549846275,
          605.8296797777955,
          325.59196329993637,
          325.8061691551687,
          710.9223433844145,
          199.44751122110605,
          239.59471866079878,
          594.1066666197447
         ],
         "yaxis": "y2"
        }
       ],
       "layout": {
        "annotations": [
         {
          "font": {
           "size": 16
          },
          "showarrow": false,
          "text": "Top 10 Highest Product Sales",
          "x": 0.34299999999999997,
          "xanchor": "center",
          "xref": "paper",
          "y": 1,
          "yanchor": "bottom",
          "yref": "paper"
         },
         {
          "font": {
           "size": 16
          },
          "showarrow": false,
          "text": "Highest Sales in Stores",
          "x": 0.853,
          "xanchor": "center",
          "xref": "paper",
          "y": 1,
          "yanchor": "bottom",
          "yref": "paper"
         },
         {
          "font": {
           "size": 16
          },
          "showarrow": false,
          "text": "Clusters Vs Sales",
          "x": 0.5,
          "xanchor": "center",
          "xref": "paper",
          "y": 0.5,
          "yanchor": "bottom",
          "yref": "paper"
         }
        ],
        "bargap": 0.2,
        "font": {
         "color": "#8a8d93"
        },
        "height": 500,
        "hoverlabel": {
         "bgcolor": "#f2f2f2",
         "font": {
          "family": "Lato, sans-serif",
          "size": 13
         }
        },
        "margin": {
         "b": 0,
         "l": 20,
         "r": 20
        },
        "showlegend": false,
        "template": {
         "data": {
          "bar": [
           {
            "error_x": {
             "color": "#2a3f5f"
            },
            "error_y": {
             "color": "#2a3f5f"
            },
            "marker": {
             "line": {
              "color": "white",
              "width": 0.5
             },
             "pattern": {
              "fillmode": "overlay",
              "size": 10,
              "solidity": 0.2
             }
            },
            "type": "bar"
           }
          ],
          "barpolar": [
           {
            "marker": {
             "line": {
              "color": "white",
              "width": 0.5
             },
             "pattern": {
              "fillmode": "overlay",
              "size": 10,
              "solidity": 0.2
             }
            },
            "type": "barpolar"
           }
          ],
          "carpet": [
           {
            "aaxis": {
             "endlinecolor": "#2a3f5f",
             "gridcolor": "#C8D4E3",
             "linecolor": "#C8D4E3",
             "minorgridcolor": "#C8D4E3",
             "startlinecolor": "#2a3f5f"
            },
            "baxis": {
             "endlinecolor": "#2a3f5f",
             "gridcolor": "#C8D4E3",
             "linecolor": "#C8D4E3",
             "minorgridcolor": "#C8D4E3",
             "startlinecolor": "#2a3f5f"
            },
            "type": "carpet"
           }
          ],
          "choropleth": [
           {
            "colorbar": {
             "outlinewidth": 0,
             "ticks": ""
            },
            "type": "choropleth"
           }
          ],
          "contour": [
           {
            "colorbar": {
             "outlinewidth": 0,
             "ticks": ""
            },
            "colorscale": [
             [
              0,
              "#0d0887"
             ],
             [
              0.1111111111111111,
              "#46039f"
             ],
             [
              0.2222222222222222,
              "#7201a8"
             ],
             [
              0.3333333333333333,
              "#9c179e"
             ],
             [
              0.4444444444444444,
              "#bd3786"
             ],
             [
              0.5555555555555556,
              "#d8576b"
             ],
             [
              0.6666666666666666,
              "#ed7953"
             ],
             [
              0.7777777777777778,
              "#fb9f3a"
             ],
             [
              0.8888888888888888,
              "#fdca26"
             ],
             [
              1,
              "#f0f921"
             ]
            ],
            "type": "contour"
           }
          ],
          "contourcarpet": [
           {
            "colorbar": {
             "outlinewidth": 0,
             "ticks": ""
            },
            "type": "contourcarpet"
           }
          ],
          "heatmap": [
           {
            "colorbar": {
             "outlinewidth": 0,
             "ticks": ""
            },
            "colorscale": [
             [
              0,
              "#0d0887"
             ],
             [
              0.1111111111111111,
              "#46039f"
             ],
             [
              0.2222222222222222,
              "#7201a8"
             ],
             [
              0.3333333333333333,
              "#9c179e"
             ],
             [
              0.4444444444444444,
              "#bd3786"
             ],
             [
              0.5555555555555556,
              "#d8576b"
             ],
             [
              0.6666666666666666,
              "#ed7953"
             ],
             [
              0.7777777777777778,
              "#fb9f3a"
             ],
             [
              0.8888888888888888,
              "#fdca26"
             ],
             [
              1,
              "#f0f921"
             ]
            ],
            "type": "heatmap"
           }
          ],
          "heatmapgl": [
           {
            "colorbar": {
             "outlinewidth": 0,
             "ticks": ""
            },
            "colorscale": [
             [
              0,
              "#0d0887"
             ],
             [
              0.1111111111111111,
              "#46039f"
             ],
             [
              0.2222222222222222,
              "#7201a8"
             ],
             [
              0.3333333333333333,
              "#9c179e"
             ],
             [
              0.4444444444444444,
              "#bd3786"
             ],
             [
              0.5555555555555556,
              "#d8576b"
             ],
             [
              0.6666666666666666,
              "#ed7953"
             ],
             [
              0.7777777777777778,
              "#fb9f3a"
             ],
             [
              0.8888888888888888,
              "#fdca26"
             ],
             [
              1,
              "#f0f921"
             ]
            ],
            "type": "heatmapgl"
           }
          ],
          "histogram": [
           {
            "marker": {
             "pattern": {
              "fillmode": "overlay",
              "size": 10,
              "solidity": 0.2
             }
            },
            "type": "histogram"
           }
          ],
          "histogram2d": [
           {
            "colorbar": {
             "outlinewidth": 0,
             "ticks": ""
            },
            "colorscale": [
             [
              0,
              "#0d0887"
             ],
             [
              0.1111111111111111,
              "#46039f"
             ],
             [
              0.2222222222222222,
              "#7201a8"
             ],
             [
              0.3333333333333333,
              "#9c179e"
             ],
             [
              0.4444444444444444,
              "#bd3786"
             ],
             [
              0.5555555555555556,
              "#d8576b"
             ],
             [
              0.6666666666666666,
              "#ed7953"
             ],
             [
              0.7777777777777778,
              "#fb9f3a"
             ],
             [
              0.8888888888888888,
              "#fdca26"
             ],
             [
              1,
              "#f0f921"
             ]
            ],
            "type": "histogram2d"
           }
          ],
          "histogram2dcontour": [
           {
            "colorbar": {
             "outlinewidth": 0,
             "ticks": ""
            },
            "colorscale": [
             [
              0,
              "#0d0887"
             ],
             [
              0.1111111111111111,
              "#46039f"
             ],
             [
              0.2222222222222222,
              "#7201a8"
             ],
             [
              0.3333333333333333,
              "#9c179e"
             ],
             [
              0.4444444444444444,
              "#bd3786"
             ],
             [
              0.5555555555555556,
              "#d8576b"
             ],
             [
              0.6666666666666666,
              "#ed7953"
             ],
             [
              0.7777777777777778,
              "#fb9f3a"
             ],
             [
              0.8888888888888888,
              "#fdca26"
             ],
             [
              1,
              "#f0f921"
             ]
            ],
            "type": "histogram2dcontour"
           }
          ],
          "mesh3d": [
           {
            "colorbar": {
             "outlinewidth": 0,
             "ticks": ""
            },
            "type": "mesh3d"
           }
          ],
          "parcoords": [
           {
            "line": {
             "colorbar": {
              "outlinewidth": 0,
              "ticks": ""
             }
            },
            "type": "parcoords"
           }
          ],
          "pie": [
           {
            "automargin": true,
            "type": "pie"
           }
          ],
          "scatter": [
           {
            "fillpattern": {
             "fillmode": "overlay",
             "size": 10,
             "solidity": 0.2
            },
            "type": "scatter"
           }
          ],
          "scatter3d": [
           {
            "line": {
             "colorbar": {
              "outlinewidth": 0,
              "ticks": ""
             }
            },
            "marker": {
             "colorbar": {
              "outlinewidth": 0,
              "ticks": ""
             }
            },
            "type": "scatter3d"
           }
          ],
          "scattercarpet": [
           {
            "marker": {
             "colorbar": {
              "outlinewidth": 0,
              "ticks": ""
             }
            },
            "type": "scattercarpet"
           }
          ],
          "scattergeo": [
           {
            "marker": {
             "colorbar": {
              "outlinewidth": 0,
              "ticks": ""
             }
            },
            "type": "scattergeo"
           }
          ],
          "scattergl": [
           {
            "marker": {
             "colorbar": {
              "outlinewidth": 0,
              "ticks": ""
             }
            },
            "type": "scattergl"
           }
          ],
          "scattermapbox": [
           {
            "marker": {
             "colorbar": {
              "outlinewidth": 0,
              "ticks": ""
             }
            },
            "type": "scattermapbox"
           }
          ],
          "scatterpolar": [
           {
            "marker": {
             "colorbar": {
              "outlinewidth": 0,
              "ticks": ""
             }
            },
            "type": "scatterpolar"
           }
          ],
          "scatterpolargl": [
           {
            "marker": {
             "colorbar": {
              "outlinewidth": 0,
              "ticks": ""
             }
            },
            "type": "scatterpolargl"
           }
          ],
          "scatterternary": [
           {
            "marker": {
             "colorbar": {
              "outlinewidth": 0,
              "ticks": ""
             }
            },
            "type": "scatterternary"
           }
          ],
          "surface": [
           {
            "colorbar": {
             "outlinewidth": 0,
             "ticks": ""
            },
            "colorscale": [
             [
              0,
              "#0d0887"
             ],
             [
              0.1111111111111111,
              "#46039f"
             ],
             [
              0.2222222222222222,
              "#7201a8"
             ],
             [
              0.3333333333333333,
              "#9c179e"
             ],
             [
              0.4444444444444444,
              "#bd3786"
             ],
             [
              0.5555555555555556,
              "#d8576b"
             ],
             [
              0.6666666666666666,
              "#ed7953"
             ],
             [
              0.7777777777777778,
              "#fb9f3a"
             ],
             [
              0.8888888888888888,
              "#fdca26"
             ],
             [
              1,
              "#f0f921"
             ]
            ],
            "type": "surface"
           }
          ],
          "table": [
           {
            "cells": {
             "fill": {
              "color": "#EBF0F8"
             },
             "line": {
              "color": "white"
             }
            },
            "header": {
             "fill": {
              "color": "#C8D4E3"
             },
             "line": {
              "color": "white"
             }
            },
            "type": "table"
           }
          ]
         },
         "layout": {
          "annotationdefaults": {
           "arrowcolor": "#2a3f5f",
           "arrowhead": 0,
           "arrowwidth": 1
          },
          "autotypenumbers": "strict",
          "coloraxis": {
           "colorbar": {
            "outlinewidth": 0,
            "ticks": ""
           }
          },
          "colorscale": {
           "diverging": [
            [
             0,
             "#8e0152"
            ],
            [
             0.1,
             "#c51b7d"
            ],
            [
             0.2,
             "#de77ae"
            ],
            [
             0.3,
             "#f1b6da"
            ],
            [
             0.4,
             "#fde0ef"
            ],
            [
             0.5,
             "#f7f7f7"
            ],
            [
             0.6,
             "#e6f5d0"
            ],
            [
             0.7,
             "#b8e186"
            ],
            [
             0.8,
             "#7fbc41"
            ],
            [
             0.9,
             "#4d9221"
            ],
            [
             1,
             "#276419"
            ]
           ],
           "sequential": [
            [
             0,
             "#0d0887"
            ],
            [
             0.1111111111111111,
             "#46039f"
            ],
            [
             0.2222222222222222,
             "#7201a8"
            ],
            [
             0.3333333333333333,
             "#9c179e"
            ],
            [
             0.4444444444444444,
             "#bd3786"
            ],
            [
             0.5555555555555556,
             "#d8576b"
            ],
            [
             0.6666666666666666,
             "#ed7953"
            ],
            [
             0.7777777777777778,
             "#fb9f3a"
            ],
            [
             0.8888888888888888,
             "#fdca26"
            ],
            [
             1,
             "#f0f921"
            ]
           ],
           "sequentialminus": [
            [
             0,
             "#0d0887"
            ],
            [
             0.1111111111111111,
             "#46039f"
            ],
            [
             0.2222222222222222,
             "#7201a8"
            ],
            [
             0.3333333333333333,
             "#9c179e"
            ],
            [
             0.4444444444444444,
             "#bd3786"
            ],
            [
             0.5555555555555556,
             "#d8576b"
            ],
            [
             0.6666666666666666,
             "#ed7953"
            ],
            [
             0.7777777777777778,
             "#fb9f3a"
            ],
            [
             0.8888888888888888,
             "#fdca26"
            ],
            [
             1,
             "#f0f921"
            ]
           ]
          },
          "colorway": [
           "#636efa",
           "#EF553B",
           "#00cc96",
           "#ab63fa",
           "#FFA15A",
           "#19d3f3",
           "#FF6692",
           "#B6E880",
           "#FF97FF",
           "#FECB52"
          ],
          "font": {
           "color": "#2a3f5f"
          },
          "geo": {
           "bgcolor": "white",
           "lakecolor": "white",
           "landcolor": "white",
           "showlakes": true,
           "showland": true,
           "subunitcolor": "#C8D4E3"
          },
          "hoverlabel": {
           "align": "left"
          },
          "hovermode": "closest",
          "mapbox": {
           "style": "light"
          },
          "paper_bgcolor": "white",
          "plot_bgcolor": "white",
          "polar": {
           "angularaxis": {
            "gridcolor": "#EBF0F8",
            "linecolor": "#EBF0F8",
            "ticks": ""
           },
           "bgcolor": "white",
           "radialaxis": {
            "gridcolor": "#EBF0F8",
            "linecolor": "#EBF0F8",
            "ticks": ""
           }
          },
          "scene": {
           "xaxis": {
            "backgroundcolor": "white",
            "gridcolor": "#DFE8F3",
            "gridwidth": 2,
            "linecolor": "#EBF0F8",
            "showbackground": true,
            "ticks": "",
            "zerolinecolor": "#EBF0F8"
           },
           "yaxis": {
            "backgroundcolor": "white",
            "gridcolor": "#DFE8F3",
            "gridwidth": 2,
            "linecolor": "#EBF0F8",
            "showbackground": true,
            "ticks": "",
            "zerolinecolor": "#EBF0F8"
           },
           "zaxis": {
            "backgroundcolor": "white",
            "gridcolor": "#DFE8F3",
            "gridwidth": 2,
            "linecolor": "#EBF0F8",
            "showbackground": true,
            "ticks": "",
            "zerolinecolor": "#EBF0F8"
           }
          },
          "shapedefaults": {
           "line": {
            "color": "#2a3f5f"
           }
          },
          "ternary": {
           "aaxis": {
            "gridcolor": "#DFE8F3",
            "linecolor": "#A2B1C6",
            "ticks": ""
           },
           "baxis": {
            "gridcolor": "#DFE8F3",
            "linecolor": "#A2B1C6",
            "ticks": ""
           },
           "bgcolor": "white",
           "caxis": {
            "gridcolor": "#DFE8F3",
            "linecolor": "#A2B1C6",
            "ticks": ""
           }
          },
          "title": {
           "x": 0.05
          },
          "xaxis": {
           "automargin": true,
           "gridcolor": "#EBF0F8",
           "linecolor": "#EBF0F8",
           "ticks": "",
           "title": {
            "standoff": 15
           },
           "zerolinecolor": "#EBF0F8",
           "zerolinewidth": 2
          },
          "yaxis": {
           "automargin": true,
           "gridcolor": "#EBF0F8",
           "linecolor": "#EBF0F8",
           "ticks": "",
           "title": {
            "standoff": 15
           },
           "zerolinecolor": "#EBF0F8",
           "zerolinewidth": 2
          }
         }
        },
        "title": {
         "font": {
          "color": "#8a8d93",
          "family": "Lato, sans-serif",
          "size": 29
         },
         "text": "Average Sales Analysis"
        },
        "xaxis": {
         "anchor": "y",
         "domain": [
          0,
          0.6859999999999999
         ],
         "tickmode": "linear",
         "visible": false
        },
        "xaxis2": {
         "anchor": "y2",
         "domain": [
          0,
          1
         ],
         "tickmode": "array",
         "ticktext": [
          1,
          2,
          3,
          4,
          5,
          6,
          7,
          8,
          9,
          10,
          11,
          12,
          13,
          14,
          15,
          16
         ],
         "tickvals": [
          1,
          2,
          3,
          4,
          5,
          6,
          7,
          8,
          9,
          10,
          11,
          12,
          13,
          14,
          15,
          16,
          17
         ]
        },
        "yaxis": {
         "anchor": "x",
         "categoryorder": "total ascending",
         "domain": [
          0.5,
          1
         ],
         "showgrid": false,
         "ticksuffix": " "
        },
        "yaxis2": {
         "anchor": "x2",
         "domain": [
          0,
          0.5
         ],
         "visible": false
        }
       }
      },
      "text/html": [
       "<div>                            <div id=\"9246232b-c674-4a89-a532-f8c57a8899bc\" class=\"plotly-graph-div\" style=\"height:500px; width:100%;\"></div>            <script type=\"text/javascript\">                require([\"plotly\"], function(Plotly) {                    window.PLOTLYENV=window.PLOTLYENV || {};                                    if (document.getElementById(\"9246232b-c674-4a89-a532-f8c57a8899bc\")) {                    Plotly.newPlot(                        \"9246232b-c674-4a89-a532-f8c57a8899bc\",                        [{\"marker\":{\"color\":[\"#496595\",\"#496595\",\"#c6ccd8\",\"#c6ccd8\",\"#c6ccd8\",\"#c6ccd8\",\"#c6ccd8\",\"#c6ccd8\",\"#c6ccd8\",\"#c6ccd8\"]},\"name\":\"Family\",\"orientation\":\"h\",\"x\":[3790.432797333506,2394.9127014996325,1355.373698355266,1074.1715177838282,711.175990751545,464.1506115749276,351.07881594741565,341.96590481506223,271.1923808289036,265.6297463669238],\"y\":[\"GROCERY I\",\"BEVERAGES\",\"PRODUCE\",\"CLEANING\",\"DAIRY\",\"BREAD/BAKERY\",\"POULTRY\",\"MEATS\",\"PERSONAL CARE\",\"DELI\"],\"type\":\"bar\",\"xaxis\":\"x\",\"yaxis\":\"y\"},{\"hole\":0.7,\"hoverinfo\":\"label+percent+value\",\"labels\":[\"A\",\"D\",\"B\",\"E\",\"C\"],\"marker\":{\"colors\":[\"#334668\",\"#496595\",\"#6D83AA\",\"#91A2BF\",\"#C8D0DF\"]},\"name\":\"Store type\",\"textinfo\":\"label\",\"values\":[708.3781649559717,352.08450973283465,328.2752329265379,270.2854898836476,197.79064658889502],\"type\":\"pie\",\"domain\":{\"x\":[0.706,1.0],\"y\":[0.5,1.0]}},{\"marker\":{\"color\":[\"#c6ccd8\",\"#c6ccd8\",\"#c6ccd8\",\"#c6ccd8\",\"#c6ccd8\",\"#c6ccd8\",\"#c6ccd8\",\"#c6ccd8\",\"#c6ccd8\",\"#c6ccd8\",\"#c6ccd8\",\"#c6ccd8\",\"#c6ccd8\",\"#c6ccd8\",\"#c6ccd8\",\"#c6ccd8\",\"#c6ccd8\"]},\"name\":\"Cluster\",\"x\":[1,2,3,4,5,6,7,8,9,10,11,12,13,14,15,16,17],\"y\":[327.0228083130706,261.02573067915824,194.92653373500934,297.5378768160161,1120.1184051129558,344.3154362257511,139.77222164144655,648.9760656801386,275.7258793625844,257.00658549846275,605.8296797777955,325.59196329993637,325.8061691551687,710.9223433844145,199.44751122110605,239.59471866079878,594.1066666197447],\"type\":\"bar\",\"xaxis\":\"x2\",\"yaxis\":\"y2\"}],                        {\"template\":{\"data\":{\"barpolar\":[{\"marker\":{\"line\":{\"color\":\"white\",\"width\":0.5},\"pattern\":{\"fillmode\":\"overlay\",\"size\":10,\"solidity\":0.2}},\"type\":\"barpolar\"}],\"bar\":[{\"error_x\":{\"color\":\"#2a3f5f\"},\"error_y\":{\"color\":\"#2a3f5f\"},\"marker\":{\"line\":{\"color\":\"white\",\"width\":0.5},\"pattern\":{\"fillmode\":\"overlay\",\"size\":10,\"solidity\":0.2}},\"type\":\"bar\"}],\"carpet\":[{\"aaxis\":{\"endlinecolor\":\"#2a3f5f\",\"gridcolor\":\"#C8D4E3\",\"linecolor\":\"#C8D4E3\",\"minorgridcolor\":\"#C8D4E3\",\"startlinecolor\":\"#2a3f5f\"},\"baxis\":{\"endlinecolor\":\"#2a3f5f\",\"gridcolor\":\"#C8D4E3\",\"linecolor\":\"#C8D4E3\",\"minorgridcolor\":\"#C8D4E3\",\"startlinecolor\":\"#2a3f5f\"},\"type\":\"carpet\"}],\"choropleth\":[{\"colorbar\":{\"outlinewidth\":0,\"ticks\":\"\"},\"type\":\"choropleth\"}],\"contourcarpet\":[{\"colorbar\":{\"outlinewidth\":0,\"ticks\":\"\"},\"type\":\"contourcarpet\"}],\"contour\":[{\"colorbar\":{\"outlinewidth\":0,\"ticks\":\"\"},\"colorscale\":[[0.0,\"#0d0887\"],[0.1111111111111111,\"#46039f\"],[0.2222222222222222,\"#7201a8\"],[0.3333333333333333,\"#9c179e\"],[0.4444444444444444,\"#bd3786\"],[0.5555555555555556,\"#d8576b\"],[0.6666666666666666,\"#ed7953\"],[0.7777777777777778,\"#fb9f3a\"],[0.8888888888888888,\"#fdca26\"],[1.0,\"#f0f921\"]],\"type\":\"contour\"}],\"heatmapgl\":[{\"colorbar\":{\"outlinewidth\":0,\"ticks\":\"\"},\"colorscale\":[[0.0,\"#0d0887\"],[0.1111111111111111,\"#46039f\"],[0.2222222222222222,\"#7201a8\"],[0.3333333333333333,\"#9c179e\"],[0.4444444444444444,\"#bd3786\"],[0.5555555555555556,\"#d8576b\"],[0.6666666666666666,\"#ed7953\"],[0.7777777777777778,\"#fb9f3a\"],[0.8888888888888888,\"#fdca26\"],[1.0,\"#f0f921\"]],\"type\":\"heatmapgl\"}],\"heatmap\":[{\"colorbar\":{\"outlinewidth\":0,\"ticks\":\"\"},\"colorscale\":[[0.0,\"#0d0887\"],[0.1111111111111111,\"#46039f\"],[0.2222222222222222,\"#7201a8\"],[0.3333333333333333,\"#9c179e\"],[0.4444444444444444,\"#bd3786\"],[0.5555555555555556,\"#d8576b\"],[0.6666666666666666,\"#ed7953\"],[0.7777777777777778,\"#fb9f3a\"],[0.8888888888888888,\"#fdca26\"],[1.0,\"#f0f921\"]],\"type\":\"heatmap\"}],\"histogram2dcontour\":[{\"colorbar\":{\"outlinewidth\":0,\"ticks\":\"\"},\"colorscale\":[[0.0,\"#0d0887\"],[0.1111111111111111,\"#46039f\"],[0.2222222222222222,\"#7201a8\"],[0.3333333333333333,\"#9c179e\"],[0.4444444444444444,\"#bd3786\"],[0.5555555555555556,\"#d8576b\"],[0.6666666666666666,\"#ed7953\"],[0.7777777777777778,\"#fb9f3a\"],[0.8888888888888888,\"#fdca26\"],[1.0,\"#f0f921\"]],\"type\":\"histogram2dcontour\"}],\"histogram2d\":[{\"colorbar\":{\"outlinewidth\":0,\"ticks\":\"\"},\"colorscale\":[[0.0,\"#0d0887\"],[0.1111111111111111,\"#46039f\"],[0.2222222222222222,\"#7201a8\"],[0.3333333333333333,\"#9c179e\"],[0.4444444444444444,\"#bd3786\"],[0.5555555555555556,\"#d8576b\"],[0.6666666666666666,\"#ed7953\"],[0.7777777777777778,\"#fb9f3a\"],[0.8888888888888888,\"#fdca26\"],[1.0,\"#f0f921\"]],\"type\":\"histogram2d\"}],\"histogram\":[{\"marker\":{\"pattern\":{\"fillmode\":\"overlay\",\"size\":10,\"solidity\":0.2}},\"type\":\"histogram\"}],\"mesh3d\":[{\"colorbar\":{\"outlinewidth\":0,\"ticks\":\"\"},\"type\":\"mesh3d\"}],\"parcoords\":[{\"line\":{\"colorbar\":{\"outlinewidth\":0,\"ticks\":\"\"}},\"type\":\"parcoords\"}],\"pie\":[{\"automargin\":true,\"type\":\"pie\"}],\"scatter3d\":[{\"line\":{\"colorbar\":{\"outlinewidth\":0,\"ticks\":\"\"}},\"marker\":{\"colorbar\":{\"outlinewidth\":0,\"ticks\":\"\"}},\"type\":\"scatter3d\"}],\"scattercarpet\":[{\"marker\":{\"colorbar\":{\"outlinewidth\":0,\"ticks\":\"\"}},\"type\":\"scattercarpet\"}],\"scattergeo\":[{\"marker\":{\"colorbar\":{\"outlinewidth\":0,\"ticks\":\"\"}},\"type\":\"scattergeo\"}],\"scattergl\":[{\"marker\":{\"colorbar\":{\"outlinewidth\":0,\"ticks\":\"\"}},\"type\":\"scattergl\"}],\"scattermapbox\":[{\"marker\":{\"colorbar\":{\"outlinewidth\":0,\"ticks\":\"\"}},\"type\":\"scattermapbox\"}],\"scatterpolargl\":[{\"marker\":{\"colorbar\":{\"outlinewidth\":0,\"ticks\":\"\"}},\"type\":\"scatterpolargl\"}],\"scatterpolar\":[{\"marker\":{\"colorbar\":{\"outlinewidth\":0,\"ticks\":\"\"}},\"type\":\"scatterpolar\"}],\"scatter\":[{\"fillpattern\":{\"fillmode\":\"overlay\",\"size\":10,\"solidity\":0.2},\"type\":\"scatter\"}],\"scatterternary\":[{\"marker\":{\"colorbar\":{\"outlinewidth\":0,\"ticks\":\"\"}},\"type\":\"scatterternary\"}],\"surface\":[{\"colorbar\":{\"outlinewidth\":0,\"ticks\":\"\"},\"colorscale\":[[0.0,\"#0d0887\"],[0.1111111111111111,\"#46039f\"],[0.2222222222222222,\"#7201a8\"],[0.3333333333333333,\"#9c179e\"],[0.4444444444444444,\"#bd3786\"],[0.5555555555555556,\"#d8576b\"],[0.6666666666666666,\"#ed7953\"],[0.7777777777777778,\"#fb9f3a\"],[0.8888888888888888,\"#fdca26\"],[1.0,\"#f0f921\"]],\"type\":\"surface\"}],\"table\":[{\"cells\":{\"fill\":{\"color\":\"#EBF0F8\"},\"line\":{\"color\":\"white\"}},\"header\":{\"fill\":{\"color\":\"#C8D4E3\"},\"line\":{\"color\":\"white\"}},\"type\":\"table\"}]},\"layout\":{\"annotationdefaults\":{\"arrowcolor\":\"#2a3f5f\",\"arrowhead\":0,\"arrowwidth\":1},\"autotypenumbers\":\"strict\",\"coloraxis\":{\"colorbar\":{\"outlinewidth\":0,\"ticks\":\"\"}},\"colorscale\":{\"diverging\":[[0,\"#8e0152\"],[0.1,\"#c51b7d\"],[0.2,\"#de77ae\"],[0.3,\"#f1b6da\"],[0.4,\"#fde0ef\"],[0.5,\"#f7f7f7\"],[0.6,\"#e6f5d0\"],[0.7,\"#b8e186\"],[0.8,\"#7fbc41\"],[0.9,\"#4d9221\"],[1,\"#276419\"]],\"sequential\":[[0.0,\"#0d0887\"],[0.1111111111111111,\"#46039f\"],[0.2222222222222222,\"#7201a8\"],[0.3333333333333333,\"#9c179e\"],[0.4444444444444444,\"#bd3786\"],[0.5555555555555556,\"#d8576b\"],[0.6666666666666666,\"#ed7953\"],[0.7777777777777778,\"#fb9f3a\"],[0.8888888888888888,\"#fdca26\"],[1.0,\"#f0f921\"]],\"sequentialminus\":[[0.0,\"#0d0887\"],[0.1111111111111111,\"#46039f\"],[0.2222222222222222,\"#7201a8\"],[0.3333333333333333,\"#9c179e\"],[0.4444444444444444,\"#bd3786\"],[0.5555555555555556,\"#d8576b\"],[0.6666666666666666,\"#ed7953\"],[0.7777777777777778,\"#fb9f3a\"],[0.8888888888888888,\"#fdca26\"],[1.0,\"#f0f921\"]]},\"colorway\":[\"#636efa\",\"#EF553B\",\"#00cc96\",\"#ab63fa\",\"#FFA15A\",\"#19d3f3\",\"#FF6692\",\"#B6E880\",\"#FF97FF\",\"#FECB52\"],\"font\":{\"color\":\"#2a3f5f\"},\"geo\":{\"bgcolor\":\"white\",\"lakecolor\":\"white\",\"landcolor\":\"white\",\"showlakes\":true,\"showland\":true,\"subunitcolor\":\"#C8D4E3\"},\"hoverlabel\":{\"align\":\"left\"},\"hovermode\":\"closest\",\"mapbox\":{\"style\":\"light\"},\"paper_bgcolor\":\"white\",\"plot_bgcolor\":\"white\",\"polar\":{\"angularaxis\":{\"gridcolor\":\"#EBF0F8\",\"linecolor\":\"#EBF0F8\",\"ticks\":\"\"},\"bgcolor\":\"white\",\"radialaxis\":{\"gridcolor\":\"#EBF0F8\",\"linecolor\":\"#EBF0F8\",\"ticks\":\"\"}},\"scene\":{\"xaxis\":{\"backgroundcolor\":\"white\",\"gridcolor\":\"#DFE8F3\",\"gridwidth\":2,\"linecolor\":\"#EBF0F8\",\"showbackground\":true,\"ticks\":\"\",\"zerolinecolor\":\"#EBF0F8\"},\"yaxis\":{\"backgroundcolor\":\"white\",\"gridcolor\":\"#DFE8F3\",\"gridwidth\":2,\"linecolor\":\"#EBF0F8\",\"showbackground\":true,\"ticks\":\"\",\"zerolinecolor\":\"#EBF0F8\"},\"zaxis\":{\"backgroundcolor\":\"white\",\"gridcolor\":\"#DFE8F3\",\"gridwidth\":2,\"linecolor\":\"#EBF0F8\",\"showbackground\":true,\"ticks\":\"\",\"zerolinecolor\":\"#EBF0F8\"}},\"shapedefaults\":{\"line\":{\"color\":\"#2a3f5f\"}},\"ternary\":{\"aaxis\":{\"gridcolor\":\"#DFE8F3\",\"linecolor\":\"#A2B1C6\",\"ticks\":\"\"},\"baxis\":{\"gridcolor\":\"#DFE8F3\",\"linecolor\":\"#A2B1C6\",\"ticks\":\"\"},\"bgcolor\":\"white\",\"caxis\":{\"gridcolor\":\"#DFE8F3\",\"linecolor\":\"#A2B1C6\",\"ticks\":\"\"}},\"title\":{\"x\":0.05},\"xaxis\":{\"automargin\":true,\"gridcolor\":\"#EBF0F8\",\"linecolor\":\"#EBF0F8\",\"ticks\":\"\",\"title\":{\"standoff\":15},\"zerolinecolor\":\"#EBF0F8\",\"zerolinewidth\":2},\"yaxis\":{\"automargin\":true,\"gridcolor\":\"#EBF0F8\",\"linecolor\":\"#EBF0F8\",\"ticks\":\"\",\"title\":{\"standoff\":15},\"zerolinecolor\":\"#EBF0F8\",\"zerolinewidth\":2}}},\"xaxis\":{\"anchor\":\"y\",\"domain\":[0.0,0.6859999999999999],\"visible\":false,\"tickmode\":\"linear\"},\"yaxis\":{\"anchor\":\"x\",\"domain\":[0.5,1.0],\"showgrid\":false,\"ticksuffix\":\" \",\"categoryorder\":\"total ascending\"},\"xaxis2\":{\"anchor\":\"y2\",\"domain\":[0.0,1.0],\"tickmode\":\"array\",\"tickvals\":[1,2,3,4,5,6,7,8,9,10,11,12,13,14,15,16,17],\"ticktext\":[1,2,3,4,5,6,7,8,9,10,11,12,13,14,15,16]},\"yaxis2\":{\"anchor\":\"x2\",\"domain\":[0.0,0.5],\"visible\":false},\"annotations\":[{\"font\":{\"size\":16},\"showarrow\":false,\"text\":\"Top 10 Highest Product Sales\",\"x\":0.34299999999999997,\"xanchor\":\"center\",\"xref\":\"paper\",\"y\":1.0,\"yanchor\":\"bottom\",\"yref\":\"paper\"},{\"font\":{\"size\":16},\"showarrow\":false,\"text\":\"Highest Sales in Stores\",\"x\":0.853,\"xanchor\":\"center\",\"xref\":\"paper\",\"y\":1.0,\"yanchor\":\"bottom\",\"yref\":\"paper\"},{\"font\":{\"size\":16},\"showarrow\":false,\"text\":\"Clusters Vs Sales\",\"x\":0.5,\"xanchor\":\"center\",\"xref\":\"paper\",\"y\":0.5,\"yanchor\":\"bottom\",\"yref\":\"paper\"}],\"margin\":{\"b\":0,\"r\":20,\"l\":20},\"title\":{\"font\":{\"size\":29,\"color\":\"#8a8d93\",\"family\":\"Lato, sans-serif\"},\"text\":\"Average Sales Analysis\"},\"font\":{\"color\":\"#8a8d93\"},\"hoverlabel\":{\"font\":{\"size\":13,\"family\":\"Lato, sans-serif\"},\"bgcolor\":\"#f2f2f2\"},\"height\":500,\"bargap\":0.2,\"showlegend\":false},                        {\"responsive\": true}                    ).then(function(){\n",
       "                            \n",
       "var gd = document.getElementById('9246232b-c674-4a89-a532-f8c57a8899bc');\n",
       "var x = new MutationObserver(function (mutations, observer) {{\n",
       "        var display = window.getComputedStyle(gd).display;\n",
       "        if (!display || display === 'none') {{\n",
       "            console.log([gd, 'removed!']);\n",
       "            Plotly.purge(gd);\n",
       "            observer.disconnect();\n",
       "        }}\n",
       "}});\n",
       "\n",
       "// Listen for the removal of the full notebook cells\n",
       "var notebookContainer = gd.closest('#notebook-container');\n",
       "if (notebookContainer) {{\n",
       "    x.observe(notebookContainer, {childList: true});\n",
       "}}\n",
       "\n",
       "// Listen for the clearing of the current output cell\n",
       "var outputEl = gd.closest('.output');\n",
       "if (outputEl) {{\n",
       "    x.observe(outputEl, {childList: true});\n",
       "}}\n",
       "\n",
       "                        })                };                });            </script>        </div>"
      ]
     },
     "metadata": {},
     "output_type": "display_data"
    }
   ],
   "source": [
    "# Sales analysis\n",
    "df_st_sa = train1.groupby('store_type').agg({\"sales\" : \"mean\"}).reset_index().sort_values(by='sales', ascending=False)\n",
    "df_fa_sa = train1.groupby('family').agg({\"sales\" : \"mean\"}).reset_index().sort_values(by='sales', ascending=False)[:10]\n",
    "df_cl_sa = train1.groupby('cluster').agg({\"sales\" : \"mean\"}).reset_index() \n",
    "# chart color\n",
    "df_fa_sa['color'] = '#496595'\n",
    "df_fa_sa['color'][2:] = '#c6ccd8'\n",
    "df_cl_sa['color'] = '#c6ccd8'\n",
    "\n",
    "# chart\n",
    "fig = make_subplots(rows=2, cols=2, \n",
    "                    specs=[[{\"type\": \"bar\"}, {\"type\": \"pie\"}],\n",
    "                           [{\"colspan\": 2}, None]],\n",
    "                    column_widths=[0.7, 0.3], vertical_spacing=0, horizontal_spacing=0.02,\n",
    "                    subplot_titles=(\"Top 10 Highest Product Sales\", \"Highest Sales in Stores\", \"Clusters Vs Sales\"))\n",
    "\n",
    "fig.add_trace(go.Bar(x=df_fa_sa['sales'], y=df_fa_sa['family'], marker=dict(color= df_fa_sa['color']),\n",
    "                     name='Family', orientation='h'), \n",
    "                     row=1, col=1)\n",
    "fig.add_trace(go.Pie(values=df_st_sa['sales'], labels=df_st_sa['store_type'], name='Store type',\n",
    "                     marker=dict(colors=['#334668','#496595','#6D83AA','#91A2BF','#C8D0DF']), hole=0.7,\n",
    "                     hoverinfo='label+percent+value', textinfo='label'), \n",
    "                    row=1, col=2)\n",
    "fig.add_trace(go.Bar(x=df_cl_sa['cluster'], y=df_cl_sa['sales'], \n",
    "                     marker=dict(color= df_cl_sa['color']), name='Cluster'), \n",
    "                     row=2, col=1)\n",
    "\n",
    "# styling\n",
    "fig.update_yaxes(showgrid=False, ticksuffix=' ', categoryorder='total ascending', row=1, col=1)\n",
    "fig.update_xaxes(visible=False, row=1, col=1)\n",
    "fig.update_xaxes(tickmode = 'array', tickvals=df_cl_sa.cluster, ticktext=[i for i in range(1,17)], row=2, col=1)\n",
    "fig.update_yaxes(visible=False, row=2, col=1)\n",
    "fig.update_layout(height=500, bargap=0.2,\n",
    "                  margin=dict(b=0,r=20,l=20), xaxis=dict(tickmode='linear'),\n",
    "                  title_text=\"Average Sales Analysis\",\n",
    "                  template=\"plotly_white\",\n",
    "                  title_font=dict(size=29, color='#8a8d93', family=\"Lato, sans-serif\"),\n",
    "                  font=dict(color='#8a8d93'), \n",
    "                  hoverlabel=dict(bgcolor=\"#f2f2f2\", font_size=13, font_family=\"Lato, sans-serif\"),\n",
    "                  showlegend=False)\n",
    "fig.show()"
   ]
  },
  {
   "cell_type": "code",
   "execution_count": 18,
   "id": "143ef2e2",
   "metadata": {},
   "outputs": [
    {
     "name": "stderr",
     "output_type": "stream",
     "text": [
      "C:\\Users\\hp\\AppData\\Local\\Temp\\ipykernel_4636\\489917448.py:13: FutureWarning:\n",
      "\n",
      "The frame.append method is deprecated and will be removed from pandas in a future version. Use pandas.concat instead.\n",
      "\n"
     ]
    },
    {
     "data": {
      "application/vnd.plotly.v1+json": {
       "config": {
        "plotlyServerURL": "https://plot.ly"
       },
       "data": [
        {
         "marker": {
          "color": "rgba(38, 24, 74, 0.8)",
          "line": {
           "color": "rgb(248, 248, 249)",
           "width": 1
          }
         },
         "orientation": "h",
         "type": "bar",
         "x": [
          186.95240463613735
         ],
         "y": [
          "Jan"
         ]
        },
        {
         "marker": {
          "color": "rgba(38, 24, 74, 0.8)",
          "line": {
           "color": "rgb(248, 248, 249)",
           "width": 1
          }
         },
         "orientation": "h",
         "type": "bar",
         "x": [
          193.581845787975
         ],
         "y": [
          "Feb"
         ]
        },
        {
         "marker": {
          "color": "rgba(38, 24, 74, 0.8)",
          "line": {
           "color": "rgb(248, 248, 249)",
           "width": 1
          }
         },
         "orientation": "h",
         "type": "bar",
         "x": [
          206.88058067208826
         ],
         "y": [
          "Mar"
         ]
        },
        {
         "marker": {
          "color": "rgba(38, 24, 74, 0.8)",
          "line": {
           "color": "rgb(248, 248, 249)",
           "width": 1
          }
         },
         "orientation": "h",
         "type": "bar",
         "x": [
          205.63907104399178
         ],
         "y": [
          "Apr"
         ]
        },
        {
         "marker": {
          "color": "rgba(38, 24, 74, 0.8)",
          "line": {
           "color": "rgb(248, 248, 249)",
           "width": 1
          }
         },
         "orientation": "h",
         "type": "bar",
         "x": [
          210.1845628514538
         ],
         "y": [
          "May"
         ]
        },
        {
         "marker": {
          "color": "rgba(38, 24, 74, 0.8)",
          "line": {
           "color": "rgb(248, 248, 249)",
           "width": 1
          }
         },
         "orientation": "h",
         "type": "bar",
         "x": [
          215.6913426341821
         ],
         "y": [
          "Jun"
         ]
        },
        {
         "marker": {
          "color": "rgba(38, 24, 74, 0.8)",
          "line": {
           "color": "rgb(248, 248, 249)",
           "width": 1
          }
         },
         "orientation": "h",
         "type": "bar",
         "x": [
          203.9834547844732
         ],
         "y": [
          "Jul"
         ]
        },
        {
         "marker": {
          "color": "rgba(38, 24, 74, 0.8)",
          "line": {
           "color": "rgb(248, 248, 249)",
           "width": 1
          }
         },
         "orientation": "h",
         "type": "bar",
         "x": [
          212.47943447870642
         ],
         "y": [
          "Aug"
         ]
        },
        {
         "marker": {
          "color": "rgba(38, 24, 74, 0.8)",
          "line": {
           "color": "rgb(248, 248, 249)",
           "width": 1
          }
         },
         "orientation": "h",
         "type": "bar",
         "x": [
          220.59358832525066
         ],
         "y": [
          "Sep"
         ]
        },
        {
         "marker": {
          "color": "rgba(38, 24, 74, 0.8)",
          "line": {
           "color": "rgb(248, 248, 249)",
           "width": 1
          }
         },
         "orientation": "h",
         "type": "bar",
         "x": [
          213.1642656044151
         ],
         "y": [
          "Oct"
         ]
        },
        {
         "marker": {
          "color": "rgba(38, 24, 74, 0.8)",
          "line": {
           "color": "rgb(248, 248, 249)",
           "width": 1
          }
         },
         "orientation": "h",
         "type": "bar",
         "x": [
          231.13653746700524
         ],
         "y": [
          "Nov"
         ]
        },
        {
         "marker": {
          "color": "rgba(38, 24, 74, 0.8)",
          "line": {
           "color": "rgb(248, 248, 249)",
           "width": 1
          }
         },
         "orientation": "h",
         "type": "bar",
         "x": [
          298.67514381886247
         ],
         "y": [
          "Dec"
         ]
        },
        {
         "marker": {
          "color": "rgba(71, 58, 131, 0.8)",
          "line": {
           "color": "rgb(248, 248, 249)",
           "width": 1
          }
         },
         "orientation": "h",
         "type": "bar",
         "x": [
          342.3417092321676
         ],
         "y": [
          "Jan"
         ]
        },
        {
         "marker": {
          "color": "rgba(71, 58, 131, 0.8)",
          "line": {
           "color": "rgb(248, 248, 249)",
           "width": 1
          }
         },
         "orientation": "h",
         "type": "bar",
         "x": [
          241.26889197487372
         ],
         "y": [
          "Feb"
         ]
        },
        {
         "marker": {
          "color": "rgba(71, 58, 131, 0.8)",
          "line": {
           "color": "rgb(248, 248, 249)",
           "width": 1
          }
         },
         "orientation": "h",
         "type": "bar",
         "x": [
          368.66123631434414
         ],
         "y": [
          "Mar"
         ]
        },
        {
         "marker": {
          "color": "rgba(71, 58, 131, 0.8)",
          "line": {
           "color": "rgb(248, 248, 249)",
           "width": 1
          }
         },
         "orientation": "h",
         "type": "bar",
         "x": [
          240.57708674054246
         ],
         "y": [
          "Apr"
         ]
        },
        {
         "marker": {
          "color": "rgba(71, 58, 131, 0.8)",
          "line": {
           "color": "rgb(248, 248, 249)",
           "width": 1
          }
         },
         "orientation": "h",
         "type": "bar",
         "x": [
          242.20312916254844
         ],
         "y": [
          "May"
         ]
        },
        {
         "marker": {
          "color": "rgba(71, 58, 131, 0.8)",
          "line": {
           "color": "rgb(248, 248, 249)",
           "width": 1
          }
         },
         "orientation": "h",
         "type": "bar",
         "x": [
          244.63465236629935
         ],
         "y": [
          "Jun"
         ]
        },
        {
         "marker": {
          "color": "rgba(71, 58, 131, 0.8)",
          "line": {
           "color": "rgb(248, 248, 249)",
           "width": 1
          }
         },
         "orientation": "h",
         "type": "bar",
         "x": [
          350.8301024939429
         ],
         "y": [
          "Jul"
         ]
        },
        {
         "marker": {
          "color": "rgba(71, 58, 131, 0.8)",
          "line": {
           "color": "rgb(248, 248, 249)",
           "width": 1
          }
         },
         "orientation": "h",
         "type": "bar",
         "x": [
          251.35180513113573
         ],
         "y": [
          "Aug"
         ]
        },
        {
         "marker": {
          "color": "rgba(71, 58, 131, 0.8)",
          "line": {
           "color": "rgb(248, 248, 249)",
           "width": 1
          }
         },
         "orientation": "h",
         "type": "bar",
         "x": [
          374.53079150410775
         ],
         "y": [
          "Sep"
         ]
        },
        {
         "marker": {
          "color": "rgba(71, 58, 131, 0.8)",
          "line": {
           "color": "rgb(248, 248, 249)",
           "width": 1
          }
         },
         "orientation": "h",
         "type": "bar",
         "x": [
          369.21366558374245
         ],
         "y": [
          "Oct"
         ]
        },
        {
         "marker": {
          "color": "rgba(71, 58, 131, 0.8)",
          "line": {
           "color": "rgb(248, 248, 249)",
           "width": 1
          }
         },
         "orientation": "h",
         "type": "bar",
         "x": [
          384.05602700417506
         ],
         "y": [
          "Nov"
         ]
        },
        {
         "marker": {
          "color": "rgba(71, 58, 131, 0.8)",
          "line": {
           "color": "rgb(248, 248, 249)",
           "width": 1
          }
         },
         "orientation": "h",
         "type": "bar",
         "x": [
          459.81860561595994
         ],
         "y": [
          "Dec"
         ]
        },
        {
         "marker": {
          "color": "rgba(122, 120, 168, 0.8)",
          "line": {
           "color": "rgb(248, 248, 249)",
           "width": 1
          }
         },
         "orientation": "h",
         "type": "bar",
         "x": [
          269.666595293409
         ],
         "y": [
          "Jan"
         ]
        },
        {
         "marker": {
          "color": "rgba(122, 120, 168, 0.8)",
          "line": {
           "color": "rgb(248, 248, 249)",
           "width": 1
          }
         },
         "orientation": "h",
         "type": "bar",
         "x": [
          275.42079221543213
         ],
         "y": [
          "Feb"
         ]
        },
        {
         "marker": {
          "color": "rgba(122, 120, 168, 0.8)",
          "line": {
           "color": "rgb(248, 248, 249)",
           "width": 1
          }
         },
         "orientation": "h",
         "type": "bar",
         "x": [
          282.3686238433674
         ],
         "y": [
          "Mar"
         ]
        },
        {
         "marker": {
          "color": "rgba(122, 120, 168, 0.8)",
          "line": {
           "color": "rgb(248, 248, 249)",
           "width": 1
          }
         },
         "orientation": "h",
         "type": "bar",
         "x": [
          279.74313824869995
         ],
         "y": [
          "Apr"
         ]
        },
        {
         "marker": {
          "color": "rgba(122, 120, 168, 0.8)",
          "line": {
           "color": "rgb(248, 248, 249)",
           "width": 1
          }
         },
         "orientation": "h",
         "type": "bar",
         "x": [
          320.9581160042902
         ],
         "y": [
          "May"
         ]
        },
        {
         "marker": {
          "color": "rgba(122, 120, 168, 0.8)",
          "line": {
           "color": "rgb(248, 248, 249)",
           "width": 1
          }
         },
         "orientation": "h",
         "type": "bar",
         "x": [
          397.24961881026763
         ],
         "y": [
          "Jun"
         ]
        },
        {
         "marker": {
          "color": "rgba(122, 120, 168, 0.8)",
          "line": {
           "color": "rgb(248, 248, 249)",
           "width": 1
          }
         },
         "orientation": "h",
         "type": "bar",
         "x": [
          403.0301703258084
         ],
         "y": [
          "Jul"
         ]
        },
        {
         "marker": {
          "color": "rgba(122, 120, 168, 0.8)",
          "line": {
           "color": "rgb(248, 248, 249)",
           "width": 1
          }
         },
         "orientation": "h",
         "type": "bar",
         "x": [
          415.692303705179
         ],
         "y": [
          "Aug"
         ]
        },
        {
         "marker": {
          "color": "rgba(122, 120, 168, 0.8)",
          "line": {
           "color": "rgb(248, 248, 249)",
           "width": 1
          }
         },
         "orientation": "h",
         "type": "bar",
         "x": [
          434.7340530847587
         ],
         "y": [
          "Sep"
         ]
        },
        {
         "marker": {
          "color": "rgba(122, 120, 168, 0.8)",
          "line": {
           "color": "rgb(248, 248, 249)",
           "width": 1
          }
         },
         "orientation": "h",
         "type": "bar",
         "x": [
          432.2484280902592
         ],
         "y": [
          "Oct"
         ]
        },
        {
         "marker": {
          "color": "rgba(122, 120, 168, 0.8)",
          "line": {
           "color": "rgb(248, 248, 249)",
           "width": 1
          }
         },
         "orientation": "h",
         "type": "bar",
         "x": [
          426.57974875067714
         ],
         "y": [
          "Nov"
         ]
        },
        {
         "marker": {
          "color": "rgba(122, 120, 168, 0.8)",
          "line": {
           "color": "rgb(248, 248, 249)",
           "width": 1
          }
         },
         "orientation": "h",
         "type": "bar",
         "x": [
          513.8453275231473
         ],
         "y": [
          "Dec"
         ]
        },
        {
         "marker": {
          "color": "rgba(164, 163, 204, 0.85)",
          "line": {
           "color": "rgb(248, 248, 249)",
           "width": 1
          }
         },
         "orientation": "h",
         "type": "bar",
         "x": [
          434.0502676484215
         ],
         "y": [
          "Jan"
         ]
        },
        {
         "marker": {
          "color": "rgba(164, 163, 204, 0.85)",
          "line": {
           "color": "rgb(248, 248, 249)",
           "width": 1
          }
         },
         "orientation": "h",
         "type": "bar",
         "x": [
          424.69539844813653
         ],
         "y": [
          "Feb"
         ]
        },
        {
         "marker": {
          "color": "rgba(164, 163, 204, 0.85)",
          "line": {
           "color": "rgb(248, 248, 249)",
           "width": 1
          }
         },
         "orientation": "h",
         "type": "bar",
         "x": [
          418.7353984978802
         ],
         "y": [
          "Mar"
         ]
        },
        {
         "marker": {
          "color": "rgba(164, 163, 204, 0.85)",
          "line": {
           "color": "rgb(248, 248, 249)",
           "width": 1
          }
         },
         "orientation": "h",
         "type": "bar",
         "x": [
          488.1087737795554
         ],
         "y": [
          "Apr"
         ]
        },
        {
         "marker": {
          "color": "rgba(164, 163, 204, 0.85)",
          "line": {
           "color": "rgb(248, 248, 249)",
           "width": 1
          }
         },
         "orientation": "h",
         "type": "bar",
         "x": [
          457.6713979467484
         ],
         "y": [
          "May"
         ]
        },
        {
         "marker": {
          "color": "rgba(164, 163, 204, 0.85)",
          "line": {
           "color": "rgb(248, 248, 249)",
           "width": 1
          }
         },
         "orientation": "h",
         "type": "bar",
         "x": [
          419.64457509660144
         ],
         "y": [
          "Jun"
         ]
        },
        {
         "marker": {
          "color": "rgba(164, 163, 204, 0.85)",
          "line": {
           "color": "rgb(248, 248, 249)",
           "width": 1
          }
         },
         "orientation": "h",
         "type": "bar",
         "x": [
          432.56221846394243
         ],
         "y": [
          "Jul"
         ]
        },
        {
         "marker": {
          "color": "rgba(164, 163, 204, 0.85)",
          "line": {
           "color": "rgb(248, 248, 249)",
           "width": 1
          }
         },
         "orientation": "h",
         "type": "bar",
         "x": [
          406.437390353262
         ],
         "y": [
          "Aug"
         ]
        },
        {
         "marker": {
          "color": "rgba(164, 163, 204, 0.85)",
          "line": {
           "color": "rgb(248, 248, 249)",
           "width": 1
          }
         },
         "orientation": "h",
         "type": "bar",
         "x": [
          419.33124012339505
         ],
         "y": [
          "Sep"
         ]
        },
        {
         "marker": {
          "color": "rgba(164, 163, 204, 0.85)",
          "line": {
           "color": "rgb(248, 248, 249)",
           "width": 1
          }
         },
         "orientation": "h",
         "type": "bar",
         "x": [
          435.00216893472356
         ],
         "y": [
          "Oct"
         ]
        },
        {
         "marker": {
          "color": "rgba(164, 163, 204, 0.85)",
          "line": {
           "color": "rgb(248, 248, 249)",
           "width": 1
          }
         },
         "orientation": "h",
         "type": "bar",
         "x": [
          462.9166751626751
         ],
         "y": [
          "Nov"
         ]
        },
        {
         "marker": {
          "color": "rgba(164, 163, 204, 0.85)",
          "line": {
           "color": "rgb(248, 248, 249)",
           "width": 1
          }
         },
         "orientation": "h",
         "type": "bar",
         "x": [
          557.1148215211089
         ],
         "y": [
          "Dec"
         ]
        },
        {
         "marker": {
          "color": "rgba(190, 192, 213, 1)",
          "line": {
           "color": "rgb(248, 248, 249)",
           "width": 1
          }
         },
         "orientation": "h",
         "type": "bar",
         "x": [
          476.5967911318399
         ],
         "y": [
          "Jan"
         ]
        },
        {
         "marker": {
          "color": "rgba(190, 192, 213, 1)",
          "line": {
           "color": "rgb(248, 248, 249)",
           "width": 1
          }
         },
         "orientation": "h",
         "type": "bar",
         "x": [
          465.9714681524932
         ],
         "y": [
          "Feb"
         ]
        },
        {
         "marker": {
          "color": "rgba(190, 192, 213, 1)",
          "line": {
           "color": "rgb(248, 248, 249)",
           "width": 1
          }
         },
         "orientation": "h",
         "type": "bar",
         "x": [
          483.4006316005811
         ],
         "y": [
          "Mar"
         ]
        },
        {
         "marker": {
          "color": "rgba(190, 192, 213, 1)",
          "line": {
           "color": "rgb(248, 248, 249)",
           "width": 1
          }
         },
         "orientation": "h",
         "type": "bar",
         "x": [
          482.1729476916857
         ],
         "y": [
          "Apr"
         ]
        },
        {
         "marker": {
          "color": "rgba(190, 192, 213, 1)",
          "line": {
           "color": "rgb(248, 248, 249)",
           "width": 1
          }
         },
         "orientation": "h",
         "type": "bar",
         "x": [
          487.1627973388545
         ],
         "y": [
          "May"
         ]
        },
        {
         "marker": {
          "color": "rgba(190, 192, 213, 1)",
          "line": {
           "color": "rgb(248, 248, 249)",
           "width": 1
          }
         },
         "orientation": "h",
         "type": "bar",
         "x": [
          488.707278377904
         ],
         "y": [
          "Jun"
         ]
        },
        {
         "marker": {
          "color": "rgba(190, 192, 213, 1)",
          "line": {
           "color": "rgb(248, 248, 249)",
           "width": 1
          }
         },
         "orientation": "h",
         "type": "bar",
         "x": [
          489.9098796058975
         ],
         "y": [
          "Jul"
         ]
        },
        {
         "marker": {
          "color": "rgba(190, 192, 213, 1)",
          "line": {
           "color": "rgb(248, 248, 249)",
           "width": 1
          }
         },
         "orientation": "h",
         "type": "bar",
         "x": [
          465.14489116264497
         ],
         "y": [
          "Aug"
         ]
        },
        {
         "marker": {
          "color": "rgba(190, 192, 213, 1)",
          "line": {
           "color": "rgb(248, 248, 249)",
           "width": 1
          }
         },
         "orientation": "h",
         "type": "bar",
         "x": [
          0
         ],
         "y": [
          "Sep"
         ]
        },
        {
         "marker": {
          "color": "rgba(190, 192, 213, 1)",
          "line": {
           "color": "rgb(248, 248, 249)",
           "width": 1
          }
         },
         "orientation": "h",
         "type": "bar",
         "x": [
          0
         ],
         "y": [
          "Oct"
         ]
        },
        {
         "marker": {
          "color": "rgba(190, 192, 213, 1)",
          "line": {
           "color": "rgb(248, 248, 249)",
           "width": 1
          }
         },
         "orientation": "h",
         "type": "bar",
         "x": [
          0
         ],
         "y": [
          "Nov"
         ]
        },
        {
         "marker": {
          "color": "rgba(190, 192, 213, 1)",
          "line": {
           "color": "rgb(248, 248, 249)",
           "width": 1
          }
         },
         "orientation": "h",
         "type": "bar",
         "x": [
          0
         ],
         "y": [
          "Dec"
         ]
        }
       ],
       "layout": {
        "annotations": [
         {
          "align": "right",
          "font": {
           "color": "rgb(67, 67, 67)",
           "family": "Arial",
           "size": 14
          },
          "showarrow": false,
          "text": "Jan",
          "x": 0.14,
          "xanchor": "right",
          "xref": "paper",
          "y": "Jan",
          "yref": "y"
         },
         {
          "align": "right",
          "font": {
           "color": "rgb(67, 67, 67)",
           "family": "Arial",
           "size": 14
          },
          "showarrow": false,
          "text": "Feb",
          "x": 0.14,
          "xanchor": "right",
          "xref": "paper",
          "y": "Feb",
          "yref": "y"
         },
         {
          "align": "right",
          "font": {
           "color": "rgb(67, 67, 67)",
           "family": "Arial",
           "size": 14
          },
          "showarrow": false,
          "text": "Mar",
          "x": 0.14,
          "xanchor": "right",
          "xref": "paper",
          "y": "Mar",
          "yref": "y"
         },
         {
          "align": "right",
          "font": {
           "color": "rgb(67, 67, 67)",
           "family": "Arial",
           "size": 14
          },
          "showarrow": false,
          "text": "Apr",
          "x": 0.14,
          "xanchor": "right",
          "xref": "paper",
          "y": "Apr",
          "yref": "y"
         },
         {
          "align": "right",
          "font": {
           "color": "rgb(67, 67, 67)",
           "family": "Arial",
           "size": 14
          },
          "showarrow": false,
          "text": "May",
          "x": 0.14,
          "xanchor": "right",
          "xref": "paper",
          "y": "May",
          "yref": "y"
         },
         {
          "align": "right",
          "font": {
           "color": "rgb(67, 67, 67)",
           "family": "Arial",
           "size": 14
          },
          "showarrow": false,
          "text": "Jun",
          "x": 0.14,
          "xanchor": "right",
          "xref": "paper",
          "y": "Jun",
          "yref": "y"
         },
         {
          "align": "right",
          "font": {
           "color": "rgb(67, 67, 67)",
           "family": "Arial",
           "size": 14
          },
          "showarrow": false,
          "text": "Jul",
          "x": 0.14,
          "xanchor": "right",
          "xref": "paper",
          "y": "Jul",
          "yref": "y"
         },
         {
          "align": "right",
          "font": {
           "color": "rgb(67, 67, 67)",
           "family": "Arial",
           "size": 14
          },
          "showarrow": false,
          "text": "Aug",
          "x": 0.14,
          "xanchor": "right",
          "xref": "paper",
          "y": "Aug",
          "yref": "y"
         },
         {
          "align": "right",
          "font": {
           "color": "rgb(67, 67, 67)",
           "family": "Arial",
           "size": 14
          },
          "showarrow": false,
          "text": "Sep",
          "x": 0.14,
          "xanchor": "right",
          "xref": "paper",
          "y": "Sep",
          "yref": "y"
         },
         {
          "align": "right",
          "font": {
           "color": "rgb(67, 67, 67)",
           "family": "Arial",
           "size": 14
          },
          "showarrow": false,
          "text": "Oct",
          "x": 0.14,
          "xanchor": "right",
          "xref": "paper",
          "y": "Oct",
          "yref": "y"
         },
         {
          "align": "right",
          "font": {
           "color": "rgb(67, 67, 67)",
           "family": "Arial",
           "size": 14
          },
          "showarrow": false,
          "text": "Nov",
          "x": 0.14,
          "xanchor": "right",
          "xref": "paper",
          "y": "Nov",
          "yref": "y"
         },
         {
          "align": "right",
          "font": {
           "color": "rgb(67, 67, 67)",
           "family": "Arial",
           "size": 14
          },
          "showarrow": false,
          "text": "Dec",
          "x": 0.14,
          "xanchor": "right",
          "xref": "paper",
          "y": "Dec",
          "yref": "y"
         },
         {
          "font": {
           "color": "rgb(67, 67, 67)",
           "family": "Arial",
           "size": 14
          },
          "showarrow": false,
          "text": "2013",
          "x": 149.33757190943123,
          "xref": "x",
          "y": 1.1,
          "yref": "paper"
         },
         {
          "font": {
           "color": "rgb(67, 67, 67)",
           "family": "Arial",
           "size": 14
          },
          "showarrow": false,
          "text": "2014",
          "x": 528.5844466268425,
          "xref": "x",
          "y": 1.1,
          "yref": "paper"
         },
         {
          "font": {
           "color": "rgb(67, 67, 67)",
           "family": "Arial",
           "size": 14
          },
          "showarrow": false,
          "text": "2015",
          "x": 1015.416413196396,
          "xref": "x",
          "y": 1.1,
          "yref": "paper"
         },
         {
          "font": {
           "color": "rgb(67, 67, 67)",
           "family": "Arial",
           "size": 14
          },
          "showarrow": false,
          "text": "2016",
          "x": 1550.896487718524,
          "xref": "x",
          "y": 1.1,
          "yref": "paper"
         },
         {
          "font": {
           "color": "rgb(67, 67, 67)",
           "family": "Arial",
           "size": 14
          },
          "showarrow": false,
          "text": "2017",
          "x": 1829.4538984790784,
          "xref": "x",
          "y": 1.1,
          "yref": "paper"
         }
        ],
        "barmode": "stack",
        "margin": {
         "b": 10,
         "l": 0,
         "r": 50,
         "t": 100
        },
        "showlegend": false,
        "template": {
         "data": {
          "bar": [
           {
            "error_x": {
             "color": "#2a3f5f"
            },
            "error_y": {
             "color": "#2a3f5f"
            },
            "marker": {
             "line": {
              "color": "white",
              "width": 0.5
             },
             "pattern": {
              "fillmode": "overlay",
              "size": 10,
              "solidity": 0.2
             }
            },
            "type": "bar"
           }
          ],
          "barpolar": [
           {
            "marker": {
             "line": {
              "color": "white",
              "width": 0.5
             },
             "pattern": {
              "fillmode": "overlay",
              "size": 10,
              "solidity": 0.2
             }
            },
            "type": "barpolar"
           }
          ],
          "carpet": [
           {
            "aaxis": {
             "endlinecolor": "#2a3f5f",
             "gridcolor": "#C8D4E3",
             "linecolor": "#C8D4E3",
             "minorgridcolor": "#C8D4E3",
             "startlinecolor": "#2a3f5f"
            },
            "baxis": {
             "endlinecolor": "#2a3f5f",
             "gridcolor": "#C8D4E3",
             "linecolor": "#C8D4E3",
             "minorgridcolor": "#C8D4E3",
             "startlinecolor": "#2a3f5f"
            },
            "type": "carpet"
           }
          ],
          "choropleth": [
           {
            "colorbar": {
             "outlinewidth": 0,
             "ticks": ""
            },
            "type": "choropleth"
           }
          ],
          "contour": [
           {
            "colorbar": {
             "outlinewidth": 0,
             "ticks": ""
            },
            "colorscale": [
             [
              0,
              "#0d0887"
             ],
             [
              0.1111111111111111,
              "#46039f"
             ],
             [
              0.2222222222222222,
              "#7201a8"
             ],
             [
              0.3333333333333333,
              "#9c179e"
             ],
             [
              0.4444444444444444,
              "#bd3786"
             ],
             [
              0.5555555555555556,
              "#d8576b"
             ],
             [
              0.6666666666666666,
              "#ed7953"
             ],
             [
              0.7777777777777778,
              "#fb9f3a"
             ],
             [
              0.8888888888888888,
              "#fdca26"
             ],
             [
              1,
              "#f0f921"
             ]
            ],
            "type": "contour"
           }
          ],
          "contourcarpet": [
           {
            "colorbar": {
             "outlinewidth": 0,
             "ticks": ""
            },
            "type": "contourcarpet"
           }
          ],
          "heatmap": [
           {
            "colorbar": {
             "outlinewidth": 0,
             "ticks": ""
            },
            "colorscale": [
             [
              0,
              "#0d0887"
             ],
             [
              0.1111111111111111,
              "#46039f"
             ],
             [
              0.2222222222222222,
              "#7201a8"
             ],
             [
              0.3333333333333333,
              "#9c179e"
             ],
             [
              0.4444444444444444,
              "#bd3786"
             ],
             [
              0.5555555555555556,
              "#d8576b"
             ],
             [
              0.6666666666666666,
              "#ed7953"
             ],
             [
              0.7777777777777778,
              "#fb9f3a"
             ],
             [
              0.8888888888888888,
              "#fdca26"
             ],
             [
              1,
              "#f0f921"
             ]
            ],
            "type": "heatmap"
           }
          ],
          "heatmapgl": [
           {
            "colorbar": {
             "outlinewidth": 0,
             "ticks": ""
            },
            "colorscale": [
             [
              0,
              "#0d0887"
             ],
             [
              0.1111111111111111,
              "#46039f"
             ],
             [
              0.2222222222222222,
              "#7201a8"
             ],
             [
              0.3333333333333333,
              "#9c179e"
             ],
             [
              0.4444444444444444,
              "#bd3786"
             ],
             [
              0.5555555555555556,
              "#d8576b"
             ],
             [
              0.6666666666666666,
              "#ed7953"
             ],
             [
              0.7777777777777778,
              "#fb9f3a"
             ],
             [
              0.8888888888888888,
              "#fdca26"
             ],
             [
              1,
              "#f0f921"
             ]
            ],
            "type": "heatmapgl"
           }
          ],
          "histogram": [
           {
            "marker": {
             "pattern": {
              "fillmode": "overlay",
              "size": 10,
              "solidity": 0.2
             }
            },
            "type": "histogram"
           }
          ],
          "histogram2d": [
           {
            "colorbar": {
             "outlinewidth": 0,
             "ticks": ""
            },
            "colorscale": [
             [
              0,
              "#0d0887"
             ],
             [
              0.1111111111111111,
              "#46039f"
             ],
             [
              0.2222222222222222,
              "#7201a8"
             ],
             [
              0.3333333333333333,
              "#9c179e"
             ],
             [
              0.4444444444444444,
              "#bd3786"
             ],
             [
              0.5555555555555556,
              "#d8576b"
             ],
             [
              0.6666666666666666,
              "#ed7953"
             ],
             [
              0.7777777777777778,
              "#fb9f3a"
             ],
             [
              0.8888888888888888,
              "#fdca26"
             ],
             [
              1,
              "#f0f921"
             ]
            ],
            "type": "histogram2d"
           }
          ],
          "histogram2dcontour": [
           {
            "colorbar": {
             "outlinewidth": 0,
             "ticks": ""
            },
            "colorscale": [
             [
              0,
              "#0d0887"
             ],
             [
              0.1111111111111111,
              "#46039f"
             ],
             [
              0.2222222222222222,
              "#7201a8"
             ],
             [
              0.3333333333333333,
              "#9c179e"
             ],
             [
              0.4444444444444444,
              "#bd3786"
             ],
             [
              0.5555555555555556,
              "#d8576b"
             ],
             [
              0.6666666666666666,
              "#ed7953"
             ],
             [
              0.7777777777777778,
              "#fb9f3a"
             ],
             [
              0.8888888888888888,
              "#fdca26"
             ],
             [
              1,
              "#f0f921"
             ]
            ],
            "type": "histogram2dcontour"
           }
          ],
          "mesh3d": [
           {
            "colorbar": {
             "outlinewidth": 0,
             "ticks": ""
            },
            "type": "mesh3d"
           }
          ],
          "parcoords": [
           {
            "line": {
             "colorbar": {
              "outlinewidth": 0,
              "ticks": ""
             }
            },
            "type": "parcoords"
           }
          ],
          "pie": [
           {
            "automargin": true,
            "type": "pie"
           }
          ],
          "scatter": [
           {
            "fillpattern": {
             "fillmode": "overlay",
             "size": 10,
             "solidity": 0.2
            },
            "type": "scatter"
           }
          ],
          "scatter3d": [
           {
            "line": {
             "colorbar": {
              "outlinewidth": 0,
              "ticks": ""
             }
            },
            "marker": {
             "colorbar": {
              "outlinewidth": 0,
              "ticks": ""
             }
            },
            "type": "scatter3d"
           }
          ],
          "scattercarpet": [
           {
            "marker": {
             "colorbar": {
              "outlinewidth": 0,
              "ticks": ""
             }
            },
            "type": "scattercarpet"
           }
          ],
          "scattergeo": [
           {
            "marker": {
             "colorbar": {
              "outlinewidth": 0,
              "ticks": ""
             }
            },
            "type": "scattergeo"
           }
          ],
          "scattergl": [
           {
            "marker": {
             "colorbar": {
              "outlinewidth": 0,
              "ticks": ""
             }
            },
            "type": "scattergl"
           }
          ],
          "scattermapbox": [
           {
            "marker": {
             "colorbar": {
              "outlinewidth": 0,
              "ticks": ""
             }
            },
            "type": "scattermapbox"
           }
          ],
          "scatterpolar": [
           {
            "marker": {
             "colorbar": {
              "outlinewidth": 0,
              "ticks": ""
             }
            },
            "type": "scatterpolar"
           }
          ],
          "scatterpolargl": [
           {
            "marker": {
             "colorbar": {
              "outlinewidth": 0,
              "ticks": ""
             }
            },
            "type": "scatterpolargl"
           }
          ],
          "scatterternary": [
           {
            "marker": {
             "colorbar": {
              "outlinewidth": 0,
              "ticks": ""
             }
            },
            "type": "scatterternary"
           }
          ],
          "surface": [
           {
            "colorbar": {
             "outlinewidth": 0,
             "ticks": ""
            },
            "colorscale": [
             [
              0,
              "#0d0887"
             ],
             [
              0.1111111111111111,
              "#46039f"
             ],
             [
              0.2222222222222222,
              "#7201a8"
             ],
             [
              0.3333333333333333,
              "#9c179e"
             ],
             [
              0.4444444444444444,
              "#bd3786"
             ],
             [
              0.5555555555555556,
              "#d8576b"
             ],
             [
              0.6666666666666666,
              "#ed7953"
             ],
             [
              0.7777777777777778,
              "#fb9f3a"
             ],
             [
              0.8888888888888888,
              "#fdca26"
             ],
             [
              1,
              "#f0f921"
             ]
            ],
            "type": "surface"
           }
          ],
          "table": [
           {
            "cells": {
             "fill": {
              "color": "#EBF0F8"
             },
             "line": {
              "color": "white"
             }
            },
            "header": {
             "fill": {
              "color": "#C8D4E3"
             },
             "line": {
              "color": "white"
             }
            },
            "type": "table"
           }
          ]
         },
         "layout": {
          "annotationdefaults": {
           "arrowcolor": "#2a3f5f",
           "arrowhead": 0,
           "arrowwidth": 1
          },
          "autotypenumbers": "strict",
          "coloraxis": {
           "colorbar": {
            "outlinewidth": 0,
            "ticks": ""
           }
          },
          "colorscale": {
           "diverging": [
            [
             0,
             "#8e0152"
            ],
            [
             0.1,
             "#c51b7d"
            ],
            [
             0.2,
             "#de77ae"
            ],
            [
             0.3,
             "#f1b6da"
            ],
            [
             0.4,
             "#fde0ef"
            ],
            [
             0.5,
             "#f7f7f7"
            ],
            [
             0.6,
             "#e6f5d0"
            ],
            [
             0.7,
             "#b8e186"
            ],
            [
             0.8,
             "#7fbc41"
            ],
            [
             0.9,
             "#4d9221"
            ],
            [
             1,
             "#276419"
            ]
           ],
           "sequential": [
            [
             0,
             "#0d0887"
            ],
            [
             0.1111111111111111,
             "#46039f"
            ],
            [
             0.2222222222222222,
             "#7201a8"
            ],
            [
             0.3333333333333333,
             "#9c179e"
            ],
            [
             0.4444444444444444,
             "#bd3786"
            ],
            [
             0.5555555555555556,
             "#d8576b"
            ],
            [
             0.6666666666666666,
             "#ed7953"
            ],
            [
             0.7777777777777778,
             "#fb9f3a"
            ],
            [
             0.8888888888888888,
             "#fdca26"
            ],
            [
             1,
             "#f0f921"
            ]
           ],
           "sequentialminus": [
            [
             0,
             "#0d0887"
            ],
            [
             0.1111111111111111,
             "#46039f"
            ],
            [
             0.2222222222222222,
             "#7201a8"
            ],
            [
             0.3333333333333333,
             "#9c179e"
            ],
            [
             0.4444444444444444,
             "#bd3786"
            ],
            [
             0.5555555555555556,
             "#d8576b"
            ],
            [
             0.6666666666666666,
             "#ed7953"
            ],
            [
             0.7777777777777778,
             "#fb9f3a"
            ],
            [
             0.8888888888888888,
             "#fdca26"
            ],
            [
             1,
             "#f0f921"
            ]
           ]
          },
          "colorway": [
           "#636efa",
           "#EF553B",
           "#00cc96",
           "#ab63fa",
           "#FFA15A",
           "#19d3f3",
           "#FF6692",
           "#B6E880",
           "#FF97FF",
           "#FECB52"
          ],
          "font": {
           "color": "#2a3f5f"
          },
          "geo": {
           "bgcolor": "white",
           "lakecolor": "white",
           "landcolor": "white",
           "showlakes": true,
           "showland": true,
           "subunitcolor": "#C8D4E3"
          },
          "hoverlabel": {
           "align": "left"
          },
          "hovermode": "closest",
          "mapbox": {
           "style": "light"
          },
          "paper_bgcolor": "white",
          "plot_bgcolor": "white",
          "polar": {
           "angularaxis": {
            "gridcolor": "#EBF0F8",
            "linecolor": "#EBF0F8",
            "ticks": ""
           },
           "bgcolor": "white",
           "radialaxis": {
            "gridcolor": "#EBF0F8",
            "linecolor": "#EBF0F8",
            "ticks": ""
           }
          },
          "scene": {
           "xaxis": {
            "backgroundcolor": "white",
            "gridcolor": "#DFE8F3",
            "gridwidth": 2,
            "linecolor": "#EBF0F8",
            "showbackground": true,
            "ticks": "",
            "zerolinecolor": "#EBF0F8"
           },
           "yaxis": {
            "backgroundcolor": "white",
            "gridcolor": "#DFE8F3",
            "gridwidth": 2,
            "linecolor": "#EBF0F8",
            "showbackground": true,
            "ticks": "",
            "zerolinecolor": "#EBF0F8"
           },
           "zaxis": {
            "backgroundcolor": "white",
            "gridcolor": "#DFE8F3",
            "gridwidth": 2,
            "linecolor": "#EBF0F8",
            "showbackground": true,
            "ticks": "",
            "zerolinecolor": "#EBF0F8"
           }
          },
          "shapedefaults": {
           "line": {
            "color": "#2a3f5f"
           }
          },
          "ternary": {
           "aaxis": {
            "gridcolor": "#DFE8F3",
            "linecolor": "#A2B1C6",
            "ticks": ""
           },
           "baxis": {
            "gridcolor": "#DFE8F3",
            "linecolor": "#A2B1C6",
            "ticks": ""
           },
           "bgcolor": "white",
           "caxis": {
            "gridcolor": "#DFE8F3",
            "linecolor": "#A2B1C6",
            "ticks": ""
           }
          },
          "title": {
           "x": 0.05
          },
          "xaxis": {
           "automargin": true,
           "gridcolor": "#EBF0F8",
           "linecolor": "#EBF0F8",
           "ticks": "",
           "title": {
            "standoff": 15
           },
           "zerolinecolor": "#EBF0F8",
           "zerolinewidth": 2
          },
          "yaxis": {
           "automargin": true,
           "gridcolor": "#EBF0F8",
           "linecolor": "#EBF0F8",
           "ticks": "",
           "title": {
            "standoff": 15
           },
           "zerolinecolor": "#EBF0F8",
           "zerolinewidth": 2
          }
         }
        },
        "title": {
         "text": "Avg Sales for each Year"
        },
        "xaxis": {
         "domain": [
          0.15,
          1
         ],
         "showgrid": false,
         "zeroline": false
        },
        "yaxis": {
         "showgrid": false,
         "showline": false,
         "showticklabels": false,
         "zeroline": false
        }
       }
      },
      "text/html": [
       "<div>                            <div id=\"b4c6a1a5-c8cd-4ef4-9124-0b308accb84d\" class=\"plotly-graph-div\" style=\"height:525px; width:100%;\"></div>            <script type=\"text/javascript\">                require([\"plotly\"], function(Plotly) {                    window.PLOTLYENV=window.PLOTLYENV || {};                                    if (document.getElementById(\"b4c6a1a5-c8cd-4ef4-9124-0b308accb84d\")) {                    Plotly.newPlot(                        \"b4c6a1a5-c8cd-4ef4-9124-0b308accb84d\",                        [{\"marker\":{\"color\":\"rgba(38, 24, 74, 0.8)\",\"line\":{\"color\":\"rgb(248, 248, 249)\",\"width\":1}},\"orientation\":\"h\",\"x\":[186.95240463613735],\"y\":[\"Jan\"],\"type\":\"bar\"},{\"marker\":{\"color\":\"rgba(38, 24, 74, 0.8)\",\"line\":{\"color\":\"rgb(248, 248, 249)\",\"width\":1}},\"orientation\":\"h\",\"x\":[193.581845787975],\"y\":[\"Feb\"],\"type\":\"bar\"},{\"marker\":{\"color\":\"rgba(38, 24, 74, 0.8)\",\"line\":{\"color\":\"rgb(248, 248, 249)\",\"width\":1}},\"orientation\":\"h\",\"x\":[206.88058067208826],\"y\":[\"Mar\"],\"type\":\"bar\"},{\"marker\":{\"color\":\"rgba(38, 24, 74, 0.8)\",\"line\":{\"color\":\"rgb(248, 248, 249)\",\"width\":1}},\"orientation\":\"h\",\"x\":[205.63907104399178],\"y\":[\"Apr\"],\"type\":\"bar\"},{\"marker\":{\"color\":\"rgba(38, 24, 74, 0.8)\",\"line\":{\"color\":\"rgb(248, 248, 249)\",\"width\":1}},\"orientation\":\"h\",\"x\":[210.1845628514538],\"y\":[\"May\"],\"type\":\"bar\"},{\"marker\":{\"color\":\"rgba(38, 24, 74, 0.8)\",\"line\":{\"color\":\"rgb(248, 248, 249)\",\"width\":1}},\"orientation\":\"h\",\"x\":[215.6913426341821],\"y\":[\"Jun\"],\"type\":\"bar\"},{\"marker\":{\"color\":\"rgba(38, 24, 74, 0.8)\",\"line\":{\"color\":\"rgb(248, 248, 249)\",\"width\":1}},\"orientation\":\"h\",\"x\":[203.9834547844732],\"y\":[\"Jul\"],\"type\":\"bar\"},{\"marker\":{\"color\":\"rgba(38, 24, 74, 0.8)\",\"line\":{\"color\":\"rgb(248, 248, 249)\",\"width\":1}},\"orientation\":\"h\",\"x\":[212.47943447870642],\"y\":[\"Aug\"],\"type\":\"bar\"},{\"marker\":{\"color\":\"rgba(38, 24, 74, 0.8)\",\"line\":{\"color\":\"rgb(248, 248, 249)\",\"width\":1}},\"orientation\":\"h\",\"x\":[220.59358832525066],\"y\":[\"Sep\"],\"type\":\"bar\"},{\"marker\":{\"color\":\"rgba(38, 24, 74, 0.8)\",\"line\":{\"color\":\"rgb(248, 248, 249)\",\"width\":1}},\"orientation\":\"h\",\"x\":[213.1642656044151],\"y\":[\"Oct\"],\"type\":\"bar\"},{\"marker\":{\"color\":\"rgba(38, 24, 74, 0.8)\",\"line\":{\"color\":\"rgb(248, 248, 249)\",\"width\":1}},\"orientation\":\"h\",\"x\":[231.13653746700524],\"y\":[\"Nov\"],\"type\":\"bar\"},{\"marker\":{\"color\":\"rgba(38, 24, 74, 0.8)\",\"line\":{\"color\":\"rgb(248, 248, 249)\",\"width\":1}},\"orientation\":\"h\",\"x\":[298.67514381886247],\"y\":[\"Dec\"],\"type\":\"bar\"},{\"marker\":{\"color\":\"rgba(71, 58, 131, 0.8)\",\"line\":{\"color\":\"rgb(248, 248, 249)\",\"width\":1}},\"orientation\":\"h\",\"x\":[342.3417092321676],\"y\":[\"Jan\"],\"type\":\"bar\"},{\"marker\":{\"color\":\"rgba(71, 58, 131, 0.8)\",\"line\":{\"color\":\"rgb(248, 248, 249)\",\"width\":1}},\"orientation\":\"h\",\"x\":[241.26889197487372],\"y\":[\"Feb\"],\"type\":\"bar\"},{\"marker\":{\"color\":\"rgba(71, 58, 131, 0.8)\",\"line\":{\"color\":\"rgb(248, 248, 249)\",\"width\":1}},\"orientation\":\"h\",\"x\":[368.66123631434414],\"y\":[\"Mar\"],\"type\":\"bar\"},{\"marker\":{\"color\":\"rgba(71, 58, 131, 0.8)\",\"line\":{\"color\":\"rgb(248, 248, 249)\",\"width\":1}},\"orientation\":\"h\",\"x\":[240.57708674054246],\"y\":[\"Apr\"],\"type\":\"bar\"},{\"marker\":{\"color\":\"rgba(71, 58, 131, 0.8)\",\"line\":{\"color\":\"rgb(248, 248, 249)\",\"width\":1}},\"orientation\":\"h\",\"x\":[242.20312916254844],\"y\":[\"May\"],\"type\":\"bar\"},{\"marker\":{\"color\":\"rgba(71, 58, 131, 0.8)\",\"line\":{\"color\":\"rgb(248, 248, 249)\",\"width\":1}},\"orientation\":\"h\",\"x\":[244.63465236629935],\"y\":[\"Jun\"],\"type\":\"bar\"},{\"marker\":{\"color\":\"rgba(71, 58, 131, 0.8)\",\"line\":{\"color\":\"rgb(248, 248, 249)\",\"width\":1}},\"orientation\":\"h\",\"x\":[350.8301024939429],\"y\":[\"Jul\"],\"type\":\"bar\"},{\"marker\":{\"color\":\"rgba(71, 58, 131, 0.8)\",\"line\":{\"color\":\"rgb(248, 248, 249)\",\"width\":1}},\"orientation\":\"h\",\"x\":[251.35180513113573],\"y\":[\"Aug\"],\"type\":\"bar\"},{\"marker\":{\"color\":\"rgba(71, 58, 131, 0.8)\",\"line\":{\"color\":\"rgb(248, 248, 249)\",\"width\":1}},\"orientation\":\"h\",\"x\":[374.53079150410775],\"y\":[\"Sep\"],\"type\":\"bar\"},{\"marker\":{\"color\":\"rgba(71, 58, 131, 0.8)\",\"line\":{\"color\":\"rgb(248, 248, 249)\",\"width\":1}},\"orientation\":\"h\",\"x\":[369.21366558374245],\"y\":[\"Oct\"],\"type\":\"bar\"},{\"marker\":{\"color\":\"rgba(71, 58, 131, 0.8)\",\"line\":{\"color\":\"rgb(248, 248, 249)\",\"width\":1}},\"orientation\":\"h\",\"x\":[384.05602700417506],\"y\":[\"Nov\"],\"type\":\"bar\"},{\"marker\":{\"color\":\"rgba(71, 58, 131, 0.8)\",\"line\":{\"color\":\"rgb(248, 248, 249)\",\"width\":1}},\"orientation\":\"h\",\"x\":[459.81860561595994],\"y\":[\"Dec\"],\"type\":\"bar\"},{\"marker\":{\"color\":\"rgba(122, 120, 168, 0.8)\",\"line\":{\"color\":\"rgb(248, 248, 249)\",\"width\":1}},\"orientation\":\"h\",\"x\":[269.666595293409],\"y\":[\"Jan\"],\"type\":\"bar\"},{\"marker\":{\"color\":\"rgba(122, 120, 168, 0.8)\",\"line\":{\"color\":\"rgb(248, 248, 249)\",\"width\":1}},\"orientation\":\"h\",\"x\":[275.42079221543213],\"y\":[\"Feb\"],\"type\":\"bar\"},{\"marker\":{\"color\":\"rgba(122, 120, 168, 0.8)\",\"line\":{\"color\":\"rgb(248, 248, 249)\",\"width\":1}},\"orientation\":\"h\",\"x\":[282.3686238433674],\"y\":[\"Mar\"],\"type\":\"bar\"},{\"marker\":{\"color\":\"rgba(122, 120, 168, 0.8)\",\"line\":{\"color\":\"rgb(248, 248, 249)\",\"width\":1}},\"orientation\":\"h\",\"x\":[279.74313824869995],\"y\":[\"Apr\"],\"type\":\"bar\"},{\"marker\":{\"color\":\"rgba(122, 120, 168, 0.8)\",\"line\":{\"color\":\"rgb(248, 248, 249)\",\"width\":1}},\"orientation\":\"h\",\"x\":[320.9581160042902],\"y\":[\"May\"],\"type\":\"bar\"},{\"marker\":{\"color\":\"rgba(122, 120, 168, 0.8)\",\"line\":{\"color\":\"rgb(248, 248, 249)\",\"width\":1}},\"orientation\":\"h\",\"x\":[397.24961881026763],\"y\":[\"Jun\"],\"type\":\"bar\"},{\"marker\":{\"color\":\"rgba(122, 120, 168, 0.8)\",\"line\":{\"color\":\"rgb(248, 248, 249)\",\"width\":1}},\"orientation\":\"h\",\"x\":[403.0301703258084],\"y\":[\"Jul\"],\"type\":\"bar\"},{\"marker\":{\"color\":\"rgba(122, 120, 168, 0.8)\",\"line\":{\"color\":\"rgb(248, 248, 249)\",\"width\":1}},\"orientation\":\"h\",\"x\":[415.692303705179],\"y\":[\"Aug\"],\"type\":\"bar\"},{\"marker\":{\"color\":\"rgba(122, 120, 168, 0.8)\",\"line\":{\"color\":\"rgb(248, 248, 249)\",\"width\":1}},\"orientation\":\"h\",\"x\":[434.7340530847587],\"y\":[\"Sep\"],\"type\":\"bar\"},{\"marker\":{\"color\":\"rgba(122, 120, 168, 0.8)\",\"line\":{\"color\":\"rgb(248, 248, 249)\",\"width\":1}},\"orientation\":\"h\",\"x\":[432.2484280902592],\"y\":[\"Oct\"],\"type\":\"bar\"},{\"marker\":{\"color\":\"rgba(122, 120, 168, 0.8)\",\"line\":{\"color\":\"rgb(248, 248, 249)\",\"width\":1}},\"orientation\":\"h\",\"x\":[426.57974875067714],\"y\":[\"Nov\"],\"type\":\"bar\"},{\"marker\":{\"color\":\"rgba(122, 120, 168, 0.8)\",\"line\":{\"color\":\"rgb(248, 248, 249)\",\"width\":1}},\"orientation\":\"h\",\"x\":[513.8453275231473],\"y\":[\"Dec\"],\"type\":\"bar\"},{\"marker\":{\"color\":\"rgba(164, 163, 204, 0.85)\",\"line\":{\"color\":\"rgb(248, 248, 249)\",\"width\":1}},\"orientation\":\"h\",\"x\":[434.0502676484215],\"y\":[\"Jan\"],\"type\":\"bar\"},{\"marker\":{\"color\":\"rgba(164, 163, 204, 0.85)\",\"line\":{\"color\":\"rgb(248, 248, 249)\",\"width\":1}},\"orientation\":\"h\",\"x\":[424.69539844813653],\"y\":[\"Feb\"],\"type\":\"bar\"},{\"marker\":{\"color\":\"rgba(164, 163, 204, 0.85)\",\"line\":{\"color\":\"rgb(248, 248, 249)\",\"width\":1}},\"orientation\":\"h\",\"x\":[418.7353984978802],\"y\":[\"Mar\"],\"type\":\"bar\"},{\"marker\":{\"color\":\"rgba(164, 163, 204, 0.85)\",\"line\":{\"color\":\"rgb(248, 248, 249)\",\"width\":1}},\"orientation\":\"h\",\"x\":[488.1087737795554],\"y\":[\"Apr\"],\"type\":\"bar\"},{\"marker\":{\"color\":\"rgba(164, 163, 204, 0.85)\",\"line\":{\"color\":\"rgb(248, 248, 249)\",\"width\":1}},\"orientation\":\"h\",\"x\":[457.6713979467484],\"y\":[\"May\"],\"type\":\"bar\"},{\"marker\":{\"color\":\"rgba(164, 163, 204, 0.85)\",\"line\":{\"color\":\"rgb(248, 248, 249)\",\"width\":1}},\"orientation\":\"h\",\"x\":[419.64457509660144],\"y\":[\"Jun\"],\"type\":\"bar\"},{\"marker\":{\"color\":\"rgba(164, 163, 204, 0.85)\",\"line\":{\"color\":\"rgb(248, 248, 249)\",\"width\":1}},\"orientation\":\"h\",\"x\":[432.56221846394243],\"y\":[\"Jul\"],\"type\":\"bar\"},{\"marker\":{\"color\":\"rgba(164, 163, 204, 0.85)\",\"line\":{\"color\":\"rgb(248, 248, 249)\",\"width\":1}},\"orientation\":\"h\",\"x\":[406.437390353262],\"y\":[\"Aug\"],\"type\":\"bar\"},{\"marker\":{\"color\":\"rgba(164, 163, 204, 0.85)\",\"line\":{\"color\":\"rgb(248, 248, 249)\",\"width\":1}},\"orientation\":\"h\",\"x\":[419.33124012339505],\"y\":[\"Sep\"],\"type\":\"bar\"},{\"marker\":{\"color\":\"rgba(164, 163, 204, 0.85)\",\"line\":{\"color\":\"rgb(248, 248, 249)\",\"width\":1}},\"orientation\":\"h\",\"x\":[435.00216893472356],\"y\":[\"Oct\"],\"type\":\"bar\"},{\"marker\":{\"color\":\"rgba(164, 163, 204, 0.85)\",\"line\":{\"color\":\"rgb(248, 248, 249)\",\"width\":1}},\"orientation\":\"h\",\"x\":[462.9166751626751],\"y\":[\"Nov\"],\"type\":\"bar\"},{\"marker\":{\"color\":\"rgba(164, 163, 204, 0.85)\",\"line\":{\"color\":\"rgb(248, 248, 249)\",\"width\":1}},\"orientation\":\"h\",\"x\":[557.1148215211089],\"y\":[\"Dec\"],\"type\":\"bar\"},{\"marker\":{\"color\":\"rgba(190, 192, 213, 1)\",\"line\":{\"color\":\"rgb(248, 248, 249)\",\"width\":1}},\"orientation\":\"h\",\"x\":[476.5967911318399],\"y\":[\"Jan\"],\"type\":\"bar\"},{\"marker\":{\"color\":\"rgba(190, 192, 213, 1)\",\"line\":{\"color\":\"rgb(248, 248, 249)\",\"width\":1}},\"orientation\":\"h\",\"x\":[465.9714681524932],\"y\":[\"Feb\"],\"type\":\"bar\"},{\"marker\":{\"color\":\"rgba(190, 192, 213, 1)\",\"line\":{\"color\":\"rgb(248, 248, 249)\",\"width\":1}},\"orientation\":\"h\",\"x\":[483.4006316005811],\"y\":[\"Mar\"],\"type\":\"bar\"},{\"marker\":{\"color\":\"rgba(190, 192, 213, 1)\",\"line\":{\"color\":\"rgb(248, 248, 249)\",\"width\":1}},\"orientation\":\"h\",\"x\":[482.1729476916857],\"y\":[\"Apr\"],\"type\":\"bar\"},{\"marker\":{\"color\":\"rgba(190, 192, 213, 1)\",\"line\":{\"color\":\"rgb(248, 248, 249)\",\"width\":1}},\"orientation\":\"h\",\"x\":[487.1627973388545],\"y\":[\"May\"],\"type\":\"bar\"},{\"marker\":{\"color\":\"rgba(190, 192, 213, 1)\",\"line\":{\"color\":\"rgb(248, 248, 249)\",\"width\":1}},\"orientation\":\"h\",\"x\":[488.707278377904],\"y\":[\"Jun\"],\"type\":\"bar\"},{\"marker\":{\"color\":\"rgba(190, 192, 213, 1)\",\"line\":{\"color\":\"rgb(248, 248, 249)\",\"width\":1}},\"orientation\":\"h\",\"x\":[489.9098796058975],\"y\":[\"Jul\"],\"type\":\"bar\"},{\"marker\":{\"color\":\"rgba(190, 192, 213, 1)\",\"line\":{\"color\":\"rgb(248, 248, 249)\",\"width\":1}},\"orientation\":\"h\",\"x\":[465.14489116264497],\"y\":[\"Aug\"],\"type\":\"bar\"},{\"marker\":{\"color\":\"rgba(190, 192, 213, 1)\",\"line\":{\"color\":\"rgb(248, 248, 249)\",\"width\":1}},\"orientation\":\"h\",\"x\":[0.0],\"y\":[\"Sep\"],\"type\":\"bar\"},{\"marker\":{\"color\":\"rgba(190, 192, 213, 1)\",\"line\":{\"color\":\"rgb(248, 248, 249)\",\"width\":1}},\"orientation\":\"h\",\"x\":[0.0],\"y\":[\"Oct\"],\"type\":\"bar\"},{\"marker\":{\"color\":\"rgba(190, 192, 213, 1)\",\"line\":{\"color\":\"rgb(248, 248, 249)\",\"width\":1}},\"orientation\":\"h\",\"x\":[0.0],\"y\":[\"Nov\"],\"type\":\"bar\"},{\"marker\":{\"color\":\"rgba(190, 192, 213, 1)\",\"line\":{\"color\":\"rgb(248, 248, 249)\",\"width\":1}},\"orientation\":\"h\",\"x\":[0.0],\"y\":[\"Dec\"],\"type\":\"bar\"}],                        {\"template\":{\"data\":{\"barpolar\":[{\"marker\":{\"line\":{\"color\":\"white\",\"width\":0.5},\"pattern\":{\"fillmode\":\"overlay\",\"size\":10,\"solidity\":0.2}},\"type\":\"barpolar\"}],\"bar\":[{\"error_x\":{\"color\":\"#2a3f5f\"},\"error_y\":{\"color\":\"#2a3f5f\"},\"marker\":{\"line\":{\"color\":\"white\",\"width\":0.5},\"pattern\":{\"fillmode\":\"overlay\",\"size\":10,\"solidity\":0.2}},\"type\":\"bar\"}],\"carpet\":[{\"aaxis\":{\"endlinecolor\":\"#2a3f5f\",\"gridcolor\":\"#C8D4E3\",\"linecolor\":\"#C8D4E3\",\"minorgridcolor\":\"#C8D4E3\",\"startlinecolor\":\"#2a3f5f\"},\"baxis\":{\"endlinecolor\":\"#2a3f5f\",\"gridcolor\":\"#C8D4E3\",\"linecolor\":\"#C8D4E3\",\"minorgridcolor\":\"#C8D4E3\",\"startlinecolor\":\"#2a3f5f\"},\"type\":\"carpet\"}],\"choropleth\":[{\"colorbar\":{\"outlinewidth\":0,\"ticks\":\"\"},\"type\":\"choropleth\"}],\"contourcarpet\":[{\"colorbar\":{\"outlinewidth\":0,\"ticks\":\"\"},\"type\":\"contourcarpet\"}],\"contour\":[{\"colorbar\":{\"outlinewidth\":0,\"ticks\":\"\"},\"colorscale\":[[0.0,\"#0d0887\"],[0.1111111111111111,\"#46039f\"],[0.2222222222222222,\"#7201a8\"],[0.3333333333333333,\"#9c179e\"],[0.4444444444444444,\"#bd3786\"],[0.5555555555555556,\"#d8576b\"],[0.6666666666666666,\"#ed7953\"],[0.7777777777777778,\"#fb9f3a\"],[0.8888888888888888,\"#fdca26\"],[1.0,\"#f0f921\"]],\"type\":\"contour\"}],\"heatmapgl\":[{\"colorbar\":{\"outlinewidth\":0,\"ticks\":\"\"},\"colorscale\":[[0.0,\"#0d0887\"],[0.1111111111111111,\"#46039f\"],[0.2222222222222222,\"#7201a8\"],[0.3333333333333333,\"#9c179e\"],[0.4444444444444444,\"#bd3786\"],[0.5555555555555556,\"#d8576b\"],[0.6666666666666666,\"#ed7953\"],[0.7777777777777778,\"#fb9f3a\"],[0.8888888888888888,\"#fdca26\"],[1.0,\"#f0f921\"]],\"type\":\"heatmapgl\"}],\"heatmap\":[{\"colorbar\":{\"outlinewidth\":0,\"ticks\":\"\"},\"colorscale\":[[0.0,\"#0d0887\"],[0.1111111111111111,\"#46039f\"],[0.2222222222222222,\"#7201a8\"],[0.3333333333333333,\"#9c179e\"],[0.4444444444444444,\"#bd3786\"],[0.5555555555555556,\"#d8576b\"],[0.6666666666666666,\"#ed7953\"],[0.7777777777777778,\"#fb9f3a\"],[0.8888888888888888,\"#fdca26\"],[1.0,\"#f0f921\"]],\"type\":\"heatmap\"}],\"histogram2dcontour\":[{\"colorbar\":{\"outlinewidth\":0,\"ticks\":\"\"},\"colorscale\":[[0.0,\"#0d0887\"],[0.1111111111111111,\"#46039f\"],[0.2222222222222222,\"#7201a8\"],[0.3333333333333333,\"#9c179e\"],[0.4444444444444444,\"#bd3786\"],[0.5555555555555556,\"#d8576b\"],[0.6666666666666666,\"#ed7953\"],[0.7777777777777778,\"#fb9f3a\"],[0.8888888888888888,\"#fdca26\"],[1.0,\"#f0f921\"]],\"type\":\"histogram2dcontour\"}],\"histogram2d\":[{\"colorbar\":{\"outlinewidth\":0,\"ticks\":\"\"},\"colorscale\":[[0.0,\"#0d0887\"],[0.1111111111111111,\"#46039f\"],[0.2222222222222222,\"#7201a8\"],[0.3333333333333333,\"#9c179e\"],[0.4444444444444444,\"#bd3786\"],[0.5555555555555556,\"#d8576b\"],[0.6666666666666666,\"#ed7953\"],[0.7777777777777778,\"#fb9f3a\"],[0.8888888888888888,\"#fdca26\"],[1.0,\"#f0f921\"]],\"type\":\"histogram2d\"}],\"histogram\":[{\"marker\":{\"pattern\":{\"fillmode\":\"overlay\",\"size\":10,\"solidity\":0.2}},\"type\":\"histogram\"}],\"mesh3d\":[{\"colorbar\":{\"outlinewidth\":0,\"ticks\":\"\"},\"type\":\"mesh3d\"}],\"parcoords\":[{\"line\":{\"colorbar\":{\"outlinewidth\":0,\"ticks\":\"\"}},\"type\":\"parcoords\"}],\"pie\":[{\"automargin\":true,\"type\":\"pie\"}],\"scatter3d\":[{\"line\":{\"colorbar\":{\"outlinewidth\":0,\"ticks\":\"\"}},\"marker\":{\"colorbar\":{\"outlinewidth\":0,\"ticks\":\"\"}},\"type\":\"scatter3d\"}],\"scattercarpet\":[{\"marker\":{\"colorbar\":{\"outlinewidth\":0,\"ticks\":\"\"}},\"type\":\"scattercarpet\"}],\"scattergeo\":[{\"marker\":{\"colorbar\":{\"outlinewidth\":0,\"ticks\":\"\"}},\"type\":\"scattergeo\"}],\"scattergl\":[{\"marker\":{\"colorbar\":{\"outlinewidth\":0,\"ticks\":\"\"}},\"type\":\"scattergl\"}],\"scattermapbox\":[{\"marker\":{\"colorbar\":{\"outlinewidth\":0,\"ticks\":\"\"}},\"type\":\"scattermapbox\"}],\"scatterpolargl\":[{\"marker\":{\"colorbar\":{\"outlinewidth\":0,\"ticks\":\"\"}},\"type\":\"scatterpolargl\"}],\"scatterpolar\":[{\"marker\":{\"colorbar\":{\"outlinewidth\":0,\"ticks\":\"\"}},\"type\":\"scatterpolar\"}],\"scatter\":[{\"fillpattern\":{\"fillmode\":\"overlay\",\"size\":10,\"solidity\":0.2},\"type\":\"scatter\"}],\"scatterternary\":[{\"marker\":{\"colorbar\":{\"outlinewidth\":0,\"ticks\":\"\"}},\"type\":\"scatterternary\"}],\"surface\":[{\"colorbar\":{\"outlinewidth\":0,\"ticks\":\"\"},\"colorscale\":[[0.0,\"#0d0887\"],[0.1111111111111111,\"#46039f\"],[0.2222222222222222,\"#7201a8\"],[0.3333333333333333,\"#9c179e\"],[0.4444444444444444,\"#bd3786\"],[0.5555555555555556,\"#d8576b\"],[0.6666666666666666,\"#ed7953\"],[0.7777777777777778,\"#fb9f3a\"],[0.8888888888888888,\"#fdca26\"],[1.0,\"#f0f921\"]],\"type\":\"surface\"}],\"table\":[{\"cells\":{\"fill\":{\"color\":\"#EBF0F8\"},\"line\":{\"color\":\"white\"}},\"header\":{\"fill\":{\"color\":\"#C8D4E3\"},\"line\":{\"color\":\"white\"}},\"type\":\"table\"}]},\"layout\":{\"annotationdefaults\":{\"arrowcolor\":\"#2a3f5f\",\"arrowhead\":0,\"arrowwidth\":1},\"autotypenumbers\":\"strict\",\"coloraxis\":{\"colorbar\":{\"outlinewidth\":0,\"ticks\":\"\"}},\"colorscale\":{\"diverging\":[[0,\"#8e0152\"],[0.1,\"#c51b7d\"],[0.2,\"#de77ae\"],[0.3,\"#f1b6da\"],[0.4,\"#fde0ef\"],[0.5,\"#f7f7f7\"],[0.6,\"#e6f5d0\"],[0.7,\"#b8e186\"],[0.8,\"#7fbc41\"],[0.9,\"#4d9221\"],[1,\"#276419\"]],\"sequential\":[[0.0,\"#0d0887\"],[0.1111111111111111,\"#46039f\"],[0.2222222222222222,\"#7201a8\"],[0.3333333333333333,\"#9c179e\"],[0.4444444444444444,\"#bd3786\"],[0.5555555555555556,\"#d8576b\"],[0.6666666666666666,\"#ed7953\"],[0.7777777777777778,\"#fb9f3a\"],[0.8888888888888888,\"#fdca26\"],[1.0,\"#f0f921\"]],\"sequentialminus\":[[0.0,\"#0d0887\"],[0.1111111111111111,\"#46039f\"],[0.2222222222222222,\"#7201a8\"],[0.3333333333333333,\"#9c179e\"],[0.4444444444444444,\"#bd3786\"],[0.5555555555555556,\"#d8576b\"],[0.6666666666666666,\"#ed7953\"],[0.7777777777777778,\"#fb9f3a\"],[0.8888888888888888,\"#fdca26\"],[1.0,\"#f0f921\"]]},\"colorway\":[\"#636efa\",\"#EF553B\",\"#00cc96\",\"#ab63fa\",\"#FFA15A\",\"#19d3f3\",\"#FF6692\",\"#B6E880\",\"#FF97FF\",\"#FECB52\"],\"font\":{\"color\":\"#2a3f5f\"},\"geo\":{\"bgcolor\":\"white\",\"lakecolor\":\"white\",\"landcolor\":\"white\",\"showlakes\":true,\"showland\":true,\"subunitcolor\":\"#C8D4E3\"},\"hoverlabel\":{\"align\":\"left\"},\"hovermode\":\"closest\",\"mapbox\":{\"style\":\"light\"},\"paper_bgcolor\":\"white\",\"plot_bgcolor\":\"white\",\"polar\":{\"angularaxis\":{\"gridcolor\":\"#EBF0F8\",\"linecolor\":\"#EBF0F8\",\"ticks\":\"\"},\"bgcolor\":\"white\",\"radialaxis\":{\"gridcolor\":\"#EBF0F8\",\"linecolor\":\"#EBF0F8\",\"ticks\":\"\"}},\"scene\":{\"xaxis\":{\"backgroundcolor\":\"white\",\"gridcolor\":\"#DFE8F3\",\"gridwidth\":2,\"linecolor\":\"#EBF0F8\",\"showbackground\":true,\"ticks\":\"\",\"zerolinecolor\":\"#EBF0F8\"},\"yaxis\":{\"backgroundcolor\":\"white\",\"gridcolor\":\"#DFE8F3\",\"gridwidth\":2,\"linecolor\":\"#EBF0F8\",\"showbackground\":true,\"ticks\":\"\",\"zerolinecolor\":\"#EBF0F8\"},\"zaxis\":{\"backgroundcolor\":\"white\",\"gridcolor\":\"#DFE8F3\",\"gridwidth\":2,\"linecolor\":\"#EBF0F8\",\"showbackground\":true,\"ticks\":\"\",\"zerolinecolor\":\"#EBF0F8\"}},\"shapedefaults\":{\"line\":{\"color\":\"#2a3f5f\"}},\"ternary\":{\"aaxis\":{\"gridcolor\":\"#DFE8F3\",\"linecolor\":\"#A2B1C6\",\"ticks\":\"\"},\"baxis\":{\"gridcolor\":\"#DFE8F3\",\"linecolor\":\"#A2B1C6\",\"ticks\":\"\"},\"bgcolor\":\"white\",\"caxis\":{\"gridcolor\":\"#DFE8F3\",\"linecolor\":\"#A2B1C6\",\"ticks\":\"\"}},\"title\":{\"x\":0.05},\"xaxis\":{\"automargin\":true,\"gridcolor\":\"#EBF0F8\",\"linecolor\":\"#EBF0F8\",\"ticks\":\"\",\"title\":{\"standoff\":15},\"zerolinecolor\":\"#EBF0F8\",\"zerolinewidth\":2},\"yaxis\":{\"automargin\":true,\"gridcolor\":\"#EBF0F8\",\"linecolor\":\"#EBF0F8\",\"ticks\":\"\",\"title\":{\"standoff\":15},\"zerolinecolor\":\"#EBF0F8\",\"zerolinewidth\":2}}},\"xaxis\":{\"showgrid\":false,\"zeroline\":false,\"domain\":[0.15,1]},\"yaxis\":{\"showgrid\":false,\"showline\":false,\"showticklabels\":false,\"zeroline\":false},\"margin\":{\"l\":0,\"r\":50,\"t\":100,\"b\":10},\"title\":{\"text\":\"Avg Sales for each Year\"},\"barmode\":\"stack\",\"showlegend\":false,\"annotations\":[{\"align\":\"right\",\"font\":{\"color\":\"rgb(67, 67, 67)\",\"family\":\"Arial\",\"size\":14},\"showarrow\":false,\"text\":\"Jan\",\"x\":0.14,\"xanchor\":\"right\",\"xref\":\"paper\",\"y\":\"Jan\",\"yref\":\"y\"},{\"align\":\"right\",\"font\":{\"color\":\"rgb(67, 67, 67)\",\"family\":\"Arial\",\"size\":14},\"showarrow\":false,\"text\":\"Feb\",\"x\":0.14,\"xanchor\":\"right\",\"xref\":\"paper\",\"y\":\"Feb\",\"yref\":\"y\"},{\"align\":\"right\",\"font\":{\"color\":\"rgb(67, 67, 67)\",\"family\":\"Arial\",\"size\":14},\"showarrow\":false,\"text\":\"Mar\",\"x\":0.14,\"xanchor\":\"right\",\"xref\":\"paper\",\"y\":\"Mar\",\"yref\":\"y\"},{\"align\":\"right\",\"font\":{\"color\":\"rgb(67, 67, 67)\",\"family\":\"Arial\",\"size\":14},\"showarrow\":false,\"text\":\"Apr\",\"x\":0.14,\"xanchor\":\"right\",\"xref\":\"paper\",\"y\":\"Apr\",\"yref\":\"y\"},{\"align\":\"right\",\"font\":{\"color\":\"rgb(67, 67, 67)\",\"family\":\"Arial\",\"size\":14},\"showarrow\":false,\"text\":\"May\",\"x\":0.14,\"xanchor\":\"right\",\"xref\":\"paper\",\"y\":\"May\",\"yref\":\"y\"},{\"align\":\"right\",\"font\":{\"color\":\"rgb(67, 67, 67)\",\"family\":\"Arial\",\"size\":14},\"showarrow\":false,\"text\":\"Jun\",\"x\":0.14,\"xanchor\":\"right\",\"xref\":\"paper\",\"y\":\"Jun\",\"yref\":\"y\"},{\"align\":\"right\",\"font\":{\"color\":\"rgb(67, 67, 67)\",\"family\":\"Arial\",\"size\":14},\"showarrow\":false,\"text\":\"Jul\",\"x\":0.14,\"xanchor\":\"right\",\"xref\":\"paper\",\"y\":\"Jul\",\"yref\":\"y\"},{\"align\":\"right\",\"font\":{\"color\":\"rgb(67, 67, 67)\",\"family\":\"Arial\",\"size\":14},\"showarrow\":false,\"text\":\"Aug\",\"x\":0.14,\"xanchor\":\"right\",\"xref\":\"paper\",\"y\":\"Aug\",\"yref\":\"y\"},{\"align\":\"right\",\"font\":{\"color\":\"rgb(67, 67, 67)\",\"family\":\"Arial\",\"size\":14},\"showarrow\":false,\"text\":\"Sep\",\"x\":0.14,\"xanchor\":\"right\",\"xref\":\"paper\",\"y\":\"Sep\",\"yref\":\"y\"},{\"align\":\"right\",\"font\":{\"color\":\"rgb(67, 67, 67)\",\"family\":\"Arial\",\"size\":14},\"showarrow\":false,\"text\":\"Oct\",\"x\":0.14,\"xanchor\":\"right\",\"xref\":\"paper\",\"y\":\"Oct\",\"yref\":\"y\"},{\"align\":\"right\",\"font\":{\"color\":\"rgb(67, 67, 67)\",\"family\":\"Arial\",\"size\":14},\"showarrow\":false,\"text\":\"Nov\",\"x\":0.14,\"xanchor\":\"right\",\"xref\":\"paper\",\"y\":\"Nov\",\"yref\":\"y\"},{\"align\":\"right\",\"font\":{\"color\":\"rgb(67, 67, 67)\",\"family\":\"Arial\",\"size\":14},\"showarrow\":false,\"text\":\"Dec\",\"x\":0.14,\"xanchor\":\"right\",\"xref\":\"paper\",\"y\":\"Dec\",\"yref\":\"y\"},{\"font\":{\"color\":\"rgb(67, 67, 67)\",\"family\":\"Arial\",\"size\":14},\"showarrow\":false,\"text\":\"2013\",\"x\":149.33757190943123,\"xref\":\"x\",\"y\":1.1,\"yref\":\"paper\"},{\"font\":{\"color\":\"rgb(67, 67, 67)\",\"family\":\"Arial\",\"size\":14},\"showarrow\":false,\"text\":\"2014\",\"x\":528.5844466268425,\"xref\":\"x\",\"y\":1.1,\"yref\":\"paper\"},{\"font\":{\"color\":\"rgb(67, 67, 67)\",\"family\":\"Arial\",\"size\":14},\"showarrow\":false,\"text\":\"2015\",\"x\":1015.416413196396,\"xref\":\"x\",\"y\":1.1,\"yref\":\"paper\"},{\"font\":{\"color\":\"rgb(67, 67, 67)\",\"family\":\"Arial\",\"size\":14},\"showarrow\":false,\"text\":\"2016\",\"x\":1550.896487718524,\"xref\":\"x\",\"y\":1.1,\"yref\":\"paper\"},{\"font\":{\"color\":\"rgb(67, 67, 67)\",\"family\":\"Arial\",\"size\":14},\"showarrow\":false,\"text\":\"2017\",\"x\":1829.4538984790784,\"xref\":\"x\",\"y\":1.1,\"yref\":\"paper\"}]},                        {\"responsive\": true}                    ).then(function(){\n",
       "                            \n",
       "var gd = document.getElementById('b4c6a1a5-c8cd-4ef4-9124-0b308accb84d');\n",
       "var x = new MutationObserver(function (mutations, observer) {{\n",
       "        var display = window.getComputedStyle(gd).display;\n",
       "        if (!display || display === 'none') {{\n",
       "            console.log([gd, 'removed!']);\n",
       "            Plotly.purge(gd);\n",
       "            observer.disconnect();\n",
       "        }}\n",
       "}});\n",
       "\n",
       "// Listen for the removal of the full notebook cells\n",
       "var notebookContainer = gd.closest('#notebook-container');\n",
       "if (notebookContainer) {{\n",
       "    x.observe(notebookContainer, {childList: true});\n",
       "}}\n",
       "\n",
       "// Listen for the clearing of the current output cell\n",
       "var outputEl = gd.closest('.output');\n",
       "if (outputEl) {{\n",
       "    x.observe(outputEl, {childList: true});\n",
       "}}\n",
       "\n",
       "                        })                };                });            </script>        </div>"
      ]
     },
     "metadata": {},
     "output_type": "display_data"
    }
   ],
   "source": [
    "# Sales across the years NOTE no data for year 2017\n",
    "df_2013 = train1[train1['year']==2013][['month','sales']]\n",
    "df_2013 = df_2013.groupby('month').agg({\"sales\" : \"mean\"}).reset_index().rename(columns={'sales':'s13'})\n",
    "df_2014 = train1[train1['year']==2014][['month','sales']]\n",
    "df_2014 = df_2014.groupby('month').agg({\"sales\" : \"mean\"}).reset_index().rename(columns={'sales':'s14'})\n",
    "df_2015 = train1[train1['year']==2015][['month','sales']]\n",
    "df_2015 = df_2015.groupby('month').agg({\"sales\" : \"mean\"}).reset_index().rename(columns={'sales':'s15'})\n",
    "df_2016 = train1[train1['year']==2016][['month','sales']]\n",
    "df_2016 = df_2016.groupby('month').agg({\"sales\" : \"mean\"}).reset_index().rename(columns={'sales':'s16'})\n",
    "df_2017 = train1[train1['year']==2017][['month','sales']]\n",
    "df_2017 = df_2017.groupby('month').agg({\"sales\" : \"mean\"}).reset_index()\n",
    "df_2017_no = pd.DataFrame({'month': [9,10,11,12], 'sales':[0,0,0,0]})\n",
    "df_2017 = df_2017.append(df_2017_no).rename(columns={'sales':'s17'})\n",
    "df_year = df_2013.merge(df_2014,on='month').merge(df_2015,on='month').merge(df_2016,on='month').merge(df_2017,on='month')\n",
    "\n",
    "# top levels\n",
    "top_labels = ['2013', '2014', '2015', '2016', '2017']\n",
    "\n",
    "colors = ['rgba(38, 24, 74, 0.8)', 'rgba(71, 58, 131, 0.8)',\n",
    "          'rgba(122, 120, 168, 0.8)', 'rgba(164, 163, 204, 0.85)',\n",
    "          'rgba(190, 192, 213, 1)']\n",
    "\n",
    "# X axis value \n",
    "df_year = df_year[['s13','s14','s15','s16','s17']].replace(np.nan,0)\n",
    "x_data = df_year.values\n",
    "\n",
    "# y axis value (Month)\n",
    "df_2013['month'] =['Jan','Feb','Mar','Apr','May','Jun','Jul','Aug','Sep','Oct','Nov','Dec']\n",
    "y_data = df_2013['month'].tolist()\n",
    "\n",
    "fig = go.Figure()\n",
    "for i in range(0, len(x_data[0])):\n",
    "    for xd, yd in zip(x_data, y_data):\n",
    "        fig.add_trace(go.Bar(\n",
    "            x=[xd[i]], y=[yd],\n",
    "            orientation='h',\n",
    "            marker=dict(\n",
    "                color=colors[i],\n",
    "                line=dict(color='rgb(248, 248, 249)', width=1)\n",
    "            )\n",
    "        ))\n",
    "\n",
    "fig.update_layout(title='Avg Sales for each Year',\n",
    "    xaxis=dict(showgrid=False, \n",
    "               zeroline=False, domain=[0.15, 1]),\n",
    "    yaxis=dict(showgrid=False, showline=False,\n",
    "               showticklabels=False, zeroline=False),\n",
    "    barmode='stack', \n",
    "    template=\"plotly_white\",\n",
    "    margin=dict(l=0, r=50, t=100, b=10),\n",
    "    showlegend=False, \n",
    ")\n",
    "\n",
    "annotations = []\n",
    "for yd, xd in zip(y_data, x_data):\n",
    "    # labeling the y-axis\n",
    "    annotations.append(dict(xref='paper', yref='y',\n",
    "                            x=0.14, y=yd,\n",
    "                            xanchor='right',\n",
    "                            text=str(yd),\n",
    "                            font=dict(family='Arial', size=14,\n",
    "                                      color='rgb(67, 67, 67)'),\n",
    "                            showarrow=False, align='right'))\n",
    "    # labeling the first Likert scale (on the top)\n",
    "    if yd == y_data[-1]:\n",
    "        annotations.append(dict(xref='x', yref='paper',\n",
    "                                x=xd[0] / 2, y=1.1,\n",
    "                                text=top_labels[0],\n",
    "                                font=dict(family='Arial', size=14,\n",
    "                                          color='rgb(67, 67, 67)'),\n",
    "                          showarrow=False))\n",
    "    space = xd[0]\n",
    "    for i in range(1, len(xd)):\n",
    "            # labeling the Likert scale\n",
    "            if yd == y_data[-1]:\n",
    "                annotations.append(dict(xref='x', yref='paper',\n",
    "                                        x=space + (xd[i]/2), y=1.1,\n",
    "                                        text=top_labels[i],\n",
    "                                        font=dict(family='Arial', size=14,\n",
    "                                                  color='rgb(67, 67, 67)'),\n",
    "                                        showarrow=False))\n",
    "            space += xd[i]\n",
    "fig.update_layout(\n",
    "    annotations=annotations)\n",
    "fig.show()\n"
   ]
  },
  {
   "cell_type": "code",
   "execution_count": 19,
   "id": "66d7228d",
   "metadata": {},
   "outputs": [
    {
     "data": {
      "application/vnd.plotly.v1+json": {
       "config": {
        "plotlyServerURL": "https://plot.ly"
       },
       "data": [
        {
         "marker": {
          "color": [
           "#c6ccd8",
           "#c6ccd8",
           "#c6ccd8",
           "#c6ccd8",
           "#c6ccd8",
           "#c6ccd8",
           "#c6ccd8",
           "#c6ccd8",
           "#c6ccd8",
           "#c6ccd8",
           "#c6ccd8",
           "#496595"
          ]
         },
         "name": "Month",
         "orientation": "h",
         "text": [
          "Jan - 341.92",
          "Feb - 320.93",
          "Mar - 352.01",
          "Apr - 341.17",
          "May - 345.65",
          "Jun - 352.51",
          "Jul - 376.41",
          "Aug - 336.99",
          "Sep - 362.3",
          "Oct - 362.41",
          "Nov - 376.89",
          "Dec - 457.38"
         ],
         "textposition": "auto",
         "type": "bar",
         "x": [
          341.92,
          320.93,
          352.01,
          341.17,
          345.65,
          352.51,
          376.41,
          336.99,
          362.3,
          362.41,
          376.89,
          457.38
         ],
         "xaxis": "x",
         "y": [
          1,
          2,
          3,
          4,
          5,
          6,
          7,
          8,
          9,
          10,
          11,
          12
         ],
         "yaxis": "y"
        },
        {
         "domain": {
          "x": [
           0.73,
           1
          ],
          "y": [
           0.35600000000000004,
           1
          ]
         },
         "hole": 0.7,
         "hoverinfo": "label+percent+value",
         "labels": [
          1,
          2,
          3,
          4
         ],
         "marker": {
          "colors": [
           "#334668",
           "#496595",
           "#6D83AA",
           "#91A2BF",
           "#C8D0DF"
          ]
         },
         "name": "Quarter",
         "textinfo": "label+percent",
         "type": "pie",
         "values": [
          338.8253922563968,
          346.54603828574875,
          359.3340979578948,
          399.22962205344163
         ]
        },
        {
         "fill": "tozeroy",
         "fillcolor": "#c6ccd8",
         "marker": {
          "color": "#496595"
         },
         "mode": "lines+markers",
         "name": "Week",
         "type": "scatter",
         "x": [
          1,
          2,
          3,
          4,
          5,
          6,
          7,
          8,
          9,
          10,
          11,
          12,
          13,
          14,
          15,
          16,
          17,
          18,
          19,
          20,
          21,
          22,
          23,
          24,
          25,
          26,
          27,
          28,
          29,
          30,
          31,
          32,
          33,
          34,
          35,
          36,
          37,
          38,
          39,
          40,
          41,
          42,
          43,
          44,
          45,
          46,
          47,
          48,
          49,
          50,
          51,
          52,
          53
         ],
         "xaxis": "x2",
         "y": [
          409.09951933767576,
          347.5346426442376,
          338.142199154778,
          329.1862579904537,
          344.19523331887285,
          320.0775057355636,
          310.37708371353375,
          311.92647791631236,
          358.230978284042,
          358.62361170898345,
          342.9734550356646,
          338.3864740723457,
          360.5054993898172,
          350.15422445769923,
          323.47142463536596,
          363.09567066038,
          333.4531208674803,
          374.12684548092943,
          324.733491146545,
          334.44129938622257,
          321.08043404279783,
          367.7097326432243,
          368.58918754473143,
          342.2137057435578,
          364.81451011131975,
          337.1573289794613,
          397.5257797727431,
          361.95173993006097,
          361.4197975866894,
          359.56581542694244,
          384.20340359099083,
          334.67387222844155,
          327.4667286718294,
          306.5800544635502,
          333.584232059608,
          400.2593379902938,
          352.5943541244609,
          351.48499803971055,
          354.1693747029962,
          400.3141742718074,
          362.2317358426928,
          354.9436057793912,
          339.6100186593855,
          358.76225027527255,
          407.34652516282944,
          361.5766698353095,
          358.6915651121432,
          378.55045032703225,
          417.32057941901155,
          412.93596449636044,
          484.1676310858257,
          482.9068520248096,
          478.1929416836701
         ],
         "yaxis": "y2"
        }
       ],
       "layout": {
        "annotations": [
         {
          "font": {
           "size": 16
          },
          "showarrow": false,
          "text": "Month wise Avg Sales Analysis",
          "x": 0.315,
          "xanchor": "center",
          "xref": "paper",
          "y": 1,
          "yanchor": "bottom",
          "yref": "paper"
         },
         {
          "font": {
           "size": 16
          },
          "showarrow": false,
          "text": "Quarter wise Avg Sales Analysis",
          "x": 0.865,
          "xanchor": "center",
          "xref": "paper",
          "y": 1,
          "yanchor": "bottom",
          "yref": "paper"
         },
         {
          "font": {
           "size": 16
          },
          "showarrow": false,
          "text": "Week wise Avg Sales Analysis",
          "x": 0.5,
          "xanchor": "center",
          "xref": "paper",
          "y": 0.276,
          "yanchor": "bottom",
          "yref": "paper"
         }
        ],
        "bargap": 0.15,
        "font": {
         "color": "#8a8d93"
        },
        "height": 750,
        "hoverlabel": {
         "bgcolor": "#f2f2f2",
         "font": {
          "family": "Lato, sans-serif",
          "size": 13
         }
        },
        "margin": {
         "b": 0,
         "l": 20,
         "r": 20
        },
        "showlegend": false,
        "template": {
         "data": {
          "bar": [
           {
            "error_x": {
             "color": "#2a3f5f"
            },
            "error_y": {
             "color": "#2a3f5f"
            },
            "marker": {
             "line": {
              "color": "white",
              "width": 0.5
             },
             "pattern": {
              "fillmode": "overlay",
              "size": 10,
              "solidity": 0.2
             }
            },
            "type": "bar"
           }
          ],
          "barpolar": [
           {
            "marker": {
             "line": {
              "color": "white",
              "width": 0.5
             },
             "pattern": {
              "fillmode": "overlay",
              "size": 10,
              "solidity": 0.2
             }
            },
            "type": "barpolar"
           }
          ],
          "carpet": [
           {
            "aaxis": {
             "endlinecolor": "#2a3f5f",
             "gridcolor": "#C8D4E3",
             "linecolor": "#C8D4E3",
             "minorgridcolor": "#C8D4E3",
             "startlinecolor": "#2a3f5f"
            },
            "baxis": {
             "endlinecolor": "#2a3f5f",
             "gridcolor": "#C8D4E3",
             "linecolor": "#C8D4E3",
             "minorgridcolor": "#C8D4E3",
             "startlinecolor": "#2a3f5f"
            },
            "type": "carpet"
           }
          ],
          "choropleth": [
           {
            "colorbar": {
             "outlinewidth": 0,
             "ticks": ""
            },
            "type": "choropleth"
           }
          ],
          "contour": [
           {
            "colorbar": {
             "outlinewidth": 0,
             "ticks": ""
            },
            "colorscale": [
             [
              0,
              "#0d0887"
             ],
             [
              0.1111111111111111,
              "#46039f"
             ],
             [
              0.2222222222222222,
              "#7201a8"
             ],
             [
              0.3333333333333333,
              "#9c179e"
             ],
             [
              0.4444444444444444,
              "#bd3786"
             ],
             [
              0.5555555555555556,
              "#d8576b"
             ],
             [
              0.6666666666666666,
              "#ed7953"
             ],
             [
              0.7777777777777778,
              "#fb9f3a"
             ],
             [
              0.8888888888888888,
              "#fdca26"
             ],
             [
              1,
              "#f0f921"
             ]
            ],
            "type": "contour"
           }
          ],
          "contourcarpet": [
           {
            "colorbar": {
             "outlinewidth": 0,
             "ticks": ""
            },
            "type": "contourcarpet"
           }
          ],
          "heatmap": [
           {
            "colorbar": {
             "outlinewidth": 0,
             "ticks": ""
            },
            "colorscale": [
             [
              0,
              "#0d0887"
             ],
             [
              0.1111111111111111,
              "#46039f"
             ],
             [
              0.2222222222222222,
              "#7201a8"
             ],
             [
              0.3333333333333333,
              "#9c179e"
             ],
             [
              0.4444444444444444,
              "#bd3786"
             ],
             [
              0.5555555555555556,
              "#d8576b"
             ],
             [
              0.6666666666666666,
              "#ed7953"
             ],
             [
              0.7777777777777778,
              "#fb9f3a"
             ],
             [
              0.8888888888888888,
              "#fdca26"
             ],
             [
              1,
              "#f0f921"
             ]
            ],
            "type": "heatmap"
           }
          ],
          "heatmapgl": [
           {
            "colorbar": {
             "outlinewidth": 0,
             "ticks": ""
            },
            "colorscale": [
             [
              0,
              "#0d0887"
             ],
             [
              0.1111111111111111,
              "#46039f"
             ],
             [
              0.2222222222222222,
              "#7201a8"
             ],
             [
              0.3333333333333333,
              "#9c179e"
             ],
             [
              0.4444444444444444,
              "#bd3786"
             ],
             [
              0.5555555555555556,
              "#d8576b"
             ],
             [
              0.6666666666666666,
              "#ed7953"
             ],
             [
              0.7777777777777778,
              "#fb9f3a"
             ],
             [
              0.8888888888888888,
              "#fdca26"
             ],
             [
              1,
              "#f0f921"
             ]
            ],
            "type": "heatmapgl"
           }
          ],
          "histogram": [
           {
            "marker": {
             "pattern": {
              "fillmode": "overlay",
              "size": 10,
              "solidity": 0.2
             }
            },
            "type": "histogram"
           }
          ],
          "histogram2d": [
           {
            "colorbar": {
             "outlinewidth": 0,
             "ticks": ""
            },
            "colorscale": [
             [
              0,
              "#0d0887"
             ],
             [
              0.1111111111111111,
              "#46039f"
             ],
             [
              0.2222222222222222,
              "#7201a8"
             ],
             [
              0.3333333333333333,
              "#9c179e"
             ],
             [
              0.4444444444444444,
              "#bd3786"
             ],
             [
              0.5555555555555556,
              "#d8576b"
             ],
             [
              0.6666666666666666,
              "#ed7953"
             ],
             [
              0.7777777777777778,
              "#fb9f3a"
             ],
             [
              0.8888888888888888,
              "#fdca26"
             ],
             [
              1,
              "#f0f921"
             ]
            ],
            "type": "histogram2d"
           }
          ],
          "histogram2dcontour": [
           {
            "colorbar": {
             "outlinewidth": 0,
             "ticks": ""
            },
            "colorscale": [
             [
              0,
              "#0d0887"
             ],
             [
              0.1111111111111111,
              "#46039f"
             ],
             [
              0.2222222222222222,
              "#7201a8"
             ],
             [
              0.3333333333333333,
              "#9c179e"
             ],
             [
              0.4444444444444444,
              "#bd3786"
             ],
             [
              0.5555555555555556,
              "#d8576b"
             ],
             [
              0.6666666666666666,
              "#ed7953"
             ],
             [
              0.7777777777777778,
              "#fb9f3a"
             ],
             [
              0.8888888888888888,
              "#fdca26"
             ],
             [
              1,
              "#f0f921"
             ]
            ],
            "type": "histogram2dcontour"
           }
          ],
          "mesh3d": [
           {
            "colorbar": {
             "outlinewidth": 0,
             "ticks": ""
            },
            "type": "mesh3d"
           }
          ],
          "parcoords": [
           {
            "line": {
             "colorbar": {
              "outlinewidth": 0,
              "ticks": ""
             }
            },
            "type": "parcoords"
           }
          ],
          "pie": [
           {
            "automargin": true,
            "type": "pie"
           }
          ],
          "scatter": [
           {
            "fillpattern": {
             "fillmode": "overlay",
             "size": 10,
             "solidity": 0.2
            },
            "type": "scatter"
           }
          ],
          "scatter3d": [
           {
            "line": {
             "colorbar": {
              "outlinewidth": 0,
              "ticks": ""
             }
            },
            "marker": {
             "colorbar": {
              "outlinewidth": 0,
              "ticks": ""
             }
            },
            "type": "scatter3d"
           }
          ],
          "scattercarpet": [
           {
            "marker": {
             "colorbar": {
              "outlinewidth": 0,
              "ticks": ""
             }
            },
            "type": "scattercarpet"
           }
          ],
          "scattergeo": [
           {
            "marker": {
             "colorbar": {
              "outlinewidth": 0,
              "ticks": ""
             }
            },
            "type": "scattergeo"
           }
          ],
          "scattergl": [
           {
            "marker": {
             "colorbar": {
              "outlinewidth": 0,
              "ticks": ""
             }
            },
            "type": "scattergl"
           }
          ],
          "scattermapbox": [
           {
            "marker": {
             "colorbar": {
              "outlinewidth": 0,
              "ticks": ""
             }
            },
            "type": "scattermapbox"
           }
          ],
          "scatterpolar": [
           {
            "marker": {
             "colorbar": {
              "outlinewidth": 0,
              "ticks": ""
             }
            },
            "type": "scatterpolar"
           }
          ],
          "scatterpolargl": [
           {
            "marker": {
             "colorbar": {
              "outlinewidth": 0,
              "ticks": ""
             }
            },
            "type": "scatterpolargl"
           }
          ],
          "scatterternary": [
           {
            "marker": {
             "colorbar": {
              "outlinewidth": 0,
              "ticks": ""
             }
            },
            "type": "scatterternary"
           }
          ],
          "surface": [
           {
            "colorbar": {
             "outlinewidth": 0,
             "ticks": ""
            },
            "colorscale": [
             [
              0,
              "#0d0887"
             ],
             [
              0.1111111111111111,
              "#46039f"
             ],
             [
              0.2222222222222222,
              "#7201a8"
             ],
             [
              0.3333333333333333,
              "#9c179e"
             ],
             [
              0.4444444444444444,
              "#bd3786"
             ],
             [
              0.5555555555555556,
              "#d8576b"
             ],
             [
              0.6666666666666666,
              "#ed7953"
             ],
             [
              0.7777777777777778,
              "#fb9f3a"
             ],
             [
              0.8888888888888888,
              "#fdca26"
             ],
             [
              1,
              "#f0f921"
             ]
            ],
            "type": "surface"
           }
          ],
          "table": [
           {
            "cells": {
             "fill": {
              "color": "#EBF0F8"
             },
             "line": {
              "color": "white"
             }
            },
            "header": {
             "fill": {
              "color": "#C8D4E3"
             },
             "line": {
              "color": "white"
             }
            },
            "type": "table"
           }
          ]
         },
         "layout": {
          "annotationdefaults": {
           "arrowcolor": "#2a3f5f",
           "arrowhead": 0,
           "arrowwidth": 1
          },
          "autotypenumbers": "strict",
          "coloraxis": {
           "colorbar": {
            "outlinewidth": 0,
            "ticks": ""
           }
          },
          "colorscale": {
           "diverging": [
            [
             0,
             "#8e0152"
            ],
            [
             0.1,
             "#c51b7d"
            ],
            [
             0.2,
             "#de77ae"
            ],
            [
             0.3,
             "#f1b6da"
            ],
            [
             0.4,
             "#fde0ef"
            ],
            [
             0.5,
             "#f7f7f7"
            ],
            [
             0.6,
             "#e6f5d0"
            ],
            [
             0.7,
             "#b8e186"
            ],
            [
             0.8,
             "#7fbc41"
            ],
            [
             0.9,
             "#4d9221"
            ],
            [
             1,
             "#276419"
            ]
           ],
           "sequential": [
            [
             0,
             "#0d0887"
            ],
            [
             0.1111111111111111,
             "#46039f"
            ],
            [
             0.2222222222222222,
             "#7201a8"
            ],
            [
             0.3333333333333333,
             "#9c179e"
            ],
            [
             0.4444444444444444,
             "#bd3786"
            ],
            [
             0.5555555555555556,
             "#d8576b"
            ],
            [
             0.6666666666666666,
             "#ed7953"
            ],
            [
             0.7777777777777778,
             "#fb9f3a"
            ],
            [
             0.8888888888888888,
             "#fdca26"
            ],
            [
             1,
             "#f0f921"
            ]
           ],
           "sequentialminus": [
            [
             0,
             "#0d0887"
            ],
            [
             0.1111111111111111,
             "#46039f"
            ],
            [
             0.2222222222222222,
             "#7201a8"
            ],
            [
             0.3333333333333333,
             "#9c179e"
            ],
            [
             0.4444444444444444,
             "#bd3786"
            ],
            [
             0.5555555555555556,
             "#d8576b"
            ],
            [
             0.6666666666666666,
             "#ed7953"
            ],
            [
             0.7777777777777778,
             "#fb9f3a"
            ],
            [
             0.8888888888888888,
             "#fdca26"
            ],
            [
             1,
             "#f0f921"
            ]
           ]
          },
          "colorway": [
           "#636efa",
           "#EF553B",
           "#00cc96",
           "#ab63fa",
           "#FFA15A",
           "#19d3f3",
           "#FF6692",
           "#B6E880",
           "#FF97FF",
           "#FECB52"
          ],
          "font": {
           "color": "#2a3f5f"
          },
          "geo": {
           "bgcolor": "white",
           "lakecolor": "white",
           "landcolor": "white",
           "showlakes": true,
           "showland": true,
           "subunitcolor": "#C8D4E3"
          },
          "hoverlabel": {
           "align": "left"
          },
          "hovermode": "closest",
          "mapbox": {
           "style": "light"
          },
          "paper_bgcolor": "white",
          "plot_bgcolor": "white",
          "polar": {
           "angularaxis": {
            "gridcolor": "#EBF0F8",
            "linecolor": "#EBF0F8",
            "ticks": ""
           },
           "bgcolor": "white",
           "radialaxis": {
            "gridcolor": "#EBF0F8",
            "linecolor": "#EBF0F8",
            "ticks": ""
           }
          },
          "scene": {
           "xaxis": {
            "backgroundcolor": "white",
            "gridcolor": "#DFE8F3",
            "gridwidth": 2,
            "linecolor": "#EBF0F8",
            "showbackground": true,
            "ticks": "",
            "zerolinecolor": "#EBF0F8"
           },
           "yaxis": {
            "backgroundcolor": "white",
            "gridcolor": "#DFE8F3",
            "gridwidth": 2,
            "linecolor": "#EBF0F8",
            "showbackground": true,
            "ticks": "",
            "zerolinecolor": "#EBF0F8"
           },
           "zaxis": {
            "backgroundcolor": "white",
            "gridcolor": "#DFE8F3",
            "gridwidth": 2,
            "linecolor": "#EBF0F8",
            "showbackground": true,
            "ticks": "",
            "zerolinecolor": "#EBF0F8"
           }
          },
          "shapedefaults": {
           "line": {
            "color": "#2a3f5f"
           }
          },
          "ternary": {
           "aaxis": {
            "gridcolor": "#DFE8F3",
            "linecolor": "#A2B1C6",
            "ticks": ""
           },
           "baxis": {
            "gridcolor": "#DFE8F3",
            "linecolor": "#A2B1C6",
            "ticks": ""
           },
           "bgcolor": "white",
           "caxis": {
            "gridcolor": "#DFE8F3",
            "linecolor": "#A2B1C6",
            "ticks": ""
           }
          },
          "title": {
           "x": 0.05
          },
          "xaxis": {
           "automargin": true,
           "gridcolor": "#EBF0F8",
           "linecolor": "#EBF0F8",
           "ticks": "",
           "title": {
            "standoff": 15
           },
           "zerolinecolor": "#EBF0F8",
           "zerolinewidth": 2
          },
          "yaxis": {
           "automargin": true,
           "gridcolor": "#EBF0F8",
           "linecolor": "#EBF0F8",
           "ticks": "",
           "title": {
            "standoff": 15
           },
           "zerolinecolor": "#EBF0F8",
           "zerolinewidth": 2
          }
         }
        },
        "title": {
         "font": {
          "color": "#8a8d93",
          "family": "Lato, sans-serif",
          "size": 25
         },
         "text": "Average Sales Analysis"
        },
        "xaxis": {
         "anchor": "y",
         "domain": [
          0,
          0.63
         ],
         "visible": false
        },
        "xaxis2": {
         "anchor": "y2",
         "domain": [
          0,
          1
         ],
         "tickmode": "array",
         "ticktext": [
          1,
          2,
          3,
          4,
          5,
          6,
          7,
          8,
          9,
          10,
          11,
          12,
          13,
          14,
          15,
          16,
          17,
          18,
          19,
          20,
          21,
          22,
          23,
          24,
          25,
          26,
          27,
          28,
          29,
          30,
          31,
          32,
          33,
          34,
          35,
          36,
          37,
          38,
          39,
          40,
          41,
          42,
          43,
          44,
          45,
          46,
          47,
          48,
          49,
          50,
          51,
          52
         ],
         "tickvals": [
          1,
          2,
          3,
          4,
          5,
          6,
          7,
          8,
          9,
          10,
          11,
          12,
          13,
          14,
          15,
          16,
          17,
          18,
          19,
          20,
          21,
          22,
          23,
          24,
          25,
          26,
          27,
          28,
          29,
          30,
          31,
          32,
          33,
          34,
          35,
          36,
          37,
          38,
          39,
          40,
          41,
          42,
          43,
          44,
          45,
          46,
          47,
          48,
          49,
          50,
          51,
          52,
          53
         ]
        },
        "yaxis": {
         "anchor": "x",
         "domain": [
          0.35600000000000004,
          1
         ],
         "visible": false
        },
        "yaxis2": {
         "anchor": "x2",
         "domain": [
          0,
          0.276
         ],
         "visible": false
        }
       }
      },
      "text/html": [
       "<div>                            <div id=\"43bd6c34-6bcd-410e-bc6b-c158e6b658e8\" class=\"plotly-graph-div\" style=\"height:750px; width:100%;\"></div>            <script type=\"text/javascript\">                require([\"plotly\"], function(Plotly) {                    window.PLOTLYENV=window.PLOTLYENV || {};                                    if (document.getElementById(\"43bd6c34-6bcd-410e-bc6b-c158e6b658e8\")) {                    Plotly.newPlot(                        \"43bd6c34-6bcd-410e-bc6b-c158e6b658e8\",                        [{\"marker\":{\"color\":[\"#c6ccd8\",\"#c6ccd8\",\"#c6ccd8\",\"#c6ccd8\",\"#c6ccd8\",\"#c6ccd8\",\"#c6ccd8\",\"#c6ccd8\",\"#c6ccd8\",\"#c6ccd8\",\"#c6ccd8\",\"#496595\"]},\"name\":\"Month\",\"orientation\":\"h\",\"text\":[\"Jan - 341.92\",\"Feb - 320.93\",\"Mar - 352.01\",\"Apr - 341.17\",\"May - 345.65\",\"Jun - 352.51\",\"Jul - 376.41\",\"Aug - 336.99\",\"Sep - 362.3\",\"Oct - 362.41\",\"Nov - 376.89\",\"Dec - 457.38\"],\"textposition\":\"auto\",\"x\":[341.92,320.93,352.01,341.17,345.65,352.51,376.41,336.99,362.3,362.41,376.89,457.38],\"y\":[1,2,3,4,5,6,7,8,9,10,11,12],\"type\":\"bar\",\"xaxis\":\"x\",\"yaxis\":\"y\"},{\"hole\":0.7,\"hoverinfo\":\"label+percent+value\",\"labels\":[1,2,3,4],\"marker\":{\"colors\":[\"#334668\",\"#496595\",\"#6D83AA\",\"#91A2BF\",\"#C8D0DF\"]},\"name\":\"Quarter\",\"textinfo\":\"label+percent\",\"values\":[338.8253922563968,346.54603828574875,359.3340979578948,399.22962205344163],\"type\":\"pie\",\"domain\":{\"x\":[0.73,1.0],\"y\":[0.35600000000000004,1.0]}},{\"fill\":\"tozeroy\",\"fillcolor\":\"#c6ccd8\",\"marker\":{\"color\":\"#496595\"},\"mode\":\"lines+markers\",\"name\":\"Week\",\"x\":[1,2,3,4,5,6,7,8,9,10,11,12,13,14,15,16,17,18,19,20,21,22,23,24,25,26,27,28,29,30,31,32,33,34,35,36,37,38,39,40,41,42,43,44,45,46,47,48,49,50,51,52,53],\"y\":[409.09951933767576,347.5346426442376,338.142199154778,329.1862579904537,344.19523331887285,320.0775057355636,310.37708371353375,311.92647791631236,358.230978284042,358.62361170898345,342.9734550356646,338.3864740723457,360.5054993898172,350.15422445769923,323.47142463536596,363.09567066038,333.4531208674803,374.12684548092943,324.733491146545,334.44129938622257,321.08043404279783,367.7097326432243,368.58918754473143,342.2137057435578,364.81451011131975,337.1573289794613,397.5257797727431,361.95173993006097,361.4197975866894,359.56581542694244,384.20340359099083,334.67387222844155,327.4667286718294,306.5800544635502,333.584232059608,400.2593379902938,352.5943541244609,351.48499803971055,354.1693747029962,400.3141742718074,362.2317358426928,354.9436057793912,339.6100186593855,358.76225027527255,407.34652516282944,361.5766698353095,358.6915651121432,378.55045032703225,417.32057941901155,412.93596449636044,484.1676310858257,482.9068520248096,478.1929416836701],\"type\":\"scatter\",\"xaxis\":\"x2\",\"yaxis\":\"y2\"}],                        {\"template\":{\"data\":{\"barpolar\":[{\"marker\":{\"line\":{\"color\":\"white\",\"width\":0.5},\"pattern\":{\"fillmode\":\"overlay\",\"size\":10,\"solidity\":0.2}},\"type\":\"barpolar\"}],\"bar\":[{\"error_x\":{\"color\":\"#2a3f5f\"},\"error_y\":{\"color\":\"#2a3f5f\"},\"marker\":{\"line\":{\"color\":\"white\",\"width\":0.5},\"pattern\":{\"fillmode\":\"overlay\",\"size\":10,\"solidity\":0.2}},\"type\":\"bar\"}],\"carpet\":[{\"aaxis\":{\"endlinecolor\":\"#2a3f5f\",\"gridcolor\":\"#C8D4E3\",\"linecolor\":\"#C8D4E3\",\"minorgridcolor\":\"#C8D4E3\",\"startlinecolor\":\"#2a3f5f\"},\"baxis\":{\"endlinecolor\":\"#2a3f5f\",\"gridcolor\":\"#C8D4E3\",\"linecolor\":\"#C8D4E3\",\"minorgridcolor\":\"#C8D4E3\",\"startlinecolor\":\"#2a3f5f\"},\"type\":\"carpet\"}],\"choropleth\":[{\"colorbar\":{\"outlinewidth\":0,\"ticks\":\"\"},\"type\":\"choropleth\"}],\"contourcarpet\":[{\"colorbar\":{\"outlinewidth\":0,\"ticks\":\"\"},\"type\":\"contourcarpet\"}],\"contour\":[{\"colorbar\":{\"outlinewidth\":0,\"ticks\":\"\"},\"colorscale\":[[0.0,\"#0d0887\"],[0.1111111111111111,\"#46039f\"],[0.2222222222222222,\"#7201a8\"],[0.3333333333333333,\"#9c179e\"],[0.4444444444444444,\"#bd3786\"],[0.5555555555555556,\"#d8576b\"],[0.6666666666666666,\"#ed7953\"],[0.7777777777777778,\"#fb9f3a\"],[0.8888888888888888,\"#fdca26\"],[1.0,\"#f0f921\"]],\"type\":\"contour\"}],\"heatmapgl\":[{\"colorbar\":{\"outlinewidth\":0,\"ticks\":\"\"},\"colorscale\":[[0.0,\"#0d0887\"],[0.1111111111111111,\"#46039f\"],[0.2222222222222222,\"#7201a8\"],[0.3333333333333333,\"#9c179e\"],[0.4444444444444444,\"#bd3786\"],[0.5555555555555556,\"#d8576b\"],[0.6666666666666666,\"#ed7953\"],[0.7777777777777778,\"#fb9f3a\"],[0.8888888888888888,\"#fdca26\"],[1.0,\"#f0f921\"]],\"type\":\"heatmapgl\"}],\"heatmap\":[{\"colorbar\":{\"outlinewidth\":0,\"ticks\":\"\"},\"colorscale\":[[0.0,\"#0d0887\"],[0.1111111111111111,\"#46039f\"],[0.2222222222222222,\"#7201a8\"],[0.3333333333333333,\"#9c179e\"],[0.4444444444444444,\"#bd3786\"],[0.5555555555555556,\"#d8576b\"],[0.6666666666666666,\"#ed7953\"],[0.7777777777777778,\"#fb9f3a\"],[0.8888888888888888,\"#fdca26\"],[1.0,\"#f0f921\"]],\"type\":\"heatmap\"}],\"histogram2dcontour\":[{\"colorbar\":{\"outlinewidth\":0,\"ticks\":\"\"},\"colorscale\":[[0.0,\"#0d0887\"],[0.1111111111111111,\"#46039f\"],[0.2222222222222222,\"#7201a8\"],[0.3333333333333333,\"#9c179e\"],[0.4444444444444444,\"#bd3786\"],[0.5555555555555556,\"#d8576b\"],[0.6666666666666666,\"#ed7953\"],[0.7777777777777778,\"#fb9f3a\"],[0.8888888888888888,\"#fdca26\"],[1.0,\"#f0f921\"]],\"type\":\"histogram2dcontour\"}],\"histogram2d\":[{\"colorbar\":{\"outlinewidth\":0,\"ticks\":\"\"},\"colorscale\":[[0.0,\"#0d0887\"],[0.1111111111111111,\"#46039f\"],[0.2222222222222222,\"#7201a8\"],[0.3333333333333333,\"#9c179e\"],[0.4444444444444444,\"#bd3786\"],[0.5555555555555556,\"#d8576b\"],[0.6666666666666666,\"#ed7953\"],[0.7777777777777778,\"#fb9f3a\"],[0.8888888888888888,\"#fdca26\"],[1.0,\"#f0f921\"]],\"type\":\"histogram2d\"}],\"histogram\":[{\"marker\":{\"pattern\":{\"fillmode\":\"overlay\",\"size\":10,\"solidity\":0.2}},\"type\":\"histogram\"}],\"mesh3d\":[{\"colorbar\":{\"outlinewidth\":0,\"ticks\":\"\"},\"type\":\"mesh3d\"}],\"parcoords\":[{\"line\":{\"colorbar\":{\"outlinewidth\":0,\"ticks\":\"\"}},\"type\":\"parcoords\"}],\"pie\":[{\"automargin\":true,\"type\":\"pie\"}],\"scatter3d\":[{\"line\":{\"colorbar\":{\"outlinewidth\":0,\"ticks\":\"\"}},\"marker\":{\"colorbar\":{\"outlinewidth\":0,\"ticks\":\"\"}},\"type\":\"scatter3d\"}],\"scattercarpet\":[{\"marker\":{\"colorbar\":{\"outlinewidth\":0,\"ticks\":\"\"}},\"type\":\"scattercarpet\"}],\"scattergeo\":[{\"marker\":{\"colorbar\":{\"outlinewidth\":0,\"ticks\":\"\"}},\"type\":\"scattergeo\"}],\"scattergl\":[{\"marker\":{\"colorbar\":{\"outlinewidth\":0,\"ticks\":\"\"}},\"type\":\"scattergl\"}],\"scattermapbox\":[{\"marker\":{\"colorbar\":{\"outlinewidth\":0,\"ticks\":\"\"}},\"type\":\"scattermapbox\"}],\"scatterpolargl\":[{\"marker\":{\"colorbar\":{\"outlinewidth\":0,\"ticks\":\"\"}},\"type\":\"scatterpolargl\"}],\"scatterpolar\":[{\"marker\":{\"colorbar\":{\"outlinewidth\":0,\"ticks\":\"\"}},\"type\":\"scatterpolar\"}],\"scatter\":[{\"fillpattern\":{\"fillmode\":\"overlay\",\"size\":10,\"solidity\":0.2},\"type\":\"scatter\"}],\"scatterternary\":[{\"marker\":{\"colorbar\":{\"outlinewidth\":0,\"ticks\":\"\"}},\"type\":\"scatterternary\"}],\"surface\":[{\"colorbar\":{\"outlinewidth\":0,\"ticks\":\"\"},\"colorscale\":[[0.0,\"#0d0887\"],[0.1111111111111111,\"#46039f\"],[0.2222222222222222,\"#7201a8\"],[0.3333333333333333,\"#9c179e\"],[0.4444444444444444,\"#bd3786\"],[0.5555555555555556,\"#d8576b\"],[0.6666666666666666,\"#ed7953\"],[0.7777777777777778,\"#fb9f3a\"],[0.8888888888888888,\"#fdca26\"],[1.0,\"#f0f921\"]],\"type\":\"surface\"}],\"table\":[{\"cells\":{\"fill\":{\"color\":\"#EBF0F8\"},\"line\":{\"color\":\"white\"}},\"header\":{\"fill\":{\"color\":\"#C8D4E3\"},\"line\":{\"color\":\"white\"}},\"type\":\"table\"}]},\"layout\":{\"annotationdefaults\":{\"arrowcolor\":\"#2a3f5f\",\"arrowhead\":0,\"arrowwidth\":1},\"autotypenumbers\":\"strict\",\"coloraxis\":{\"colorbar\":{\"outlinewidth\":0,\"ticks\":\"\"}},\"colorscale\":{\"diverging\":[[0,\"#8e0152\"],[0.1,\"#c51b7d\"],[0.2,\"#de77ae\"],[0.3,\"#f1b6da\"],[0.4,\"#fde0ef\"],[0.5,\"#f7f7f7\"],[0.6,\"#e6f5d0\"],[0.7,\"#b8e186\"],[0.8,\"#7fbc41\"],[0.9,\"#4d9221\"],[1,\"#276419\"]],\"sequential\":[[0.0,\"#0d0887\"],[0.1111111111111111,\"#46039f\"],[0.2222222222222222,\"#7201a8\"],[0.3333333333333333,\"#9c179e\"],[0.4444444444444444,\"#bd3786\"],[0.5555555555555556,\"#d8576b\"],[0.6666666666666666,\"#ed7953\"],[0.7777777777777778,\"#fb9f3a\"],[0.8888888888888888,\"#fdca26\"],[1.0,\"#f0f921\"]],\"sequentialminus\":[[0.0,\"#0d0887\"],[0.1111111111111111,\"#46039f\"],[0.2222222222222222,\"#7201a8\"],[0.3333333333333333,\"#9c179e\"],[0.4444444444444444,\"#bd3786\"],[0.5555555555555556,\"#d8576b\"],[0.6666666666666666,\"#ed7953\"],[0.7777777777777778,\"#fb9f3a\"],[0.8888888888888888,\"#fdca26\"],[1.0,\"#f0f921\"]]},\"colorway\":[\"#636efa\",\"#EF553B\",\"#00cc96\",\"#ab63fa\",\"#FFA15A\",\"#19d3f3\",\"#FF6692\",\"#B6E880\",\"#FF97FF\",\"#FECB52\"],\"font\":{\"color\":\"#2a3f5f\"},\"geo\":{\"bgcolor\":\"white\",\"lakecolor\":\"white\",\"landcolor\":\"white\",\"showlakes\":true,\"showland\":true,\"subunitcolor\":\"#C8D4E3\"},\"hoverlabel\":{\"align\":\"left\"},\"hovermode\":\"closest\",\"mapbox\":{\"style\":\"light\"},\"paper_bgcolor\":\"white\",\"plot_bgcolor\":\"white\",\"polar\":{\"angularaxis\":{\"gridcolor\":\"#EBF0F8\",\"linecolor\":\"#EBF0F8\",\"ticks\":\"\"},\"bgcolor\":\"white\",\"radialaxis\":{\"gridcolor\":\"#EBF0F8\",\"linecolor\":\"#EBF0F8\",\"ticks\":\"\"}},\"scene\":{\"xaxis\":{\"backgroundcolor\":\"white\",\"gridcolor\":\"#DFE8F3\",\"gridwidth\":2,\"linecolor\":\"#EBF0F8\",\"showbackground\":true,\"ticks\":\"\",\"zerolinecolor\":\"#EBF0F8\"},\"yaxis\":{\"backgroundcolor\":\"white\",\"gridcolor\":\"#DFE8F3\",\"gridwidth\":2,\"linecolor\":\"#EBF0F8\",\"showbackground\":true,\"ticks\":\"\",\"zerolinecolor\":\"#EBF0F8\"},\"zaxis\":{\"backgroundcolor\":\"white\",\"gridcolor\":\"#DFE8F3\",\"gridwidth\":2,\"linecolor\":\"#EBF0F8\",\"showbackground\":true,\"ticks\":\"\",\"zerolinecolor\":\"#EBF0F8\"}},\"shapedefaults\":{\"line\":{\"color\":\"#2a3f5f\"}},\"ternary\":{\"aaxis\":{\"gridcolor\":\"#DFE8F3\",\"linecolor\":\"#A2B1C6\",\"ticks\":\"\"},\"baxis\":{\"gridcolor\":\"#DFE8F3\",\"linecolor\":\"#A2B1C6\",\"ticks\":\"\"},\"bgcolor\":\"white\",\"caxis\":{\"gridcolor\":\"#DFE8F3\",\"linecolor\":\"#A2B1C6\",\"ticks\":\"\"}},\"title\":{\"x\":0.05},\"xaxis\":{\"automargin\":true,\"gridcolor\":\"#EBF0F8\",\"linecolor\":\"#EBF0F8\",\"ticks\":\"\",\"title\":{\"standoff\":15},\"zerolinecolor\":\"#EBF0F8\",\"zerolinewidth\":2},\"yaxis\":{\"automargin\":true,\"gridcolor\":\"#EBF0F8\",\"linecolor\":\"#EBF0F8\",\"ticks\":\"\",\"title\":{\"standoff\":15},\"zerolinecolor\":\"#EBF0F8\",\"zerolinewidth\":2}}},\"xaxis\":{\"anchor\":\"y\",\"domain\":[0.0,0.63],\"visible\":false},\"yaxis\":{\"anchor\":\"x\",\"domain\":[0.35600000000000004,1.0],\"visible\":false},\"xaxis2\":{\"anchor\":\"y2\",\"domain\":[0.0,1.0],\"tickmode\":\"array\",\"tickvals\":[1,2,3,4,5,6,7,8,9,10,11,12,13,14,15,16,17,18,19,20,21,22,23,24,25,26,27,28,29,30,31,32,33,34,35,36,37,38,39,40,41,42,43,44,45,46,47,48,49,50,51,52,53],\"ticktext\":[1,2,3,4,5,6,7,8,9,10,11,12,13,14,15,16,17,18,19,20,21,22,23,24,25,26,27,28,29,30,31,32,33,34,35,36,37,38,39,40,41,42,43,44,45,46,47,48,49,50,51,52]},\"yaxis2\":{\"anchor\":\"x2\",\"domain\":[0.0,0.276],\"visible\":false},\"annotations\":[{\"font\":{\"size\":16},\"showarrow\":false,\"text\":\"Month wise Avg Sales Analysis\",\"x\":0.315,\"xanchor\":\"center\",\"xref\":\"paper\",\"y\":1.0,\"yanchor\":\"bottom\",\"yref\":\"paper\"},{\"font\":{\"size\":16},\"showarrow\":false,\"text\":\"Quarter wise Avg Sales Analysis\",\"x\":0.865,\"xanchor\":\"center\",\"xref\":\"paper\",\"y\":1.0,\"yanchor\":\"bottom\",\"yref\":\"paper\"},{\"font\":{\"size\":16},\"showarrow\":false,\"text\":\"Week wise Avg Sales Analysis\",\"x\":0.5,\"xanchor\":\"center\",\"xref\":\"paper\",\"y\":0.276,\"yanchor\":\"bottom\",\"yref\":\"paper\"}],\"margin\":{\"b\":0,\"r\":20,\"l\":20},\"title\":{\"font\":{\"size\":25,\"color\":\"#8a8d93\",\"family\":\"Lato, sans-serif\"},\"text\":\"Average Sales Analysis\"},\"font\":{\"color\":\"#8a8d93\"},\"hoverlabel\":{\"font\":{\"size\":13,\"family\":\"Lato, sans-serif\"},\"bgcolor\":\"#f2f2f2\"},\"height\":750,\"bargap\":0.15,\"showlegend\":false},                        {\"responsive\": true}                    ).then(function(){\n",
       "                            \n",
       "var gd = document.getElementById('43bd6c34-6bcd-410e-bc6b-c158e6b658e8');\n",
       "var x = new MutationObserver(function (mutations, observer) {{\n",
       "        var display = window.getComputedStyle(gd).display;\n",
       "        if (!display || display === 'none') {{\n",
       "            console.log([gd, 'removed!']);\n",
       "            Plotly.purge(gd);\n",
       "            observer.disconnect();\n",
       "        }}\n",
       "}});\n",
       "\n",
       "// Listen for the removal of the full notebook cells\n",
       "var notebookContainer = gd.closest('#notebook-container');\n",
       "if (notebookContainer) {{\n",
       "    x.observe(notebookContainer, {childList: true});\n",
       "}}\n",
       "\n",
       "// Listen for the clearing of the current output cell\n",
       "var outputEl = gd.closest('.output');\n",
       "if (outputEl) {{\n",
       "    x.observe(outputEl, {childList: true});\n",
       "}}\n",
       "\n",
       "                        })                };                });            </script>        </div>"
      ]
     },
     "metadata": {},
     "output_type": "display_data"
    }
   ],
   "source": [
    "# Trend wise by months and weeks \n",
    "df_m_sa = train1.groupby('month').agg({\"sales\" : \"mean\"}).reset_index()\n",
    "df_m_sa['sales'] = round(df_m_sa['sales'],2)\n",
    "df_m_sa['month_text'] = df_m_sa['month'].apply(lambda x: calendar.month_abbr[x])\n",
    "df_m_sa['text'] = df_m_sa['month_text'] + ' - ' + df_m_sa['sales'].astype(str) \n",
    "\n",
    "df_w_sa = train1.groupby('week').agg({\"sales\" : \"mean\"}).reset_index() \n",
    "df_q_sa = train1.groupby('quarter').agg({\"sales\" : \"mean\"}).reset_index() \n",
    "# chart color\n",
    "df_m_sa['color'] = '#496595'\n",
    "df_m_sa['color'][:-1] = '#c6ccd8'\n",
    "df_w_sa['color'] = '#c6ccd8'\n",
    "\n",
    "# chart\n",
    "fig = make_subplots(rows=2, cols=2, vertical_spacing=0.08,\n",
    "                    row_heights=[0.7, 0.3], \n",
    "                    specs=[[{\"type\": \"bar\"}, {\"type\": \"pie\"}],\n",
    "                           [{\"colspan\": 2}, None]],\n",
    "                    column_widths=[0.7, 0.3],\n",
    "                    subplot_titles=(\"Month wise Avg Sales Analysis\", \"Quarter wise Avg Sales Analysis\", \n",
    "                                    \"Week wise Avg Sales Analysis\"))\n",
    "\n",
    "fig.add_trace(go.Bar(x=df_m_sa['sales'], y=df_m_sa['month'], marker=dict(color= df_m_sa['color']),\n",
    "                     text=df_m_sa['text'],textposition='auto',\n",
    "                     name='Month', orientation='h'), \n",
    "                     row=1, col=1)\n",
    "fig.add_trace(go.Pie(values=df_q_sa['sales'], labels=df_q_sa['quarter'], name='Quarter',\n",
    "                     marker=dict(colors=['#334668','#496595','#6D83AA','#91A2BF','#C8D0DF']), hole=0.7,\n",
    "                     hoverinfo='label+percent+value', textinfo='label+percent'), \n",
    "                     row=1, col=2)\n",
    "fig.add_trace(go.Scatter(x=df_w_sa['week'], y=df_w_sa['sales'], mode='lines+markers', fill='tozeroy', fillcolor='#c6ccd8',\n",
    "                     marker=dict(color= '#496595'), name='Week'), \n",
    "                     row=2, col=1)\n",
    "\n",
    "# styling\n",
    "fig.update_yaxes(visible=False, row=1, col=1)\n",
    "fig.update_xaxes(visible=False, row=1, col=1)\n",
    "fig.update_xaxes(tickmode = 'array', tickvals=df_w_sa.week, ticktext=[i for i in range(1,53)], \n",
    "                 row=2, col=1)\n",
    "fig.update_yaxes(visible=False, row=2, col=1)\n",
    "fig.update_layout(height=750, bargap=0.15,\n",
    "                  margin=dict(b=0,r=20,l=20), \n",
    "                  title_text=\"Average Sales Analysis\",\n",
    "                  template=\"plotly_white\",\n",
    "                  title_font=dict(size=25, color='#8a8d93', family=\"Lato, sans-serif\"),\n",
    "                  font=dict(color='#8a8d93'),\n",
    "                  hoverlabel=dict(bgcolor=\"#f2f2f2\", font_size=13, font_family=\"Lato, sans-serif\"),\n",
    "                  showlegend=False)\n",
    "fig.show()"
   ]
  },
  {
   "cell_type": "code",
   "execution_count": 20,
   "id": "432606be",
   "metadata": {},
   "outputs": [
    {
     "data": {
      "application/vnd.plotly.v1+json": {
       "config": {
        "plotlyServerURL": "https://plot.ly"
       },
       "data": [
        {
         "alignmentgroup": "True",
         "hovertemplate": "sales=%{text}<br>day_of_week=%{y}<extra></extra>",
         "legendgroup": "",
         "marker": {
          "color": "#c6ccd8",
          "pattern": {
           "shape": ""
          }
         },
         "name": "",
         "offsetgroup": "",
         "orientation": "h",
         "showlegend": false,
         "text": [
          326.73,
          348.16,
          434.79,
          464.74,
          286.57,
          319.92,
          330.77
         ],
         "textposition": "auto",
         "type": "bar",
         "x": [
          326.73,
          348.16,
          434.79,
          464.74,
          286.57,
          319.92,
          330.77
         ],
         "xaxis": "x",
         "y": [
          "Friday",
          "Monday",
          "Saturday",
          "Sunday",
          "Thursday",
          "Tuesday",
          "Wednesday"
         ],
         "yaxis": "y"
        }
       ],
       "layout": {
        "barmode": "relative",
        "font": {
         "color": "#8a8d93"
        },
        "height": 350,
        "hoverlabel": {
         "bgcolor": "#c6ccd8",
         "font": {
          "family": "Lato, sans-serif",
          "size": 13
         }
        },
        "hovermode": "y unified",
        "legend": {
         "tracegroupgap": 0
        },
        "margin": {
         "b": 0,
         "l": 0,
         "r": 0,
         "t": 60
        },
        "template": {
         "data": {
          "bar": [
           {
            "error_x": {
             "color": "#2a3f5f"
            },
            "error_y": {
             "color": "#2a3f5f"
            },
            "marker": {
             "line": {
              "color": "white",
              "width": 0.5
             },
             "pattern": {
              "fillmode": "overlay",
              "size": 10,
              "solidity": 0.2
             }
            },
            "type": "bar"
           }
          ],
          "barpolar": [
           {
            "marker": {
             "line": {
              "color": "white",
              "width": 0.5
             },
             "pattern": {
              "fillmode": "overlay",
              "size": 10,
              "solidity": 0.2
             }
            },
            "type": "barpolar"
           }
          ],
          "carpet": [
           {
            "aaxis": {
             "endlinecolor": "#2a3f5f",
             "gridcolor": "#C8D4E3",
             "linecolor": "#C8D4E3",
             "minorgridcolor": "#C8D4E3",
             "startlinecolor": "#2a3f5f"
            },
            "baxis": {
             "endlinecolor": "#2a3f5f",
             "gridcolor": "#C8D4E3",
             "linecolor": "#C8D4E3",
             "minorgridcolor": "#C8D4E3",
             "startlinecolor": "#2a3f5f"
            },
            "type": "carpet"
           }
          ],
          "choropleth": [
           {
            "colorbar": {
             "outlinewidth": 0,
             "ticks": ""
            },
            "type": "choropleth"
           }
          ],
          "contour": [
           {
            "colorbar": {
             "outlinewidth": 0,
             "ticks": ""
            },
            "colorscale": [
             [
              0,
              "#0d0887"
             ],
             [
              0.1111111111111111,
              "#46039f"
             ],
             [
              0.2222222222222222,
              "#7201a8"
             ],
             [
              0.3333333333333333,
              "#9c179e"
             ],
             [
              0.4444444444444444,
              "#bd3786"
             ],
             [
              0.5555555555555556,
              "#d8576b"
             ],
             [
              0.6666666666666666,
              "#ed7953"
             ],
             [
              0.7777777777777778,
              "#fb9f3a"
             ],
             [
              0.8888888888888888,
              "#fdca26"
             ],
             [
              1,
              "#f0f921"
             ]
            ],
            "type": "contour"
           }
          ],
          "contourcarpet": [
           {
            "colorbar": {
             "outlinewidth": 0,
             "ticks": ""
            },
            "type": "contourcarpet"
           }
          ],
          "heatmap": [
           {
            "colorbar": {
             "outlinewidth": 0,
             "ticks": ""
            },
            "colorscale": [
             [
              0,
              "#0d0887"
             ],
             [
              0.1111111111111111,
              "#46039f"
             ],
             [
              0.2222222222222222,
              "#7201a8"
             ],
             [
              0.3333333333333333,
              "#9c179e"
             ],
             [
              0.4444444444444444,
              "#bd3786"
             ],
             [
              0.5555555555555556,
              "#d8576b"
             ],
             [
              0.6666666666666666,
              "#ed7953"
             ],
             [
              0.7777777777777778,
              "#fb9f3a"
             ],
             [
              0.8888888888888888,
              "#fdca26"
             ],
             [
              1,
              "#f0f921"
             ]
            ],
            "type": "heatmap"
           }
          ],
          "heatmapgl": [
           {
            "colorbar": {
             "outlinewidth": 0,
             "ticks": ""
            },
            "colorscale": [
             [
              0,
              "#0d0887"
             ],
             [
              0.1111111111111111,
              "#46039f"
             ],
             [
              0.2222222222222222,
              "#7201a8"
             ],
             [
              0.3333333333333333,
              "#9c179e"
             ],
             [
              0.4444444444444444,
              "#bd3786"
             ],
             [
              0.5555555555555556,
              "#d8576b"
             ],
             [
              0.6666666666666666,
              "#ed7953"
             ],
             [
              0.7777777777777778,
              "#fb9f3a"
             ],
             [
              0.8888888888888888,
              "#fdca26"
             ],
             [
              1,
              "#f0f921"
             ]
            ],
            "type": "heatmapgl"
           }
          ],
          "histogram": [
           {
            "marker": {
             "pattern": {
              "fillmode": "overlay",
              "size": 10,
              "solidity": 0.2
             }
            },
            "type": "histogram"
           }
          ],
          "histogram2d": [
           {
            "colorbar": {
             "outlinewidth": 0,
             "ticks": ""
            },
            "colorscale": [
             [
              0,
              "#0d0887"
             ],
             [
              0.1111111111111111,
              "#46039f"
             ],
             [
              0.2222222222222222,
              "#7201a8"
             ],
             [
              0.3333333333333333,
              "#9c179e"
             ],
             [
              0.4444444444444444,
              "#bd3786"
             ],
             [
              0.5555555555555556,
              "#d8576b"
             ],
             [
              0.6666666666666666,
              "#ed7953"
             ],
             [
              0.7777777777777778,
              "#fb9f3a"
             ],
             [
              0.8888888888888888,
              "#fdca26"
             ],
             [
              1,
              "#f0f921"
             ]
            ],
            "type": "histogram2d"
           }
          ],
          "histogram2dcontour": [
           {
            "colorbar": {
             "outlinewidth": 0,
             "ticks": ""
            },
            "colorscale": [
             [
              0,
              "#0d0887"
             ],
             [
              0.1111111111111111,
              "#46039f"
             ],
             [
              0.2222222222222222,
              "#7201a8"
             ],
             [
              0.3333333333333333,
              "#9c179e"
             ],
             [
              0.4444444444444444,
              "#bd3786"
             ],
             [
              0.5555555555555556,
              "#d8576b"
             ],
             [
              0.6666666666666666,
              "#ed7953"
             ],
             [
              0.7777777777777778,
              "#fb9f3a"
             ],
             [
              0.8888888888888888,
              "#fdca26"
             ],
             [
              1,
              "#f0f921"
             ]
            ],
            "type": "histogram2dcontour"
           }
          ],
          "mesh3d": [
           {
            "colorbar": {
             "outlinewidth": 0,
             "ticks": ""
            },
            "type": "mesh3d"
           }
          ],
          "parcoords": [
           {
            "line": {
             "colorbar": {
              "outlinewidth": 0,
              "ticks": ""
             }
            },
            "type": "parcoords"
           }
          ],
          "pie": [
           {
            "automargin": true,
            "type": "pie"
           }
          ],
          "scatter": [
           {
            "fillpattern": {
             "fillmode": "overlay",
             "size": 10,
             "solidity": 0.2
            },
            "type": "scatter"
           }
          ],
          "scatter3d": [
           {
            "line": {
             "colorbar": {
              "outlinewidth": 0,
              "ticks": ""
             }
            },
            "marker": {
             "colorbar": {
              "outlinewidth": 0,
              "ticks": ""
             }
            },
            "type": "scatter3d"
           }
          ],
          "scattercarpet": [
           {
            "marker": {
             "colorbar": {
              "outlinewidth": 0,
              "ticks": ""
             }
            },
            "type": "scattercarpet"
           }
          ],
          "scattergeo": [
           {
            "marker": {
             "colorbar": {
              "outlinewidth": 0,
              "ticks": ""
             }
            },
            "type": "scattergeo"
           }
          ],
          "scattergl": [
           {
            "marker": {
             "colorbar": {
              "outlinewidth": 0,
              "ticks": ""
             }
            },
            "type": "scattergl"
           }
          ],
          "scattermapbox": [
           {
            "marker": {
             "colorbar": {
              "outlinewidth": 0,
              "ticks": ""
             }
            },
            "type": "scattermapbox"
           }
          ],
          "scatterpolar": [
           {
            "marker": {
             "colorbar": {
              "outlinewidth": 0,
              "ticks": ""
             }
            },
            "type": "scatterpolar"
           }
          ],
          "scatterpolargl": [
           {
            "marker": {
             "colorbar": {
              "outlinewidth": 0,
              "ticks": ""
             }
            },
            "type": "scatterpolargl"
           }
          ],
          "scatterternary": [
           {
            "marker": {
             "colorbar": {
              "outlinewidth": 0,
              "ticks": ""
             }
            },
            "type": "scatterternary"
           }
          ],
          "surface": [
           {
            "colorbar": {
             "outlinewidth": 0,
             "ticks": ""
            },
            "colorscale": [
             [
              0,
              "#0d0887"
             ],
             [
              0.1111111111111111,
              "#46039f"
             ],
             [
              0.2222222222222222,
              "#7201a8"
             ],
             [
              0.3333333333333333,
              "#9c179e"
             ],
             [
              0.4444444444444444,
              "#bd3786"
             ],
             [
              0.5555555555555556,
              "#d8576b"
             ],
             [
              0.6666666666666666,
              "#ed7953"
             ],
             [
              0.7777777777777778,
              "#fb9f3a"
             ],
             [
              0.8888888888888888,
              "#fdca26"
             ],
             [
              1,
              "#f0f921"
             ]
            ],
            "type": "surface"
           }
          ],
          "table": [
           {
            "cells": {
             "fill": {
              "color": "#EBF0F8"
             },
             "line": {
              "color": "white"
             }
            },
            "header": {
             "fill": {
              "color": "#C8D4E3"
             },
             "line": {
              "color": "white"
             }
            },
            "type": "table"
           }
          ]
         },
         "layout": {
          "annotationdefaults": {
           "arrowcolor": "#2a3f5f",
           "arrowhead": 0,
           "arrowwidth": 1
          },
          "autotypenumbers": "strict",
          "coloraxis": {
           "colorbar": {
            "outlinewidth": 0,
            "ticks": ""
           }
          },
          "colorscale": {
           "diverging": [
            [
             0,
             "#8e0152"
            ],
            [
             0.1,
             "#c51b7d"
            ],
            [
             0.2,
             "#de77ae"
            ],
            [
             0.3,
             "#f1b6da"
            ],
            [
             0.4,
             "#fde0ef"
            ],
            [
             0.5,
             "#f7f7f7"
            ],
            [
             0.6,
             "#e6f5d0"
            ],
            [
             0.7,
             "#b8e186"
            ],
            [
             0.8,
             "#7fbc41"
            ],
            [
             0.9,
             "#4d9221"
            ],
            [
             1,
             "#276419"
            ]
           ],
           "sequential": [
            [
             0,
             "#0d0887"
            ],
            [
             0.1111111111111111,
             "#46039f"
            ],
            [
             0.2222222222222222,
             "#7201a8"
            ],
            [
             0.3333333333333333,
             "#9c179e"
            ],
            [
             0.4444444444444444,
             "#bd3786"
            ],
            [
             0.5555555555555556,
             "#d8576b"
            ],
            [
             0.6666666666666666,
             "#ed7953"
            ],
            [
             0.7777777777777778,
             "#fb9f3a"
            ],
            [
             0.8888888888888888,
             "#fdca26"
            ],
            [
             1,
             "#f0f921"
            ]
           ],
           "sequentialminus": [
            [
             0,
             "#0d0887"
            ],
            [
             0.1111111111111111,
             "#46039f"
            ],
            [
             0.2222222222222222,
             "#7201a8"
            ],
            [
             0.3333333333333333,
             "#9c179e"
            ],
            [
             0.4444444444444444,
             "#bd3786"
            ],
            [
             0.5555555555555556,
             "#d8576b"
            ],
            [
             0.6666666666666666,
             "#ed7953"
            ],
            [
             0.7777777777777778,
             "#fb9f3a"
            ],
            [
             0.8888888888888888,
             "#fdca26"
            ],
            [
             1,
             "#f0f921"
            ]
           ]
          },
          "colorway": [
           "#636efa",
           "#EF553B",
           "#00cc96",
           "#ab63fa",
           "#FFA15A",
           "#19d3f3",
           "#FF6692",
           "#B6E880",
           "#FF97FF",
           "#FECB52"
          ],
          "font": {
           "color": "#2a3f5f"
          },
          "geo": {
           "bgcolor": "white",
           "lakecolor": "white",
           "landcolor": "white",
           "showlakes": true,
           "showland": true,
           "subunitcolor": "#C8D4E3"
          },
          "hoverlabel": {
           "align": "left"
          },
          "hovermode": "closest",
          "mapbox": {
           "style": "light"
          },
          "paper_bgcolor": "white",
          "plot_bgcolor": "white",
          "polar": {
           "angularaxis": {
            "gridcolor": "#EBF0F8",
            "linecolor": "#EBF0F8",
            "ticks": ""
           },
           "bgcolor": "white",
           "radialaxis": {
            "gridcolor": "#EBF0F8",
            "linecolor": "#EBF0F8",
            "ticks": ""
           }
          },
          "scene": {
           "xaxis": {
            "backgroundcolor": "white",
            "gridcolor": "#DFE8F3",
            "gridwidth": 2,
            "linecolor": "#EBF0F8",
            "showbackground": true,
            "ticks": "",
            "zerolinecolor": "#EBF0F8"
           },
           "yaxis": {
            "backgroundcolor": "white",
            "gridcolor": "#DFE8F3",
            "gridwidth": 2,
            "linecolor": "#EBF0F8",
            "showbackground": true,
            "ticks": "",
            "zerolinecolor": "#EBF0F8"
           },
           "zaxis": {
            "backgroundcolor": "white",
            "gridcolor": "#DFE8F3",
            "gridwidth": 2,
            "linecolor": "#EBF0F8",
            "showbackground": true,
            "ticks": "",
            "zerolinecolor": "#EBF0F8"
           }
          },
          "shapedefaults": {
           "line": {
            "color": "#2a3f5f"
           }
          },
          "ternary": {
           "aaxis": {
            "gridcolor": "#DFE8F3",
            "linecolor": "#A2B1C6",
            "ticks": ""
           },
           "baxis": {
            "gridcolor": "#DFE8F3",
            "linecolor": "#A2B1C6",
            "ticks": ""
           },
           "bgcolor": "white",
           "caxis": {
            "gridcolor": "#DFE8F3",
            "linecolor": "#A2B1C6",
            "ticks": ""
           }
          },
          "title": {
           "x": 0.05
          },
          "xaxis": {
           "automargin": true,
           "gridcolor": "#EBF0F8",
           "linecolor": "#EBF0F8",
           "ticks": "",
           "title": {
            "standoff": 15
           },
           "zerolinecolor": "#EBF0F8",
           "zerolinewidth": 2
          },
          "yaxis": {
           "automargin": true,
           "gridcolor": "#EBF0F8",
           "linecolor": "#EBF0F8",
           "ticks": "",
           "title": {
            "standoff": 15
           },
           "zerolinecolor": "#EBF0F8",
           "zerolinewidth": 2
          }
         }
        },
        "title": {
         "font": {
          "color": "#8a8d93",
          "family": "Lato, sans-serif",
          "size": 25
         },
         "text": "Avg Sales vs Day of Week"
        },
        "xaxis": {
         "anchor": "y",
         "domain": [
          0,
          1
         ],
         "title": {
          "text": "sales"
         },
         "visible": false
        },
        "yaxis": {
         "anchor": "x",
         "categoryarray": [
          "Sunday",
          "Saturday",
          "Friday",
          "Thursday",
          "Wednesday",
          "Tuesday",
          "Monday"
         ],
         "categoryorder": "array",
         "domain": [
          0,
          1
         ],
         "showgrid": false,
         "showline": false,
         "ticksuffix": " ",
         "title": {
          "text": " "
         }
        }
       }
      },
      "text/html": [
       "<div>                            <div id=\"17359c36-ce03-494c-8412-393d9d3cdec7\" class=\"plotly-graph-div\" style=\"height:350px; width:100%;\"></div>            <script type=\"text/javascript\">                require([\"plotly\"], function(Plotly) {                    window.PLOTLYENV=window.PLOTLYENV || {};                                    if (document.getElementById(\"17359c36-ce03-494c-8412-393d9d3cdec7\")) {                    Plotly.newPlot(                        \"17359c36-ce03-494c-8412-393d9d3cdec7\",                        [{\"alignmentgroup\":\"True\",\"hovertemplate\":\"sales=%{text}<br>day_of_week=%{y}<extra></extra>\",\"legendgroup\":\"\",\"marker\":{\"color\":\"#c6ccd8\",\"pattern\":{\"shape\":\"\"}},\"name\":\"\",\"offsetgroup\":\"\",\"orientation\":\"h\",\"showlegend\":false,\"text\":[326.73,348.16,434.79,464.74,286.57,319.92,330.77],\"textposition\":\"auto\",\"x\":[326.73,348.16,434.79,464.74,286.57,319.92,330.77],\"xaxis\":\"x\",\"y\":[\"Friday\",\"Monday\",\"Saturday\",\"Sunday\",\"Thursday\",\"Tuesday\",\"Wednesday\"],\"yaxis\":\"y\",\"type\":\"bar\"}],                        {\"template\":{\"data\":{\"barpolar\":[{\"marker\":{\"line\":{\"color\":\"white\",\"width\":0.5},\"pattern\":{\"fillmode\":\"overlay\",\"size\":10,\"solidity\":0.2}},\"type\":\"barpolar\"}],\"bar\":[{\"error_x\":{\"color\":\"#2a3f5f\"},\"error_y\":{\"color\":\"#2a3f5f\"},\"marker\":{\"line\":{\"color\":\"white\",\"width\":0.5},\"pattern\":{\"fillmode\":\"overlay\",\"size\":10,\"solidity\":0.2}},\"type\":\"bar\"}],\"carpet\":[{\"aaxis\":{\"endlinecolor\":\"#2a3f5f\",\"gridcolor\":\"#C8D4E3\",\"linecolor\":\"#C8D4E3\",\"minorgridcolor\":\"#C8D4E3\",\"startlinecolor\":\"#2a3f5f\"},\"baxis\":{\"endlinecolor\":\"#2a3f5f\",\"gridcolor\":\"#C8D4E3\",\"linecolor\":\"#C8D4E3\",\"minorgridcolor\":\"#C8D4E3\",\"startlinecolor\":\"#2a3f5f\"},\"type\":\"carpet\"}],\"choropleth\":[{\"colorbar\":{\"outlinewidth\":0,\"ticks\":\"\"},\"type\":\"choropleth\"}],\"contourcarpet\":[{\"colorbar\":{\"outlinewidth\":0,\"ticks\":\"\"},\"type\":\"contourcarpet\"}],\"contour\":[{\"colorbar\":{\"outlinewidth\":0,\"ticks\":\"\"},\"colorscale\":[[0.0,\"#0d0887\"],[0.1111111111111111,\"#46039f\"],[0.2222222222222222,\"#7201a8\"],[0.3333333333333333,\"#9c179e\"],[0.4444444444444444,\"#bd3786\"],[0.5555555555555556,\"#d8576b\"],[0.6666666666666666,\"#ed7953\"],[0.7777777777777778,\"#fb9f3a\"],[0.8888888888888888,\"#fdca26\"],[1.0,\"#f0f921\"]],\"type\":\"contour\"}],\"heatmapgl\":[{\"colorbar\":{\"outlinewidth\":0,\"ticks\":\"\"},\"colorscale\":[[0.0,\"#0d0887\"],[0.1111111111111111,\"#46039f\"],[0.2222222222222222,\"#7201a8\"],[0.3333333333333333,\"#9c179e\"],[0.4444444444444444,\"#bd3786\"],[0.5555555555555556,\"#d8576b\"],[0.6666666666666666,\"#ed7953\"],[0.7777777777777778,\"#fb9f3a\"],[0.8888888888888888,\"#fdca26\"],[1.0,\"#f0f921\"]],\"type\":\"heatmapgl\"}],\"heatmap\":[{\"colorbar\":{\"outlinewidth\":0,\"ticks\":\"\"},\"colorscale\":[[0.0,\"#0d0887\"],[0.1111111111111111,\"#46039f\"],[0.2222222222222222,\"#7201a8\"],[0.3333333333333333,\"#9c179e\"],[0.4444444444444444,\"#bd3786\"],[0.5555555555555556,\"#d8576b\"],[0.6666666666666666,\"#ed7953\"],[0.7777777777777778,\"#fb9f3a\"],[0.8888888888888888,\"#fdca26\"],[1.0,\"#f0f921\"]],\"type\":\"heatmap\"}],\"histogram2dcontour\":[{\"colorbar\":{\"outlinewidth\":0,\"ticks\":\"\"},\"colorscale\":[[0.0,\"#0d0887\"],[0.1111111111111111,\"#46039f\"],[0.2222222222222222,\"#7201a8\"],[0.3333333333333333,\"#9c179e\"],[0.4444444444444444,\"#bd3786\"],[0.5555555555555556,\"#d8576b\"],[0.6666666666666666,\"#ed7953\"],[0.7777777777777778,\"#fb9f3a\"],[0.8888888888888888,\"#fdca26\"],[1.0,\"#f0f921\"]],\"type\":\"histogram2dcontour\"}],\"histogram2d\":[{\"colorbar\":{\"outlinewidth\":0,\"ticks\":\"\"},\"colorscale\":[[0.0,\"#0d0887\"],[0.1111111111111111,\"#46039f\"],[0.2222222222222222,\"#7201a8\"],[0.3333333333333333,\"#9c179e\"],[0.4444444444444444,\"#bd3786\"],[0.5555555555555556,\"#d8576b\"],[0.6666666666666666,\"#ed7953\"],[0.7777777777777778,\"#fb9f3a\"],[0.8888888888888888,\"#fdca26\"],[1.0,\"#f0f921\"]],\"type\":\"histogram2d\"}],\"histogram\":[{\"marker\":{\"pattern\":{\"fillmode\":\"overlay\",\"size\":10,\"solidity\":0.2}},\"type\":\"histogram\"}],\"mesh3d\":[{\"colorbar\":{\"outlinewidth\":0,\"ticks\":\"\"},\"type\":\"mesh3d\"}],\"parcoords\":[{\"line\":{\"colorbar\":{\"outlinewidth\":0,\"ticks\":\"\"}},\"type\":\"parcoords\"}],\"pie\":[{\"automargin\":true,\"type\":\"pie\"}],\"scatter3d\":[{\"line\":{\"colorbar\":{\"outlinewidth\":0,\"ticks\":\"\"}},\"marker\":{\"colorbar\":{\"outlinewidth\":0,\"ticks\":\"\"}},\"type\":\"scatter3d\"}],\"scattercarpet\":[{\"marker\":{\"colorbar\":{\"outlinewidth\":0,\"ticks\":\"\"}},\"type\":\"scattercarpet\"}],\"scattergeo\":[{\"marker\":{\"colorbar\":{\"outlinewidth\":0,\"ticks\":\"\"}},\"type\":\"scattergeo\"}],\"scattergl\":[{\"marker\":{\"colorbar\":{\"outlinewidth\":0,\"ticks\":\"\"}},\"type\":\"scattergl\"}],\"scattermapbox\":[{\"marker\":{\"colorbar\":{\"outlinewidth\":0,\"ticks\":\"\"}},\"type\":\"scattermapbox\"}],\"scatterpolargl\":[{\"marker\":{\"colorbar\":{\"outlinewidth\":0,\"ticks\":\"\"}},\"type\":\"scatterpolargl\"}],\"scatterpolar\":[{\"marker\":{\"colorbar\":{\"outlinewidth\":0,\"ticks\":\"\"}},\"type\":\"scatterpolar\"}],\"scatter\":[{\"fillpattern\":{\"fillmode\":\"overlay\",\"size\":10,\"solidity\":0.2},\"type\":\"scatter\"}],\"scatterternary\":[{\"marker\":{\"colorbar\":{\"outlinewidth\":0,\"ticks\":\"\"}},\"type\":\"scatterternary\"}],\"surface\":[{\"colorbar\":{\"outlinewidth\":0,\"ticks\":\"\"},\"colorscale\":[[0.0,\"#0d0887\"],[0.1111111111111111,\"#46039f\"],[0.2222222222222222,\"#7201a8\"],[0.3333333333333333,\"#9c179e\"],[0.4444444444444444,\"#bd3786\"],[0.5555555555555556,\"#d8576b\"],[0.6666666666666666,\"#ed7953\"],[0.7777777777777778,\"#fb9f3a\"],[0.8888888888888888,\"#fdca26\"],[1.0,\"#f0f921\"]],\"type\":\"surface\"}],\"table\":[{\"cells\":{\"fill\":{\"color\":\"#EBF0F8\"},\"line\":{\"color\":\"white\"}},\"header\":{\"fill\":{\"color\":\"#C8D4E3\"},\"line\":{\"color\":\"white\"}},\"type\":\"table\"}]},\"layout\":{\"annotationdefaults\":{\"arrowcolor\":\"#2a3f5f\",\"arrowhead\":0,\"arrowwidth\":1},\"autotypenumbers\":\"strict\",\"coloraxis\":{\"colorbar\":{\"outlinewidth\":0,\"ticks\":\"\"}},\"colorscale\":{\"diverging\":[[0,\"#8e0152\"],[0.1,\"#c51b7d\"],[0.2,\"#de77ae\"],[0.3,\"#f1b6da\"],[0.4,\"#fde0ef\"],[0.5,\"#f7f7f7\"],[0.6,\"#e6f5d0\"],[0.7,\"#b8e186\"],[0.8,\"#7fbc41\"],[0.9,\"#4d9221\"],[1,\"#276419\"]],\"sequential\":[[0.0,\"#0d0887\"],[0.1111111111111111,\"#46039f\"],[0.2222222222222222,\"#7201a8\"],[0.3333333333333333,\"#9c179e\"],[0.4444444444444444,\"#bd3786\"],[0.5555555555555556,\"#d8576b\"],[0.6666666666666666,\"#ed7953\"],[0.7777777777777778,\"#fb9f3a\"],[0.8888888888888888,\"#fdca26\"],[1.0,\"#f0f921\"]],\"sequentialminus\":[[0.0,\"#0d0887\"],[0.1111111111111111,\"#46039f\"],[0.2222222222222222,\"#7201a8\"],[0.3333333333333333,\"#9c179e\"],[0.4444444444444444,\"#bd3786\"],[0.5555555555555556,\"#d8576b\"],[0.6666666666666666,\"#ed7953\"],[0.7777777777777778,\"#fb9f3a\"],[0.8888888888888888,\"#fdca26\"],[1.0,\"#f0f921\"]]},\"colorway\":[\"#636efa\",\"#EF553B\",\"#00cc96\",\"#ab63fa\",\"#FFA15A\",\"#19d3f3\",\"#FF6692\",\"#B6E880\",\"#FF97FF\",\"#FECB52\"],\"font\":{\"color\":\"#2a3f5f\"},\"geo\":{\"bgcolor\":\"white\",\"lakecolor\":\"white\",\"landcolor\":\"white\",\"showlakes\":true,\"showland\":true,\"subunitcolor\":\"#C8D4E3\"},\"hoverlabel\":{\"align\":\"left\"},\"hovermode\":\"closest\",\"mapbox\":{\"style\":\"light\"},\"paper_bgcolor\":\"white\",\"plot_bgcolor\":\"white\",\"polar\":{\"angularaxis\":{\"gridcolor\":\"#EBF0F8\",\"linecolor\":\"#EBF0F8\",\"ticks\":\"\"},\"bgcolor\":\"white\",\"radialaxis\":{\"gridcolor\":\"#EBF0F8\",\"linecolor\":\"#EBF0F8\",\"ticks\":\"\"}},\"scene\":{\"xaxis\":{\"backgroundcolor\":\"white\",\"gridcolor\":\"#DFE8F3\",\"gridwidth\":2,\"linecolor\":\"#EBF0F8\",\"showbackground\":true,\"ticks\":\"\",\"zerolinecolor\":\"#EBF0F8\"},\"yaxis\":{\"backgroundcolor\":\"white\",\"gridcolor\":\"#DFE8F3\",\"gridwidth\":2,\"linecolor\":\"#EBF0F8\",\"showbackground\":true,\"ticks\":\"\",\"zerolinecolor\":\"#EBF0F8\"},\"zaxis\":{\"backgroundcolor\":\"white\",\"gridcolor\":\"#DFE8F3\",\"gridwidth\":2,\"linecolor\":\"#EBF0F8\",\"showbackground\":true,\"ticks\":\"\",\"zerolinecolor\":\"#EBF0F8\"}},\"shapedefaults\":{\"line\":{\"color\":\"#2a3f5f\"}},\"ternary\":{\"aaxis\":{\"gridcolor\":\"#DFE8F3\",\"linecolor\":\"#A2B1C6\",\"ticks\":\"\"},\"baxis\":{\"gridcolor\":\"#DFE8F3\",\"linecolor\":\"#A2B1C6\",\"ticks\":\"\"},\"bgcolor\":\"white\",\"caxis\":{\"gridcolor\":\"#DFE8F3\",\"linecolor\":\"#A2B1C6\",\"ticks\":\"\"}},\"title\":{\"x\":0.05},\"xaxis\":{\"automargin\":true,\"gridcolor\":\"#EBF0F8\",\"linecolor\":\"#EBF0F8\",\"ticks\":\"\",\"title\":{\"standoff\":15},\"zerolinecolor\":\"#EBF0F8\",\"zerolinewidth\":2},\"yaxis\":{\"automargin\":true,\"gridcolor\":\"#EBF0F8\",\"linecolor\":\"#EBF0F8\",\"ticks\":\"\",\"title\":{\"standoff\":15},\"zerolinecolor\":\"#EBF0F8\",\"zerolinewidth\":2}}},\"xaxis\":{\"anchor\":\"y\",\"domain\":[0.0,1.0],\"title\":{\"text\":\"sales\"},\"visible\":false},\"yaxis\":{\"anchor\":\"x\",\"domain\":[0.0,1.0],\"title\":{\"text\":\" \"},\"categoryorder\":\"array\",\"categoryarray\":[\"Sunday\",\"Saturday\",\"Friday\",\"Thursday\",\"Wednesday\",\"Tuesday\",\"Monday\"],\"showgrid\":false,\"ticksuffix\":\" \",\"showline\":false},\"legend\":{\"tracegroupgap\":0},\"title\":{\"text\":\"Avg Sales vs Day of Week\",\"font\":{\"size\":25,\"color\":\"#8a8d93\",\"family\":\"Lato, sans-serif\"}},\"barmode\":\"relative\",\"margin\":{\"t\":60,\"b\":0,\"l\":0,\"r\":0},\"font\":{\"color\":\"#8a8d93\"},\"hoverlabel\":{\"font\":{\"size\":13,\"family\":\"Lato, sans-serif\"},\"bgcolor\":\"#c6ccd8\"},\"height\":350,\"hovermode\":\"y unified\"},                        {\"responsive\": true}                    ).then(function(){\n",
       "                            \n",
       "var gd = document.getElementById('17359c36-ce03-494c-8412-393d9d3cdec7');\n",
       "var x = new MutationObserver(function (mutations, observer) {{\n",
       "        var display = window.getComputedStyle(gd).display;\n",
       "        if (!display || display === 'none') {{\n",
       "            console.log([gd, 'removed!']);\n",
       "            Plotly.purge(gd);\n",
       "            observer.disconnect();\n",
       "        }}\n",
       "}});\n",
       "\n",
       "// Listen for the removal of the full notebook cells\n",
       "var notebookContainer = gd.closest('#notebook-container');\n",
       "if (notebookContainer) {{\n",
       "    x.observe(notebookContainer, {childList: true});\n",
       "}}\n",
       "\n",
       "// Listen for the clearing of the current output cell\n",
       "var outputEl = gd.closest('.output');\n",
       "if (outputEl) {{\n",
       "    x.observe(outputEl, {childList: true});\n",
       "}}\n",
       "\n",
       "                        })                };                });            </script>        </div>"
      ]
     },
     "metadata": {},
     "output_type": "display_data"
    }
   ],
   "source": [
    "# Average sales by day\n",
    "df_dw_sa = train1.groupby('day_of_week').agg({\"sales\" : \"mean\"}).reset_index()\n",
    "df_dw_sa.sales = round(df_dw_sa.sales, 2)\n",
    "\n",
    "# chart\n",
    "fig = px.bar(df_dw_sa, y='day_of_week', x='sales', title='Avg Sales vs Day of Week',\n",
    "             color_discrete_sequence=['#c6ccd8'], text='sales',\n",
    "             category_orders=dict(day_of_week=[\"Monday\",\"Tuesday\",\"Wednesday\",\"Thursday\", \"Friday\",\"Saturday\",\"Sunday\"]))\n",
    "fig.update_yaxes(showgrid=False, ticksuffix=' ', showline=False)\n",
    "fig.update_xaxes(visible=False)\n",
    "fig.update_layout(margin=dict(t=60, b=0, l=0, r=0), height=350,\n",
    "                  hovermode=\"y unified\", \n",
    "                  yaxis_title=\" \", template='plotly_white',\n",
    "                  title_font=dict(size=25, color='#8a8d93', family=\"Lato, sans-serif\"),\n",
    "                  font=dict(color='#8a8d93'),\n",
    "                  hoverlabel=dict(bgcolor=\"#c6ccd8\", font_size=13, font_family=\"Lato, sans-serif\"))"
   ]
  },
  {
   "cell_type": "code",
   "execution_count": 21,
   "id": "7b627859",
   "metadata": {},
   "outputs": [
    {
     "data": {
      "application/vnd.plotly.v1+json": {
       "config": {
        "plotlyServerURL": "https://plot.ly"
       },
       "data": [
        {
         "hovertemplate": "store_type=%{x}<br>holiday_type=%{y}<br>sales=%{marker.color}<extra></extra>",
         "legendgroup": "",
         "marker": {
          "color": [
           957.7,
           969.82,
           813.56,
           723.28,
           984.63,
           803.76,
           445.09,
           355.83,
           409.93,
           332.5,
           426.55,
           292.56,
           267.19,
           239.88,
           233.7,
           193.95,
           226.69,
           202.48,
           480.45,
           428.37,
           416.99,
           344.35,
           448.08,
           371.9,
           374.02,
           310.13,
           343.21,
           269.56,
           379.7,
           197.67
          ],
          "coloraxis": "coloraxis",
          "size": [
           957.7,
           969.82,
           813.56,
           723.28,
           984.63,
           803.76,
           445.09,
           355.83,
           409.93,
           332.5,
           426.55,
           292.56,
           267.19,
           239.88,
           233.7,
           193.95,
           226.69,
           202.48,
           480.45,
           428.37,
           416.99,
           344.35,
           448.08,
           371.9,
           374.02,
           310.13,
           343.21,
           269.56,
           379.7,
           197.67
          ],
          "sizemode": "area",
          "sizeref": 2.461575,
          "symbol": "circle"
         },
         "mode": "markers",
         "name": "",
         "orientation": "v",
         "showlegend": false,
         "type": "scatter",
         "x": [
          "A",
          "A",
          "A",
          "A",
          "A",
          "A",
          "B",
          "B",
          "B",
          "B",
          "B",
          "B",
          "C",
          "C",
          "C",
          "C",
          "C",
          "C",
          "D",
          "D",
          "D",
          "D",
          "D",
          "D",
          "E",
          "E",
          "E",
          "E",
          "E",
          "E"
         ],
         "xaxis": "x",
         "y": [
          "Additional",
          "Bridge",
          "Event",
          "Holiday",
          "Transfer",
          "Work Day",
          "Additional",
          "Bridge",
          "Event",
          "Holiday",
          "Transfer",
          "Work Day",
          "Additional",
          "Bridge",
          "Event",
          "Holiday",
          "Transfer",
          "Work Day",
          "Additional",
          "Bridge",
          "Event",
          "Holiday",
          "Transfer",
          "Work Day",
          "Additional",
          "Bridge",
          "Event",
          "Holiday",
          "Transfer",
          "Work Day"
         ],
         "yaxis": "y"
        }
       ],
       "layout": {
        "coloraxis": {
         "colorbar": {
          "title": {
           "text": "sales"
          }
         },
         "colorscale": [
          [
           0,
           "#0d0887"
          ],
          [
           0.1111111111111111,
           "#46039f"
          ],
          [
           0.2222222222222222,
           "#7201a8"
          ],
          [
           0.3333333333333333,
           "#9c179e"
          ],
          [
           0.4444444444444444,
           "#bd3786"
          ],
          [
           0.5555555555555556,
           "#d8576b"
          ],
          [
           0.6666666666666666,
           "#ed7953"
          ],
          [
           0.7777777777777778,
           "#fb9f3a"
          ],
          [
           0.8888888888888888,
           "#fdca26"
          ],
          [
           1,
           "#f0f921"
          ]
         ]
        },
        "font": {
         "color": "#555"
        },
        "height": 400,
        "hoverlabel": {
         "bgcolor": "#f2f2f2",
         "font": {
          "family": "Lato, sans-serif",
          "size": 13
         }
        },
        "legend": {
         "itemsizing": "constant",
         "tracegroupgap": 0
        },
        "margin": {
         "b": 0
        },
        "paper_bgcolor": "#fafafa",
        "plot_bgcolor": "#fafafa",
        "template": {
         "data": {
          "bar": [
           {
            "error_x": {
             "color": "#2a3f5f"
            },
            "error_y": {
             "color": "#2a3f5f"
            },
            "marker": {
             "line": {
              "color": "#E5ECF6",
              "width": 0.5
             },
             "pattern": {
              "fillmode": "overlay",
              "size": 10,
              "solidity": 0.2
             }
            },
            "type": "bar"
           }
          ],
          "barpolar": [
           {
            "marker": {
             "line": {
              "color": "#E5ECF6",
              "width": 0.5
             },
             "pattern": {
              "fillmode": "overlay",
              "size": 10,
              "solidity": 0.2
             }
            },
            "type": "barpolar"
           }
          ],
          "carpet": [
           {
            "aaxis": {
             "endlinecolor": "#2a3f5f",
             "gridcolor": "white",
             "linecolor": "white",
             "minorgridcolor": "white",
             "startlinecolor": "#2a3f5f"
            },
            "baxis": {
             "endlinecolor": "#2a3f5f",
             "gridcolor": "white",
             "linecolor": "white",
             "minorgridcolor": "white",
             "startlinecolor": "#2a3f5f"
            },
            "type": "carpet"
           }
          ],
          "choropleth": [
           {
            "colorbar": {
             "outlinewidth": 0,
             "ticks": ""
            },
            "type": "choropleth"
           }
          ],
          "contour": [
           {
            "colorbar": {
             "outlinewidth": 0,
             "ticks": ""
            },
            "colorscale": [
             [
              0,
              "#0d0887"
             ],
             [
              0.1111111111111111,
              "#46039f"
             ],
             [
              0.2222222222222222,
              "#7201a8"
             ],
             [
              0.3333333333333333,
              "#9c179e"
             ],
             [
              0.4444444444444444,
              "#bd3786"
             ],
             [
              0.5555555555555556,
              "#d8576b"
             ],
             [
              0.6666666666666666,
              "#ed7953"
             ],
             [
              0.7777777777777778,
              "#fb9f3a"
             ],
             [
              0.8888888888888888,
              "#fdca26"
             ],
             [
              1,
              "#f0f921"
             ]
            ],
            "type": "contour"
           }
          ],
          "contourcarpet": [
           {
            "colorbar": {
             "outlinewidth": 0,
             "ticks": ""
            },
            "type": "contourcarpet"
           }
          ],
          "heatmap": [
           {
            "colorbar": {
             "outlinewidth": 0,
             "ticks": ""
            },
            "colorscale": [
             [
              0,
              "#0d0887"
             ],
             [
              0.1111111111111111,
              "#46039f"
             ],
             [
              0.2222222222222222,
              "#7201a8"
             ],
             [
              0.3333333333333333,
              "#9c179e"
             ],
             [
              0.4444444444444444,
              "#bd3786"
             ],
             [
              0.5555555555555556,
              "#d8576b"
             ],
             [
              0.6666666666666666,
              "#ed7953"
             ],
             [
              0.7777777777777778,
              "#fb9f3a"
             ],
             [
              0.8888888888888888,
              "#fdca26"
             ],
             [
              1,
              "#f0f921"
             ]
            ],
            "type": "heatmap"
           }
          ],
          "heatmapgl": [
           {
            "colorbar": {
             "outlinewidth": 0,
             "ticks": ""
            },
            "colorscale": [
             [
              0,
              "#0d0887"
             ],
             [
              0.1111111111111111,
              "#46039f"
             ],
             [
              0.2222222222222222,
              "#7201a8"
             ],
             [
              0.3333333333333333,
              "#9c179e"
             ],
             [
              0.4444444444444444,
              "#bd3786"
             ],
             [
              0.5555555555555556,
              "#d8576b"
             ],
             [
              0.6666666666666666,
              "#ed7953"
             ],
             [
              0.7777777777777778,
              "#fb9f3a"
             ],
             [
              0.8888888888888888,
              "#fdca26"
             ],
             [
              1,
              "#f0f921"
             ]
            ],
            "type": "heatmapgl"
           }
          ],
          "histogram": [
           {
            "marker": {
             "pattern": {
              "fillmode": "overlay",
              "size": 10,
              "solidity": 0.2
             }
            },
            "type": "histogram"
           }
          ],
          "histogram2d": [
           {
            "colorbar": {
             "outlinewidth": 0,
             "ticks": ""
            },
            "colorscale": [
             [
              0,
              "#0d0887"
             ],
             [
              0.1111111111111111,
              "#46039f"
             ],
             [
              0.2222222222222222,
              "#7201a8"
             ],
             [
              0.3333333333333333,
              "#9c179e"
             ],
             [
              0.4444444444444444,
              "#bd3786"
             ],
             [
              0.5555555555555556,
              "#d8576b"
             ],
             [
              0.6666666666666666,
              "#ed7953"
             ],
             [
              0.7777777777777778,
              "#fb9f3a"
             ],
             [
              0.8888888888888888,
              "#fdca26"
             ],
             [
              1,
              "#f0f921"
             ]
            ],
            "type": "histogram2d"
           }
          ],
          "histogram2dcontour": [
           {
            "colorbar": {
             "outlinewidth": 0,
             "ticks": ""
            },
            "colorscale": [
             [
              0,
              "#0d0887"
             ],
             [
              0.1111111111111111,
              "#46039f"
             ],
             [
              0.2222222222222222,
              "#7201a8"
             ],
             [
              0.3333333333333333,
              "#9c179e"
             ],
             [
              0.4444444444444444,
              "#bd3786"
             ],
             [
              0.5555555555555556,
              "#d8576b"
             ],
             [
              0.6666666666666666,
              "#ed7953"
             ],
             [
              0.7777777777777778,
              "#fb9f3a"
             ],
             [
              0.8888888888888888,
              "#fdca26"
             ],
             [
              1,
              "#f0f921"
             ]
            ],
            "type": "histogram2dcontour"
           }
          ],
          "mesh3d": [
           {
            "colorbar": {
             "outlinewidth": 0,
             "ticks": ""
            },
            "type": "mesh3d"
           }
          ],
          "parcoords": [
           {
            "line": {
             "colorbar": {
              "outlinewidth": 0,
              "ticks": ""
             }
            },
            "type": "parcoords"
           }
          ],
          "pie": [
           {
            "automargin": true,
            "type": "pie"
           }
          ],
          "scatter": [
           {
            "fillpattern": {
             "fillmode": "overlay",
             "size": 10,
             "solidity": 0.2
            },
            "type": "scatter"
           }
          ],
          "scatter3d": [
           {
            "line": {
             "colorbar": {
              "outlinewidth": 0,
              "ticks": ""
             }
            },
            "marker": {
             "colorbar": {
              "outlinewidth": 0,
              "ticks": ""
             }
            },
            "type": "scatter3d"
           }
          ],
          "scattercarpet": [
           {
            "marker": {
             "colorbar": {
              "outlinewidth": 0,
              "ticks": ""
             }
            },
            "type": "scattercarpet"
           }
          ],
          "scattergeo": [
           {
            "marker": {
             "colorbar": {
              "outlinewidth": 0,
              "ticks": ""
             }
            },
            "type": "scattergeo"
           }
          ],
          "scattergl": [
           {
            "marker": {
             "colorbar": {
              "outlinewidth": 0,
              "ticks": ""
             }
            },
            "type": "scattergl"
           }
          ],
          "scattermapbox": [
           {
            "marker": {
             "colorbar": {
              "outlinewidth": 0,
              "ticks": ""
             }
            },
            "type": "scattermapbox"
           }
          ],
          "scatterpolar": [
           {
            "marker": {
             "colorbar": {
              "outlinewidth": 0,
              "ticks": ""
             }
            },
            "type": "scatterpolar"
           }
          ],
          "scatterpolargl": [
           {
            "marker": {
             "colorbar": {
              "outlinewidth": 0,
              "ticks": ""
             }
            },
            "type": "scatterpolargl"
           }
          ],
          "scatterternary": [
           {
            "marker": {
             "colorbar": {
              "outlinewidth": 0,
              "ticks": ""
             }
            },
            "type": "scatterternary"
           }
          ],
          "surface": [
           {
            "colorbar": {
             "outlinewidth": 0,
             "ticks": ""
            },
            "colorscale": [
             [
              0,
              "#0d0887"
             ],
             [
              0.1111111111111111,
              "#46039f"
             ],
             [
              0.2222222222222222,
              "#7201a8"
             ],
             [
              0.3333333333333333,
              "#9c179e"
             ],
             [
              0.4444444444444444,
              "#bd3786"
             ],
             [
              0.5555555555555556,
              "#d8576b"
             ],
             [
              0.6666666666666666,
              "#ed7953"
             ],
             [
              0.7777777777777778,
              "#fb9f3a"
             ],
             [
              0.8888888888888888,
              "#fdca26"
             ],
             [
              1,
              "#f0f921"
             ]
            ],
            "type": "surface"
           }
          ],
          "table": [
           {
            "cells": {
             "fill": {
              "color": "#EBF0F8"
             },
             "line": {
              "color": "white"
             }
            },
            "header": {
             "fill": {
              "color": "#C8D4E3"
             },
             "line": {
              "color": "white"
             }
            },
            "type": "table"
           }
          ]
         },
         "layout": {
          "annotationdefaults": {
           "arrowcolor": "#2a3f5f",
           "arrowhead": 0,
           "arrowwidth": 1
          },
          "autotypenumbers": "strict",
          "coloraxis": {
           "colorbar": {
            "outlinewidth": 0,
            "ticks": ""
           }
          },
          "colorscale": {
           "diverging": [
            [
             0,
             "#8e0152"
            ],
            [
             0.1,
             "#c51b7d"
            ],
            [
             0.2,
             "#de77ae"
            ],
            [
             0.3,
             "#f1b6da"
            ],
            [
             0.4,
             "#fde0ef"
            ],
            [
             0.5,
             "#f7f7f7"
            ],
            [
             0.6,
             "#e6f5d0"
            ],
            [
             0.7,
             "#b8e186"
            ],
            [
             0.8,
             "#7fbc41"
            ],
            [
             0.9,
             "#4d9221"
            ],
            [
             1,
             "#276419"
            ]
           ],
           "sequential": [
            [
             0,
             "#0d0887"
            ],
            [
             0.1111111111111111,
             "#46039f"
            ],
            [
             0.2222222222222222,
             "#7201a8"
            ],
            [
             0.3333333333333333,
             "#9c179e"
            ],
            [
             0.4444444444444444,
             "#bd3786"
            ],
            [
             0.5555555555555556,
             "#d8576b"
            ],
            [
             0.6666666666666666,
             "#ed7953"
            ],
            [
             0.7777777777777778,
             "#fb9f3a"
            ],
            [
             0.8888888888888888,
             "#fdca26"
            ],
            [
             1,
             "#f0f921"
            ]
           ],
           "sequentialminus": [
            [
             0,
             "#0d0887"
            ],
            [
             0.1111111111111111,
             "#46039f"
            ],
            [
             0.2222222222222222,
             "#7201a8"
            ],
            [
             0.3333333333333333,
             "#9c179e"
            ],
            [
             0.4444444444444444,
             "#bd3786"
            ],
            [
             0.5555555555555556,
             "#d8576b"
            ],
            [
             0.6666666666666666,
             "#ed7953"
            ],
            [
             0.7777777777777778,
             "#fb9f3a"
            ],
            [
             0.8888888888888888,
             "#fdca26"
            ],
            [
             1,
             "#f0f921"
            ]
           ]
          },
          "colorway": [
           "#636efa",
           "#EF553B",
           "#00cc96",
           "#ab63fa",
           "#FFA15A",
           "#19d3f3",
           "#FF6692",
           "#B6E880",
           "#FF97FF",
           "#FECB52"
          ],
          "font": {
           "color": "#2a3f5f"
          },
          "geo": {
           "bgcolor": "white",
           "lakecolor": "white",
           "landcolor": "#E5ECF6",
           "showlakes": true,
           "showland": true,
           "subunitcolor": "white"
          },
          "hoverlabel": {
           "align": "left"
          },
          "hovermode": "closest",
          "mapbox": {
           "style": "light"
          },
          "paper_bgcolor": "white",
          "plot_bgcolor": "#E5ECF6",
          "polar": {
           "angularaxis": {
            "gridcolor": "white",
            "linecolor": "white",
            "ticks": ""
           },
           "bgcolor": "#E5ECF6",
           "radialaxis": {
            "gridcolor": "white",
            "linecolor": "white",
            "ticks": ""
           }
          },
          "scene": {
           "xaxis": {
            "backgroundcolor": "#E5ECF6",
            "gridcolor": "white",
            "gridwidth": 2,
            "linecolor": "white",
            "showbackground": true,
            "ticks": "",
            "zerolinecolor": "white"
           },
           "yaxis": {
            "backgroundcolor": "#E5ECF6",
            "gridcolor": "white",
            "gridwidth": 2,
            "linecolor": "white",
            "showbackground": true,
            "ticks": "",
            "zerolinecolor": "white"
           },
           "zaxis": {
            "backgroundcolor": "#E5ECF6",
            "gridcolor": "white",
            "gridwidth": 2,
            "linecolor": "white",
            "showbackground": true,
            "ticks": "",
            "zerolinecolor": "white"
           }
          },
          "shapedefaults": {
           "line": {
            "color": "#2a3f5f"
           }
          },
          "ternary": {
           "aaxis": {
            "gridcolor": "white",
            "linecolor": "white",
            "ticks": ""
           },
           "baxis": {
            "gridcolor": "white",
            "linecolor": "white",
            "ticks": ""
           },
           "bgcolor": "#E5ECF6",
           "caxis": {
            "gridcolor": "white",
            "linecolor": "white",
            "ticks": ""
           }
          },
          "title": {
           "x": 0.05
          },
          "xaxis": {
           "automargin": true,
           "gridcolor": "white",
           "linecolor": "white",
           "ticks": "",
           "title": {
            "standoff": 15
           },
           "zerolinecolor": "white",
           "zerolinewidth": 2
          },
          "yaxis": {
           "automargin": true,
           "gridcolor": "white",
           "linecolor": "white",
           "ticks": "",
           "title": {
            "standoff": 15
           },
           "zerolinecolor": "white",
           "zerolinewidth": 2
          }
         }
        },
        "title": {
         "font": {
          "color": "#444",
          "family": "Lato, sans-serif",
          "size": 29
         },
         "text": "Average Sales: Store Type Vs Holiday Type"
        },
        "xaxis": {
         "anchor": "y",
         "domain": [
          0,
          1
         ],
         "title": {
          "text": ""
         }
        },
        "yaxis": {
         "anchor": "x",
         "domain": [
          0,
          1
         ],
         "ticksuffix": "  ",
         "title": {
          "text": ""
         }
        }
       }
      },
      "text/html": [
       "<div>                            <div id=\"2218d169-cd25-413b-892d-98f2ad8e2bc0\" class=\"plotly-graph-div\" style=\"height:400px; width:100%;\"></div>            <script type=\"text/javascript\">                require([\"plotly\"], function(Plotly) {                    window.PLOTLYENV=window.PLOTLYENV || {};                                    if (document.getElementById(\"2218d169-cd25-413b-892d-98f2ad8e2bc0\")) {                    Plotly.newPlot(                        \"2218d169-cd25-413b-892d-98f2ad8e2bc0\",                        [{\"hovertemplate\":\"store_type=%{x}<br>holiday_type=%{y}<br>sales=%{marker.color}<extra></extra>\",\"legendgroup\":\"\",\"marker\":{\"color\":[957.7,969.82,813.56,723.28,984.63,803.76,445.09,355.83,409.93,332.5,426.55,292.56,267.19,239.88,233.7,193.95,226.69,202.48,480.45,428.37,416.99,344.35,448.08,371.9,374.02,310.13,343.21,269.56,379.7,197.67],\"coloraxis\":\"coloraxis\",\"size\":[957.7,969.82,813.56,723.28,984.63,803.76,445.09,355.83,409.93,332.5,426.55,292.56,267.19,239.88,233.7,193.95,226.69,202.48,480.45,428.37,416.99,344.35,448.08,371.9,374.02,310.13,343.21,269.56,379.7,197.67],\"sizemode\":\"area\",\"sizeref\":2.461575,\"symbol\":\"circle\"},\"mode\":\"markers\",\"name\":\"\",\"orientation\":\"v\",\"showlegend\":false,\"x\":[\"A\",\"A\",\"A\",\"A\",\"A\",\"A\",\"B\",\"B\",\"B\",\"B\",\"B\",\"B\",\"C\",\"C\",\"C\",\"C\",\"C\",\"C\",\"D\",\"D\",\"D\",\"D\",\"D\",\"D\",\"E\",\"E\",\"E\",\"E\",\"E\",\"E\"],\"xaxis\":\"x\",\"y\":[\"Additional\",\"Bridge\",\"Event\",\"Holiday\",\"Transfer\",\"Work Day\",\"Additional\",\"Bridge\",\"Event\",\"Holiday\",\"Transfer\",\"Work Day\",\"Additional\",\"Bridge\",\"Event\",\"Holiday\",\"Transfer\",\"Work Day\",\"Additional\",\"Bridge\",\"Event\",\"Holiday\",\"Transfer\",\"Work Day\",\"Additional\",\"Bridge\",\"Event\",\"Holiday\",\"Transfer\",\"Work Day\"],\"yaxis\":\"y\",\"type\":\"scatter\"}],                        {\"template\":{\"data\":{\"histogram2dcontour\":[{\"type\":\"histogram2dcontour\",\"colorbar\":{\"outlinewidth\":0,\"ticks\":\"\"},\"colorscale\":[[0.0,\"#0d0887\"],[0.1111111111111111,\"#46039f\"],[0.2222222222222222,\"#7201a8\"],[0.3333333333333333,\"#9c179e\"],[0.4444444444444444,\"#bd3786\"],[0.5555555555555556,\"#d8576b\"],[0.6666666666666666,\"#ed7953\"],[0.7777777777777778,\"#fb9f3a\"],[0.8888888888888888,\"#fdca26\"],[1.0,\"#f0f921\"]]}],\"choropleth\":[{\"type\":\"choropleth\",\"colorbar\":{\"outlinewidth\":0,\"ticks\":\"\"}}],\"histogram2d\":[{\"type\":\"histogram2d\",\"colorbar\":{\"outlinewidth\":0,\"ticks\":\"\"},\"colorscale\":[[0.0,\"#0d0887\"],[0.1111111111111111,\"#46039f\"],[0.2222222222222222,\"#7201a8\"],[0.3333333333333333,\"#9c179e\"],[0.4444444444444444,\"#bd3786\"],[0.5555555555555556,\"#d8576b\"],[0.6666666666666666,\"#ed7953\"],[0.7777777777777778,\"#fb9f3a\"],[0.8888888888888888,\"#fdca26\"],[1.0,\"#f0f921\"]]}],\"heatmap\":[{\"type\":\"heatmap\",\"colorbar\":{\"outlinewidth\":0,\"ticks\":\"\"},\"colorscale\":[[0.0,\"#0d0887\"],[0.1111111111111111,\"#46039f\"],[0.2222222222222222,\"#7201a8\"],[0.3333333333333333,\"#9c179e\"],[0.4444444444444444,\"#bd3786\"],[0.5555555555555556,\"#d8576b\"],[0.6666666666666666,\"#ed7953\"],[0.7777777777777778,\"#fb9f3a\"],[0.8888888888888888,\"#fdca26\"],[1.0,\"#f0f921\"]]}],\"heatmapgl\":[{\"type\":\"heatmapgl\",\"colorbar\":{\"outlinewidth\":0,\"ticks\":\"\"},\"colorscale\":[[0.0,\"#0d0887\"],[0.1111111111111111,\"#46039f\"],[0.2222222222222222,\"#7201a8\"],[0.3333333333333333,\"#9c179e\"],[0.4444444444444444,\"#bd3786\"],[0.5555555555555556,\"#d8576b\"],[0.6666666666666666,\"#ed7953\"],[0.7777777777777778,\"#fb9f3a\"],[0.8888888888888888,\"#fdca26\"],[1.0,\"#f0f921\"]]}],\"contourcarpet\":[{\"type\":\"contourcarpet\",\"colorbar\":{\"outlinewidth\":0,\"ticks\":\"\"}}],\"contour\":[{\"type\":\"contour\",\"colorbar\":{\"outlinewidth\":0,\"ticks\":\"\"},\"colorscale\":[[0.0,\"#0d0887\"],[0.1111111111111111,\"#46039f\"],[0.2222222222222222,\"#7201a8\"],[0.3333333333333333,\"#9c179e\"],[0.4444444444444444,\"#bd3786\"],[0.5555555555555556,\"#d8576b\"],[0.6666666666666666,\"#ed7953\"],[0.7777777777777778,\"#fb9f3a\"],[0.8888888888888888,\"#fdca26\"],[1.0,\"#f0f921\"]]}],\"surface\":[{\"type\":\"surface\",\"colorbar\":{\"outlinewidth\":0,\"ticks\":\"\"},\"colorscale\":[[0.0,\"#0d0887\"],[0.1111111111111111,\"#46039f\"],[0.2222222222222222,\"#7201a8\"],[0.3333333333333333,\"#9c179e\"],[0.4444444444444444,\"#bd3786\"],[0.5555555555555556,\"#d8576b\"],[0.6666666666666666,\"#ed7953\"],[0.7777777777777778,\"#fb9f3a\"],[0.8888888888888888,\"#fdca26\"],[1.0,\"#f0f921\"]]}],\"mesh3d\":[{\"type\":\"mesh3d\",\"colorbar\":{\"outlinewidth\":0,\"ticks\":\"\"}}],\"scatter\":[{\"fillpattern\":{\"fillmode\":\"overlay\",\"size\":10,\"solidity\":0.2},\"type\":\"scatter\"}],\"parcoords\":[{\"type\":\"parcoords\",\"line\":{\"colorbar\":{\"outlinewidth\":0,\"ticks\":\"\"}}}],\"scatterpolargl\":[{\"type\":\"scatterpolargl\",\"marker\":{\"colorbar\":{\"outlinewidth\":0,\"ticks\":\"\"}}}],\"bar\":[{\"error_x\":{\"color\":\"#2a3f5f\"},\"error_y\":{\"color\":\"#2a3f5f\"},\"marker\":{\"line\":{\"color\":\"#E5ECF6\",\"width\":0.5},\"pattern\":{\"fillmode\":\"overlay\",\"size\":10,\"solidity\":0.2}},\"type\":\"bar\"}],\"scattergeo\":[{\"type\":\"scattergeo\",\"marker\":{\"colorbar\":{\"outlinewidth\":0,\"ticks\":\"\"}}}],\"scatterpolar\":[{\"type\":\"scatterpolar\",\"marker\":{\"colorbar\":{\"outlinewidth\":0,\"ticks\":\"\"}}}],\"histogram\":[{\"marker\":{\"pattern\":{\"fillmode\":\"overlay\",\"size\":10,\"solidity\":0.2}},\"type\":\"histogram\"}],\"scattergl\":[{\"type\":\"scattergl\",\"marker\":{\"colorbar\":{\"outlinewidth\":0,\"ticks\":\"\"}}}],\"scatter3d\":[{\"type\":\"scatter3d\",\"line\":{\"colorbar\":{\"outlinewidth\":0,\"ticks\":\"\"}},\"marker\":{\"colorbar\":{\"outlinewidth\":0,\"ticks\":\"\"}}}],\"scattermapbox\":[{\"type\":\"scattermapbox\",\"marker\":{\"colorbar\":{\"outlinewidth\":0,\"ticks\":\"\"}}}],\"scatterternary\":[{\"type\":\"scatterternary\",\"marker\":{\"colorbar\":{\"outlinewidth\":0,\"ticks\":\"\"}}}],\"scattercarpet\":[{\"type\":\"scattercarpet\",\"marker\":{\"colorbar\":{\"outlinewidth\":0,\"ticks\":\"\"}}}],\"carpet\":[{\"aaxis\":{\"endlinecolor\":\"#2a3f5f\",\"gridcolor\":\"white\",\"linecolor\":\"white\",\"minorgridcolor\":\"white\",\"startlinecolor\":\"#2a3f5f\"},\"baxis\":{\"endlinecolor\":\"#2a3f5f\",\"gridcolor\":\"white\",\"linecolor\":\"white\",\"minorgridcolor\":\"white\",\"startlinecolor\":\"#2a3f5f\"},\"type\":\"carpet\"}],\"table\":[{\"cells\":{\"fill\":{\"color\":\"#EBF0F8\"},\"line\":{\"color\":\"white\"}},\"header\":{\"fill\":{\"color\":\"#C8D4E3\"},\"line\":{\"color\":\"white\"}},\"type\":\"table\"}],\"barpolar\":[{\"marker\":{\"line\":{\"color\":\"#E5ECF6\",\"width\":0.5},\"pattern\":{\"fillmode\":\"overlay\",\"size\":10,\"solidity\":0.2}},\"type\":\"barpolar\"}],\"pie\":[{\"automargin\":true,\"type\":\"pie\"}]},\"layout\":{\"autotypenumbers\":\"strict\",\"colorway\":[\"#636efa\",\"#EF553B\",\"#00cc96\",\"#ab63fa\",\"#FFA15A\",\"#19d3f3\",\"#FF6692\",\"#B6E880\",\"#FF97FF\",\"#FECB52\"],\"font\":{\"color\":\"#2a3f5f\"},\"hovermode\":\"closest\",\"hoverlabel\":{\"align\":\"left\"},\"paper_bgcolor\":\"white\",\"plot_bgcolor\":\"#E5ECF6\",\"polar\":{\"bgcolor\":\"#E5ECF6\",\"angularaxis\":{\"gridcolor\":\"white\",\"linecolor\":\"white\",\"ticks\":\"\"},\"radialaxis\":{\"gridcolor\":\"white\",\"linecolor\":\"white\",\"ticks\":\"\"}},\"ternary\":{\"bgcolor\":\"#E5ECF6\",\"aaxis\":{\"gridcolor\":\"white\",\"linecolor\":\"white\",\"ticks\":\"\"},\"baxis\":{\"gridcolor\":\"white\",\"linecolor\":\"white\",\"ticks\":\"\"},\"caxis\":{\"gridcolor\":\"white\",\"linecolor\":\"white\",\"ticks\":\"\"}},\"coloraxis\":{\"colorbar\":{\"outlinewidth\":0,\"ticks\":\"\"}},\"colorscale\":{\"sequential\":[[0.0,\"#0d0887\"],[0.1111111111111111,\"#46039f\"],[0.2222222222222222,\"#7201a8\"],[0.3333333333333333,\"#9c179e\"],[0.4444444444444444,\"#bd3786\"],[0.5555555555555556,\"#d8576b\"],[0.6666666666666666,\"#ed7953\"],[0.7777777777777778,\"#fb9f3a\"],[0.8888888888888888,\"#fdca26\"],[1.0,\"#f0f921\"]],\"sequentialminus\":[[0.0,\"#0d0887\"],[0.1111111111111111,\"#46039f\"],[0.2222222222222222,\"#7201a8\"],[0.3333333333333333,\"#9c179e\"],[0.4444444444444444,\"#bd3786\"],[0.5555555555555556,\"#d8576b\"],[0.6666666666666666,\"#ed7953\"],[0.7777777777777778,\"#fb9f3a\"],[0.8888888888888888,\"#fdca26\"],[1.0,\"#f0f921\"]],\"diverging\":[[0,\"#8e0152\"],[0.1,\"#c51b7d\"],[0.2,\"#de77ae\"],[0.3,\"#f1b6da\"],[0.4,\"#fde0ef\"],[0.5,\"#f7f7f7\"],[0.6,\"#e6f5d0\"],[0.7,\"#b8e186\"],[0.8,\"#7fbc41\"],[0.9,\"#4d9221\"],[1,\"#276419\"]]},\"xaxis\":{\"gridcolor\":\"white\",\"linecolor\":\"white\",\"ticks\":\"\",\"title\":{\"standoff\":15},\"zerolinecolor\":\"white\",\"automargin\":true,\"zerolinewidth\":2},\"yaxis\":{\"gridcolor\":\"white\",\"linecolor\":\"white\",\"ticks\":\"\",\"title\":{\"standoff\":15},\"zerolinecolor\":\"white\",\"automargin\":true,\"zerolinewidth\":2},\"scene\":{\"xaxis\":{\"backgroundcolor\":\"#E5ECF6\",\"gridcolor\":\"white\",\"linecolor\":\"white\",\"showbackground\":true,\"ticks\":\"\",\"zerolinecolor\":\"white\",\"gridwidth\":2},\"yaxis\":{\"backgroundcolor\":\"#E5ECF6\",\"gridcolor\":\"white\",\"linecolor\":\"white\",\"showbackground\":true,\"ticks\":\"\",\"zerolinecolor\":\"white\",\"gridwidth\":2},\"zaxis\":{\"backgroundcolor\":\"#E5ECF6\",\"gridcolor\":\"white\",\"linecolor\":\"white\",\"showbackground\":true,\"ticks\":\"\",\"zerolinecolor\":\"white\",\"gridwidth\":2}},\"shapedefaults\":{\"line\":{\"color\":\"#2a3f5f\"}},\"annotationdefaults\":{\"arrowcolor\":\"#2a3f5f\",\"arrowhead\":0,\"arrowwidth\":1},\"geo\":{\"bgcolor\":\"white\",\"landcolor\":\"#E5ECF6\",\"subunitcolor\":\"white\",\"showland\":true,\"showlakes\":true,\"lakecolor\":\"white\"},\"title\":{\"x\":0.05},\"mapbox\":{\"style\":\"light\"}}},\"xaxis\":{\"anchor\":\"y\",\"domain\":[0.0,1.0],\"title\":{\"text\":\"\"}},\"yaxis\":{\"anchor\":\"x\",\"domain\":[0.0,1.0],\"title\":{\"text\":\"\"},\"ticksuffix\":\"  \"},\"coloraxis\":{\"colorbar\":{\"title\":{\"text\":\"sales\"}},\"colorscale\":[[0.0,\"#0d0887\"],[0.1111111111111111,\"#46039f\"],[0.2222222222222222,\"#7201a8\"],[0.3333333333333333,\"#9c179e\"],[0.4444444444444444,\"#bd3786\"],[0.5555555555555556,\"#d8576b\"],[0.6666666666666666,\"#ed7953\"],[0.7777777777777778,\"#fb9f3a\"],[0.8888888888888888,\"#fdca26\"],[1.0,\"#f0f921\"]]},\"legend\":{\"tracegroupgap\":0,\"itemsizing\":\"constant\"},\"title\":{\"text\":\"Average Sales: Store Type Vs Holiday Type\",\"font\":{\"size\":29,\"color\":\"#444\",\"family\":\"Lato, sans-serif\"}},\"margin\":{\"b\":0},\"font\":{\"color\":\"#555\"},\"hoverlabel\":{\"font\":{\"size\":13,\"family\":\"Lato, sans-serif\"},\"bgcolor\":\"#f2f2f2\"},\"height\":400,\"plot_bgcolor\":\"#fafafa\",\"paper_bgcolor\":\"#fafafa\"},                        {\"responsive\": true}                    ).then(function(){\n",
       "                            \n",
       "var gd = document.getElementById('2218d169-cd25-413b-892d-98f2ad8e2bc0');\n",
       "var x = new MutationObserver(function (mutations, observer) {{\n",
       "        var display = window.getComputedStyle(gd).display;\n",
       "        if (!display || display === 'none') {{\n",
       "            console.log([gd, 'removed!']);\n",
       "            Plotly.purge(gd);\n",
       "            observer.disconnect();\n",
       "        }}\n",
       "}});\n",
       "\n",
       "// Listen for the removal of the full notebook cells\n",
       "var notebookContainer = gd.closest('#notebook-container');\n",
       "if (notebookContainer) {{\n",
       "    x.observe(notebookContainer, {childList: true});\n",
       "}}\n",
       "\n",
       "// Listen for the clearing of the current output cell\n",
       "var outputEl = gd.closest('.output');\n",
       "if (outputEl) {{\n",
       "    x.observe(outputEl, {childList: true});\n",
       "}}\n",
       "\n",
       "                        })                };                });            </script>        </div>"
      ]
     },
     "metadata": {},
     "output_type": "display_data"
    }
   ],
   "source": [
    "# Average sales by store and holiday\n",
    "df_st_ht = train1.groupby(['store_type','holiday_type']).agg({\"sales\" : \"mean\"}).reset_index()\n",
    "df_st_ht['sales'] = round(df_st_ht['sales'], 2)\n",
    "\n",
    "# chart\n",
    "fig = px.scatter(df_st_ht, x='store_type', color='sales', y='holiday_type', size='sales',\n",
    "                 color_discrete_sequence=px.colors.qualitative.D3,\n",
    "                 title=\"Average Sales: Store Type Vs Holiday Type\")\n",
    "# styling\n",
    "fig.update_yaxes(ticksuffix='  ')\n",
    "fig.update_layout(height=400, xaxis_title='', yaxis_title='',\n",
    "                  margin=dict(b=0),\n",
    "                  plot_bgcolor='#fafafa', paper_bgcolor='#fafafa',\n",
    "                  title_font=dict(size=29, color='#444', family=\"Lato, sans-serif\"),\n",
    "                  font=dict(color='#555'), \n",
    "                  hoverlabel=dict(bgcolor=\"#f2f2f2\", font_size=13, font_family=\"Lato, sans-serif\"))\n",
    "fig.show()"
   ]
  },
  {
   "cell_type": "code",
   "execution_count": 22,
   "id": "66050e74",
   "metadata": {},
   "outputs": [
    {
     "data": {
      "application/vnd.plotly.v1+json": {
       "config": {
        "plotlyServerURL": "https://plot.ly"
       },
       "data": [
        {
         "hovertemplate": "year=2013<br>month=%{x}<br>store_type=%{y}<br>sales=%{marker.color}<extra></extra>",
         "legendgroup": "",
         "marker": {
          "color": [
           392.85,
           155.11,
           109.06,
           191.16,
           60.52,
           396.04,
           167.35,
           116.52,
           195.3,
           71.79,
           424.98,
           183.75,
           122.69,
           207.38,
           75.89,
           411.88,
           193.39,
           125.99,
           202.36,
           79.52,
           414.28,
           186.83,
           129.43,
           203.52,
           130.5,
           422.57,
           189.84,
           133.83,
           210.07,
           134.2,
           395.04,
           182.59,
           123.61,
           202,
           127.19,
           406.72,
           192.27,
           135.41,
           203.35,
           145.96,
           439.66,
           197.55,
           133.87,
           212.23,
           136.64,
           419.19,
           194.03,
           129.85,
           206.18,
           131.77,
           471.99,
           204.3,
           137.69,
           221.59,
           136.3,
           628.7,
           263.25,
           165.61,
           286.3,
           181.66
          ],
          "coloraxis": "coloraxis",
          "size": [
           392.85,
           155.11,
           109.06,
           191.16,
           60.52,
           396.04,
           167.35,
           116.52,
           195.3,
           71.79,
           424.98,
           183.75,
           122.69,
           207.38,
           75.89,
           411.88,
           193.39,
           125.99,
           202.36,
           79.52,
           414.28,
           186.83,
           129.43,
           203.52,
           130.5,
           422.57,
           189.84,
           133.83,
           210.07,
           134.2,
           395.04,
           182.59,
           123.61,
           202,
           127.19,
           406.72,
           192.27,
           135.41,
           203.35,
           145.96,
           439.66,
           197.55,
           133.87,
           212.23,
           136.64,
           419.19,
           194.03,
           129.85,
           206.18,
           131.77,
           471.99,
           204.3,
           137.69,
           221.59,
           136.3,
           628.7,
           263.25,
           165.61,
           286.3,
           181.66
          ],
          "sizemode": "area",
          "sizeref": 2.725275,
          "symbol": "circle"
         },
         "mode": "markers",
         "name": "",
         "orientation": "h",
         "showlegend": false,
         "type": "scatter",
         "x": [
          1,
          1,
          1,
          1,
          1,
          2,
          2,
          2,
          2,
          2,
          3,
          3,
          3,
          3,
          3,
          4,
          4,
          4,
          4,
          4,
          5,
          5,
          5,
          5,
          5,
          6,
          6,
          6,
          6,
          6,
          7,
          7,
          7,
          7,
          7,
          8,
          8,
          8,
          8,
          8,
          9,
          9,
          9,
          9,
          9,
          10,
          10,
          10,
          10,
          10,
          11,
          11,
          11,
          11,
          11,
          12,
          12,
          12,
          12,
          12
         ],
         "xaxis": "x5",
         "y": [
          "A",
          "B",
          "C",
          "D",
          "E",
          "A",
          "B",
          "C",
          "D",
          "E",
          "A",
          "B",
          "C",
          "D",
          "E",
          "A",
          "B",
          "C",
          "D",
          "E",
          "A",
          "B",
          "C",
          "D",
          "E",
          "A",
          "B",
          "C",
          "D",
          "E",
          "A",
          "B",
          "C",
          "D",
          "E",
          "A",
          "B",
          "C",
          "D",
          "E",
          "A",
          "B",
          "C",
          "D",
          "E",
          "A",
          "B",
          "C",
          "D",
          "E",
          "A",
          "B",
          "C",
          "D",
          "E",
          "A",
          "B",
          "C",
          "D",
          "E"
         ],
         "yaxis": "y5"
        },
        {
         "hovertemplate": "year=2014<br>month=%{x}<br>store_type=%{y}<br>sales=%{marker.color}<extra></extra>",
         "legendgroup": "",
         "marker": {
          "color": [
           718.51,
           264.35,
           179.45,
           356.85,
           197.52,
           479.7,
           213.49,
           145.95,
           232.31,
           158.08,
           770.83,
           297.01,
           195.6,
           375.19,
           226.68,
           497.61,
           212.83,
           142.33,
           226.01,
           151.74,
           506.39,
           213.78,
           148.49,
           219.05,
           160.24,
           502.78,
           210.45,
           147.07,
           230.19,
           163.05,
           730.62,
           281.77,
           195.99,
           347.68,
           229.26,
           512.86,
           220.15,
           142.36,
           242.23,
           175.12,
           781.92,
           298.07,
           199.2,
           384.71,
           222.5,
           766.21,
           290.94,
           196.82,
           381.31,
           224.57,
           803.59,
           300.52,
           209.48,
           389.59,
           236.93,
           956.89,
           365.72,
           247.6,
           467.75,
           289.73
          ],
          "coloraxis": "coloraxis",
          "size": [
           718.51,
           264.35,
           179.45,
           356.85,
           197.52,
           479.7,
           213.49,
           145.95,
           232.31,
           158.08,
           770.83,
           297.01,
           195.6,
           375.19,
           226.68,
           497.61,
           212.83,
           142.33,
           226.01,
           151.74,
           506.39,
           213.78,
           148.49,
           219.05,
           160.24,
           502.78,
           210.45,
           147.07,
           230.19,
           163.05,
           730.62,
           281.77,
           195.99,
           347.68,
           229.26,
           512.86,
           220.15,
           142.36,
           242.23,
           175.12,
           781.92,
           298.07,
           199.2,
           384.71,
           222.5,
           766.21,
           290.94,
           196.82,
           381.31,
           224.57,
           803.59,
           300.52,
           209.48,
           389.59,
           236.93,
           956.89,
           365.72,
           247.6,
           467.75,
           289.73
          ],
          "sizemode": "area",
          "sizeref": 2.725275,
          "symbol": "circle"
         },
         "mode": "markers",
         "name": "",
         "orientation": "h",
         "showlegend": false,
         "type": "scatter",
         "x": [
          1,
          1,
          1,
          1,
          1,
          2,
          2,
          2,
          2,
          2,
          3,
          3,
          3,
          3,
          3,
          4,
          4,
          4,
          4,
          4,
          5,
          5,
          5,
          5,
          5,
          6,
          6,
          6,
          6,
          6,
          7,
          7,
          7,
          7,
          7,
          8,
          8,
          8,
          8,
          8,
          9,
          9,
          9,
          9,
          9,
          10,
          10,
          10,
          10,
          10,
          11,
          11,
          11,
          11,
          11,
          12,
          12,
          12,
          12,
          12
         ],
         "xaxis": "x4",
         "y": [
          "A",
          "B",
          "C",
          "D",
          "E",
          "A",
          "B",
          "C",
          "D",
          "E",
          "A",
          "B",
          "C",
          "D",
          "E",
          "A",
          "B",
          "C",
          "D",
          "E",
          "A",
          "B",
          "C",
          "D",
          "E",
          "A",
          "B",
          "C",
          "D",
          "E",
          "A",
          "B",
          "C",
          "D",
          "E",
          "A",
          "B",
          "C",
          "D",
          "E",
          "A",
          "B",
          "C",
          "D",
          "E",
          "A",
          "B",
          "C",
          "D",
          "E",
          "A",
          "B",
          "C",
          "D",
          "E",
          "A",
          "B",
          "C",
          "D",
          "E"
         ],
         "yaxis": "y4"
        },
        {
         "hovertemplate": "year=2015<br>month=%{x}<br>store_type=%{y}<br>sales=%{marker.color}<extra></extra>",
         "legendgroup": "",
         "marker": {
          "color": [
           543.96,
           221.59,
           160.54,
           263.05,
           187.67,
           526.49,
           261.3,
           169.07,
           261.27,
           201.22,
           541.28,
           272.36,
           165.25,
           267.64,
           225.32,
           536.51,
           272.39,
           161.84,
           260.94,
           243.46,
           624.45,
           304.09,
           186.75,
           297.23,
           281.88,
           781.05,
           342.59,
           217.6,
           395.66,
           323.85,
           785.11,
           363.82,
           217.38,
           399.58,
           333.47,
           798.94,
           412.27,
           221.59,
           401.02,
           354.15,
           827.73,
           424.08,
           228.11,
           426.25,
           384.79,
           821.08,
           413.63,
           232.24,
           424.89,
           377.78,
           840.25,
           399.13,
           223.49,
           423.62,
           325.63,
           996.98,
           488.73,
           271.05,
           511.33,
           398.84
          ],
          "coloraxis": "coloraxis",
          "size": [
           543.96,
           221.59,
           160.54,
           263.05,
           187.67,
           526.49,
           261.3,
           169.07,
           261.27,
           201.22,
           541.28,
           272.36,
           165.25,
           267.64,
           225.32,
           536.51,
           272.39,
           161.84,
           260.94,
           243.46,
           624.45,
           304.09,
           186.75,
           297.23,
           281.88,
           781.05,
           342.59,
           217.6,
           395.66,
           323.85,
           785.11,
           363.82,
           217.38,
           399.58,
           333.47,
           798.94,
           412.27,
           221.59,
           401.02,
           354.15,
           827.73,
           424.08,
           228.11,
           426.25,
           384.79,
           821.08,
           413.63,
           232.24,
           424.89,
           377.78,
           840.25,
           399.13,
           223.49,
           423.62,
           325.63,
           996.98,
           488.73,
           271.05,
           511.33,
           398.84
          ],
          "sizemode": "area",
          "sizeref": 2.725275,
          "symbol": "circle"
         },
         "mode": "markers",
         "name": "",
         "orientation": "h",
         "showlegend": false,
         "type": "scatter",
         "x": [
          1,
          1,
          1,
          1,
          1,
          2,
          2,
          2,
          2,
          2,
          3,
          3,
          3,
          3,
          3,
          4,
          4,
          4,
          4,
          4,
          5,
          5,
          5,
          5,
          5,
          6,
          6,
          6,
          6,
          6,
          7,
          7,
          7,
          7,
          7,
          8,
          8,
          8,
          8,
          8,
          9,
          9,
          9,
          9,
          9,
          10,
          10,
          10,
          10,
          10,
          11,
          11,
          11,
          11,
          11,
          12,
          12,
          12,
          12,
          12
         ],
         "xaxis": "x3",
         "y": [
          "A",
          "B",
          "C",
          "D",
          "E",
          "A",
          "B",
          "C",
          "D",
          "E",
          "A",
          "B",
          "C",
          "D",
          "E",
          "A",
          "B",
          "C",
          "D",
          "E",
          "A",
          "B",
          "C",
          "D",
          "E",
          "A",
          "B",
          "C",
          "D",
          "E",
          "A",
          "B",
          "C",
          "D",
          "E",
          "A",
          "B",
          "C",
          "D",
          "E",
          "A",
          "B",
          "C",
          "D",
          "E",
          "A",
          "B",
          "C",
          "D",
          "E",
          "A",
          "B",
          "C",
          "D",
          "E",
          "A",
          "B",
          "C",
          "D",
          "E"
         ],
         "yaxis": "y3"
        },
        {
         "hovertemplate": "year=2016<br>month=%{x}<br>store_type=%{y}<br>sales=%{marker.color}<extra></extra>",
         "legendgroup": "",
         "marker": {
          "color": [
           846.38,
           406.17,
           228.57,
           432.65,
           338.89,
           804.39,
           409.16,
           229.04,
           424.84,
           334.51,
           784.79,
           404.25,
           228.04,
           418.13,
           341.91,
           912.34,
           506.57,
           264.56,
           472.58,
           404.89,
           852.73,
           449.87,
           247.28,
           457.75,
           373.01,
           777.18,
           403.04,
           223.76,
           430.13,
           335.8,
           808.6,
           424.44,
           230.85,
           429.97,
           370.82,
           761.15,
           379.11,
           224.5,
           402.69,
           362.13,
           818.1,
           377.43,
           233.43,
           408.23,
           353.01,
           853.67,
           398.61,
           236.66,
           425.78,
           351.09,
           935.08,
           390.61,
           243.44,
           467.31,
           348.43,
           1090.11,
           526.46,
           292.31,
           543.02,
           475.64
          ],
          "coloraxis": "coloraxis",
          "size": [
           846.38,
           406.17,
           228.57,
           432.65,
           338.89,
           804.39,
           409.16,
           229.04,
           424.84,
           334.51,
           784.79,
           404.25,
           228.04,
           418.13,
           341.91,
           912.34,
           506.57,
           264.56,
           472.58,
           404.89,
           852.73,
           449.87,
           247.28,
           457.75,
           373.01,
           777.18,
           403.04,
           223.76,
           430.13,
           335.8,
           808.6,
           424.44,
           230.85,
           429.97,
           370.82,
           761.15,
           379.11,
           224.5,
           402.69,
           362.13,
           818.1,
           377.43,
           233.43,
           408.23,
           353.01,
           853.67,
           398.61,
           236.66,
           425.78,
           351.09,
           935.08,
           390.61,
           243.44,
           467.31,
           348.43,
           1090.11,
           526.46,
           292.31,
           543.02,
           475.64
          ],
          "sizemode": "area",
          "sizeref": 2.725275,
          "symbol": "circle"
         },
         "mode": "markers",
         "name": "",
         "orientation": "h",
         "showlegend": false,
         "type": "scatter",
         "x": [
          1,
          1,
          1,
          1,
          1,
          2,
          2,
          2,
          2,
          2,
          3,
          3,
          3,
          3,
          3,
          4,
          4,
          4,
          4,
          4,
          5,
          5,
          5,
          5,
          5,
          6,
          6,
          6,
          6,
          6,
          7,
          7,
          7,
          7,
          7,
          8,
          8,
          8,
          8,
          8,
          9,
          9,
          9,
          9,
          9,
          10,
          10,
          10,
          10,
          10,
          11,
          11,
          11,
          11,
          11,
          12,
          12,
          12,
          12,
          12
         ],
         "xaxis": "x2",
         "y": [
          "A",
          "B",
          "C",
          "D",
          "E",
          "A",
          "B",
          "C",
          "D",
          "E",
          "A",
          "B",
          "C",
          "D",
          "E",
          "A",
          "B",
          "C",
          "D",
          "E",
          "A",
          "B",
          "C",
          "D",
          "E",
          "A",
          "B",
          "C",
          "D",
          "E",
          "A",
          "B",
          "C",
          "D",
          "E",
          "A",
          "B",
          "C",
          "D",
          "E",
          "A",
          "B",
          "C",
          "D",
          "E",
          "A",
          "B",
          "C",
          "D",
          "E",
          "A",
          "B",
          "C",
          "D",
          "E",
          "A",
          "B",
          "C",
          "D",
          "E"
         ],
         "yaxis": "y2"
        },
        {
         "hovertemplate": "year=2017<br>month=%{x}<br>store_type=%{y}<br>sales=%{marker.color}<extra></extra>",
         "legendgroup": "",
         "marker": {
          "color": [
           938.64,
           444.44,
           240.99,
           474.84,
           392.76,
           895.29,
           442.97,
           242.01,
           461.74,
           404.89,
           937.18,
           457.9,
           250.52,
           481.72,
           394.23,
           933.45,
           484.27,
           259.8,
           455.47,
           416.7,
           976.5,
           459.54,
           264.03,
           456.94,
           414.19,
           992.29,
           455.54,
           254.46,
           464.85,
           407.74,
           989.31,
           466.35,
           261.36,
           455.62,
           424.75,
           903.08,
           473.74,
           265.4,
           411.97,
           450.97
          ],
          "coloraxis": "coloraxis",
          "size": [
           938.64,
           444.44,
           240.99,
           474.84,
           392.76,
           895.29,
           442.97,
           242.01,
           461.74,
           404.89,
           937.18,
           457.9,
           250.52,
           481.72,
           394.23,
           933.45,
           484.27,
           259.8,
           455.47,
           416.7,
           976.5,
           459.54,
           264.03,
           456.94,
           414.19,
           992.29,
           455.54,
           254.46,
           464.85,
           407.74,
           989.31,
           466.35,
           261.36,
           455.62,
           424.75,
           903.08,
           473.74,
           265.4,
           411.97,
           450.97
          ],
          "sizemode": "area",
          "sizeref": 2.725275,
          "symbol": "circle"
         },
         "mode": "markers",
         "name": "",
         "orientation": "h",
         "showlegend": false,
         "type": "scatter",
         "x": [
          1,
          1,
          1,
          1,
          1,
          2,
          2,
          2,
          2,
          2,
          3,
          3,
          3,
          3,
          3,
          4,
          4,
          4,
          4,
          4,
          5,
          5,
          5,
          5,
          5,
          6,
          6,
          6,
          6,
          6,
          7,
          7,
          7,
          7,
          7,
          8,
          8,
          8,
          8,
          8
         ],
         "xaxis": "x",
         "y": [
          "A",
          "B",
          "C",
          "D",
          "E",
          "A",
          "B",
          "C",
          "D",
          "E",
          "A",
          "B",
          "C",
          "D",
          "E",
          "A",
          "B",
          "C",
          "D",
          "E",
          "A",
          "B",
          "C",
          "D",
          "E",
          "A",
          "B",
          "C",
          "D",
          "E",
          "A",
          "B",
          "C",
          "D",
          "E",
          "A",
          "B",
          "C",
          "D",
          "E"
         ],
         "yaxis": "y"
        }
       ],
       "layout": {
        "annotations": [
         {
          "font": {},
          "showarrow": false,
          "text": "year=2017",
          "textangle": 90,
          "x": 0.98,
          "xanchor": "left",
          "xref": "paper",
          "y": 0.08800000000000001,
          "yanchor": "middle",
          "yref": "paper"
         },
         {
          "font": {},
          "showarrow": false,
          "text": "year=2016",
          "textangle": 90,
          "x": 0.98,
          "xanchor": "left",
          "xref": "paper",
          "y": 0.29400000000000004,
          "yanchor": "middle",
          "yref": "paper"
         },
         {
          "font": {},
          "showarrow": false,
          "text": "year=2015",
          "textangle": 90,
          "x": 0.98,
          "xanchor": "left",
          "xref": "paper",
          "y": 0.5,
          "yanchor": "middle",
          "yref": "paper"
         },
         {
          "font": {},
          "showarrow": false,
          "text": "year=2014",
          "textangle": 90,
          "x": 0.98,
          "xanchor": "left",
          "xref": "paper",
          "y": 0.706,
          "yanchor": "middle",
          "yref": "paper"
         },
         {
          "font": {},
          "showarrow": false,
          "text": "year=2013",
          "textangle": 90,
          "x": 0.98,
          "xanchor": "left",
          "xref": "paper",
          "y": 0.912,
          "yanchor": "middle",
          "yref": "paper"
         }
        ],
        "coloraxis": {
         "colorbar": {
          "title": {
           "text": "sales"
          }
         },
         "colorscale": [
          [
           0,
           "#0d0887"
          ],
          [
           0.1111111111111111,
           "#46039f"
          ],
          [
           0.2222222222222222,
           "#7201a8"
          ],
          [
           0.3333333333333333,
           "#9c179e"
          ],
          [
           0.4444444444444444,
           "#bd3786"
          ],
          [
           0.5555555555555556,
           "#d8576b"
          ],
          [
           0.6666666666666666,
           "#ed7953"
          ],
          [
           0.7777777777777778,
           "#fb9f3a"
          ],
          [
           0.8888888888888888,
           "#fdca26"
          ],
          [
           1,
           "#f0f921"
          ]
         ]
        },
        "font": {
         "color": "#555"
        },
        "height": 900,
        "hoverlabel": {
         "bgcolor": "#f2f2f2",
         "font": {
          "family": "Lato, sans-serif",
          "size": 13
         }
        },
        "legend": {
         "itemsizing": "constant",
         "tracegroupgap": 0
        },
        "margin": {
         "b": 0,
         "t": 70
        },
        "paper_bgcolor": "#fafafa",
        "plot_bgcolor": "#fafafa",
        "template": {
         "data": {
          "bar": [
           {
            "error_x": {
             "color": "#2a3f5f"
            },
            "error_y": {
             "color": "#2a3f5f"
            },
            "marker": {
             "line": {
              "color": "#E5ECF6",
              "width": 0.5
             },
             "pattern": {
              "fillmode": "overlay",
              "size": 10,
              "solidity": 0.2
             }
            },
            "type": "bar"
           }
          ],
          "barpolar": [
           {
            "marker": {
             "line": {
              "color": "#E5ECF6",
              "width": 0.5
             },
             "pattern": {
              "fillmode": "overlay",
              "size": 10,
              "solidity": 0.2
             }
            },
            "type": "barpolar"
           }
          ],
          "carpet": [
           {
            "aaxis": {
             "endlinecolor": "#2a3f5f",
             "gridcolor": "white",
             "linecolor": "white",
             "minorgridcolor": "white",
             "startlinecolor": "#2a3f5f"
            },
            "baxis": {
             "endlinecolor": "#2a3f5f",
             "gridcolor": "white",
             "linecolor": "white",
             "minorgridcolor": "white",
             "startlinecolor": "#2a3f5f"
            },
            "type": "carpet"
           }
          ],
          "choropleth": [
           {
            "colorbar": {
             "outlinewidth": 0,
             "ticks": ""
            },
            "type": "choropleth"
           }
          ],
          "contour": [
           {
            "colorbar": {
             "outlinewidth": 0,
             "ticks": ""
            },
            "colorscale": [
             [
              0,
              "#0d0887"
             ],
             [
              0.1111111111111111,
              "#46039f"
             ],
             [
              0.2222222222222222,
              "#7201a8"
             ],
             [
              0.3333333333333333,
              "#9c179e"
             ],
             [
              0.4444444444444444,
              "#bd3786"
             ],
             [
              0.5555555555555556,
              "#d8576b"
             ],
             [
              0.6666666666666666,
              "#ed7953"
             ],
             [
              0.7777777777777778,
              "#fb9f3a"
             ],
             [
              0.8888888888888888,
              "#fdca26"
             ],
             [
              1,
              "#f0f921"
             ]
            ],
            "type": "contour"
           }
          ],
          "contourcarpet": [
           {
            "colorbar": {
             "outlinewidth": 0,
             "ticks": ""
            },
            "type": "contourcarpet"
           }
          ],
          "heatmap": [
           {
            "colorbar": {
             "outlinewidth": 0,
             "ticks": ""
            },
            "colorscale": [
             [
              0,
              "#0d0887"
             ],
             [
              0.1111111111111111,
              "#46039f"
             ],
             [
              0.2222222222222222,
              "#7201a8"
             ],
             [
              0.3333333333333333,
              "#9c179e"
             ],
             [
              0.4444444444444444,
              "#bd3786"
             ],
             [
              0.5555555555555556,
              "#d8576b"
             ],
             [
              0.6666666666666666,
              "#ed7953"
             ],
             [
              0.7777777777777778,
              "#fb9f3a"
             ],
             [
              0.8888888888888888,
              "#fdca26"
             ],
             [
              1,
              "#f0f921"
             ]
            ],
            "type": "heatmap"
           }
          ],
          "heatmapgl": [
           {
            "colorbar": {
             "outlinewidth": 0,
             "ticks": ""
            },
            "colorscale": [
             [
              0,
              "#0d0887"
             ],
             [
              0.1111111111111111,
              "#46039f"
             ],
             [
              0.2222222222222222,
              "#7201a8"
             ],
             [
              0.3333333333333333,
              "#9c179e"
             ],
             [
              0.4444444444444444,
              "#bd3786"
             ],
             [
              0.5555555555555556,
              "#d8576b"
             ],
             [
              0.6666666666666666,
              "#ed7953"
             ],
             [
              0.7777777777777778,
              "#fb9f3a"
             ],
             [
              0.8888888888888888,
              "#fdca26"
             ],
             [
              1,
              "#f0f921"
             ]
            ],
            "type": "heatmapgl"
           }
          ],
          "histogram": [
           {
            "marker": {
             "pattern": {
              "fillmode": "overlay",
              "size": 10,
              "solidity": 0.2
             }
            },
            "type": "histogram"
           }
          ],
          "histogram2d": [
           {
            "colorbar": {
             "outlinewidth": 0,
             "ticks": ""
            },
            "colorscale": [
             [
              0,
              "#0d0887"
             ],
             [
              0.1111111111111111,
              "#46039f"
             ],
             [
              0.2222222222222222,
              "#7201a8"
             ],
             [
              0.3333333333333333,
              "#9c179e"
             ],
             [
              0.4444444444444444,
              "#bd3786"
             ],
             [
              0.5555555555555556,
              "#d8576b"
             ],
             [
              0.6666666666666666,
              "#ed7953"
             ],
             [
              0.7777777777777778,
              "#fb9f3a"
             ],
             [
              0.8888888888888888,
              "#fdca26"
             ],
             [
              1,
              "#f0f921"
             ]
            ],
            "type": "histogram2d"
           }
          ],
          "histogram2dcontour": [
           {
            "colorbar": {
             "outlinewidth": 0,
             "ticks": ""
            },
            "colorscale": [
             [
              0,
              "#0d0887"
             ],
             [
              0.1111111111111111,
              "#46039f"
             ],
             [
              0.2222222222222222,
              "#7201a8"
             ],
             [
              0.3333333333333333,
              "#9c179e"
             ],
             [
              0.4444444444444444,
              "#bd3786"
             ],
             [
              0.5555555555555556,
              "#d8576b"
             ],
             [
              0.6666666666666666,
              "#ed7953"
             ],
             [
              0.7777777777777778,
              "#fb9f3a"
             ],
             [
              0.8888888888888888,
              "#fdca26"
             ],
             [
              1,
              "#f0f921"
             ]
            ],
            "type": "histogram2dcontour"
           }
          ],
          "mesh3d": [
           {
            "colorbar": {
             "outlinewidth": 0,
             "ticks": ""
            },
            "type": "mesh3d"
           }
          ],
          "parcoords": [
           {
            "line": {
             "colorbar": {
              "outlinewidth": 0,
              "ticks": ""
             }
            },
            "type": "parcoords"
           }
          ],
          "pie": [
           {
            "automargin": true,
            "type": "pie"
           }
          ],
          "scatter": [
           {
            "fillpattern": {
             "fillmode": "overlay",
             "size": 10,
             "solidity": 0.2
            },
            "type": "scatter"
           }
          ],
          "scatter3d": [
           {
            "line": {
             "colorbar": {
              "outlinewidth": 0,
              "ticks": ""
             }
            },
            "marker": {
             "colorbar": {
              "outlinewidth": 0,
              "ticks": ""
             }
            },
            "type": "scatter3d"
           }
          ],
          "scattercarpet": [
           {
            "marker": {
             "colorbar": {
              "outlinewidth": 0,
              "ticks": ""
             }
            },
            "type": "scattercarpet"
           }
          ],
          "scattergeo": [
           {
            "marker": {
             "colorbar": {
              "outlinewidth": 0,
              "ticks": ""
             }
            },
            "type": "scattergeo"
           }
          ],
          "scattergl": [
           {
            "marker": {
             "colorbar": {
              "outlinewidth": 0,
              "ticks": ""
             }
            },
            "type": "scattergl"
           }
          ],
          "scattermapbox": [
           {
            "marker": {
             "colorbar": {
              "outlinewidth": 0,
              "ticks": ""
             }
            },
            "type": "scattermapbox"
           }
          ],
          "scatterpolar": [
           {
            "marker": {
             "colorbar": {
              "outlinewidth": 0,
              "ticks": ""
             }
            },
            "type": "scatterpolar"
           }
          ],
          "scatterpolargl": [
           {
            "marker": {
             "colorbar": {
              "outlinewidth": 0,
              "ticks": ""
             }
            },
            "type": "scatterpolargl"
           }
          ],
          "scatterternary": [
           {
            "marker": {
             "colorbar": {
              "outlinewidth": 0,
              "ticks": ""
             }
            },
            "type": "scatterternary"
           }
          ],
          "surface": [
           {
            "colorbar": {
             "outlinewidth": 0,
             "ticks": ""
            },
            "colorscale": [
             [
              0,
              "#0d0887"
             ],
             [
              0.1111111111111111,
              "#46039f"
             ],
             [
              0.2222222222222222,
              "#7201a8"
             ],
             [
              0.3333333333333333,
              "#9c179e"
             ],
             [
              0.4444444444444444,
              "#bd3786"
             ],
             [
              0.5555555555555556,
              "#d8576b"
             ],
             [
              0.6666666666666666,
              "#ed7953"
             ],
             [
              0.7777777777777778,
              "#fb9f3a"
             ],
             [
              0.8888888888888888,
              "#fdca26"
             ],
             [
              1,
              "#f0f921"
             ]
            ],
            "type": "surface"
           }
          ],
          "table": [
           {
            "cells": {
             "fill": {
              "color": "#EBF0F8"
             },
             "line": {
              "color": "white"
             }
            },
            "header": {
             "fill": {
              "color": "#C8D4E3"
             },
             "line": {
              "color": "white"
             }
            },
            "type": "table"
           }
          ]
         },
         "layout": {
          "annotationdefaults": {
           "arrowcolor": "#2a3f5f",
           "arrowhead": 0,
           "arrowwidth": 1
          },
          "autotypenumbers": "strict",
          "coloraxis": {
           "colorbar": {
            "outlinewidth": 0,
            "ticks": ""
           }
          },
          "colorscale": {
           "diverging": [
            [
             0,
             "#8e0152"
            ],
            [
             0.1,
             "#c51b7d"
            ],
            [
             0.2,
             "#de77ae"
            ],
            [
             0.3,
             "#f1b6da"
            ],
            [
             0.4,
             "#fde0ef"
            ],
            [
             0.5,
             "#f7f7f7"
            ],
            [
             0.6,
             "#e6f5d0"
            ],
            [
             0.7,
             "#b8e186"
            ],
            [
             0.8,
             "#7fbc41"
            ],
            [
             0.9,
             "#4d9221"
            ],
            [
             1,
             "#276419"
            ]
           ],
           "sequential": [
            [
             0,
             "#0d0887"
            ],
            [
             0.1111111111111111,
             "#46039f"
            ],
            [
             0.2222222222222222,
             "#7201a8"
            ],
            [
             0.3333333333333333,
             "#9c179e"
            ],
            [
             0.4444444444444444,
             "#bd3786"
            ],
            [
             0.5555555555555556,
             "#d8576b"
            ],
            [
             0.6666666666666666,
             "#ed7953"
            ],
            [
             0.7777777777777778,
             "#fb9f3a"
            ],
            [
             0.8888888888888888,
             "#fdca26"
            ],
            [
             1,
             "#f0f921"
            ]
           ],
           "sequentialminus": [
            [
             0,
             "#0d0887"
            ],
            [
             0.1111111111111111,
             "#46039f"
            ],
            [
             0.2222222222222222,
             "#7201a8"
            ],
            [
             0.3333333333333333,
             "#9c179e"
            ],
            [
             0.4444444444444444,
             "#bd3786"
            ],
            [
             0.5555555555555556,
             "#d8576b"
            ],
            [
             0.6666666666666666,
             "#ed7953"
            ],
            [
             0.7777777777777778,
             "#fb9f3a"
            ],
            [
             0.8888888888888888,
             "#fdca26"
            ],
            [
             1,
             "#f0f921"
            ]
           ]
          },
          "colorway": [
           "#636efa",
           "#EF553B",
           "#00cc96",
           "#ab63fa",
           "#FFA15A",
           "#19d3f3",
           "#FF6692",
           "#B6E880",
           "#FF97FF",
           "#FECB52"
          ],
          "font": {
           "color": "#2a3f5f"
          },
          "geo": {
           "bgcolor": "white",
           "lakecolor": "white",
           "landcolor": "#E5ECF6",
           "showlakes": true,
           "showland": true,
           "subunitcolor": "white"
          },
          "hoverlabel": {
           "align": "left"
          },
          "hovermode": "closest",
          "mapbox": {
           "style": "light"
          },
          "paper_bgcolor": "white",
          "plot_bgcolor": "#E5ECF6",
          "polar": {
           "angularaxis": {
            "gridcolor": "white",
            "linecolor": "white",
            "ticks": ""
           },
           "bgcolor": "#E5ECF6",
           "radialaxis": {
            "gridcolor": "white",
            "linecolor": "white",
            "ticks": ""
           }
          },
          "scene": {
           "xaxis": {
            "backgroundcolor": "#E5ECF6",
            "gridcolor": "white",
            "gridwidth": 2,
            "linecolor": "white",
            "showbackground": true,
            "ticks": "",
            "zerolinecolor": "white"
           },
           "yaxis": {
            "backgroundcolor": "#E5ECF6",
            "gridcolor": "white",
            "gridwidth": 2,
            "linecolor": "white",
            "showbackground": true,
            "ticks": "",
            "zerolinecolor": "white"
           },
           "zaxis": {
            "backgroundcolor": "#E5ECF6",
            "gridcolor": "white",
            "gridwidth": 2,
            "linecolor": "white",
            "showbackground": true,
            "ticks": "",
            "zerolinecolor": "white"
           }
          },
          "shapedefaults": {
           "line": {
            "color": "#2a3f5f"
           }
          },
          "ternary": {
           "aaxis": {
            "gridcolor": "white",
            "linecolor": "white",
            "ticks": ""
           },
           "baxis": {
            "gridcolor": "white",
            "linecolor": "white",
            "ticks": ""
           },
           "bgcolor": "#E5ECF6",
           "caxis": {
            "gridcolor": "white",
            "linecolor": "white",
            "ticks": ""
           }
          },
          "title": {
           "x": 0.05
          },
          "xaxis": {
           "automargin": true,
           "gridcolor": "white",
           "linecolor": "white",
           "ticks": "",
           "title": {
            "standoff": 15
           },
           "zerolinecolor": "white",
           "zerolinewidth": 2
          },
          "yaxis": {
           "automargin": true,
           "gridcolor": "white",
           "linecolor": "white",
           "ticks": "",
           "title": {
            "standoff": 15
           },
           "zerolinecolor": "white",
           "zerolinewidth": 2
          }
         }
        },
        "title": {
         "font": {
          "color": "#444",
          "family": "Lato, sans-serif",
          "size": 29
         },
         "text": "Average Sales: Store Type Vs Year(Month)"
        },
        "xaxis": {
         "anchor": "y",
         "domain": [
          0,
          0.98
         ],
         "tickmode": "array",
         "ticktext": [
          "Jan",
          "Feb",
          "Mar",
          "Apr",
          "May",
          "Jun",
          "Jul",
          "Aug",
          "Sep",
          "Oct",
          "Nov",
          "Dec"
         ],
         "tickvals": [
          1,
          2,
          3,
          4,
          5,
          6,
          7,
          8,
          9,
          10,
          11,
          12
         ],
         "title": {
          "text": ""
         }
        },
        "xaxis2": {
         "anchor": "y2",
         "domain": [
          0,
          0.98
         ],
         "matches": "x",
         "showticklabels": false,
         "tickmode": "array",
         "ticktext": [
          "Jan",
          "Feb",
          "Mar",
          "Apr",
          "May",
          "Jun",
          "Jul",
          "Aug",
          "Sep",
          "Oct",
          "Nov",
          "Dec"
         ],
         "tickvals": [
          1,
          2,
          3,
          4,
          5,
          6,
          7,
          8,
          9,
          10,
          11,
          12
         ]
        },
        "xaxis3": {
         "anchor": "y3",
         "domain": [
          0,
          0.98
         ],
         "matches": "x",
         "showticklabels": false,
         "tickmode": "array",
         "ticktext": [
          "Jan",
          "Feb",
          "Mar",
          "Apr",
          "May",
          "Jun",
          "Jul",
          "Aug",
          "Sep",
          "Oct",
          "Nov",
          "Dec"
         ],
         "tickvals": [
          1,
          2,
          3,
          4,
          5,
          6,
          7,
          8,
          9,
          10,
          11,
          12
         ]
        },
        "xaxis4": {
         "anchor": "y4",
         "domain": [
          0,
          0.98
         ],
         "matches": "x",
         "showticklabels": false,
         "tickmode": "array",
         "ticktext": [
          "Jan",
          "Feb",
          "Mar",
          "Apr",
          "May",
          "Jun",
          "Jul",
          "Aug",
          "Sep",
          "Oct",
          "Nov",
          "Dec"
         ],
         "tickvals": [
          1,
          2,
          3,
          4,
          5,
          6,
          7,
          8,
          9,
          10,
          11,
          12
         ]
        },
        "xaxis5": {
         "anchor": "y5",
         "domain": [
          0,
          0.98
         ],
         "matches": "x",
         "showticklabels": false,
         "tickmode": "array",
         "ticktext": [
          "Jan",
          "Feb",
          "Mar",
          "Apr",
          "May",
          "Jun",
          "Jul",
          "Aug",
          "Sep",
          "Oct",
          "Nov",
          "Dec"
         ],
         "tickvals": [
          1,
          2,
          3,
          4,
          5,
          6,
          7,
          8,
          9,
          10,
          11,
          12
         ]
        },
        "yaxis": {
         "anchor": "x",
         "domain": [
          0,
          0.17600000000000002
         ],
         "ticksuffix": "  ",
         "title": {
          "text": ""
         }
        },
        "yaxis2": {
         "anchor": "x2",
         "domain": [
          0.20600000000000002,
          0.382
         ],
         "matches": "y",
         "ticksuffix": "  ",
         "title": {
          "text": "store_type"
         }
        },
        "yaxis3": {
         "anchor": "x3",
         "domain": [
          0.41200000000000003,
          0.5880000000000001
         ],
         "matches": "y",
         "ticksuffix": "  ",
         "title": {
          "text": "store_type"
         }
        },
        "yaxis4": {
         "anchor": "x4",
         "domain": [
          0.618,
          0.794
         ],
         "matches": "y",
         "ticksuffix": "  ",
         "title": {
          "text": "store_type"
         }
        },
        "yaxis5": {
         "anchor": "x5",
         "domain": [
          0.8240000000000001,
          1
         ],
         "matches": "y",
         "ticksuffix": "  ",
         "title": {
          "text": "store_type"
         }
        }
       }
      },
      "text/html": [
       "<div>                            <div id=\"5fab8fe2-0214-4094-921d-cd57c1f29685\" class=\"plotly-graph-div\" style=\"height:900px; width:100%;\"></div>            <script type=\"text/javascript\">                require([\"plotly\"], function(Plotly) {                    window.PLOTLYENV=window.PLOTLYENV || {};                                    if (document.getElementById(\"5fab8fe2-0214-4094-921d-cd57c1f29685\")) {                    Plotly.newPlot(                        \"5fab8fe2-0214-4094-921d-cd57c1f29685\",                        [{\"hovertemplate\":\"year=2013<br>month=%{x}<br>store_type=%{y}<br>sales=%{marker.color}<extra></extra>\",\"legendgroup\":\"\",\"marker\":{\"color\":[392.85,155.11,109.06,191.16,60.52,396.04,167.35,116.52,195.3,71.79,424.98,183.75,122.69,207.38,75.89,411.88,193.39,125.99,202.36,79.52,414.28,186.83,129.43,203.52,130.5,422.57,189.84,133.83,210.07,134.2,395.04,182.59,123.61,202.0,127.19,406.72,192.27,135.41,203.35,145.96,439.66,197.55,133.87,212.23,136.64,419.19,194.03,129.85,206.18,131.77,471.99,204.3,137.69,221.59,136.3,628.7,263.25,165.61,286.3,181.66],\"coloraxis\":\"coloraxis\",\"size\":[392.85,155.11,109.06,191.16,60.52,396.04,167.35,116.52,195.3,71.79,424.98,183.75,122.69,207.38,75.89,411.88,193.39,125.99,202.36,79.52,414.28,186.83,129.43,203.52,130.5,422.57,189.84,133.83,210.07,134.2,395.04,182.59,123.61,202.0,127.19,406.72,192.27,135.41,203.35,145.96,439.66,197.55,133.87,212.23,136.64,419.19,194.03,129.85,206.18,131.77,471.99,204.3,137.69,221.59,136.3,628.7,263.25,165.61,286.3,181.66],\"sizemode\":\"area\",\"sizeref\":2.725275,\"symbol\":\"circle\"},\"mode\":\"markers\",\"name\":\"\",\"orientation\":\"h\",\"showlegend\":false,\"x\":[1,1,1,1,1,2,2,2,2,2,3,3,3,3,3,4,4,4,4,4,5,5,5,5,5,6,6,6,6,6,7,7,7,7,7,8,8,8,8,8,9,9,9,9,9,10,10,10,10,10,11,11,11,11,11,12,12,12,12,12],\"xaxis\":\"x5\",\"y\":[\"A\",\"B\",\"C\",\"D\",\"E\",\"A\",\"B\",\"C\",\"D\",\"E\",\"A\",\"B\",\"C\",\"D\",\"E\",\"A\",\"B\",\"C\",\"D\",\"E\",\"A\",\"B\",\"C\",\"D\",\"E\",\"A\",\"B\",\"C\",\"D\",\"E\",\"A\",\"B\",\"C\",\"D\",\"E\",\"A\",\"B\",\"C\",\"D\",\"E\",\"A\",\"B\",\"C\",\"D\",\"E\",\"A\",\"B\",\"C\",\"D\",\"E\",\"A\",\"B\",\"C\",\"D\",\"E\",\"A\",\"B\",\"C\",\"D\",\"E\"],\"yaxis\":\"y5\",\"type\":\"scatter\"},{\"hovertemplate\":\"year=2014<br>month=%{x}<br>store_type=%{y}<br>sales=%{marker.color}<extra></extra>\",\"legendgroup\":\"\",\"marker\":{\"color\":[718.51,264.35,179.45,356.85,197.52,479.7,213.49,145.95,232.31,158.08,770.83,297.01,195.6,375.19,226.68,497.61,212.83,142.33,226.01,151.74,506.39,213.78,148.49,219.05,160.24,502.78,210.45,147.07,230.19,163.05,730.62,281.77,195.99,347.68,229.26,512.86,220.15,142.36,242.23,175.12,781.92,298.07,199.2,384.71,222.5,766.21,290.94,196.82,381.31,224.57,803.59,300.52,209.48,389.59,236.93,956.89,365.72,247.6,467.75,289.73],\"coloraxis\":\"coloraxis\",\"size\":[718.51,264.35,179.45,356.85,197.52,479.7,213.49,145.95,232.31,158.08,770.83,297.01,195.6,375.19,226.68,497.61,212.83,142.33,226.01,151.74,506.39,213.78,148.49,219.05,160.24,502.78,210.45,147.07,230.19,163.05,730.62,281.77,195.99,347.68,229.26,512.86,220.15,142.36,242.23,175.12,781.92,298.07,199.2,384.71,222.5,766.21,290.94,196.82,381.31,224.57,803.59,300.52,209.48,389.59,236.93,956.89,365.72,247.6,467.75,289.73],\"sizemode\":\"area\",\"sizeref\":2.725275,\"symbol\":\"circle\"},\"mode\":\"markers\",\"name\":\"\",\"orientation\":\"h\",\"showlegend\":false,\"x\":[1,1,1,1,1,2,2,2,2,2,3,3,3,3,3,4,4,4,4,4,5,5,5,5,5,6,6,6,6,6,7,7,7,7,7,8,8,8,8,8,9,9,9,9,9,10,10,10,10,10,11,11,11,11,11,12,12,12,12,12],\"xaxis\":\"x4\",\"y\":[\"A\",\"B\",\"C\",\"D\",\"E\",\"A\",\"B\",\"C\",\"D\",\"E\",\"A\",\"B\",\"C\",\"D\",\"E\",\"A\",\"B\",\"C\",\"D\",\"E\",\"A\",\"B\",\"C\",\"D\",\"E\",\"A\",\"B\",\"C\",\"D\",\"E\",\"A\",\"B\",\"C\",\"D\",\"E\",\"A\",\"B\",\"C\",\"D\",\"E\",\"A\",\"B\",\"C\",\"D\",\"E\",\"A\",\"B\",\"C\",\"D\",\"E\",\"A\",\"B\",\"C\",\"D\",\"E\",\"A\",\"B\",\"C\",\"D\",\"E\"],\"yaxis\":\"y4\",\"type\":\"scatter\"},{\"hovertemplate\":\"year=2015<br>month=%{x}<br>store_type=%{y}<br>sales=%{marker.color}<extra></extra>\",\"legendgroup\":\"\",\"marker\":{\"color\":[543.96,221.59,160.54,263.05,187.67,526.49,261.3,169.07,261.27,201.22,541.28,272.36,165.25,267.64,225.32,536.51,272.39,161.84,260.94,243.46,624.45,304.09,186.75,297.23,281.88,781.05,342.59,217.6,395.66,323.85,785.11,363.82,217.38,399.58,333.47,798.94,412.27,221.59,401.02,354.15,827.73,424.08,228.11,426.25,384.79,821.08,413.63,232.24,424.89,377.78,840.25,399.13,223.49,423.62,325.63,996.98,488.73,271.05,511.33,398.84],\"coloraxis\":\"coloraxis\",\"size\":[543.96,221.59,160.54,263.05,187.67,526.49,261.3,169.07,261.27,201.22,541.28,272.36,165.25,267.64,225.32,536.51,272.39,161.84,260.94,243.46,624.45,304.09,186.75,297.23,281.88,781.05,342.59,217.6,395.66,323.85,785.11,363.82,217.38,399.58,333.47,798.94,412.27,221.59,401.02,354.15,827.73,424.08,228.11,426.25,384.79,821.08,413.63,232.24,424.89,377.78,840.25,399.13,223.49,423.62,325.63,996.98,488.73,271.05,511.33,398.84],\"sizemode\":\"area\",\"sizeref\":2.725275,\"symbol\":\"circle\"},\"mode\":\"markers\",\"name\":\"\",\"orientation\":\"h\",\"showlegend\":false,\"x\":[1,1,1,1,1,2,2,2,2,2,3,3,3,3,3,4,4,4,4,4,5,5,5,5,5,6,6,6,6,6,7,7,7,7,7,8,8,8,8,8,9,9,9,9,9,10,10,10,10,10,11,11,11,11,11,12,12,12,12,12],\"xaxis\":\"x3\",\"y\":[\"A\",\"B\",\"C\",\"D\",\"E\",\"A\",\"B\",\"C\",\"D\",\"E\",\"A\",\"B\",\"C\",\"D\",\"E\",\"A\",\"B\",\"C\",\"D\",\"E\",\"A\",\"B\",\"C\",\"D\",\"E\",\"A\",\"B\",\"C\",\"D\",\"E\",\"A\",\"B\",\"C\",\"D\",\"E\",\"A\",\"B\",\"C\",\"D\",\"E\",\"A\",\"B\",\"C\",\"D\",\"E\",\"A\",\"B\",\"C\",\"D\",\"E\",\"A\",\"B\",\"C\",\"D\",\"E\",\"A\",\"B\",\"C\",\"D\",\"E\"],\"yaxis\":\"y3\",\"type\":\"scatter\"},{\"hovertemplate\":\"year=2016<br>month=%{x}<br>store_type=%{y}<br>sales=%{marker.color}<extra></extra>\",\"legendgroup\":\"\",\"marker\":{\"color\":[846.38,406.17,228.57,432.65,338.89,804.39,409.16,229.04,424.84,334.51,784.79,404.25,228.04,418.13,341.91,912.34,506.57,264.56,472.58,404.89,852.73,449.87,247.28,457.75,373.01,777.18,403.04,223.76,430.13,335.8,808.6,424.44,230.85,429.97,370.82,761.15,379.11,224.5,402.69,362.13,818.1,377.43,233.43,408.23,353.01,853.67,398.61,236.66,425.78,351.09,935.08,390.61,243.44,467.31,348.43,1090.11,526.46,292.31,543.02,475.64],\"coloraxis\":\"coloraxis\",\"size\":[846.38,406.17,228.57,432.65,338.89,804.39,409.16,229.04,424.84,334.51,784.79,404.25,228.04,418.13,341.91,912.34,506.57,264.56,472.58,404.89,852.73,449.87,247.28,457.75,373.01,777.18,403.04,223.76,430.13,335.8,808.6,424.44,230.85,429.97,370.82,761.15,379.11,224.5,402.69,362.13,818.1,377.43,233.43,408.23,353.01,853.67,398.61,236.66,425.78,351.09,935.08,390.61,243.44,467.31,348.43,1090.11,526.46,292.31,543.02,475.64],\"sizemode\":\"area\",\"sizeref\":2.725275,\"symbol\":\"circle\"},\"mode\":\"markers\",\"name\":\"\",\"orientation\":\"h\",\"showlegend\":false,\"x\":[1,1,1,1,1,2,2,2,2,2,3,3,3,3,3,4,4,4,4,4,5,5,5,5,5,6,6,6,6,6,7,7,7,7,7,8,8,8,8,8,9,9,9,9,9,10,10,10,10,10,11,11,11,11,11,12,12,12,12,12],\"xaxis\":\"x2\",\"y\":[\"A\",\"B\",\"C\",\"D\",\"E\",\"A\",\"B\",\"C\",\"D\",\"E\",\"A\",\"B\",\"C\",\"D\",\"E\",\"A\",\"B\",\"C\",\"D\",\"E\",\"A\",\"B\",\"C\",\"D\",\"E\",\"A\",\"B\",\"C\",\"D\",\"E\",\"A\",\"B\",\"C\",\"D\",\"E\",\"A\",\"B\",\"C\",\"D\",\"E\",\"A\",\"B\",\"C\",\"D\",\"E\",\"A\",\"B\",\"C\",\"D\",\"E\",\"A\",\"B\",\"C\",\"D\",\"E\",\"A\",\"B\",\"C\",\"D\",\"E\"],\"yaxis\":\"y2\",\"type\":\"scatter\"},{\"hovertemplate\":\"year=2017<br>month=%{x}<br>store_type=%{y}<br>sales=%{marker.color}<extra></extra>\",\"legendgroup\":\"\",\"marker\":{\"color\":[938.64,444.44,240.99,474.84,392.76,895.29,442.97,242.01,461.74,404.89,937.18,457.9,250.52,481.72,394.23,933.45,484.27,259.8,455.47,416.7,976.5,459.54,264.03,456.94,414.19,992.29,455.54,254.46,464.85,407.74,989.31,466.35,261.36,455.62,424.75,903.08,473.74,265.4,411.97,450.97],\"coloraxis\":\"coloraxis\",\"size\":[938.64,444.44,240.99,474.84,392.76,895.29,442.97,242.01,461.74,404.89,937.18,457.9,250.52,481.72,394.23,933.45,484.27,259.8,455.47,416.7,976.5,459.54,264.03,456.94,414.19,992.29,455.54,254.46,464.85,407.74,989.31,466.35,261.36,455.62,424.75,903.08,473.74,265.4,411.97,450.97],\"sizemode\":\"area\",\"sizeref\":2.725275,\"symbol\":\"circle\"},\"mode\":\"markers\",\"name\":\"\",\"orientation\":\"h\",\"showlegend\":false,\"x\":[1,1,1,1,1,2,2,2,2,2,3,3,3,3,3,4,4,4,4,4,5,5,5,5,5,6,6,6,6,6,7,7,7,7,7,8,8,8,8,8],\"xaxis\":\"x\",\"y\":[\"A\",\"B\",\"C\",\"D\",\"E\",\"A\",\"B\",\"C\",\"D\",\"E\",\"A\",\"B\",\"C\",\"D\",\"E\",\"A\",\"B\",\"C\",\"D\",\"E\",\"A\",\"B\",\"C\",\"D\",\"E\",\"A\",\"B\",\"C\",\"D\",\"E\",\"A\",\"B\",\"C\",\"D\",\"E\",\"A\",\"B\",\"C\",\"D\",\"E\"],\"yaxis\":\"y\",\"type\":\"scatter\"}],                        {\"template\":{\"data\":{\"histogram2dcontour\":[{\"type\":\"histogram2dcontour\",\"colorbar\":{\"outlinewidth\":0,\"ticks\":\"\"},\"colorscale\":[[0.0,\"#0d0887\"],[0.1111111111111111,\"#46039f\"],[0.2222222222222222,\"#7201a8\"],[0.3333333333333333,\"#9c179e\"],[0.4444444444444444,\"#bd3786\"],[0.5555555555555556,\"#d8576b\"],[0.6666666666666666,\"#ed7953\"],[0.7777777777777778,\"#fb9f3a\"],[0.8888888888888888,\"#fdca26\"],[1.0,\"#f0f921\"]]}],\"choropleth\":[{\"type\":\"choropleth\",\"colorbar\":{\"outlinewidth\":0,\"ticks\":\"\"}}],\"histogram2d\":[{\"type\":\"histogram2d\",\"colorbar\":{\"outlinewidth\":0,\"ticks\":\"\"},\"colorscale\":[[0.0,\"#0d0887\"],[0.1111111111111111,\"#46039f\"],[0.2222222222222222,\"#7201a8\"],[0.3333333333333333,\"#9c179e\"],[0.4444444444444444,\"#bd3786\"],[0.5555555555555556,\"#d8576b\"],[0.6666666666666666,\"#ed7953\"],[0.7777777777777778,\"#fb9f3a\"],[0.8888888888888888,\"#fdca26\"],[1.0,\"#f0f921\"]]}],\"heatmap\":[{\"type\":\"heatmap\",\"colorbar\":{\"outlinewidth\":0,\"ticks\":\"\"},\"colorscale\":[[0.0,\"#0d0887\"],[0.1111111111111111,\"#46039f\"],[0.2222222222222222,\"#7201a8\"],[0.3333333333333333,\"#9c179e\"],[0.4444444444444444,\"#bd3786\"],[0.5555555555555556,\"#d8576b\"],[0.6666666666666666,\"#ed7953\"],[0.7777777777777778,\"#fb9f3a\"],[0.8888888888888888,\"#fdca26\"],[1.0,\"#f0f921\"]]}],\"heatmapgl\":[{\"type\":\"heatmapgl\",\"colorbar\":{\"outlinewidth\":0,\"ticks\":\"\"},\"colorscale\":[[0.0,\"#0d0887\"],[0.1111111111111111,\"#46039f\"],[0.2222222222222222,\"#7201a8\"],[0.3333333333333333,\"#9c179e\"],[0.4444444444444444,\"#bd3786\"],[0.5555555555555556,\"#d8576b\"],[0.6666666666666666,\"#ed7953\"],[0.7777777777777778,\"#fb9f3a\"],[0.8888888888888888,\"#fdca26\"],[1.0,\"#f0f921\"]]}],\"contourcarpet\":[{\"type\":\"contourcarpet\",\"colorbar\":{\"outlinewidth\":0,\"ticks\":\"\"}}],\"contour\":[{\"type\":\"contour\",\"colorbar\":{\"outlinewidth\":0,\"ticks\":\"\"},\"colorscale\":[[0.0,\"#0d0887\"],[0.1111111111111111,\"#46039f\"],[0.2222222222222222,\"#7201a8\"],[0.3333333333333333,\"#9c179e\"],[0.4444444444444444,\"#bd3786\"],[0.5555555555555556,\"#d8576b\"],[0.6666666666666666,\"#ed7953\"],[0.7777777777777778,\"#fb9f3a\"],[0.8888888888888888,\"#fdca26\"],[1.0,\"#f0f921\"]]}],\"surface\":[{\"type\":\"surface\",\"colorbar\":{\"outlinewidth\":0,\"ticks\":\"\"},\"colorscale\":[[0.0,\"#0d0887\"],[0.1111111111111111,\"#46039f\"],[0.2222222222222222,\"#7201a8\"],[0.3333333333333333,\"#9c179e\"],[0.4444444444444444,\"#bd3786\"],[0.5555555555555556,\"#d8576b\"],[0.6666666666666666,\"#ed7953\"],[0.7777777777777778,\"#fb9f3a\"],[0.8888888888888888,\"#fdca26\"],[1.0,\"#f0f921\"]]}],\"mesh3d\":[{\"type\":\"mesh3d\",\"colorbar\":{\"outlinewidth\":0,\"ticks\":\"\"}}],\"scatter\":[{\"fillpattern\":{\"fillmode\":\"overlay\",\"size\":10,\"solidity\":0.2},\"type\":\"scatter\"}],\"parcoords\":[{\"type\":\"parcoords\",\"line\":{\"colorbar\":{\"outlinewidth\":0,\"ticks\":\"\"}}}],\"scatterpolargl\":[{\"type\":\"scatterpolargl\",\"marker\":{\"colorbar\":{\"outlinewidth\":0,\"ticks\":\"\"}}}],\"bar\":[{\"error_x\":{\"color\":\"#2a3f5f\"},\"error_y\":{\"color\":\"#2a3f5f\"},\"marker\":{\"line\":{\"color\":\"#E5ECF6\",\"width\":0.5},\"pattern\":{\"fillmode\":\"overlay\",\"size\":10,\"solidity\":0.2}},\"type\":\"bar\"}],\"scattergeo\":[{\"type\":\"scattergeo\",\"marker\":{\"colorbar\":{\"outlinewidth\":0,\"ticks\":\"\"}}}],\"scatterpolar\":[{\"type\":\"scatterpolar\",\"marker\":{\"colorbar\":{\"outlinewidth\":0,\"ticks\":\"\"}}}],\"histogram\":[{\"marker\":{\"pattern\":{\"fillmode\":\"overlay\",\"size\":10,\"solidity\":0.2}},\"type\":\"histogram\"}],\"scattergl\":[{\"type\":\"scattergl\",\"marker\":{\"colorbar\":{\"outlinewidth\":0,\"ticks\":\"\"}}}],\"scatter3d\":[{\"type\":\"scatter3d\",\"line\":{\"colorbar\":{\"outlinewidth\":0,\"ticks\":\"\"}},\"marker\":{\"colorbar\":{\"outlinewidth\":0,\"ticks\":\"\"}}}],\"scattermapbox\":[{\"type\":\"scattermapbox\",\"marker\":{\"colorbar\":{\"outlinewidth\":0,\"ticks\":\"\"}}}],\"scatterternary\":[{\"type\":\"scatterternary\",\"marker\":{\"colorbar\":{\"outlinewidth\":0,\"ticks\":\"\"}}}],\"scattercarpet\":[{\"type\":\"scattercarpet\",\"marker\":{\"colorbar\":{\"outlinewidth\":0,\"ticks\":\"\"}}}],\"carpet\":[{\"aaxis\":{\"endlinecolor\":\"#2a3f5f\",\"gridcolor\":\"white\",\"linecolor\":\"white\",\"minorgridcolor\":\"white\",\"startlinecolor\":\"#2a3f5f\"},\"baxis\":{\"endlinecolor\":\"#2a3f5f\",\"gridcolor\":\"white\",\"linecolor\":\"white\",\"minorgridcolor\":\"white\",\"startlinecolor\":\"#2a3f5f\"},\"type\":\"carpet\"}],\"table\":[{\"cells\":{\"fill\":{\"color\":\"#EBF0F8\"},\"line\":{\"color\":\"white\"}},\"header\":{\"fill\":{\"color\":\"#C8D4E3\"},\"line\":{\"color\":\"white\"}},\"type\":\"table\"}],\"barpolar\":[{\"marker\":{\"line\":{\"color\":\"#E5ECF6\",\"width\":0.5},\"pattern\":{\"fillmode\":\"overlay\",\"size\":10,\"solidity\":0.2}},\"type\":\"barpolar\"}],\"pie\":[{\"automargin\":true,\"type\":\"pie\"}]},\"layout\":{\"autotypenumbers\":\"strict\",\"colorway\":[\"#636efa\",\"#EF553B\",\"#00cc96\",\"#ab63fa\",\"#FFA15A\",\"#19d3f3\",\"#FF6692\",\"#B6E880\",\"#FF97FF\",\"#FECB52\"],\"font\":{\"color\":\"#2a3f5f\"},\"hovermode\":\"closest\",\"hoverlabel\":{\"align\":\"left\"},\"paper_bgcolor\":\"white\",\"plot_bgcolor\":\"#E5ECF6\",\"polar\":{\"bgcolor\":\"#E5ECF6\",\"angularaxis\":{\"gridcolor\":\"white\",\"linecolor\":\"white\",\"ticks\":\"\"},\"radialaxis\":{\"gridcolor\":\"white\",\"linecolor\":\"white\",\"ticks\":\"\"}},\"ternary\":{\"bgcolor\":\"#E5ECF6\",\"aaxis\":{\"gridcolor\":\"white\",\"linecolor\":\"white\",\"ticks\":\"\"},\"baxis\":{\"gridcolor\":\"white\",\"linecolor\":\"white\",\"ticks\":\"\"},\"caxis\":{\"gridcolor\":\"white\",\"linecolor\":\"white\",\"ticks\":\"\"}},\"coloraxis\":{\"colorbar\":{\"outlinewidth\":0,\"ticks\":\"\"}},\"colorscale\":{\"sequential\":[[0.0,\"#0d0887\"],[0.1111111111111111,\"#46039f\"],[0.2222222222222222,\"#7201a8\"],[0.3333333333333333,\"#9c179e\"],[0.4444444444444444,\"#bd3786\"],[0.5555555555555556,\"#d8576b\"],[0.6666666666666666,\"#ed7953\"],[0.7777777777777778,\"#fb9f3a\"],[0.8888888888888888,\"#fdca26\"],[1.0,\"#f0f921\"]],\"sequentialminus\":[[0.0,\"#0d0887\"],[0.1111111111111111,\"#46039f\"],[0.2222222222222222,\"#7201a8\"],[0.3333333333333333,\"#9c179e\"],[0.4444444444444444,\"#bd3786\"],[0.5555555555555556,\"#d8576b\"],[0.6666666666666666,\"#ed7953\"],[0.7777777777777778,\"#fb9f3a\"],[0.8888888888888888,\"#fdca26\"],[1.0,\"#f0f921\"]],\"diverging\":[[0,\"#8e0152\"],[0.1,\"#c51b7d\"],[0.2,\"#de77ae\"],[0.3,\"#f1b6da\"],[0.4,\"#fde0ef\"],[0.5,\"#f7f7f7\"],[0.6,\"#e6f5d0\"],[0.7,\"#b8e186\"],[0.8,\"#7fbc41\"],[0.9,\"#4d9221\"],[1,\"#276419\"]]},\"xaxis\":{\"gridcolor\":\"white\",\"linecolor\":\"white\",\"ticks\":\"\",\"title\":{\"standoff\":15},\"zerolinecolor\":\"white\",\"automargin\":true,\"zerolinewidth\":2},\"yaxis\":{\"gridcolor\":\"white\",\"linecolor\":\"white\",\"ticks\":\"\",\"title\":{\"standoff\":15},\"zerolinecolor\":\"white\",\"automargin\":true,\"zerolinewidth\":2},\"scene\":{\"xaxis\":{\"backgroundcolor\":\"#E5ECF6\",\"gridcolor\":\"white\",\"linecolor\":\"white\",\"showbackground\":true,\"ticks\":\"\",\"zerolinecolor\":\"white\",\"gridwidth\":2},\"yaxis\":{\"backgroundcolor\":\"#E5ECF6\",\"gridcolor\":\"white\",\"linecolor\":\"white\",\"showbackground\":true,\"ticks\":\"\",\"zerolinecolor\":\"white\",\"gridwidth\":2},\"zaxis\":{\"backgroundcolor\":\"#E5ECF6\",\"gridcolor\":\"white\",\"linecolor\":\"white\",\"showbackground\":true,\"ticks\":\"\",\"zerolinecolor\":\"white\",\"gridwidth\":2}},\"shapedefaults\":{\"line\":{\"color\":\"#2a3f5f\"}},\"annotationdefaults\":{\"arrowcolor\":\"#2a3f5f\",\"arrowhead\":0,\"arrowwidth\":1},\"geo\":{\"bgcolor\":\"white\",\"landcolor\":\"#E5ECF6\",\"subunitcolor\":\"white\",\"showland\":true,\"showlakes\":true,\"lakecolor\":\"white\"},\"title\":{\"x\":0.05},\"mapbox\":{\"style\":\"light\"}}},\"xaxis\":{\"anchor\":\"y\",\"domain\":[0.0,0.98],\"title\":{\"text\":\"\"},\"tickmode\":\"array\",\"tickvals\":[1,2,3,4,5,6,7,8,9,10,11,12],\"ticktext\":[\"Jan\",\"Feb\",\"Mar\",\"Apr\",\"May\",\"Jun\",\"Jul\",\"Aug\",\"Sep\",\"Oct\",\"Nov\",\"Dec\"]},\"yaxis\":{\"anchor\":\"x\",\"domain\":[0.0,0.17600000000000002],\"title\":{\"text\":\"\"},\"ticksuffix\":\"  \"},\"xaxis2\":{\"anchor\":\"y2\",\"domain\":[0.0,0.98],\"matches\":\"x\",\"showticklabels\":false,\"tickmode\":\"array\",\"tickvals\":[1,2,3,4,5,6,7,8,9,10,11,12],\"ticktext\":[\"Jan\",\"Feb\",\"Mar\",\"Apr\",\"May\",\"Jun\",\"Jul\",\"Aug\",\"Sep\",\"Oct\",\"Nov\",\"Dec\"]},\"yaxis2\":{\"anchor\":\"x2\",\"domain\":[0.20600000000000002,0.382],\"matches\":\"y\",\"title\":{\"text\":\"store_type\"},\"ticksuffix\":\"  \"},\"xaxis3\":{\"anchor\":\"y3\",\"domain\":[0.0,0.98],\"matches\":\"x\",\"showticklabels\":false,\"tickmode\":\"array\",\"tickvals\":[1,2,3,4,5,6,7,8,9,10,11,12],\"ticktext\":[\"Jan\",\"Feb\",\"Mar\",\"Apr\",\"May\",\"Jun\",\"Jul\",\"Aug\",\"Sep\",\"Oct\",\"Nov\",\"Dec\"]},\"yaxis3\":{\"anchor\":\"x3\",\"domain\":[0.41200000000000003,0.5880000000000001],\"matches\":\"y\",\"title\":{\"text\":\"store_type\"},\"ticksuffix\":\"  \"},\"xaxis4\":{\"anchor\":\"y4\",\"domain\":[0.0,0.98],\"matches\":\"x\",\"showticklabels\":false,\"tickmode\":\"array\",\"tickvals\":[1,2,3,4,5,6,7,8,9,10,11,12],\"ticktext\":[\"Jan\",\"Feb\",\"Mar\",\"Apr\",\"May\",\"Jun\",\"Jul\",\"Aug\",\"Sep\",\"Oct\",\"Nov\",\"Dec\"]},\"yaxis4\":{\"anchor\":\"x4\",\"domain\":[0.618,0.794],\"matches\":\"y\",\"title\":{\"text\":\"store_type\"},\"ticksuffix\":\"  \"},\"xaxis5\":{\"anchor\":\"y5\",\"domain\":[0.0,0.98],\"matches\":\"x\",\"showticklabels\":false,\"tickmode\":\"array\",\"tickvals\":[1,2,3,4,5,6,7,8,9,10,11,12],\"ticktext\":[\"Jan\",\"Feb\",\"Mar\",\"Apr\",\"May\",\"Jun\",\"Jul\",\"Aug\",\"Sep\",\"Oct\",\"Nov\",\"Dec\"]},\"yaxis5\":{\"anchor\":\"x5\",\"domain\":[0.8240000000000001,1.0],\"matches\":\"y\",\"title\":{\"text\":\"store_type\"},\"ticksuffix\":\"  \"},\"annotations\":[{\"font\":{},\"showarrow\":false,\"text\":\"year=2017\",\"textangle\":90,\"x\":0.98,\"xanchor\":\"left\",\"xref\":\"paper\",\"y\":0.08800000000000001,\"yanchor\":\"middle\",\"yref\":\"paper\"},{\"font\":{},\"showarrow\":false,\"text\":\"year=2016\",\"textangle\":90,\"x\":0.98,\"xanchor\":\"left\",\"xref\":\"paper\",\"y\":0.29400000000000004,\"yanchor\":\"middle\",\"yref\":\"paper\"},{\"font\":{},\"showarrow\":false,\"text\":\"year=2015\",\"textangle\":90,\"x\":0.98,\"xanchor\":\"left\",\"xref\":\"paper\",\"y\":0.5,\"yanchor\":\"middle\",\"yref\":\"paper\"},{\"font\":{},\"showarrow\":false,\"text\":\"year=2014\",\"textangle\":90,\"x\":0.98,\"xanchor\":\"left\",\"xref\":\"paper\",\"y\":0.706,\"yanchor\":\"middle\",\"yref\":\"paper\"},{\"font\":{},\"showarrow\":false,\"text\":\"year=2013\",\"textangle\":90,\"x\":0.98,\"xanchor\":\"left\",\"xref\":\"paper\",\"y\":0.912,\"yanchor\":\"middle\",\"yref\":\"paper\"}],\"coloraxis\":{\"colorbar\":{\"title\":{\"text\":\"sales\"}},\"colorscale\":[[0.0,\"#0d0887\"],[0.1111111111111111,\"#46039f\"],[0.2222222222222222,\"#7201a8\"],[0.3333333333333333,\"#9c179e\"],[0.4444444444444444,\"#bd3786\"],[0.5555555555555556,\"#d8576b\"],[0.6666666666666666,\"#ed7953\"],[0.7777777777777778,\"#fb9f3a\"],[0.8888888888888888,\"#fdca26\"],[1.0,\"#f0f921\"]]},\"legend\":{\"tracegroupgap\":0,\"itemsizing\":\"constant\"},\"title\":{\"text\":\"Average Sales: Store Type Vs Year(Month)\",\"font\":{\"size\":29,\"color\":\"#444\",\"family\":\"Lato, sans-serif\"}},\"margin\":{\"t\":70,\"b\":0},\"font\":{\"color\":\"#555\"},\"hoverlabel\":{\"font\":{\"size\":13,\"family\":\"Lato, sans-serif\"},\"bgcolor\":\"#f2f2f2\"},\"height\":900,\"plot_bgcolor\":\"#fafafa\",\"paper_bgcolor\":\"#fafafa\"},                        {\"responsive\": true}                    ).then(function(){\n",
       "                            \n",
       "var gd = document.getElementById('5fab8fe2-0214-4094-921d-cd57c1f29685');\n",
       "var x = new MutationObserver(function (mutations, observer) {{\n",
       "        var display = window.getComputedStyle(gd).display;\n",
       "        if (!display || display === 'none') {{\n",
       "            console.log([gd, 'removed!']);\n",
       "            Plotly.purge(gd);\n",
       "            observer.disconnect();\n",
       "        }}\n",
       "}});\n",
       "\n",
       "// Listen for the removal of the full notebook cells\n",
       "var notebookContainer = gd.closest('#notebook-container');\n",
       "if (notebookContainer) {{\n",
       "    x.observe(notebookContainer, {childList: true});\n",
       "}}\n",
       "\n",
       "// Listen for the clearing of the current output cell\n",
       "var outputEl = gd.closest('.output');\n",
       "if (outputEl) {{\n",
       "    x.observe(outputEl, {childList: true});\n",
       "}}\n",
       "\n",
       "                        })                };                });            </script>        </div>"
      ]
     },
     "metadata": {},
     "output_type": "display_data"
    }
   ],
   "source": [
    "# Average sales store by year, months\n",
    "df_y_m_st = train1.groupby(['year','month','store_type']).agg({\"sales\" : \"mean\"}).reset_index()\n",
    "df_y_m_st['sales'] = round(df_y_m_st['sales'], 2)\n",
    "\n",
    "# chart\n",
    "fig = px.scatter(df_y_m_st, x='month', y='store_type', color='sales', size='sales', \n",
    "                 facet_row='year', title='Average Sales: Store Type Vs Year(Month)')\n",
    "# styling\n",
    "fig.update_yaxes(ticksuffix='  ')\n",
    "fig.update_xaxes(tickmode = 'array', tickvals=[i for i in range(1,13)], \n",
    "                 ticktext=['Jan','Feb','Mar','Apr','May','Jun','Jul','Aug','Sep','Oct','Nov','Dec'])\n",
    "fig.update_layout(height=900, xaxis_title='', yaxis_title='',\n",
    "                  margin=dict(t=70, b=0),\n",
    "                  plot_bgcolor='#fafafa', paper_bgcolor='#fafafa',\n",
    "                  title_font=dict(size=29, color='#444', family=\"Lato, sans-serif\"),\n",
    "                  font=dict(color='#555'), \n",
    "                  hoverlabel=dict(bgcolor=\"#f2f2f2\", font_size=13, font_family=\"Lato, sans-serif\"))\n",
    "fig.show()"
   ]
  },
  {
   "cell_type": "code",
   "execution_count": 23,
   "id": "b32d2ab8",
   "metadata": {},
   "outputs": [
    {
     "data": {
      "application/vnd.plotly.v1+json": {
       "config": {
        "plotlyServerURL": "https://plot.ly"
       },
       "data": [
        {
         "hovertemplate": "month=%{x}<br>holiday_type=%{y}<br>sales=%{marker.color}<extra></extra>",
         "legendgroup": "",
         "marker": {
          "color": [
           369.12,
           5.88,
           786.93,
           271.34,
           320.5,
           383.87,
           523.33,
           336.4,
           413.6,
           447.14,
           439.75,
           370.44,
           515.49,
           240.71,
           344.48,
           355.99,
           381.22,
           388.68,
           475.8,
           345.44,
           441.09,
           375.2,
           369.89,
           310.15,
           481.74,
           388.01,
           380.41,
           521.77,
           518.37,
           489.39,
           458.71,
           471.64,
           525
          ],
          "coloraxis": "coloraxis",
          "size": [
           369.12,
           5.88,
           786.93,
           271.34,
           320.5,
           383.87,
           523.33,
           336.4,
           413.6,
           447.14,
           439.75,
           370.44,
           515.49,
           240.71,
           344.48,
           355.99,
           381.22,
           388.68,
           475.8,
           345.44,
           441.09,
           375.2,
           369.89,
           310.15,
           481.74,
           388.01,
           380.41,
           521.77,
           518.37,
           489.39,
           458.71,
           471.64,
           525
          ],
          "sizemode": "area",
          "sizeref": 1.9673249999999998,
          "symbol": "circle"
         },
         "mode": "markers",
         "name": "",
         "orientation": "h",
         "showlegend": false,
         "type": "scatter",
         "x": [
          1,
          1,
          1,
          1,
          2,
          3,
          4,
          4,
          4,
          5,
          5,
          5,
          5,
          6,
          6,
          7,
          7,
          7,
          7,
          8,
          8,
          9,
          10,
          10,
          11,
          11,
          11,
          11,
          12,
          12,
          12,
          12,
          12
         ],
         "xaxis": "x",
         "y": [
          "Bridge",
          "Holiday",
          "Transfer",
          "Work Day",
          "Holiday",
          "Holiday",
          "Event",
          "Holiday",
          "Transfer",
          "Additional",
          "Event",
          "Holiday",
          "Transfer",
          "Event",
          "Holiday",
          "Additional",
          "Event",
          "Holiday",
          "Transfer",
          "Holiday",
          "Transfer",
          "Holiday",
          "Holiday",
          "Transfer",
          "Bridge",
          "Event",
          "Holiday",
          "Work Day",
          "Additional",
          "Bridge",
          "Event",
          "Holiday",
          "Work Day"
         ],
         "yaxis": "y"
        }
       ],
       "layout": {
        "coloraxis": {
         "colorbar": {
          "title": {
           "text": "sales"
          }
         },
         "colorscale": [
          [
           0,
           "#0d0887"
          ],
          [
           0.1111111111111111,
           "#46039f"
          ],
          [
           0.2222222222222222,
           "#7201a8"
          ],
          [
           0.3333333333333333,
           "#9c179e"
          ],
          [
           0.4444444444444444,
           "#bd3786"
          ],
          [
           0.5555555555555556,
           "#d8576b"
          ],
          [
           0.6666666666666666,
           "#ed7953"
          ],
          [
           0.7777777777777778,
           "#fb9f3a"
          ],
          [
           0.8888888888888888,
           "#fdca26"
          ],
          [
           1,
           "#f0f921"
          ]
         ]
        },
        "font": {
         "color": "#555"
        },
        "height": 400,
        "hoverlabel": {
         "bgcolor": "#f2f2f2",
         "font": {
          "family": "Lato, sans-serif",
          "size": 13
         }
        },
        "legend": {
         "itemsizing": "constant",
         "tracegroupgap": 0
        },
        "margin": {
         "b": 0
        },
        "paper_bgcolor": "#fafafa",
        "plot_bgcolor": "#fafafa",
        "template": {
         "data": {
          "bar": [
           {
            "error_x": {
             "color": "#2a3f5f"
            },
            "error_y": {
             "color": "#2a3f5f"
            },
            "marker": {
             "line": {
              "color": "#E5ECF6",
              "width": 0.5
             },
             "pattern": {
              "fillmode": "overlay",
              "size": 10,
              "solidity": 0.2
             }
            },
            "type": "bar"
           }
          ],
          "barpolar": [
           {
            "marker": {
             "line": {
              "color": "#E5ECF6",
              "width": 0.5
             },
             "pattern": {
              "fillmode": "overlay",
              "size": 10,
              "solidity": 0.2
             }
            },
            "type": "barpolar"
           }
          ],
          "carpet": [
           {
            "aaxis": {
             "endlinecolor": "#2a3f5f",
             "gridcolor": "white",
             "linecolor": "white",
             "minorgridcolor": "white",
             "startlinecolor": "#2a3f5f"
            },
            "baxis": {
             "endlinecolor": "#2a3f5f",
             "gridcolor": "white",
             "linecolor": "white",
             "minorgridcolor": "white",
             "startlinecolor": "#2a3f5f"
            },
            "type": "carpet"
           }
          ],
          "choropleth": [
           {
            "colorbar": {
             "outlinewidth": 0,
             "ticks": ""
            },
            "type": "choropleth"
           }
          ],
          "contour": [
           {
            "colorbar": {
             "outlinewidth": 0,
             "ticks": ""
            },
            "colorscale": [
             [
              0,
              "#0d0887"
             ],
             [
              0.1111111111111111,
              "#46039f"
             ],
             [
              0.2222222222222222,
              "#7201a8"
             ],
             [
              0.3333333333333333,
              "#9c179e"
             ],
             [
              0.4444444444444444,
              "#bd3786"
             ],
             [
              0.5555555555555556,
              "#d8576b"
             ],
             [
              0.6666666666666666,
              "#ed7953"
             ],
             [
              0.7777777777777778,
              "#fb9f3a"
             ],
             [
              0.8888888888888888,
              "#fdca26"
             ],
             [
              1,
              "#f0f921"
             ]
            ],
            "type": "contour"
           }
          ],
          "contourcarpet": [
           {
            "colorbar": {
             "outlinewidth": 0,
             "ticks": ""
            },
            "type": "contourcarpet"
           }
          ],
          "heatmap": [
           {
            "colorbar": {
             "outlinewidth": 0,
             "ticks": ""
            },
            "colorscale": [
             [
              0,
              "#0d0887"
             ],
             [
              0.1111111111111111,
              "#46039f"
             ],
             [
              0.2222222222222222,
              "#7201a8"
             ],
             [
              0.3333333333333333,
              "#9c179e"
             ],
             [
              0.4444444444444444,
              "#bd3786"
             ],
             [
              0.5555555555555556,
              "#d8576b"
             ],
             [
              0.6666666666666666,
              "#ed7953"
             ],
             [
              0.7777777777777778,
              "#fb9f3a"
             ],
             [
              0.8888888888888888,
              "#fdca26"
             ],
             [
              1,
              "#f0f921"
             ]
            ],
            "type": "heatmap"
           }
          ],
          "heatmapgl": [
           {
            "colorbar": {
             "outlinewidth": 0,
             "ticks": ""
            },
            "colorscale": [
             [
              0,
              "#0d0887"
             ],
             [
              0.1111111111111111,
              "#46039f"
             ],
             [
              0.2222222222222222,
              "#7201a8"
             ],
             [
              0.3333333333333333,
              "#9c179e"
             ],
             [
              0.4444444444444444,
              "#bd3786"
             ],
             [
              0.5555555555555556,
              "#d8576b"
             ],
             [
              0.6666666666666666,
              "#ed7953"
             ],
             [
              0.7777777777777778,
              "#fb9f3a"
             ],
             [
              0.8888888888888888,
              "#fdca26"
             ],
             [
              1,
              "#f0f921"
             ]
            ],
            "type": "heatmapgl"
           }
          ],
          "histogram": [
           {
            "marker": {
             "pattern": {
              "fillmode": "overlay",
              "size": 10,
              "solidity": 0.2
             }
            },
            "type": "histogram"
           }
          ],
          "histogram2d": [
           {
            "colorbar": {
             "outlinewidth": 0,
             "ticks": ""
            },
            "colorscale": [
             [
              0,
              "#0d0887"
             ],
             [
              0.1111111111111111,
              "#46039f"
             ],
             [
              0.2222222222222222,
              "#7201a8"
             ],
             [
              0.3333333333333333,
              "#9c179e"
             ],
             [
              0.4444444444444444,
              "#bd3786"
             ],
             [
              0.5555555555555556,
              "#d8576b"
             ],
             [
              0.6666666666666666,
              "#ed7953"
             ],
             [
              0.7777777777777778,
              "#fb9f3a"
             ],
             [
              0.8888888888888888,
              "#fdca26"
             ],
             [
              1,
              "#f0f921"
             ]
            ],
            "type": "histogram2d"
           }
          ],
          "histogram2dcontour": [
           {
            "colorbar": {
             "outlinewidth": 0,
             "ticks": ""
            },
            "colorscale": [
             [
              0,
              "#0d0887"
             ],
             [
              0.1111111111111111,
              "#46039f"
             ],
             [
              0.2222222222222222,
              "#7201a8"
             ],
             [
              0.3333333333333333,
              "#9c179e"
             ],
             [
              0.4444444444444444,
              "#bd3786"
             ],
             [
              0.5555555555555556,
              "#d8576b"
             ],
             [
              0.6666666666666666,
              "#ed7953"
             ],
             [
              0.7777777777777778,
              "#fb9f3a"
             ],
             [
              0.8888888888888888,
              "#fdca26"
             ],
             [
              1,
              "#f0f921"
             ]
            ],
            "type": "histogram2dcontour"
           }
          ],
          "mesh3d": [
           {
            "colorbar": {
             "outlinewidth": 0,
             "ticks": ""
            },
            "type": "mesh3d"
           }
          ],
          "parcoords": [
           {
            "line": {
             "colorbar": {
              "outlinewidth": 0,
              "ticks": ""
             }
            },
            "type": "parcoords"
           }
          ],
          "pie": [
           {
            "automargin": true,
            "type": "pie"
           }
          ],
          "scatter": [
           {
            "fillpattern": {
             "fillmode": "overlay",
             "size": 10,
             "solidity": 0.2
            },
            "type": "scatter"
           }
          ],
          "scatter3d": [
           {
            "line": {
             "colorbar": {
              "outlinewidth": 0,
              "ticks": ""
             }
            },
            "marker": {
             "colorbar": {
              "outlinewidth": 0,
              "ticks": ""
             }
            },
            "type": "scatter3d"
           }
          ],
          "scattercarpet": [
           {
            "marker": {
             "colorbar": {
              "outlinewidth": 0,
              "ticks": ""
             }
            },
            "type": "scattercarpet"
           }
          ],
          "scattergeo": [
           {
            "marker": {
             "colorbar": {
              "outlinewidth": 0,
              "ticks": ""
             }
            },
            "type": "scattergeo"
           }
          ],
          "scattergl": [
           {
            "marker": {
             "colorbar": {
              "outlinewidth": 0,
              "ticks": ""
             }
            },
            "type": "scattergl"
           }
          ],
          "scattermapbox": [
           {
            "marker": {
             "colorbar": {
              "outlinewidth": 0,
              "ticks": ""
             }
            },
            "type": "scattermapbox"
           }
          ],
          "scatterpolar": [
           {
            "marker": {
             "colorbar": {
              "outlinewidth": 0,
              "ticks": ""
             }
            },
            "type": "scatterpolar"
           }
          ],
          "scatterpolargl": [
           {
            "marker": {
             "colorbar": {
              "outlinewidth": 0,
              "ticks": ""
             }
            },
            "type": "scatterpolargl"
           }
          ],
          "scatterternary": [
           {
            "marker": {
             "colorbar": {
              "outlinewidth": 0,
              "ticks": ""
             }
            },
            "type": "scatterternary"
           }
          ],
          "surface": [
           {
            "colorbar": {
             "outlinewidth": 0,
             "ticks": ""
            },
            "colorscale": [
             [
              0,
              "#0d0887"
             ],
             [
              0.1111111111111111,
              "#46039f"
             ],
             [
              0.2222222222222222,
              "#7201a8"
             ],
             [
              0.3333333333333333,
              "#9c179e"
             ],
             [
              0.4444444444444444,
              "#bd3786"
             ],
             [
              0.5555555555555556,
              "#d8576b"
             ],
             [
              0.6666666666666666,
              "#ed7953"
             ],
             [
              0.7777777777777778,
              "#fb9f3a"
             ],
             [
              0.8888888888888888,
              "#fdca26"
             ],
             [
              1,
              "#f0f921"
             ]
            ],
            "type": "surface"
           }
          ],
          "table": [
           {
            "cells": {
             "fill": {
              "color": "#EBF0F8"
             },
             "line": {
              "color": "white"
             }
            },
            "header": {
             "fill": {
              "color": "#C8D4E3"
             },
             "line": {
              "color": "white"
             }
            },
            "type": "table"
           }
          ]
         },
         "layout": {
          "annotationdefaults": {
           "arrowcolor": "#2a3f5f",
           "arrowhead": 0,
           "arrowwidth": 1
          },
          "autotypenumbers": "strict",
          "coloraxis": {
           "colorbar": {
            "outlinewidth": 0,
            "ticks": ""
           }
          },
          "colorscale": {
           "diverging": [
            [
             0,
             "#8e0152"
            ],
            [
             0.1,
             "#c51b7d"
            ],
            [
             0.2,
             "#de77ae"
            ],
            [
             0.3,
             "#f1b6da"
            ],
            [
             0.4,
             "#fde0ef"
            ],
            [
             0.5,
             "#f7f7f7"
            ],
            [
             0.6,
             "#e6f5d0"
            ],
            [
             0.7,
             "#b8e186"
            ],
            [
             0.8,
             "#7fbc41"
            ],
            [
             0.9,
             "#4d9221"
            ],
            [
             1,
             "#276419"
            ]
           ],
           "sequential": [
            [
             0,
             "#0d0887"
            ],
            [
             0.1111111111111111,
             "#46039f"
            ],
            [
             0.2222222222222222,
             "#7201a8"
            ],
            [
             0.3333333333333333,
             "#9c179e"
            ],
            [
             0.4444444444444444,
             "#bd3786"
            ],
            [
             0.5555555555555556,
             "#d8576b"
            ],
            [
             0.6666666666666666,
             "#ed7953"
            ],
            [
             0.7777777777777778,
             "#fb9f3a"
            ],
            [
             0.8888888888888888,
             "#fdca26"
            ],
            [
             1,
             "#f0f921"
            ]
           ],
           "sequentialminus": [
            [
             0,
             "#0d0887"
            ],
            [
             0.1111111111111111,
             "#46039f"
            ],
            [
             0.2222222222222222,
             "#7201a8"
            ],
            [
             0.3333333333333333,
             "#9c179e"
            ],
            [
             0.4444444444444444,
             "#bd3786"
            ],
            [
             0.5555555555555556,
             "#d8576b"
            ],
            [
             0.6666666666666666,
             "#ed7953"
            ],
            [
             0.7777777777777778,
             "#fb9f3a"
            ],
            [
             0.8888888888888888,
             "#fdca26"
            ],
            [
             1,
             "#f0f921"
            ]
           ]
          },
          "colorway": [
           "#636efa",
           "#EF553B",
           "#00cc96",
           "#ab63fa",
           "#FFA15A",
           "#19d3f3",
           "#FF6692",
           "#B6E880",
           "#FF97FF",
           "#FECB52"
          ],
          "font": {
           "color": "#2a3f5f"
          },
          "geo": {
           "bgcolor": "white",
           "lakecolor": "white",
           "landcolor": "#E5ECF6",
           "showlakes": true,
           "showland": true,
           "subunitcolor": "white"
          },
          "hoverlabel": {
           "align": "left"
          },
          "hovermode": "closest",
          "mapbox": {
           "style": "light"
          },
          "paper_bgcolor": "white",
          "plot_bgcolor": "#E5ECF6",
          "polar": {
           "angularaxis": {
            "gridcolor": "white",
            "linecolor": "white",
            "ticks": ""
           },
           "bgcolor": "#E5ECF6",
           "radialaxis": {
            "gridcolor": "white",
            "linecolor": "white",
            "ticks": ""
           }
          },
          "scene": {
           "xaxis": {
            "backgroundcolor": "#E5ECF6",
            "gridcolor": "white",
            "gridwidth": 2,
            "linecolor": "white",
            "showbackground": true,
            "ticks": "",
            "zerolinecolor": "white"
           },
           "yaxis": {
            "backgroundcolor": "#E5ECF6",
            "gridcolor": "white",
            "gridwidth": 2,
            "linecolor": "white",
            "showbackground": true,
            "ticks": "",
            "zerolinecolor": "white"
           },
           "zaxis": {
            "backgroundcolor": "#E5ECF6",
            "gridcolor": "white",
            "gridwidth": 2,
            "linecolor": "white",
            "showbackground": true,
            "ticks": "",
            "zerolinecolor": "white"
           }
          },
          "shapedefaults": {
           "line": {
            "color": "#2a3f5f"
           }
          },
          "ternary": {
           "aaxis": {
            "gridcolor": "white",
            "linecolor": "white",
            "ticks": ""
           },
           "baxis": {
            "gridcolor": "white",
            "linecolor": "white",
            "ticks": ""
           },
           "bgcolor": "#E5ECF6",
           "caxis": {
            "gridcolor": "white",
            "linecolor": "white",
            "ticks": ""
           }
          },
          "title": {
           "x": 0.05
          },
          "xaxis": {
           "automargin": true,
           "gridcolor": "white",
           "linecolor": "white",
           "ticks": "",
           "title": {
            "standoff": 15
           },
           "zerolinecolor": "white",
           "zerolinewidth": 2
          },
          "yaxis": {
           "automargin": true,
           "gridcolor": "white",
           "linecolor": "white",
           "ticks": "",
           "title": {
            "standoff": 15
           },
           "zerolinecolor": "white",
           "zerolinewidth": 2
          }
         }
        },
        "title": {
         "font": {
          "color": "#444",
          "family": "Lato, sans-serif",
          "size": 29
         },
         "text": "Average Sales: Month Vs Holiday Type"
        },
        "xaxis": {
         "anchor": "y",
         "domain": [
          0,
          1
         ],
         "tickmode": "array",
         "ticktext": [
          "Jan",
          "Feb",
          "Mar",
          "Apr",
          "May",
          "Jun",
          "Jul",
          "Aug",
          "Sep",
          "Oct",
          "Nov",
          "Dec"
         ],
         "tickvals": [
          1,
          2,
          3,
          4,
          5,
          6,
          7,
          8,
          9,
          10,
          11,
          12
         ],
         "title": {
          "text": ""
         }
        },
        "yaxis": {
         "anchor": "x",
         "domain": [
          0,
          1
         ],
         "ticksuffix": "  ",
         "title": {
          "text": ""
         }
        }
       }
      },
      "text/html": [
       "<div>                            <div id=\"5b85e2ea-b87e-4c1d-9167-6315126e659f\" class=\"plotly-graph-div\" style=\"height:400px; width:100%;\"></div>            <script type=\"text/javascript\">                require([\"plotly\"], function(Plotly) {                    window.PLOTLYENV=window.PLOTLYENV || {};                                    if (document.getElementById(\"5b85e2ea-b87e-4c1d-9167-6315126e659f\")) {                    Plotly.newPlot(                        \"5b85e2ea-b87e-4c1d-9167-6315126e659f\",                        [{\"hovertemplate\":\"month=%{x}<br>holiday_type=%{y}<br>sales=%{marker.color}<extra></extra>\",\"legendgroup\":\"\",\"marker\":{\"color\":[369.12,5.88,786.93,271.34,320.5,383.87,523.33,336.4,413.6,447.14,439.75,370.44,515.49,240.71,344.48,355.99,381.22,388.68,475.8,345.44,441.09,375.2,369.89,310.15,481.74,388.01,380.41,521.77,518.37,489.39,458.71,471.64,525.0],\"coloraxis\":\"coloraxis\",\"size\":[369.12,5.88,786.93,271.34,320.5,383.87,523.33,336.4,413.6,447.14,439.75,370.44,515.49,240.71,344.48,355.99,381.22,388.68,475.8,345.44,441.09,375.2,369.89,310.15,481.74,388.01,380.41,521.77,518.37,489.39,458.71,471.64,525.0],\"sizemode\":\"area\",\"sizeref\":1.9673249999999998,\"symbol\":\"circle\"},\"mode\":\"markers\",\"name\":\"\",\"orientation\":\"h\",\"showlegend\":false,\"x\":[1,1,1,1,2,3,4,4,4,5,5,5,5,6,6,7,7,7,7,8,8,9,10,10,11,11,11,11,12,12,12,12,12],\"xaxis\":\"x\",\"y\":[\"Bridge\",\"Holiday\",\"Transfer\",\"Work Day\",\"Holiday\",\"Holiday\",\"Event\",\"Holiday\",\"Transfer\",\"Additional\",\"Event\",\"Holiday\",\"Transfer\",\"Event\",\"Holiday\",\"Additional\",\"Event\",\"Holiday\",\"Transfer\",\"Holiday\",\"Transfer\",\"Holiday\",\"Holiday\",\"Transfer\",\"Bridge\",\"Event\",\"Holiday\",\"Work Day\",\"Additional\",\"Bridge\",\"Event\",\"Holiday\",\"Work Day\"],\"yaxis\":\"y\",\"type\":\"scatter\"}],                        {\"template\":{\"data\":{\"histogram2dcontour\":[{\"type\":\"histogram2dcontour\",\"colorbar\":{\"outlinewidth\":0,\"ticks\":\"\"},\"colorscale\":[[0.0,\"#0d0887\"],[0.1111111111111111,\"#46039f\"],[0.2222222222222222,\"#7201a8\"],[0.3333333333333333,\"#9c179e\"],[0.4444444444444444,\"#bd3786\"],[0.5555555555555556,\"#d8576b\"],[0.6666666666666666,\"#ed7953\"],[0.7777777777777778,\"#fb9f3a\"],[0.8888888888888888,\"#fdca26\"],[1.0,\"#f0f921\"]]}],\"choropleth\":[{\"type\":\"choropleth\",\"colorbar\":{\"outlinewidth\":0,\"ticks\":\"\"}}],\"histogram2d\":[{\"type\":\"histogram2d\",\"colorbar\":{\"outlinewidth\":0,\"ticks\":\"\"},\"colorscale\":[[0.0,\"#0d0887\"],[0.1111111111111111,\"#46039f\"],[0.2222222222222222,\"#7201a8\"],[0.3333333333333333,\"#9c179e\"],[0.4444444444444444,\"#bd3786\"],[0.5555555555555556,\"#d8576b\"],[0.6666666666666666,\"#ed7953\"],[0.7777777777777778,\"#fb9f3a\"],[0.8888888888888888,\"#fdca26\"],[1.0,\"#f0f921\"]]}],\"heatmap\":[{\"type\":\"heatmap\",\"colorbar\":{\"outlinewidth\":0,\"ticks\":\"\"},\"colorscale\":[[0.0,\"#0d0887\"],[0.1111111111111111,\"#46039f\"],[0.2222222222222222,\"#7201a8\"],[0.3333333333333333,\"#9c179e\"],[0.4444444444444444,\"#bd3786\"],[0.5555555555555556,\"#d8576b\"],[0.6666666666666666,\"#ed7953\"],[0.7777777777777778,\"#fb9f3a\"],[0.8888888888888888,\"#fdca26\"],[1.0,\"#f0f921\"]]}],\"heatmapgl\":[{\"type\":\"heatmapgl\",\"colorbar\":{\"outlinewidth\":0,\"ticks\":\"\"},\"colorscale\":[[0.0,\"#0d0887\"],[0.1111111111111111,\"#46039f\"],[0.2222222222222222,\"#7201a8\"],[0.3333333333333333,\"#9c179e\"],[0.4444444444444444,\"#bd3786\"],[0.5555555555555556,\"#d8576b\"],[0.6666666666666666,\"#ed7953\"],[0.7777777777777778,\"#fb9f3a\"],[0.8888888888888888,\"#fdca26\"],[1.0,\"#f0f921\"]]}],\"contourcarpet\":[{\"type\":\"contourcarpet\",\"colorbar\":{\"outlinewidth\":0,\"ticks\":\"\"}}],\"contour\":[{\"type\":\"contour\",\"colorbar\":{\"outlinewidth\":0,\"ticks\":\"\"},\"colorscale\":[[0.0,\"#0d0887\"],[0.1111111111111111,\"#46039f\"],[0.2222222222222222,\"#7201a8\"],[0.3333333333333333,\"#9c179e\"],[0.4444444444444444,\"#bd3786\"],[0.5555555555555556,\"#d8576b\"],[0.6666666666666666,\"#ed7953\"],[0.7777777777777778,\"#fb9f3a\"],[0.8888888888888888,\"#fdca26\"],[1.0,\"#f0f921\"]]}],\"surface\":[{\"type\":\"surface\",\"colorbar\":{\"outlinewidth\":0,\"ticks\":\"\"},\"colorscale\":[[0.0,\"#0d0887\"],[0.1111111111111111,\"#46039f\"],[0.2222222222222222,\"#7201a8\"],[0.3333333333333333,\"#9c179e\"],[0.4444444444444444,\"#bd3786\"],[0.5555555555555556,\"#d8576b\"],[0.6666666666666666,\"#ed7953\"],[0.7777777777777778,\"#fb9f3a\"],[0.8888888888888888,\"#fdca26\"],[1.0,\"#f0f921\"]]}],\"mesh3d\":[{\"type\":\"mesh3d\",\"colorbar\":{\"outlinewidth\":0,\"ticks\":\"\"}}],\"scatter\":[{\"fillpattern\":{\"fillmode\":\"overlay\",\"size\":10,\"solidity\":0.2},\"type\":\"scatter\"}],\"parcoords\":[{\"type\":\"parcoords\",\"line\":{\"colorbar\":{\"outlinewidth\":0,\"ticks\":\"\"}}}],\"scatterpolargl\":[{\"type\":\"scatterpolargl\",\"marker\":{\"colorbar\":{\"outlinewidth\":0,\"ticks\":\"\"}}}],\"bar\":[{\"error_x\":{\"color\":\"#2a3f5f\"},\"error_y\":{\"color\":\"#2a3f5f\"},\"marker\":{\"line\":{\"color\":\"#E5ECF6\",\"width\":0.5},\"pattern\":{\"fillmode\":\"overlay\",\"size\":10,\"solidity\":0.2}},\"type\":\"bar\"}],\"scattergeo\":[{\"type\":\"scattergeo\",\"marker\":{\"colorbar\":{\"outlinewidth\":0,\"ticks\":\"\"}}}],\"scatterpolar\":[{\"type\":\"scatterpolar\",\"marker\":{\"colorbar\":{\"outlinewidth\":0,\"ticks\":\"\"}}}],\"histogram\":[{\"marker\":{\"pattern\":{\"fillmode\":\"overlay\",\"size\":10,\"solidity\":0.2}},\"type\":\"histogram\"}],\"scattergl\":[{\"type\":\"scattergl\",\"marker\":{\"colorbar\":{\"outlinewidth\":0,\"ticks\":\"\"}}}],\"scatter3d\":[{\"type\":\"scatter3d\",\"line\":{\"colorbar\":{\"outlinewidth\":0,\"ticks\":\"\"}},\"marker\":{\"colorbar\":{\"outlinewidth\":0,\"ticks\":\"\"}}}],\"scattermapbox\":[{\"type\":\"scattermapbox\",\"marker\":{\"colorbar\":{\"outlinewidth\":0,\"ticks\":\"\"}}}],\"scatterternary\":[{\"type\":\"scatterternary\",\"marker\":{\"colorbar\":{\"outlinewidth\":0,\"ticks\":\"\"}}}],\"scattercarpet\":[{\"type\":\"scattercarpet\",\"marker\":{\"colorbar\":{\"outlinewidth\":0,\"ticks\":\"\"}}}],\"carpet\":[{\"aaxis\":{\"endlinecolor\":\"#2a3f5f\",\"gridcolor\":\"white\",\"linecolor\":\"white\",\"minorgridcolor\":\"white\",\"startlinecolor\":\"#2a3f5f\"},\"baxis\":{\"endlinecolor\":\"#2a3f5f\",\"gridcolor\":\"white\",\"linecolor\":\"white\",\"minorgridcolor\":\"white\",\"startlinecolor\":\"#2a3f5f\"},\"type\":\"carpet\"}],\"table\":[{\"cells\":{\"fill\":{\"color\":\"#EBF0F8\"},\"line\":{\"color\":\"white\"}},\"header\":{\"fill\":{\"color\":\"#C8D4E3\"},\"line\":{\"color\":\"white\"}},\"type\":\"table\"}],\"barpolar\":[{\"marker\":{\"line\":{\"color\":\"#E5ECF6\",\"width\":0.5},\"pattern\":{\"fillmode\":\"overlay\",\"size\":10,\"solidity\":0.2}},\"type\":\"barpolar\"}],\"pie\":[{\"automargin\":true,\"type\":\"pie\"}]},\"layout\":{\"autotypenumbers\":\"strict\",\"colorway\":[\"#636efa\",\"#EF553B\",\"#00cc96\",\"#ab63fa\",\"#FFA15A\",\"#19d3f3\",\"#FF6692\",\"#B6E880\",\"#FF97FF\",\"#FECB52\"],\"font\":{\"color\":\"#2a3f5f\"},\"hovermode\":\"closest\",\"hoverlabel\":{\"align\":\"left\"},\"paper_bgcolor\":\"white\",\"plot_bgcolor\":\"#E5ECF6\",\"polar\":{\"bgcolor\":\"#E5ECF6\",\"angularaxis\":{\"gridcolor\":\"white\",\"linecolor\":\"white\",\"ticks\":\"\"},\"radialaxis\":{\"gridcolor\":\"white\",\"linecolor\":\"white\",\"ticks\":\"\"}},\"ternary\":{\"bgcolor\":\"#E5ECF6\",\"aaxis\":{\"gridcolor\":\"white\",\"linecolor\":\"white\",\"ticks\":\"\"},\"baxis\":{\"gridcolor\":\"white\",\"linecolor\":\"white\",\"ticks\":\"\"},\"caxis\":{\"gridcolor\":\"white\",\"linecolor\":\"white\",\"ticks\":\"\"}},\"coloraxis\":{\"colorbar\":{\"outlinewidth\":0,\"ticks\":\"\"}},\"colorscale\":{\"sequential\":[[0.0,\"#0d0887\"],[0.1111111111111111,\"#46039f\"],[0.2222222222222222,\"#7201a8\"],[0.3333333333333333,\"#9c179e\"],[0.4444444444444444,\"#bd3786\"],[0.5555555555555556,\"#d8576b\"],[0.6666666666666666,\"#ed7953\"],[0.7777777777777778,\"#fb9f3a\"],[0.8888888888888888,\"#fdca26\"],[1.0,\"#f0f921\"]],\"sequentialminus\":[[0.0,\"#0d0887\"],[0.1111111111111111,\"#46039f\"],[0.2222222222222222,\"#7201a8\"],[0.3333333333333333,\"#9c179e\"],[0.4444444444444444,\"#bd3786\"],[0.5555555555555556,\"#d8576b\"],[0.6666666666666666,\"#ed7953\"],[0.7777777777777778,\"#fb9f3a\"],[0.8888888888888888,\"#fdca26\"],[1.0,\"#f0f921\"]],\"diverging\":[[0,\"#8e0152\"],[0.1,\"#c51b7d\"],[0.2,\"#de77ae\"],[0.3,\"#f1b6da\"],[0.4,\"#fde0ef\"],[0.5,\"#f7f7f7\"],[0.6,\"#e6f5d0\"],[0.7,\"#b8e186\"],[0.8,\"#7fbc41\"],[0.9,\"#4d9221\"],[1,\"#276419\"]]},\"xaxis\":{\"gridcolor\":\"white\",\"linecolor\":\"white\",\"ticks\":\"\",\"title\":{\"standoff\":15},\"zerolinecolor\":\"white\",\"automargin\":true,\"zerolinewidth\":2},\"yaxis\":{\"gridcolor\":\"white\",\"linecolor\":\"white\",\"ticks\":\"\",\"title\":{\"standoff\":15},\"zerolinecolor\":\"white\",\"automargin\":true,\"zerolinewidth\":2},\"scene\":{\"xaxis\":{\"backgroundcolor\":\"#E5ECF6\",\"gridcolor\":\"white\",\"linecolor\":\"white\",\"showbackground\":true,\"ticks\":\"\",\"zerolinecolor\":\"white\",\"gridwidth\":2},\"yaxis\":{\"backgroundcolor\":\"#E5ECF6\",\"gridcolor\":\"white\",\"linecolor\":\"white\",\"showbackground\":true,\"ticks\":\"\",\"zerolinecolor\":\"white\",\"gridwidth\":2},\"zaxis\":{\"backgroundcolor\":\"#E5ECF6\",\"gridcolor\":\"white\",\"linecolor\":\"white\",\"showbackground\":true,\"ticks\":\"\",\"zerolinecolor\":\"white\",\"gridwidth\":2}},\"shapedefaults\":{\"line\":{\"color\":\"#2a3f5f\"}},\"annotationdefaults\":{\"arrowcolor\":\"#2a3f5f\",\"arrowhead\":0,\"arrowwidth\":1},\"geo\":{\"bgcolor\":\"white\",\"landcolor\":\"#E5ECF6\",\"subunitcolor\":\"white\",\"showland\":true,\"showlakes\":true,\"lakecolor\":\"white\"},\"title\":{\"x\":0.05},\"mapbox\":{\"style\":\"light\"}}},\"xaxis\":{\"anchor\":\"y\",\"domain\":[0.0,1.0],\"title\":{\"text\":\"\"},\"tickmode\":\"array\",\"tickvals\":[1,2,3,4,5,6,7,8,9,10,11,12],\"ticktext\":[\"Jan\",\"Feb\",\"Mar\",\"Apr\",\"May\",\"Jun\",\"Jul\",\"Aug\",\"Sep\",\"Oct\",\"Nov\",\"Dec\"]},\"yaxis\":{\"anchor\":\"x\",\"domain\":[0.0,1.0],\"title\":{\"text\":\"\"},\"ticksuffix\":\"  \"},\"coloraxis\":{\"colorbar\":{\"title\":{\"text\":\"sales\"}},\"colorscale\":[[0.0,\"#0d0887\"],[0.1111111111111111,\"#46039f\"],[0.2222222222222222,\"#7201a8\"],[0.3333333333333333,\"#9c179e\"],[0.4444444444444444,\"#bd3786\"],[0.5555555555555556,\"#d8576b\"],[0.6666666666666666,\"#ed7953\"],[0.7777777777777778,\"#fb9f3a\"],[0.8888888888888888,\"#fdca26\"],[1.0,\"#f0f921\"]]},\"legend\":{\"tracegroupgap\":0,\"itemsizing\":\"constant\"},\"title\":{\"text\":\"Average Sales: Month Vs Holiday Type\",\"font\":{\"size\":29,\"color\":\"#444\",\"family\":\"Lato, sans-serif\"}},\"margin\":{\"b\":0},\"font\":{\"color\":\"#555\"},\"hoverlabel\":{\"font\":{\"size\":13,\"family\":\"Lato, sans-serif\"},\"bgcolor\":\"#f2f2f2\"},\"height\":400,\"plot_bgcolor\":\"#fafafa\",\"paper_bgcolor\":\"#fafafa\"},                        {\"responsive\": true}                    ).then(function(){\n",
       "                            \n",
       "var gd = document.getElementById('5b85e2ea-b87e-4c1d-9167-6315126e659f');\n",
       "var x = new MutationObserver(function (mutations, observer) {{\n",
       "        var display = window.getComputedStyle(gd).display;\n",
       "        if (!display || display === 'none') {{\n",
       "            console.log([gd, 'removed!']);\n",
       "            Plotly.purge(gd);\n",
       "            observer.disconnect();\n",
       "        }}\n",
       "}});\n",
       "\n",
       "// Listen for the removal of the full notebook cells\n",
       "var notebookContainer = gd.closest('#notebook-container');\n",
       "if (notebookContainer) {{\n",
       "    x.observe(notebookContainer, {childList: true});\n",
       "}}\n",
       "\n",
       "// Listen for the clearing of the current output cell\n",
       "var outputEl = gd.closest('.output');\n",
       "if (outputEl) {{\n",
       "    x.observe(outputEl, {childList: true});\n",
       "}}\n",
       "\n",
       "                        })                };                });            </script>        </div>"
      ]
     },
     "metadata": {},
     "output_type": "display_data"
    }
   ],
   "source": [
    "# Average sale by holiday type\n",
    "df_m_ht = train1.groupby(['month','holiday_type']).agg({\"sales\" : \"mean\"}).reset_index()\n",
    "df_m_ht['sales'] = round(df_m_ht['sales'], 2)\n",
    "\n",
    "# chart\n",
    "fig = px.scatter(df_m_ht, x='month', color='sales', y='holiday_type', size='sales',\n",
    "                 color_discrete_sequence=px.colors.qualitative.D3,\n",
    "                 title=\"Average Sales: Month Vs Holiday Type\")\n",
    "# styling\n",
    "fig.update_yaxes(ticksuffix='  ')\n",
    "fig.update_xaxes(tickmode = 'array', tickvals=[i for i in range(1,13)], \n",
    "                 ticktext=['Jan','Feb','Mar','Apr','May','Jun','Jul','Aug','Sep','Oct','Nov','Dec'])\n",
    "fig.update_layout(height=400, xaxis_title='', yaxis_title='',\n",
    "                  margin=dict(b=0),\n",
    "                  plot_bgcolor='#fafafa', paper_bgcolor='#fafafa',\n",
    "                  title_font=dict(size=29, color='#444', family=\"Lato, sans-serif\"),\n",
    "                  font=dict(color='#555'), \n",
    "                  hoverlabel=dict(bgcolor=\"#f2f2f2\", font_size=13, font_family=\"Lato, sans-serif\"))\n",
    "fig.show()"
   ]
  },
  {
   "cell_type": "code",
   "execution_count": 24,
   "id": "7d60c549",
   "metadata": {},
   "outputs": [
    {
     "data": {
      "application/vnd.plotly.v1+json": {
       "config": {
        "plotlyServerURL": "https://plot.ly"
       },
       "data": [
        {
         "hovertemplate": "year=2013<br>month=%{x}<br>holiday_type=%{y}<br>sales=%{marker.color}<extra></extra>",
         "legendgroup": "",
         "marker": {
          "color": [
           1.41,
           247.08,
           164.82,
           307.44,
           228.52,
           287.37,
           217.65,
           242.09,
           199.26,
           173.54,
           191.28,
           220.66,
           272.11,
           195.26,
           226.1,
           257.43,
           333.49,
           321.33
          ],
          "coloraxis": "coloraxis",
          "size": [
           1.41,
           247.08,
           164.82,
           307.44,
           228.52,
           287.37,
           217.65,
           242.09,
           199.26,
           173.54,
           191.28,
           220.66,
           272.11,
           195.26,
           226.1,
           257.43,
           333.49,
           321.33
          ],
          "sizemode": "area",
          "sizeref": 1.9673249999999998,
          "symbol": "circle"
         },
         "mode": "markers",
         "name": "",
         "orientation": "h",
         "showlegend": false,
         "type": "scatter",
         "x": [
          1,
          1,
          2,
          3,
          4,
          5,
          5,
          5,
          6,
          7,
          7,
          8,
          9,
          10,
          10,
          11,
          12,
          12
         ],
         "xaxis": "x5",
         "y": [
          "Holiday",
          "Work Day",
          "Holiday",
          "Holiday",
          "Holiday",
          "Additional",
          "Event",
          "Holiday",
          "Holiday",
          "Additional",
          "Holiday",
          "Holiday",
          "Holiday",
          "Holiday",
          "Transfer",
          "Holiday",
          "Additional",
          "Holiday"
         ],
         "yaxis": "y5"
        },
        {
         "hovertemplate": "year=2014<br>month=%{x}<br>holiday_type=%{y}<br>sales=%{marker.color}<extra></extra>",
         "legendgroup": "",
         "marker": {
          "color": [
           4.83,
           379.78,
           245.73,
           323.8,
           255.06,
           270.34,
           240.71,
           207.77,
           271.95,
           381.22,
           325.71,
           260.73,
           497.49,
           307.78,
           394.2,
           314.04,
           366.24,
           516.89,
           489.39,
           458.71,
           491.55,
           525
          ],
          "coloraxis": "coloraxis",
          "size": [
           4.83,
           379.78,
           245.73,
           323.8,
           255.06,
           270.34,
           240.71,
           207.77,
           271.95,
           381.22,
           325.71,
           260.73,
           497.49,
           307.78,
           394.2,
           314.04,
           366.24,
           516.89,
           489.39,
           458.71,
           491.55,
           525
          ],
          "sizemode": "area",
          "sizeref": 1.9673249999999998,
          "symbol": "circle"
         },
         "mode": "markers",
         "name": "",
         "orientation": "h",
         "showlegend": false,
         "type": "scatter",
         "x": [
          1,
          3,
          4,
          5,
          5,
          5,
          6,
          6,
          7,
          7,
          7,
          8,
          9,
          10,
          10,
          11,
          11,
          12,
          12,
          12,
          12,
          12
         ],
         "xaxis": "x4",
         "y": [
          "Holiday",
          "Holiday",
          "Holiday",
          "Additional",
          "Event",
          "Holiday",
          "Event",
          "Holiday",
          "Additional",
          "Event",
          "Holiday",
          "Holiday",
          "Holiday",
          "Holiday",
          "Transfer",
          "Event",
          "Holiday",
          "Additional",
          "Bridge",
          "Event",
          "Holiday",
          "Work Day"
         ],
         "yaxis": "y4"
        },
        {
         "hovertemplate": "year=2015<br>month=%{x}<br>holiday_type=%{y}<br>sales=%{marker.color}<extra></extra>",
         "legendgroup": "",
         "marker": {
          "color": [
           369.12,
           7.17,
           319.84,
           253.6,
           306.42,
           286.99,
           396.58,
           313.17,
           348.81,
           308.14,
           395.03,
           438.8,
           376.69,
           447.39,
           394.82,
           418.24,
           591,
           560.71
          ],
          "coloraxis": "coloraxis",
          "size": [
           369.12,
           7.17,
           319.84,
           253.6,
           306.42,
           286.99,
           396.58,
           313.17,
           348.81,
           308.14,
           395.03,
           438.8,
           376.69,
           447.39,
           394.82,
           418.24,
           591,
           560.71
          ],
          "sizemode": "area",
          "sizeref": 1.9673249999999998,
          "symbol": "circle"
         },
         "mode": "markers",
         "name": "",
         "orientation": "h",
         "showlegend": false,
         "type": "scatter",
         "x": [
          1,
          1,
          1,
          2,
          3,
          4,
          5,
          5,
          5,
          6,
          7,
          8,
          9,
          10,
          11,
          11,
          12,
          12
         ],
         "xaxis": "x3",
         "y": [
          "Bridge",
          "Holiday",
          "Work Day",
          "Holiday",
          "Holiday",
          "Holiday",
          "Additional",
          "Event",
          "Holiday",
          "Holiday",
          "Holiday",
          "Holiday",
          "Holiday",
          "Holiday",
          "Event",
          "Holiday",
          "Additional",
          "Holiday"
         ],
         "yaxis": "y3"
        },
        {
         "hovertemplate": "year=2016<br>month=%{x}<br>holiday_type=%{y}<br>sales=%{marker.color}<extra></extra>",
         "legendgroup": "",
         "marker": {
          "color": [
           9.22,
           388.18,
           424.24,
           523.33,
           430.97,
           601.12,
           467.81,
           463.88,
           478.5,
           440.59,
           475.8,
           529.34,
           475.8,
           386.81,
           418.44,
           354.52,
           529.14,
           481.74,
           418.18,
           479.73,
           521.77,
           632.09,
           513
          ],
          "coloraxis": "coloraxis",
          "size": [
           9.22,
           388.18,
           424.24,
           523.33,
           430.97,
           601.12,
           467.81,
           463.88,
           478.5,
           440.59,
           475.8,
           529.34,
           475.8,
           386.81,
           418.44,
           354.52,
           529.14,
           481.74,
           418.18,
           479.73,
           521.77,
           632.09,
           513
          ],
          "sizemode": "area",
          "sizeref": 1.9673249999999998,
          "symbol": "circle"
         },
         "mode": "markers",
         "name": "",
         "orientation": "h",
         "showlegend": false,
         "type": "scatter",
         "x": [
          1,
          2,
          3,
          4,
          4,
          5,
          5,
          5,
          5,
          6,
          7,
          7,
          7,
          8,
          8,
          9,
          10,
          11,
          11,
          11,
          11,
          12,
          12
         ],
         "xaxis": "x2",
         "y": [
          "Holiday",
          "Holiday",
          "Holiday",
          "Event",
          "Holiday",
          "Additional",
          "Event",
          "Holiday",
          "Transfer",
          "Holiday",
          "Additional",
          "Holiday",
          "Transfer",
          "Holiday",
          "Transfer",
          "Holiday",
          "Holiday",
          "Bridge",
          "Event",
          "Holiday",
          "Work Day",
          "Additional",
          "Holiday"
         ],
         "yaxis": "y2"
        },
        {
         "hovertemplate": "year=2017<br>month=%{x}<br>holiday_type=%{y}<br>sales=%{marker.color}<extra></extra>",
         "legendgroup": "",
         "marker": {
          "color": [
           6.78,
           786.93,
           475.4,
           469.26,
           508.69,
           413.6,
           626.81,
           496.18,
           527.09,
           552.48,
           566.62,
           429.33,
           537.71,
           445.14,
           463.73
          ],
          "coloraxis": "coloraxis",
          "size": [
           6.78,
           786.93,
           475.4,
           469.26,
           508.69,
           413.6,
           626.81,
           496.18,
           527.09,
           552.48,
           566.62,
           429.33,
           537.71,
           445.14,
           463.73
          ],
          "sizemode": "area",
          "sizeref": 1.9673249999999998,
          "symbol": "circle"
         },
         "mode": "markers",
         "name": "",
         "orientation": "h",
         "showlegend": false,
         "type": "scatter",
         "x": [
          1,
          1,
          2,
          3,
          4,
          4,
          5,
          5,
          5,
          5,
          6,
          7,
          7,
          8,
          8
         ],
         "xaxis": "x",
         "y": [
          "Holiday",
          "Transfer",
          "Holiday",
          "Holiday",
          "Holiday",
          "Transfer",
          "Additional",
          "Event",
          "Holiday",
          "Transfer",
          "Holiday",
          "Additional",
          "Holiday",
          "Holiday",
          "Transfer"
         ],
         "yaxis": "y"
        }
       ],
       "layout": {
        "annotations": [
         {
          "font": {},
          "showarrow": false,
          "text": "year=2017",
          "textangle": 90,
          "x": 0.98,
          "xanchor": "left",
          "xref": "paper",
          "y": 0.08800000000000001,
          "yanchor": "middle",
          "yref": "paper"
         },
         {
          "font": {},
          "showarrow": false,
          "text": "year=2016",
          "textangle": 90,
          "x": 0.98,
          "xanchor": "left",
          "xref": "paper",
          "y": 0.29400000000000004,
          "yanchor": "middle",
          "yref": "paper"
         },
         {
          "font": {},
          "showarrow": false,
          "text": "year=2015",
          "textangle": 90,
          "x": 0.98,
          "xanchor": "left",
          "xref": "paper",
          "y": 0.5,
          "yanchor": "middle",
          "yref": "paper"
         },
         {
          "font": {},
          "showarrow": false,
          "text": "year=2014",
          "textangle": 90,
          "x": 0.98,
          "xanchor": "left",
          "xref": "paper",
          "y": 0.706,
          "yanchor": "middle",
          "yref": "paper"
         },
         {
          "font": {},
          "showarrow": false,
          "text": "year=2013",
          "textangle": 90,
          "x": 0.98,
          "xanchor": "left",
          "xref": "paper",
          "y": 0.912,
          "yanchor": "middle",
          "yref": "paper"
         }
        ],
        "coloraxis": {
         "colorbar": {
          "title": {
           "text": "sales"
          }
         },
         "colorscale": [
          [
           0,
           "#0d0887"
          ],
          [
           0.1111111111111111,
           "#46039f"
          ],
          [
           0.2222222222222222,
           "#7201a8"
          ],
          [
           0.3333333333333333,
           "#9c179e"
          ],
          [
           0.4444444444444444,
           "#bd3786"
          ],
          [
           0.5555555555555556,
           "#d8576b"
          ],
          [
           0.6666666666666666,
           "#ed7953"
          ],
          [
           0.7777777777777778,
           "#fb9f3a"
          ],
          [
           0.8888888888888888,
           "#fdca26"
          ],
          [
           1,
           "#f0f921"
          ]
         ]
        },
        "font": {
         "color": "#555"
        },
        "height": 900,
        "hoverlabel": {
         "bgcolor": "#f2f2f2",
         "font": {
          "family": "Lato, sans-serif",
          "size": 13
         }
        },
        "legend": {
         "itemsizing": "constant",
         "tracegroupgap": 0
        },
        "margin": {
         "b": 0,
         "t": 70
        },
        "paper_bgcolor": "#fafafa",
        "plot_bgcolor": "#fafafa",
        "template": {
         "data": {
          "bar": [
           {
            "error_x": {
             "color": "#2a3f5f"
            },
            "error_y": {
             "color": "#2a3f5f"
            },
            "marker": {
             "line": {
              "color": "#E5ECF6",
              "width": 0.5
             },
             "pattern": {
              "fillmode": "overlay",
              "size": 10,
              "solidity": 0.2
             }
            },
            "type": "bar"
           }
          ],
          "barpolar": [
           {
            "marker": {
             "line": {
              "color": "#E5ECF6",
              "width": 0.5
             },
             "pattern": {
              "fillmode": "overlay",
              "size": 10,
              "solidity": 0.2
             }
            },
            "type": "barpolar"
           }
          ],
          "carpet": [
           {
            "aaxis": {
             "endlinecolor": "#2a3f5f",
             "gridcolor": "white",
             "linecolor": "white",
             "minorgridcolor": "white",
             "startlinecolor": "#2a3f5f"
            },
            "baxis": {
             "endlinecolor": "#2a3f5f",
             "gridcolor": "white",
             "linecolor": "white",
             "minorgridcolor": "white",
             "startlinecolor": "#2a3f5f"
            },
            "type": "carpet"
           }
          ],
          "choropleth": [
           {
            "colorbar": {
             "outlinewidth": 0,
             "ticks": ""
            },
            "type": "choropleth"
           }
          ],
          "contour": [
           {
            "colorbar": {
             "outlinewidth": 0,
             "ticks": ""
            },
            "colorscale": [
             [
              0,
              "#0d0887"
             ],
             [
              0.1111111111111111,
              "#46039f"
             ],
             [
              0.2222222222222222,
              "#7201a8"
             ],
             [
              0.3333333333333333,
              "#9c179e"
             ],
             [
              0.4444444444444444,
              "#bd3786"
             ],
             [
              0.5555555555555556,
              "#d8576b"
             ],
             [
              0.6666666666666666,
              "#ed7953"
             ],
             [
              0.7777777777777778,
              "#fb9f3a"
             ],
             [
              0.8888888888888888,
              "#fdca26"
             ],
             [
              1,
              "#f0f921"
             ]
            ],
            "type": "contour"
           }
          ],
          "contourcarpet": [
           {
            "colorbar": {
             "outlinewidth": 0,
             "ticks": ""
            },
            "type": "contourcarpet"
           }
          ],
          "heatmap": [
           {
            "colorbar": {
             "outlinewidth": 0,
             "ticks": ""
            },
            "colorscale": [
             [
              0,
              "#0d0887"
             ],
             [
              0.1111111111111111,
              "#46039f"
             ],
             [
              0.2222222222222222,
              "#7201a8"
             ],
             [
              0.3333333333333333,
              "#9c179e"
             ],
             [
              0.4444444444444444,
              "#bd3786"
             ],
             [
              0.5555555555555556,
              "#d8576b"
             ],
             [
              0.6666666666666666,
              "#ed7953"
             ],
             [
              0.7777777777777778,
              "#fb9f3a"
             ],
             [
              0.8888888888888888,
              "#fdca26"
             ],
             [
              1,
              "#f0f921"
             ]
            ],
            "type": "heatmap"
           }
          ],
          "heatmapgl": [
           {
            "colorbar": {
             "outlinewidth": 0,
             "ticks": ""
            },
            "colorscale": [
             [
              0,
              "#0d0887"
             ],
             [
              0.1111111111111111,
              "#46039f"
             ],
             [
              0.2222222222222222,
              "#7201a8"
             ],
             [
              0.3333333333333333,
              "#9c179e"
             ],
             [
              0.4444444444444444,
              "#bd3786"
             ],
             [
              0.5555555555555556,
              "#d8576b"
             ],
             [
              0.6666666666666666,
              "#ed7953"
             ],
             [
              0.7777777777777778,
              "#fb9f3a"
             ],
             [
              0.8888888888888888,
              "#fdca26"
             ],
             [
              1,
              "#f0f921"
             ]
            ],
            "type": "heatmapgl"
           }
          ],
          "histogram": [
           {
            "marker": {
             "pattern": {
              "fillmode": "overlay",
              "size": 10,
              "solidity": 0.2
             }
            },
            "type": "histogram"
           }
          ],
          "histogram2d": [
           {
            "colorbar": {
             "outlinewidth": 0,
             "ticks": ""
            },
            "colorscale": [
             [
              0,
              "#0d0887"
             ],
             [
              0.1111111111111111,
              "#46039f"
             ],
             [
              0.2222222222222222,
              "#7201a8"
             ],
             [
              0.3333333333333333,
              "#9c179e"
             ],
             [
              0.4444444444444444,
              "#bd3786"
             ],
             [
              0.5555555555555556,
              "#d8576b"
             ],
             [
              0.6666666666666666,
              "#ed7953"
             ],
             [
              0.7777777777777778,
              "#fb9f3a"
             ],
             [
              0.8888888888888888,
              "#fdca26"
             ],
             [
              1,
              "#f0f921"
             ]
            ],
            "type": "histogram2d"
           }
          ],
          "histogram2dcontour": [
           {
            "colorbar": {
             "outlinewidth": 0,
             "ticks": ""
            },
            "colorscale": [
             [
              0,
              "#0d0887"
             ],
             [
              0.1111111111111111,
              "#46039f"
             ],
             [
              0.2222222222222222,
              "#7201a8"
             ],
             [
              0.3333333333333333,
              "#9c179e"
             ],
             [
              0.4444444444444444,
              "#bd3786"
             ],
             [
              0.5555555555555556,
              "#d8576b"
             ],
             [
              0.6666666666666666,
              "#ed7953"
             ],
             [
              0.7777777777777778,
              "#fb9f3a"
             ],
             [
              0.8888888888888888,
              "#fdca26"
             ],
             [
              1,
              "#f0f921"
             ]
            ],
            "type": "histogram2dcontour"
           }
          ],
          "mesh3d": [
           {
            "colorbar": {
             "outlinewidth": 0,
             "ticks": ""
            },
            "type": "mesh3d"
           }
          ],
          "parcoords": [
           {
            "line": {
             "colorbar": {
              "outlinewidth": 0,
              "ticks": ""
             }
            },
            "type": "parcoords"
           }
          ],
          "pie": [
           {
            "automargin": true,
            "type": "pie"
           }
          ],
          "scatter": [
           {
            "fillpattern": {
             "fillmode": "overlay",
             "size": 10,
             "solidity": 0.2
            },
            "type": "scatter"
           }
          ],
          "scatter3d": [
           {
            "line": {
             "colorbar": {
              "outlinewidth": 0,
              "ticks": ""
             }
            },
            "marker": {
             "colorbar": {
              "outlinewidth": 0,
              "ticks": ""
             }
            },
            "type": "scatter3d"
           }
          ],
          "scattercarpet": [
           {
            "marker": {
             "colorbar": {
              "outlinewidth": 0,
              "ticks": ""
             }
            },
            "type": "scattercarpet"
           }
          ],
          "scattergeo": [
           {
            "marker": {
             "colorbar": {
              "outlinewidth": 0,
              "ticks": ""
             }
            },
            "type": "scattergeo"
           }
          ],
          "scattergl": [
           {
            "marker": {
             "colorbar": {
              "outlinewidth": 0,
              "ticks": ""
             }
            },
            "type": "scattergl"
           }
          ],
          "scattermapbox": [
           {
            "marker": {
             "colorbar": {
              "outlinewidth": 0,
              "ticks": ""
             }
            },
            "type": "scattermapbox"
           }
          ],
          "scatterpolar": [
           {
            "marker": {
             "colorbar": {
              "outlinewidth": 0,
              "ticks": ""
             }
            },
            "type": "scatterpolar"
           }
          ],
          "scatterpolargl": [
           {
            "marker": {
             "colorbar": {
              "outlinewidth": 0,
              "ticks": ""
             }
            },
            "type": "scatterpolargl"
           }
          ],
          "scatterternary": [
           {
            "marker": {
             "colorbar": {
              "outlinewidth": 0,
              "ticks": ""
             }
            },
            "type": "scatterternary"
           }
          ],
          "surface": [
           {
            "colorbar": {
             "outlinewidth": 0,
             "ticks": ""
            },
            "colorscale": [
             [
              0,
              "#0d0887"
             ],
             [
              0.1111111111111111,
              "#46039f"
             ],
             [
              0.2222222222222222,
              "#7201a8"
             ],
             [
              0.3333333333333333,
              "#9c179e"
             ],
             [
              0.4444444444444444,
              "#bd3786"
             ],
             [
              0.5555555555555556,
              "#d8576b"
             ],
             [
              0.6666666666666666,
              "#ed7953"
             ],
             [
              0.7777777777777778,
              "#fb9f3a"
             ],
             [
              0.8888888888888888,
              "#fdca26"
             ],
             [
              1,
              "#f0f921"
             ]
            ],
            "type": "surface"
           }
          ],
          "table": [
           {
            "cells": {
             "fill": {
              "color": "#EBF0F8"
             },
             "line": {
              "color": "white"
             }
            },
            "header": {
             "fill": {
              "color": "#C8D4E3"
             },
             "line": {
              "color": "white"
             }
            },
            "type": "table"
           }
          ]
         },
         "layout": {
          "annotationdefaults": {
           "arrowcolor": "#2a3f5f",
           "arrowhead": 0,
           "arrowwidth": 1
          },
          "autotypenumbers": "strict",
          "coloraxis": {
           "colorbar": {
            "outlinewidth": 0,
            "ticks": ""
           }
          },
          "colorscale": {
           "diverging": [
            [
             0,
             "#8e0152"
            ],
            [
             0.1,
             "#c51b7d"
            ],
            [
             0.2,
             "#de77ae"
            ],
            [
             0.3,
             "#f1b6da"
            ],
            [
             0.4,
             "#fde0ef"
            ],
            [
             0.5,
             "#f7f7f7"
            ],
            [
             0.6,
             "#e6f5d0"
            ],
            [
             0.7,
             "#b8e186"
            ],
            [
             0.8,
             "#7fbc41"
            ],
            [
             0.9,
             "#4d9221"
            ],
            [
             1,
             "#276419"
            ]
           ],
           "sequential": [
            [
             0,
             "#0d0887"
            ],
            [
             0.1111111111111111,
             "#46039f"
            ],
            [
             0.2222222222222222,
             "#7201a8"
            ],
            [
             0.3333333333333333,
             "#9c179e"
            ],
            [
             0.4444444444444444,
             "#bd3786"
            ],
            [
             0.5555555555555556,
             "#d8576b"
            ],
            [
             0.6666666666666666,
             "#ed7953"
            ],
            [
             0.7777777777777778,
             "#fb9f3a"
            ],
            [
             0.8888888888888888,
             "#fdca26"
            ],
            [
             1,
             "#f0f921"
            ]
           ],
           "sequentialminus": [
            [
             0,
             "#0d0887"
            ],
            [
             0.1111111111111111,
             "#46039f"
            ],
            [
             0.2222222222222222,
             "#7201a8"
            ],
            [
             0.3333333333333333,
             "#9c179e"
            ],
            [
             0.4444444444444444,
             "#bd3786"
            ],
            [
             0.5555555555555556,
             "#d8576b"
            ],
            [
             0.6666666666666666,
             "#ed7953"
            ],
            [
             0.7777777777777778,
             "#fb9f3a"
            ],
            [
             0.8888888888888888,
             "#fdca26"
            ],
            [
             1,
             "#f0f921"
            ]
           ]
          },
          "colorway": [
           "#636efa",
           "#EF553B",
           "#00cc96",
           "#ab63fa",
           "#FFA15A",
           "#19d3f3",
           "#FF6692",
           "#B6E880",
           "#FF97FF",
           "#FECB52"
          ],
          "font": {
           "color": "#2a3f5f"
          },
          "geo": {
           "bgcolor": "white",
           "lakecolor": "white",
           "landcolor": "#E5ECF6",
           "showlakes": true,
           "showland": true,
           "subunitcolor": "white"
          },
          "hoverlabel": {
           "align": "left"
          },
          "hovermode": "closest",
          "mapbox": {
           "style": "light"
          },
          "paper_bgcolor": "white",
          "plot_bgcolor": "#E5ECF6",
          "polar": {
           "angularaxis": {
            "gridcolor": "white",
            "linecolor": "white",
            "ticks": ""
           },
           "bgcolor": "#E5ECF6",
           "radialaxis": {
            "gridcolor": "white",
            "linecolor": "white",
            "ticks": ""
           }
          },
          "scene": {
           "xaxis": {
            "backgroundcolor": "#E5ECF6",
            "gridcolor": "white",
            "gridwidth": 2,
            "linecolor": "white",
            "showbackground": true,
            "ticks": "",
            "zerolinecolor": "white"
           },
           "yaxis": {
            "backgroundcolor": "#E5ECF6",
            "gridcolor": "white",
            "gridwidth": 2,
            "linecolor": "white",
            "showbackground": true,
            "ticks": "",
            "zerolinecolor": "white"
           },
           "zaxis": {
            "backgroundcolor": "#E5ECF6",
            "gridcolor": "white",
            "gridwidth": 2,
            "linecolor": "white",
            "showbackground": true,
            "ticks": "",
            "zerolinecolor": "white"
           }
          },
          "shapedefaults": {
           "line": {
            "color": "#2a3f5f"
           }
          },
          "ternary": {
           "aaxis": {
            "gridcolor": "white",
            "linecolor": "white",
            "ticks": ""
           },
           "baxis": {
            "gridcolor": "white",
            "linecolor": "white",
            "ticks": ""
           },
           "bgcolor": "#E5ECF6",
           "caxis": {
            "gridcolor": "white",
            "linecolor": "white",
            "ticks": ""
           }
          },
          "title": {
           "x": 0.05
          },
          "xaxis": {
           "automargin": true,
           "gridcolor": "white",
           "linecolor": "white",
           "ticks": "",
           "title": {
            "standoff": 15
           },
           "zerolinecolor": "white",
           "zerolinewidth": 2
          },
          "yaxis": {
           "automargin": true,
           "gridcolor": "white",
           "linecolor": "white",
           "ticks": "",
           "title": {
            "standoff": 15
           },
           "zerolinecolor": "white",
           "zerolinewidth": 2
          }
         }
        },
        "title": {
         "font": {
          "color": "#444",
          "family": "Lato, sans-serif",
          "size": 29
         },
         "text": "Average Sales: Holiday_type Vs Year(Month)"
        },
        "xaxis": {
         "anchor": "y",
         "domain": [
          0,
          0.98
         ],
         "tickmode": "array",
         "ticktext": [
          "Jan",
          "Feb",
          "Mar",
          "Apr",
          "May",
          "Jun",
          "Jul",
          "Aug",
          "Sep",
          "Oct",
          "Nov",
          "Dec"
         ],
         "tickvals": [
          1,
          2,
          3,
          4,
          5,
          6,
          7,
          8,
          9,
          10,
          11,
          12
         ],
         "title": {
          "text": ""
         }
        },
        "xaxis2": {
         "anchor": "y2",
         "domain": [
          0,
          0.98
         ],
         "matches": "x",
         "showticklabels": false,
         "tickmode": "array",
         "ticktext": [
          "Jan",
          "Feb",
          "Mar",
          "Apr",
          "May",
          "Jun",
          "Jul",
          "Aug",
          "Sep",
          "Oct",
          "Nov",
          "Dec"
         ],
         "tickvals": [
          1,
          2,
          3,
          4,
          5,
          6,
          7,
          8,
          9,
          10,
          11,
          12
         ]
        },
        "xaxis3": {
         "anchor": "y3",
         "domain": [
          0,
          0.98
         ],
         "matches": "x",
         "showticklabels": false,
         "tickmode": "array",
         "ticktext": [
          "Jan",
          "Feb",
          "Mar",
          "Apr",
          "May",
          "Jun",
          "Jul",
          "Aug",
          "Sep",
          "Oct",
          "Nov",
          "Dec"
         ],
         "tickvals": [
          1,
          2,
          3,
          4,
          5,
          6,
          7,
          8,
          9,
          10,
          11,
          12
         ]
        },
        "xaxis4": {
         "anchor": "y4",
         "domain": [
          0,
          0.98
         ],
         "matches": "x",
         "showticklabels": false,
         "tickmode": "array",
         "ticktext": [
          "Jan",
          "Feb",
          "Mar",
          "Apr",
          "May",
          "Jun",
          "Jul",
          "Aug",
          "Sep",
          "Oct",
          "Nov",
          "Dec"
         ],
         "tickvals": [
          1,
          2,
          3,
          4,
          5,
          6,
          7,
          8,
          9,
          10,
          11,
          12
         ]
        },
        "xaxis5": {
         "anchor": "y5",
         "domain": [
          0,
          0.98
         ],
         "matches": "x",
         "showticklabels": false,
         "tickmode": "array",
         "ticktext": [
          "Jan",
          "Feb",
          "Mar",
          "Apr",
          "May",
          "Jun",
          "Jul",
          "Aug",
          "Sep",
          "Oct",
          "Nov",
          "Dec"
         ],
         "tickvals": [
          1,
          2,
          3,
          4,
          5,
          6,
          7,
          8,
          9,
          10,
          11,
          12
         ]
        },
        "yaxis": {
         "anchor": "x",
         "domain": [
          0,
          0.17600000000000002
         ],
         "ticksuffix": "  ",
         "title": {
          "text": ""
         }
        },
        "yaxis2": {
         "anchor": "x2",
         "domain": [
          0.20600000000000002,
          0.382
         ],
         "matches": "y",
         "ticksuffix": "  ",
         "title": {
          "text": "holiday_type"
         }
        },
        "yaxis3": {
         "anchor": "x3",
         "domain": [
          0.41200000000000003,
          0.5880000000000001
         ],
         "matches": "y",
         "ticksuffix": "  ",
         "title": {
          "text": "holiday_type"
         }
        },
        "yaxis4": {
         "anchor": "x4",
         "domain": [
          0.618,
          0.794
         ],
         "matches": "y",
         "ticksuffix": "  ",
         "title": {
          "text": "holiday_type"
         }
        },
        "yaxis5": {
         "anchor": "x5",
         "domain": [
          0.8240000000000001,
          1
         ],
         "matches": "y",
         "ticksuffix": "  ",
         "title": {
          "text": "holiday_type"
         }
        }
       }
      },
      "text/html": [
       "<div>                            <div id=\"e1e81af8-f171-47be-86d4-1f3bc711e001\" class=\"plotly-graph-div\" style=\"height:900px; width:100%;\"></div>            <script type=\"text/javascript\">                require([\"plotly\"], function(Plotly) {                    window.PLOTLYENV=window.PLOTLYENV || {};                                    if (document.getElementById(\"e1e81af8-f171-47be-86d4-1f3bc711e001\")) {                    Plotly.newPlot(                        \"e1e81af8-f171-47be-86d4-1f3bc711e001\",                        [{\"hovertemplate\":\"year=2013<br>month=%{x}<br>holiday_type=%{y}<br>sales=%{marker.color}<extra></extra>\",\"legendgroup\":\"\",\"marker\":{\"color\":[1.41,247.08,164.82,307.44,228.52,287.37,217.65,242.09,199.26,173.54,191.28,220.66,272.11,195.26,226.1,257.43,333.49,321.33],\"coloraxis\":\"coloraxis\",\"size\":[1.41,247.08,164.82,307.44,228.52,287.37,217.65,242.09,199.26,173.54,191.28,220.66,272.11,195.26,226.1,257.43,333.49,321.33],\"sizemode\":\"area\",\"sizeref\":1.9673249999999998,\"symbol\":\"circle\"},\"mode\":\"markers\",\"name\":\"\",\"orientation\":\"h\",\"showlegend\":false,\"x\":[1,1,2,3,4,5,5,5,6,7,7,8,9,10,10,11,12,12],\"xaxis\":\"x5\",\"y\":[\"Holiday\",\"Work Day\",\"Holiday\",\"Holiday\",\"Holiday\",\"Additional\",\"Event\",\"Holiday\",\"Holiday\",\"Additional\",\"Holiday\",\"Holiday\",\"Holiday\",\"Holiday\",\"Transfer\",\"Holiday\",\"Additional\",\"Holiday\"],\"yaxis\":\"y5\",\"type\":\"scatter\"},{\"hovertemplate\":\"year=2014<br>month=%{x}<br>holiday_type=%{y}<br>sales=%{marker.color}<extra></extra>\",\"legendgroup\":\"\",\"marker\":{\"color\":[4.83,379.78,245.73,323.8,255.06,270.34,240.71,207.77,271.95,381.22,325.71,260.73,497.49,307.78,394.2,314.04,366.24,516.89,489.39,458.71,491.55,525.0],\"coloraxis\":\"coloraxis\",\"size\":[4.83,379.78,245.73,323.8,255.06,270.34,240.71,207.77,271.95,381.22,325.71,260.73,497.49,307.78,394.2,314.04,366.24,516.89,489.39,458.71,491.55,525.0],\"sizemode\":\"area\",\"sizeref\":1.9673249999999998,\"symbol\":\"circle\"},\"mode\":\"markers\",\"name\":\"\",\"orientation\":\"h\",\"showlegend\":false,\"x\":[1,3,4,5,5,5,6,6,7,7,7,8,9,10,10,11,11,12,12,12,12,12],\"xaxis\":\"x4\",\"y\":[\"Holiday\",\"Holiday\",\"Holiday\",\"Additional\",\"Event\",\"Holiday\",\"Event\",\"Holiday\",\"Additional\",\"Event\",\"Holiday\",\"Holiday\",\"Holiday\",\"Holiday\",\"Transfer\",\"Event\",\"Holiday\",\"Additional\",\"Bridge\",\"Event\",\"Holiday\",\"Work Day\"],\"yaxis\":\"y4\",\"type\":\"scatter\"},{\"hovertemplate\":\"year=2015<br>month=%{x}<br>holiday_type=%{y}<br>sales=%{marker.color}<extra></extra>\",\"legendgroup\":\"\",\"marker\":{\"color\":[369.12,7.17,319.84,253.6,306.42,286.99,396.58,313.17,348.81,308.14,395.03,438.8,376.69,447.39,394.82,418.24,591.0,560.71],\"coloraxis\":\"coloraxis\",\"size\":[369.12,7.17,319.84,253.6,306.42,286.99,396.58,313.17,348.81,308.14,395.03,438.8,376.69,447.39,394.82,418.24,591.0,560.71],\"sizemode\":\"area\",\"sizeref\":1.9673249999999998,\"symbol\":\"circle\"},\"mode\":\"markers\",\"name\":\"\",\"orientation\":\"h\",\"showlegend\":false,\"x\":[1,1,1,2,3,4,5,5,5,6,7,8,9,10,11,11,12,12],\"xaxis\":\"x3\",\"y\":[\"Bridge\",\"Holiday\",\"Work Day\",\"Holiday\",\"Holiday\",\"Holiday\",\"Additional\",\"Event\",\"Holiday\",\"Holiday\",\"Holiday\",\"Holiday\",\"Holiday\",\"Holiday\",\"Event\",\"Holiday\",\"Additional\",\"Holiday\"],\"yaxis\":\"y3\",\"type\":\"scatter\"},{\"hovertemplate\":\"year=2016<br>month=%{x}<br>holiday_type=%{y}<br>sales=%{marker.color}<extra></extra>\",\"legendgroup\":\"\",\"marker\":{\"color\":[9.22,388.18,424.24,523.33,430.97,601.12,467.81,463.88,478.5,440.59,475.8,529.34,475.8,386.81,418.44,354.52,529.14,481.74,418.18,479.73,521.77,632.09,513.0],\"coloraxis\":\"coloraxis\",\"size\":[9.22,388.18,424.24,523.33,430.97,601.12,467.81,463.88,478.5,440.59,475.8,529.34,475.8,386.81,418.44,354.52,529.14,481.74,418.18,479.73,521.77,632.09,513.0],\"sizemode\":\"area\",\"sizeref\":1.9673249999999998,\"symbol\":\"circle\"},\"mode\":\"markers\",\"name\":\"\",\"orientation\":\"h\",\"showlegend\":false,\"x\":[1,2,3,4,4,5,5,5,5,6,7,7,7,8,8,9,10,11,11,11,11,12,12],\"xaxis\":\"x2\",\"y\":[\"Holiday\",\"Holiday\",\"Holiday\",\"Event\",\"Holiday\",\"Additional\",\"Event\",\"Holiday\",\"Transfer\",\"Holiday\",\"Additional\",\"Holiday\",\"Transfer\",\"Holiday\",\"Transfer\",\"Holiday\",\"Holiday\",\"Bridge\",\"Event\",\"Holiday\",\"Work Day\",\"Additional\",\"Holiday\"],\"yaxis\":\"y2\",\"type\":\"scatter\"},{\"hovertemplate\":\"year=2017<br>month=%{x}<br>holiday_type=%{y}<br>sales=%{marker.color}<extra></extra>\",\"legendgroup\":\"\",\"marker\":{\"color\":[6.78,786.93,475.4,469.26,508.69,413.6,626.81,496.18,527.09,552.48,566.62,429.33,537.71,445.14,463.73],\"coloraxis\":\"coloraxis\",\"size\":[6.78,786.93,475.4,469.26,508.69,413.6,626.81,496.18,527.09,552.48,566.62,429.33,537.71,445.14,463.73],\"sizemode\":\"area\",\"sizeref\":1.9673249999999998,\"symbol\":\"circle\"},\"mode\":\"markers\",\"name\":\"\",\"orientation\":\"h\",\"showlegend\":false,\"x\":[1,1,2,3,4,4,5,5,5,5,6,7,7,8,8],\"xaxis\":\"x\",\"y\":[\"Holiday\",\"Transfer\",\"Holiday\",\"Holiday\",\"Holiday\",\"Transfer\",\"Additional\",\"Event\",\"Holiday\",\"Transfer\",\"Holiday\",\"Additional\",\"Holiday\",\"Holiday\",\"Transfer\"],\"yaxis\":\"y\",\"type\":\"scatter\"}],                        {\"template\":{\"data\":{\"histogram2dcontour\":[{\"type\":\"histogram2dcontour\",\"colorbar\":{\"outlinewidth\":0,\"ticks\":\"\"},\"colorscale\":[[0.0,\"#0d0887\"],[0.1111111111111111,\"#46039f\"],[0.2222222222222222,\"#7201a8\"],[0.3333333333333333,\"#9c179e\"],[0.4444444444444444,\"#bd3786\"],[0.5555555555555556,\"#d8576b\"],[0.6666666666666666,\"#ed7953\"],[0.7777777777777778,\"#fb9f3a\"],[0.8888888888888888,\"#fdca26\"],[1.0,\"#f0f921\"]]}],\"choropleth\":[{\"type\":\"choropleth\",\"colorbar\":{\"outlinewidth\":0,\"ticks\":\"\"}}],\"histogram2d\":[{\"type\":\"histogram2d\",\"colorbar\":{\"outlinewidth\":0,\"ticks\":\"\"},\"colorscale\":[[0.0,\"#0d0887\"],[0.1111111111111111,\"#46039f\"],[0.2222222222222222,\"#7201a8\"],[0.3333333333333333,\"#9c179e\"],[0.4444444444444444,\"#bd3786\"],[0.5555555555555556,\"#d8576b\"],[0.6666666666666666,\"#ed7953\"],[0.7777777777777778,\"#fb9f3a\"],[0.8888888888888888,\"#fdca26\"],[1.0,\"#f0f921\"]]}],\"heatmap\":[{\"type\":\"heatmap\",\"colorbar\":{\"outlinewidth\":0,\"ticks\":\"\"},\"colorscale\":[[0.0,\"#0d0887\"],[0.1111111111111111,\"#46039f\"],[0.2222222222222222,\"#7201a8\"],[0.3333333333333333,\"#9c179e\"],[0.4444444444444444,\"#bd3786\"],[0.5555555555555556,\"#d8576b\"],[0.6666666666666666,\"#ed7953\"],[0.7777777777777778,\"#fb9f3a\"],[0.8888888888888888,\"#fdca26\"],[1.0,\"#f0f921\"]]}],\"heatmapgl\":[{\"type\":\"heatmapgl\",\"colorbar\":{\"outlinewidth\":0,\"ticks\":\"\"},\"colorscale\":[[0.0,\"#0d0887\"],[0.1111111111111111,\"#46039f\"],[0.2222222222222222,\"#7201a8\"],[0.3333333333333333,\"#9c179e\"],[0.4444444444444444,\"#bd3786\"],[0.5555555555555556,\"#d8576b\"],[0.6666666666666666,\"#ed7953\"],[0.7777777777777778,\"#fb9f3a\"],[0.8888888888888888,\"#fdca26\"],[1.0,\"#f0f921\"]]}],\"contourcarpet\":[{\"type\":\"contourcarpet\",\"colorbar\":{\"outlinewidth\":0,\"ticks\":\"\"}}],\"contour\":[{\"type\":\"contour\",\"colorbar\":{\"outlinewidth\":0,\"ticks\":\"\"},\"colorscale\":[[0.0,\"#0d0887\"],[0.1111111111111111,\"#46039f\"],[0.2222222222222222,\"#7201a8\"],[0.3333333333333333,\"#9c179e\"],[0.4444444444444444,\"#bd3786\"],[0.5555555555555556,\"#d8576b\"],[0.6666666666666666,\"#ed7953\"],[0.7777777777777778,\"#fb9f3a\"],[0.8888888888888888,\"#fdca26\"],[1.0,\"#f0f921\"]]}],\"surface\":[{\"type\":\"surface\",\"colorbar\":{\"outlinewidth\":0,\"ticks\":\"\"},\"colorscale\":[[0.0,\"#0d0887\"],[0.1111111111111111,\"#46039f\"],[0.2222222222222222,\"#7201a8\"],[0.3333333333333333,\"#9c179e\"],[0.4444444444444444,\"#bd3786\"],[0.5555555555555556,\"#d8576b\"],[0.6666666666666666,\"#ed7953\"],[0.7777777777777778,\"#fb9f3a\"],[0.8888888888888888,\"#fdca26\"],[1.0,\"#f0f921\"]]}],\"mesh3d\":[{\"type\":\"mesh3d\",\"colorbar\":{\"outlinewidth\":0,\"ticks\":\"\"}}],\"scatter\":[{\"fillpattern\":{\"fillmode\":\"overlay\",\"size\":10,\"solidity\":0.2},\"type\":\"scatter\"}],\"parcoords\":[{\"type\":\"parcoords\",\"line\":{\"colorbar\":{\"outlinewidth\":0,\"ticks\":\"\"}}}],\"scatterpolargl\":[{\"type\":\"scatterpolargl\",\"marker\":{\"colorbar\":{\"outlinewidth\":0,\"ticks\":\"\"}}}],\"bar\":[{\"error_x\":{\"color\":\"#2a3f5f\"},\"error_y\":{\"color\":\"#2a3f5f\"},\"marker\":{\"line\":{\"color\":\"#E5ECF6\",\"width\":0.5},\"pattern\":{\"fillmode\":\"overlay\",\"size\":10,\"solidity\":0.2}},\"type\":\"bar\"}],\"scattergeo\":[{\"type\":\"scattergeo\",\"marker\":{\"colorbar\":{\"outlinewidth\":0,\"ticks\":\"\"}}}],\"scatterpolar\":[{\"type\":\"scatterpolar\",\"marker\":{\"colorbar\":{\"outlinewidth\":0,\"ticks\":\"\"}}}],\"histogram\":[{\"marker\":{\"pattern\":{\"fillmode\":\"overlay\",\"size\":10,\"solidity\":0.2}},\"type\":\"histogram\"}],\"scattergl\":[{\"type\":\"scattergl\",\"marker\":{\"colorbar\":{\"outlinewidth\":0,\"ticks\":\"\"}}}],\"scatter3d\":[{\"type\":\"scatter3d\",\"line\":{\"colorbar\":{\"outlinewidth\":0,\"ticks\":\"\"}},\"marker\":{\"colorbar\":{\"outlinewidth\":0,\"ticks\":\"\"}}}],\"scattermapbox\":[{\"type\":\"scattermapbox\",\"marker\":{\"colorbar\":{\"outlinewidth\":0,\"ticks\":\"\"}}}],\"scatterternary\":[{\"type\":\"scatterternary\",\"marker\":{\"colorbar\":{\"outlinewidth\":0,\"ticks\":\"\"}}}],\"scattercarpet\":[{\"type\":\"scattercarpet\",\"marker\":{\"colorbar\":{\"outlinewidth\":0,\"ticks\":\"\"}}}],\"carpet\":[{\"aaxis\":{\"endlinecolor\":\"#2a3f5f\",\"gridcolor\":\"white\",\"linecolor\":\"white\",\"minorgridcolor\":\"white\",\"startlinecolor\":\"#2a3f5f\"},\"baxis\":{\"endlinecolor\":\"#2a3f5f\",\"gridcolor\":\"white\",\"linecolor\":\"white\",\"minorgridcolor\":\"white\",\"startlinecolor\":\"#2a3f5f\"},\"type\":\"carpet\"}],\"table\":[{\"cells\":{\"fill\":{\"color\":\"#EBF0F8\"},\"line\":{\"color\":\"white\"}},\"header\":{\"fill\":{\"color\":\"#C8D4E3\"},\"line\":{\"color\":\"white\"}},\"type\":\"table\"}],\"barpolar\":[{\"marker\":{\"line\":{\"color\":\"#E5ECF6\",\"width\":0.5},\"pattern\":{\"fillmode\":\"overlay\",\"size\":10,\"solidity\":0.2}},\"type\":\"barpolar\"}],\"pie\":[{\"automargin\":true,\"type\":\"pie\"}]},\"layout\":{\"autotypenumbers\":\"strict\",\"colorway\":[\"#636efa\",\"#EF553B\",\"#00cc96\",\"#ab63fa\",\"#FFA15A\",\"#19d3f3\",\"#FF6692\",\"#B6E880\",\"#FF97FF\",\"#FECB52\"],\"font\":{\"color\":\"#2a3f5f\"},\"hovermode\":\"closest\",\"hoverlabel\":{\"align\":\"left\"},\"paper_bgcolor\":\"white\",\"plot_bgcolor\":\"#E5ECF6\",\"polar\":{\"bgcolor\":\"#E5ECF6\",\"angularaxis\":{\"gridcolor\":\"white\",\"linecolor\":\"white\",\"ticks\":\"\"},\"radialaxis\":{\"gridcolor\":\"white\",\"linecolor\":\"white\",\"ticks\":\"\"}},\"ternary\":{\"bgcolor\":\"#E5ECF6\",\"aaxis\":{\"gridcolor\":\"white\",\"linecolor\":\"white\",\"ticks\":\"\"},\"baxis\":{\"gridcolor\":\"white\",\"linecolor\":\"white\",\"ticks\":\"\"},\"caxis\":{\"gridcolor\":\"white\",\"linecolor\":\"white\",\"ticks\":\"\"}},\"coloraxis\":{\"colorbar\":{\"outlinewidth\":0,\"ticks\":\"\"}},\"colorscale\":{\"sequential\":[[0.0,\"#0d0887\"],[0.1111111111111111,\"#46039f\"],[0.2222222222222222,\"#7201a8\"],[0.3333333333333333,\"#9c179e\"],[0.4444444444444444,\"#bd3786\"],[0.5555555555555556,\"#d8576b\"],[0.6666666666666666,\"#ed7953\"],[0.7777777777777778,\"#fb9f3a\"],[0.8888888888888888,\"#fdca26\"],[1.0,\"#f0f921\"]],\"sequentialminus\":[[0.0,\"#0d0887\"],[0.1111111111111111,\"#46039f\"],[0.2222222222222222,\"#7201a8\"],[0.3333333333333333,\"#9c179e\"],[0.4444444444444444,\"#bd3786\"],[0.5555555555555556,\"#d8576b\"],[0.6666666666666666,\"#ed7953\"],[0.7777777777777778,\"#fb9f3a\"],[0.8888888888888888,\"#fdca26\"],[1.0,\"#f0f921\"]],\"diverging\":[[0,\"#8e0152\"],[0.1,\"#c51b7d\"],[0.2,\"#de77ae\"],[0.3,\"#f1b6da\"],[0.4,\"#fde0ef\"],[0.5,\"#f7f7f7\"],[0.6,\"#e6f5d0\"],[0.7,\"#b8e186\"],[0.8,\"#7fbc41\"],[0.9,\"#4d9221\"],[1,\"#276419\"]]},\"xaxis\":{\"gridcolor\":\"white\",\"linecolor\":\"white\",\"ticks\":\"\",\"title\":{\"standoff\":15},\"zerolinecolor\":\"white\",\"automargin\":true,\"zerolinewidth\":2},\"yaxis\":{\"gridcolor\":\"white\",\"linecolor\":\"white\",\"ticks\":\"\",\"title\":{\"standoff\":15},\"zerolinecolor\":\"white\",\"automargin\":true,\"zerolinewidth\":2},\"scene\":{\"xaxis\":{\"backgroundcolor\":\"#E5ECF6\",\"gridcolor\":\"white\",\"linecolor\":\"white\",\"showbackground\":true,\"ticks\":\"\",\"zerolinecolor\":\"white\",\"gridwidth\":2},\"yaxis\":{\"backgroundcolor\":\"#E5ECF6\",\"gridcolor\":\"white\",\"linecolor\":\"white\",\"showbackground\":true,\"ticks\":\"\",\"zerolinecolor\":\"white\",\"gridwidth\":2},\"zaxis\":{\"backgroundcolor\":\"#E5ECF6\",\"gridcolor\":\"white\",\"linecolor\":\"white\",\"showbackground\":true,\"ticks\":\"\",\"zerolinecolor\":\"white\",\"gridwidth\":2}},\"shapedefaults\":{\"line\":{\"color\":\"#2a3f5f\"}},\"annotationdefaults\":{\"arrowcolor\":\"#2a3f5f\",\"arrowhead\":0,\"arrowwidth\":1},\"geo\":{\"bgcolor\":\"white\",\"landcolor\":\"#E5ECF6\",\"subunitcolor\":\"white\",\"showland\":true,\"showlakes\":true,\"lakecolor\":\"white\"},\"title\":{\"x\":0.05},\"mapbox\":{\"style\":\"light\"}}},\"xaxis\":{\"anchor\":\"y\",\"domain\":[0.0,0.98],\"title\":{\"text\":\"\"},\"tickmode\":\"array\",\"tickvals\":[1,2,3,4,5,6,7,8,9,10,11,12],\"ticktext\":[\"Jan\",\"Feb\",\"Mar\",\"Apr\",\"May\",\"Jun\",\"Jul\",\"Aug\",\"Sep\",\"Oct\",\"Nov\",\"Dec\"]},\"yaxis\":{\"anchor\":\"x\",\"domain\":[0.0,0.17600000000000002],\"title\":{\"text\":\"\"},\"ticksuffix\":\"  \"},\"xaxis2\":{\"anchor\":\"y2\",\"domain\":[0.0,0.98],\"matches\":\"x\",\"showticklabels\":false,\"tickmode\":\"array\",\"tickvals\":[1,2,3,4,5,6,7,8,9,10,11,12],\"ticktext\":[\"Jan\",\"Feb\",\"Mar\",\"Apr\",\"May\",\"Jun\",\"Jul\",\"Aug\",\"Sep\",\"Oct\",\"Nov\",\"Dec\"]},\"yaxis2\":{\"anchor\":\"x2\",\"domain\":[0.20600000000000002,0.382],\"matches\":\"y\",\"title\":{\"text\":\"holiday_type\"},\"ticksuffix\":\"  \"},\"xaxis3\":{\"anchor\":\"y3\",\"domain\":[0.0,0.98],\"matches\":\"x\",\"showticklabels\":false,\"tickmode\":\"array\",\"tickvals\":[1,2,3,4,5,6,7,8,9,10,11,12],\"ticktext\":[\"Jan\",\"Feb\",\"Mar\",\"Apr\",\"May\",\"Jun\",\"Jul\",\"Aug\",\"Sep\",\"Oct\",\"Nov\",\"Dec\"]},\"yaxis3\":{\"anchor\":\"x3\",\"domain\":[0.41200000000000003,0.5880000000000001],\"matches\":\"y\",\"title\":{\"text\":\"holiday_type\"},\"ticksuffix\":\"  \"},\"xaxis4\":{\"anchor\":\"y4\",\"domain\":[0.0,0.98],\"matches\":\"x\",\"showticklabels\":false,\"tickmode\":\"array\",\"tickvals\":[1,2,3,4,5,6,7,8,9,10,11,12],\"ticktext\":[\"Jan\",\"Feb\",\"Mar\",\"Apr\",\"May\",\"Jun\",\"Jul\",\"Aug\",\"Sep\",\"Oct\",\"Nov\",\"Dec\"]},\"yaxis4\":{\"anchor\":\"x4\",\"domain\":[0.618,0.794],\"matches\":\"y\",\"title\":{\"text\":\"holiday_type\"},\"ticksuffix\":\"  \"},\"xaxis5\":{\"anchor\":\"y5\",\"domain\":[0.0,0.98],\"matches\":\"x\",\"showticklabels\":false,\"tickmode\":\"array\",\"tickvals\":[1,2,3,4,5,6,7,8,9,10,11,12],\"ticktext\":[\"Jan\",\"Feb\",\"Mar\",\"Apr\",\"May\",\"Jun\",\"Jul\",\"Aug\",\"Sep\",\"Oct\",\"Nov\",\"Dec\"]},\"yaxis5\":{\"anchor\":\"x5\",\"domain\":[0.8240000000000001,1.0],\"matches\":\"y\",\"title\":{\"text\":\"holiday_type\"},\"ticksuffix\":\"  \"},\"annotations\":[{\"font\":{},\"showarrow\":false,\"text\":\"year=2017\",\"textangle\":90,\"x\":0.98,\"xanchor\":\"left\",\"xref\":\"paper\",\"y\":0.08800000000000001,\"yanchor\":\"middle\",\"yref\":\"paper\"},{\"font\":{},\"showarrow\":false,\"text\":\"year=2016\",\"textangle\":90,\"x\":0.98,\"xanchor\":\"left\",\"xref\":\"paper\",\"y\":0.29400000000000004,\"yanchor\":\"middle\",\"yref\":\"paper\"},{\"font\":{},\"showarrow\":false,\"text\":\"year=2015\",\"textangle\":90,\"x\":0.98,\"xanchor\":\"left\",\"xref\":\"paper\",\"y\":0.5,\"yanchor\":\"middle\",\"yref\":\"paper\"},{\"font\":{},\"showarrow\":false,\"text\":\"year=2014\",\"textangle\":90,\"x\":0.98,\"xanchor\":\"left\",\"xref\":\"paper\",\"y\":0.706,\"yanchor\":\"middle\",\"yref\":\"paper\"},{\"font\":{},\"showarrow\":false,\"text\":\"year=2013\",\"textangle\":90,\"x\":0.98,\"xanchor\":\"left\",\"xref\":\"paper\",\"y\":0.912,\"yanchor\":\"middle\",\"yref\":\"paper\"}],\"coloraxis\":{\"colorbar\":{\"title\":{\"text\":\"sales\"}},\"colorscale\":[[0.0,\"#0d0887\"],[0.1111111111111111,\"#46039f\"],[0.2222222222222222,\"#7201a8\"],[0.3333333333333333,\"#9c179e\"],[0.4444444444444444,\"#bd3786\"],[0.5555555555555556,\"#d8576b\"],[0.6666666666666666,\"#ed7953\"],[0.7777777777777778,\"#fb9f3a\"],[0.8888888888888888,\"#fdca26\"],[1.0,\"#f0f921\"]]},\"legend\":{\"tracegroupgap\":0,\"itemsizing\":\"constant\"},\"title\":{\"text\":\"Average Sales: Holiday_type Vs Year(Month)\",\"font\":{\"size\":29,\"color\":\"#444\",\"family\":\"Lato, sans-serif\"}},\"margin\":{\"t\":70,\"b\":0},\"font\":{\"color\":\"#555\"},\"hoverlabel\":{\"font\":{\"size\":13,\"family\":\"Lato, sans-serif\"},\"bgcolor\":\"#f2f2f2\"},\"height\":900,\"plot_bgcolor\":\"#fafafa\",\"paper_bgcolor\":\"#fafafa\"},                        {\"responsive\": true}                    ).then(function(){\n",
       "                            \n",
       "var gd = document.getElementById('e1e81af8-f171-47be-86d4-1f3bc711e001');\n",
       "var x = new MutationObserver(function (mutations, observer) {{\n",
       "        var display = window.getComputedStyle(gd).display;\n",
       "        if (!display || display === 'none') {{\n",
       "            console.log([gd, 'removed!']);\n",
       "            Plotly.purge(gd);\n",
       "            observer.disconnect();\n",
       "        }}\n",
       "}});\n",
       "\n",
       "// Listen for the removal of the full notebook cells\n",
       "var notebookContainer = gd.closest('#notebook-container');\n",
       "if (notebookContainer) {{\n",
       "    x.observe(notebookContainer, {childList: true});\n",
       "}}\n",
       "\n",
       "// Listen for the clearing of the current output cell\n",
       "var outputEl = gd.closest('.output');\n",
       "if (outputEl) {{\n",
       "    x.observe(outputEl, {childList: true});\n",
       "}}\n",
       "\n",
       "                        })                };                });            </script>        </div>"
      ]
     },
     "metadata": {},
     "output_type": "display_data"
    }
   ],
   "source": [
    "#  Average sale by holiday type, month and year\n",
    "df_y_m_ht = train1.groupby(['year','month','holiday_type']).agg({\"sales\" : \"mean\"}).reset_index()\n",
    "df_y_m_ht['sales'] = round(df_y_m_ht['sales'], 2)\n",
    "\n",
    "# chart\n",
    "fig = px.scatter(df_y_m_ht, x='month', y='holiday_type', color='sales', size='sales', \n",
    "                 facet_row='year', title='Average Sales: Holiday_type Vs Year(Month)')\n",
    "# styling\n",
    "fig.update_yaxes(ticksuffix='  ')\n",
    "fig.update_xaxes(tickmode = 'array', tickvals=[i for i in range(1,13)], \n",
    "                 ticktext=['Jan','Feb','Mar','Apr','May','Jun','Jul','Aug','Sep','Oct','Nov','Dec'])\n",
    "fig.update_layout(height=900, xaxis_title='', yaxis_title='',\n",
    "                  margin=dict(t=70, b=0),\n",
    "                  plot_bgcolor='#fafafa', paper_bgcolor='#fafafa',\n",
    "                  title_font=dict(size=29, color='#444', family=\"Lato, sans-serif\"),\n",
    "                  font=dict(color='#555'), \n",
    "                  hoverlabel=dict(bgcolor=\"#f2f2f2\", font_size=13, font_family=\"Lato, sans-serif\"))\n",
    "fig.show()"
   ]
  },
  {
   "cell_type": "markdown",
   "id": "6988d515",
   "metadata": {},
   "source": [
    " The above visualiztions was gotten from **KASHISH RASTOGI** 📝Store Sales Analysis⏳ Time Serie notebook on this same competition BIG credit to her nice codes which i just made some little changes to  ·"
   ]
  },
  {
   "cell_type": "markdown",
   "id": "8a58d5e8",
   "metadata": {},
   "source": [
    "# FEATURE ENGINEERING"
   ]
  },
  {
   "cell_type": "code",
   "execution_count": 25,
   "id": "bc4b16d4",
   "metadata": {},
   "outputs": [
    {
     "data": {
      "text/plain": [
       "(   id        date  store_nbr      family  sales  onpromotion\n",
       " 0   0  2013-01-01          1  AUTOMOTIVE    0.0            0\n",
       " 1   1  2013-01-01          1   BABY CARE    0.0            0\n",
       " 2   2  2013-01-01          1      BEAUTY    0.0            0\n",
       " 3   3  2013-01-01          1   BEVERAGES    0.0            0\n",
       " 4   4  2013-01-01          1       BOOKS    0.0            0,\n",
       "         id        date  store_nbr      family  onpromotion\n",
       " 0  3000888  2017-08-16          1  AUTOMOTIVE            0\n",
       " 1  3000889  2017-08-16          1   BABY CARE            0\n",
       " 2  3000890  2017-08-16          1      BEAUTY            2\n",
       " 3  3000891  2017-08-16          1   BEVERAGES           20\n",
       " 4  3000892  2017-08-16          1       BOOKS            0)"
      ]
     },
     "execution_count": 25,
     "metadata": {},
     "output_type": "execute_result"
    }
   ],
   "source": [
    "#getting the train test dataset\n",
    "train[:5], test[:5]"
   ]
  },
  {
   "cell_type": "code",
   "execution_count": 26,
   "id": "46fc99d7",
   "metadata": {},
   "outputs": [
    {
     "data": {
      "text/plain": [
       "(id                      int64\n",
       " date           datetime64[ns]\n",
       " store_nbr               int64\n",
       " family                 object\n",
       " sales                 float64\n",
       " onpromotion             int64\n",
       " year                    int64\n",
       " month                   int64\n",
       " day                     int64\n",
       " dtype: object,\n",
       " id                      int64\n",
       " date           datetime64[ns]\n",
       " store_nbr               int64\n",
       " family                 object\n",
       " onpromotion             int64\n",
       " year                    int64\n",
       " month                   int64\n",
       " day                     int64\n",
       " dtype: object)"
      ]
     },
     "execution_count": 26,
     "metadata": {},
     "output_type": "execute_result"
    }
   ],
   "source": [
    "#calling the set_date_time function\n",
    "def set_date_time(train):\n",
    "    train['date'] = pd.to_datetime(train['date'])\n",
    "    train['year'] = train['date'].dt.year\n",
    "    train['month'] = train['date'].dt.month\n",
    "    train['day'] = train['date'].dt.day\n",
    "    return train\n",
    "\n",
    "set_date_time(train).dtypes, set_date_time(test).dtypes"
   ]
  },
  {
   "cell_type": "code",
   "execution_count": 27,
   "id": "a3a0ddf1",
   "metadata": {},
   "outputs": [
    {
     "data": {
      "text/plain": [
       "<Axes: xlabel='year', ylabel='sales'>"
      ]
     },
     "execution_count": 27,
     "metadata": {},
     "output_type": "execute_result"
    },
    {
     "data": {
      "image/png": "[encoded data removed]",
      "text/plain": [
       "<Figure size 640x480 with 1 Axes>"
      ]
     },
     "metadata": {},
     "output_type": "display_data"
    }
   ],
   "source": [
    "sns.lineplot(train, x='year', y='sales')"
   ]
  },
  {
   "cell_type": "code",
   "execution_count": 28,
   "id": "323bc03e",
   "metadata": {},
   "outputs": [
    {
     "data": {
      "text/plain": [
       "(              id       date  store_nbr  family  sales  onpromotion  year  \\\n",
       " 3000886  3000886 2017-08-15          9      31  121.0            8  2017   \n",
       " 3000887  3000887 2017-08-15          9      32   16.0            0  2017   \n",
       " \n",
       "          month  day  \n",
       " 3000886      8   15  \n",
       " 3000887      8   15  ,\n",
       "         id       date  store_nbr  family  onpromotion  year  month  day\n",
       " 0  3000888 2017-08-16          1       0            0  2017      8   16\n",
       " 1  3000889 2017-08-16          1       1            0  2017      8   16)"
      ]
     },
     "execution_count": 28,
     "metadata": {},
     "output_type": "execute_result"
    }
   ],
   "source": [
    "#Encoding the dataset\n",
    "encoder = LabelEncoder()\n",
    "train['family'] = encoder.fit_transform(train['family'])\n",
    "train.tail(2)\n",
    "\n",
    "#repeat for test dataset\n",
    "test['family'] = encoder.fit_transform(test['family'])\n",
    "train.tail(2), test.head(2)"
   ]
  },
  {
   "cell_type": "code",
   "execution_count": 29,
   "id": "6752f8e8",
   "metadata": {},
   "outputs": [
    {
     "data": {
      "text/html": [
       "<div>\n",
       "<style scoped>\n",
       "    .dataframe tbody tr th:only-of-type {\n",
       "        vertical-align: middle;\n",
       "    }\n",
       "\n",
       "    .dataframe tbody tr th {\n",
       "        vertical-align: top;\n",
       "    }\n",
       "\n",
       "    .dataframe thead th {\n",
       "        text-align: right;\n",
       "    }\n",
       "</style>\n",
       "<table border=\"1\" class=\"dataframe\">\n",
       "  <thead>\n",
       "    <tr style=\"text-align: right;\">\n",
       "      <th></th>\n",
       "      <th>store_nbr</th>\n",
       "      <th>family</th>\n",
       "      <th>onpromotion</th>\n",
       "      <th>year</th>\n",
       "      <th>month</th>\n",
       "      <th>day</th>\n",
       "    </tr>\n",
       "  </thead>\n",
       "  <tbody>\n",
       "    <tr>\n",
       "      <th>0</th>\n",
       "      <td>1</td>\n",
       "      <td>0</td>\n",
       "      <td>0</td>\n",
       "      <td>2013</td>\n",
       "      <td>1</td>\n",
       "      <td>1</td>\n",
       "    </tr>\n",
       "    <tr>\n",
       "      <th>1</th>\n",
       "      <td>1</td>\n",
       "      <td>1</td>\n",
       "      <td>0</td>\n",
       "      <td>2013</td>\n",
       "      <td>1</td>\n",
       "      <td>1</td>\n",
       "    </tr>\n",
       "    <tr>\n",
       "      <th>2</th>\n",
       "      <td>1</td>\n",
       "      <td>2</td>\n",
       "      <td>0</td>\n",
       "      <td>2013</td>\n",
       "      <td>1</td>\n",
       "      <td>1</td>\n",
       "    </tr>\n",
       "    <tr>\n",
       "      <th>3</th>\n",
       "      <td>1</td>\n",
       "      <td>3</td>\n",
       "      <td>0</td>\n",
       "      <td>2013</td>\n",
       "      <td>1</td>\n",
       "      <td>1</td>\n",
       "    </tr>\n",
       "    <tr>\n",
       "      <th>4</th>\n",
       "      <td>1</td>\n",
       "      <td>4</td>\n",
       "      <td>0</td>\n",
       "      <td>2013</td>\n",
       "      <td>1</td>\n",
       "      <td>1</td>\n",
       "    </tr>\n",
       "  </tbody>\n",
       "</table>\n",
       "</div>"
      ],
      "text/plain": [
       "   store_nbr  family  onpromotion  year  month  day\n",
       "0          1       0            0  2013      1    1\n",
       "1          1       1            0  2013      1    1\n",
       "2          1       2            0  2013      1    1\n",
       "3          1       3            0  2013      1    1\n",
       "4          1       4            0  2013      1    1"
      ]
     },
     "execution_count": 29,
     "metadata": {},
     "output_type": "execute_result"
    }
   ],
   "source": [
    "#feature columns\n",
    "column = ['store_nbr', 'family', 'onpromotion', 'year', 'month', 'day']\n",
    "X = train[column]\n",
    "X.head()"
   ]
  },
  {
   "cell_type": "code",
   "execution_count": 30,
   "id": "3b7c09f6",
   "metadata": {},
   "outputs": [
    {
     "data": {
      "text/plain": [
       "array([[-1.70026736, -1.6803361 , -0.21301217, -1.36593241, -1.5382016 ,\n",
       "        -1.66349071],\n",
       "       [-1.70026736, -1.57531509, -0.21301217, -1.36593241, -1.5382016 ,\n",
       "        -1.66349071],\n",
       "       [-1.70026736, -1.47029409, -0.21301217, -1.36593241, -1.5382016 ,\n",
       "        -1.66349071],\n",
       "       ...,\n",
       "       [-1.1869791 ,  1.47029409, 11.89939062,  1.60690143,  0.52933779,\n",
       "        -0.07163874],\n",
       "       [-1.1869791 ,  1.57531509,  0.4417123 ,  1.60690143,  0.52933779,\n",
       "        -0.07163874],\n",
       "       [-1.1869791 ,  1.6803361 , -0.21301217,  1.60690143,  0.52933779,\n",
       "        -0.07163874]])"
      ]
     },
     "execution_count": 30,
     "metadata": {},
     "output_type": "execute_result"
    }
   ],
   "source": [
    "#scaling\n",
    "scala = StandardScaler()\n",
    "X = scala.fit_transform(X)\n",
    "X"
   ]
  },
  {
   "cell_type": "code",
   "execution_count": 31,
   "id": "22ec5dd0",
   "metadata": {},
   "outputs": [
    {
     "data": {
      "text/plain": [
       "0    0.0\n",
       "1    0.0\n",
       "2    0.0\n",
       "3    0.0\n",
       "4    0.0\n",
       "Name: sales, dtype: float64"
      ]
     },
     "execution_count": 31,
     "metadata": {},
     "output_type": "execute_result"
    }
   ],
   "source": [
    "#target \n",
    "y = train.sales\n",
    "y.head()"
   ]
  },
  {
   "cell_type": "code",
   "execution_count": 32,
   "id": "7918a1cb",
   "metadata": {},
   "outputs": [],
   "source": [
    "X_train, X_val, y_train, y_val = train_test_split(X, y, random_state=20)#splitting to training and validation sets"
   ]
  },
  {
   "cell_type": "code",
   "execution_count": 33,
   "id": "978e30e4",
   "metadata": {},
   "outputs": [
    {
     "data": {
      "text/plain": [
       "((2250666, 6), (2250666,), (750222, 6), (750222,))"
      ]
     },
     "execution_count": 33,
     "metadata": {},
     "output_type": "execute_result"
    }
   ],
   "source": [
    "X_train.shape, y_train.shape, X_val.shape, y_val.shape #getting the shapes"
   ]
  },
  {
   "cell_type": "markdown",
   "id": "2a67de21",
   "metadata": {},
   "source": [
    "# MODELLING"
   ]
  },
  {
   "cell_type": "code",
   "execution_count": 34,
   "id": "1f5eca13",
   "metadata": {
    "scrolled": false
   },
   "outputs": [
    {
     "name": "stderr",
     "output_type": "stream",
     "text": [
      "C:\\Users\\hp\\.conda\\Lib\\site-packages\\xgboost\\core.py:160: UserWarning:\n",
      "\n",
      "[11:37:22] WARNING: C:\\buildkite-agent\\builds\\buildkite-windows-cpu-autoscaling-group-i-0750514818a16474a-1\\xgboost\\xgboost-ci-windows\\src\\learner.cc:742: \n",
      "Parameters: { \"parameter\" } are not used.\n",
      "\n",
      "\n"
     ]
    },
    {
     "data": {
      "text/html": [
       "<style>#sk-container-id-1 {color: black;}#sk-container-id-1 pre{padding: 0;}#sk-container-id-1 div.sk-toggleable {background-color: white;}#sk-container-id-1 label.sk-toggleable__label {cursor: pointer;display: block;width: 100%;margin-bottom: 0;padding: 0.3em;box-sizing: border-box;text-align: center;}#sk-container-id-1 label.sk-toggleable__label-arrow:before {content: \"▸\";float: left;margin-right: 0.25em;color: #696969;}#sk-container-id-1 label.sk-toggleable__label-arrow:hover:before {color: black;}#sk-container-id-1 div.sk-estimator:hover label.sk-toggleable__label-arrow:before {color: black;}#sk-container-id-1 div.sk-toggleable__content {max-height: 0;max-width: 0;overflow: hidden;text-align: left;background-color: #f0f8ff;}#sk-container-id-1 div.sk-toggleable__content pre {margin: 0.2em;color: black;border-radius: 0.25em;background-color: #f0f8ff;}#sk-container-id-1 input.sk-toggleable__control:checked~div.sk-toggleable__content {max-height: 200px;max-width: 100%;overflow: auto;}#sk-container-id-1 input.sk-toggleable__control:checked~label.sk-toggleable__label-arrow:before {content: \"▾\";}#sk-container-id-1 div.sk-estimator input.sk-toggleable__control:checked~label.sk-toggleable__label {background-color: #d4ebff;}#sk-container-id-1 div.sk-label input.sk-toggleable__control:checked~label.sk-toggleable__label {background-color: #d4ebff;}#sk-container-id-1 input.sk-hidden--visually {border: 0;clip: rect(1px 1px 1px 1px);clip: rect(1px, 1px, 1px, 1px);height: 1px;margin: -1px;overflow: hidden;padding: 0;position: absolute;width: 1px;}#sk-container-id-1 div.sk-estimator {font-family: monospace;background-color: #f0f8ff;border: 1px dotted black;border-radius: 0.25em;box-sizing: border-box;margin-bottom: 0.5em;}#sk-container-id-1 div.sk-estimator:hover {background-color: #d4ebff;}#sk-container-id-1 div.sk-parallel-item::after {content: \"\";width: 100%;border-bottom: 1px solid gray;flex-grow: 1;}#sk-container-id-1 div.sk-label:hover label.sk-toggleable__label {background-color: #d4ebff;}#sk-container-id-1 div.sk-serial::before {content: \"\";position: absolute;border-left: 1px solid gray;box-sizing: border-box;top: 0;bottom: 0;left: 50%;z-index: 0;}#sk-container-id-1 div.sk-serial {display: flex;flex-direction: column;align-items: center;background-color: white;padding-right: 0.2em;padding-left: 0.2em;position: relative;}#sk-container-id-1 div.sk-item {position: relative;z-index: 1;}#sk-container-id-1 div.sk-parallel {display: flex;align-items: stretch;justify-content: center;background-color: white;position: relative;}#sk-container-id-1 div.sk-item::before, #sk-container-id-1 div.sk-parallel-item::before {content: \"\";position: absolute;border-left: 1px solid gray;box-sizing: border-box;top: 0;bottom: 0;left: 50%;z-index: -1;}#sk-container-id-1 div.sk-parallel-item {display: flex;flex-direction: column;z-index: 1;position: relative;background-color: white;}#sk-container-id-1 div.sk-parallel-item:first-child::after {align-self: flex-end;width: 50%;}#sk-container-id-1 div.sk-parallel-item:last-child::after {align-self: flex-start;width: 50%;}#sk-container-id-1 div.sk-parallel-item:only-child::after {width: 0;}#sk-container-id-1 div.sk-dashed-wrapped {border: 1px dashed gray;margin: 0 0.4em 0.5em 0.4em;box-sizing: border-box;padding-bottom: 0.4em;background-color: white;}#sk-container-id-1 div.sk-label label {font-family: monospace;font-weight: bold;display: inline-block;line-height: 1.2em;}#sk-container-id-1 div.sk-label-container {text-align: center;}#sk-container-id-1 div.sk-container {/* jupyter's `normalize.less` sets `[hidden] { display: none; }` but bootstrap.min.css set `[hidden] { display: none !important; }` so we also need the `!important` here to be able to override the default hidden behavior on the sphinx rendered scikit-learn.org. See: https://github.com/scikit-learn/scikit-learn/issues/21755 */display: inline-block !important;position: relative;}#sk-container-id-1 div.sk-text-repr-fallback {display: none;}</style><div id=\"sk-container-id-1\" class=\"sk-top-container\"><div class=\"sk-text-repr-fallback\"><pre>XGBRegressor(base_score=None, booster=None, callbacks=None,\n",
       "             colsample_bylevel=None, colsample_bynode=None,\n",
       "             colsample_bytree=None, device=None, early_stopping_rounds=None,\n",
       "             enable_categorical=False, eval_metric=None, feature_types=None,\n",
       "             gamma=None, grow_policy=None, importance_type=None,\n",
       "             interaction_constraints=None, learning_rate=None, max_bin=None,\n",
       "             max_cat_threshold=None, max_cat_to_onehot=None,\n",
       "             max_delta_step=None, max_depth=None, max_leaves=None,\n",
       "             min_child_weight=None, missing=nan, monotone_constraints=None,\n",
       "             multi_strategy=None, n_estimators=300, n_jobs=None,\n",
       "             num_parallel_tree=None,\n",
       "             parameter={&#x27;learning_rate&#x27;: [0.3, 0.01, 0.001],\n",
       "                        &#x27;max_depth&#x27;: [1, 1000, 3], &#x27;subsample&#x27;: [0.5, 0.7, 1]}, ...)</pre><b>In a Jupyter environment, please rerun this cell to show the HTML representation or trust the notebook. <br />On GitHub, the HTML representation is unable to render, please try loading this page with nbviewer.org.</b></div><div class=\"sk-container\" hidden><div class=\"sk-item\"><div class=\"sk-estimator sk-toggleable\"><input class=\"sk-toggleable__control sk-hidden--visually\" id=\"sk-estimator-id-1\" type=\"checkbox\" checked><label for=\"sk-estimator-id-1\" class=\"sk-toggleable__label sk-toggleable__label-arrow\">XGBRegressor</label><div class=\"sk-toggleable__content\"><pre>XGBRegressor(base_score=None, booster=None, callbacks=None,\n",
       "             colsample_bylevel=None, colsample_bynode=None,\n",
       "             colsample_bytree=None, device=None, early_stopping_rounds=None,\n",
       "             enable_categorical=False, eval_metric=None, feature_types=None,\n",
       "             gamma=None, grow_policy=None, importance_type=None,\n",
       "             interaction_constraints=None, learning_rate=None, max_bin=None,\n",
       "             max_cat_threshold=None, max_cat_to_onehot=None,\n",
       "             max_delta_step=None, max_depth=None, max_leaves=None,\n",
       "             min_child_weight=None, missing=nan, monotone_constraints=None,\n",
       "             multi_strategy=None, n_estimators=300, n_jobs=None,\n",
       "             num_parallel_tree=None,\n",
       "             parameter={&#x27;learning_rate&#x27;: [0.3, 0.01, 0.001],\n",
       "                        &#x27;max_depth&#x27;: [1, 1000, 3], &#x27;subsample&#x27;: [0.5, 0.7, 1]}, ...)</pre></div></div></div></div></div>"
      ],
      "text/plain": [
       "XGBRegressor(base_score=None, booster=None, callbacks=None,\n",
       "             colsample_bylevel=None, colsample_bynode=None,\n",
       "             colsample_bytree=None, device=None, early_stopping_rounds=None,\n",
       "             enable_categorical=False, eval_metric=None, feature_types=None,\n",
       "             gamma=None, grow_policy=None, importance_type=None,\n",
       "             interaction_constraints=None, learning_rate=None, max_bin=None,\n",
       "             max_cat_threshold=None, max_cat_to_onehot=None,\n",
       "             max_delta_step=None, max_depth=None, max_leaves=None,\n",
       "             min_child_weight=None, missing=nan, monotone_constraints=None,\n",
       "             multi_strategy=None, n_estimators=300, n_jobs=None,\n",
       "             num_parallel_tree=None,\n",
       "             parameter={'learning_rate': [0.3, 0.01, 0.001],\n",
       "                        'max_depth': [1, 1000, 3], 'subsample': [0.5, 0.7, 1]}, ...)"
      ]
     },
     "execution_count": 34,
     "metadata": {},
     "output_type": "execute_result"
    }
   ],
   "source": [
    " #modelling\n",
    "# Define the hyperparameter grid\n",
    "param_grid = {\n",
    "    'max_depth': [1, 1000, 3],\n",
    "    'learning_rate': [0.3, 0.01, 0.001],\n",
    "    'subsample': [0.5, 0.7, 1]\n",
    "}\n",
    "\n",
    "# Create the XGBoost model object\n",
    "xgb_model = xgb.XGBRegressor(random_state=20, parameter=param_grid, n_estimators=300)\n",
    "\n",
    "# Fit the model object to the training data\n",
    "xgb_model.fit(X_train, y_train)"
   ]
  },
  {
   "cell_type": "code",
   "execution_count": 35,
   "id": "1127ea2a",
   "metadata": {},
   "outputs": [
    {
     "name": "stdout",
     "output_type": "stream",
     "text": [
      "RMSLE: 1.8611422249112664\n"
     ]
    },
    {
     "name": "stderr",
     "output_type": "stream",
     "text": [
      "C:\\Users\\hp\\AppData\\Local\\Temp\\ipykernel_4636\\4012739418.py:2: RuntimeWarning:\n",
      "\n",
      "invalid value encountered in log1p\n",
      "\n"
     ]
    }
   ],
   "source": [
    "xgb_pred = xgb_model.predict(X_val)\n",
    "squared_log_errors = (np.log1p(y_val) - np.log1p(xgb_pred)) ** 2\n",
    "mean_squared_log_error = np.mean(squared_log_errors)\n",
    "rmsle = np.sqrt(mean_squared_log_error)\n",
    "print(\"RMSLE:\", rmsle)"
   ]
  },
  {
   "cell_type": "code",
   "execution_count": 36,
   "id": "45eef676",
   "metadata": {},
   "outputs": [
    {
     "name": "stdout",
     "output_type": "stream",
     "text": [
      "0:\tlearn: 811.8448742\ttotal: 11.5s\tremaining: 1m 43s\n",
      "1:\tlearn: 704.0866223\ttotal: 24s\tremaining: 1m 36s\n",
      "2:\tlearn: 656.6385628\ttotal: 26.8s\tremaining: 1m 2s\n",
      "3:\tlearn: 609.8526506\ttotal: 37.2s\tremaining: 55.7s\n",
      "4:\tlearn: 605.7680737\ttotal: 38.6s\tremaining: 38.6s\n",
      "5:\tlearn: 584.4705119\ttotal: 48.9s\tremaining: 32.6s\n",
      "6:\tlearn: 565.9401891\ttotal: 59.1s\tremaining: 25.3s\n",
      "7:\tlearn: 553.6044045\ttotal: 1m 1s\tremaining: 15.3s\n",
      "8:\tlearn: 538.1443815\ttotal: 1m 11s\tremaining: 7.97s\n",
      "9:\tlearn: 533.2124409\ttotal: 1m 22s\tremaining: 0us\n"
     ]
    },
    {
     "data": {
      "text/plain": [
       "<catboost.core.CatBoostRegressor at 0x23c338f88d0>"
      ]
     },
     "execution_count": 36,
     "metadata": {},
     "output_type": "execute_result"
    }
   ],
   "source": [
    "#using catboost\n",
    "best_params = {\n",
    "            'bagging_temperature': 0.5,\n",
    "            'depth': 15,\n",
    "            'iterations': 10,\n",
    "            'l2_leaf_reg': 25,\n",
    "            'learning_rate': 0.5,\n",
    "            'sampling_frequency': 'PerTreeLevel',\n",
    "            'leaf_estimation_method': 'Gradient',\n",
    "            'random_strength': 20,\n",
    "            'boosting_type': 'Ordered',\n",
    "            'feature_border_type': 'MaxLogSum',\n",
    "            'l2_leaf_reg': 50,\n",
    "            'max_ctr_complexity': 2,\n",
    "            'fold_len_multiplier': 2\n",
    "    }\n",
    "\n",
    "model_cat = CatBoostRegressor(**best_params,\n",
    "                               thread_count=8,\n",
    "                               task_type='CPU',\n",
    "                               verbose=True)\n",
    "\n",
    "\n",
    "model_cat.fit(X_train, y_train)"
   ]
  },
  {
   "cell_type": "code",
   "execution_count": 37,
   "id": "384ef63a",
   "metadata": {},
   "outputs": [
    {
     "name": "stdout",
     "output_type": "stream",
     "text": [
      "RMSLE: 2.566363884686207\n"
     ]
    },
    {
     "name": "stderr",
     "output_type": "stream",
     "text": [
      "C:\\Users\\hp\\AppData\\Local\\Temp\\ipykernel_4636\\1105860578.py:2: RuntimeWarning:\n",
      "\n",
      "invalid value encountered in log1p\n",
      "\n"
     ]
    }
   ],
   "source": [
    "cat_pred = model_cat.predict(X_val)\n",
    "squared_log_errors = (np.log1p(y_val) - np.log1p(cat_pred)) ** 2\n",
    "mean_squared_log_error = np.mean(squared_log_errors)\n",
    "rmsle = np.sqrt(mean_squared_log_error)\n",
    "print(\"RMSLE:\", rmsle)"
   ]
  },
  {
   "cell_type": "code",
   "execution_count": 38,
   "id": "22ad4db4",
   "metadata": {},
   "outputs": [
    {
     "data": {
      "text/html": [
       "<div>\n",
       "<style scoped>\n",
       "    .dataframe tbody tr th:only-of-type {\n",
       "        vertical-align: middle;\n",
       "    }\n",
       "\n",
       "    .dataframe tbody tr th {\n",
       "        vertical-align: top;\n",
       "    }\n",
       "\n",
       "    .dataframe thead th {\n",
       "        text-align: right;\n",
       "    }\n",
       "</style>\n",
       "<table border=\"1\" class=\"dataframe\">\n",
       "  <thead>\n",
       "    <tr style=\"text-align: right;\">\n",
       "      <th></th>\n",
       "      <th>store_nbr</th>\n",
       "      <th>family</th>\n",
       "      <th>onpromotion</th>\n",
       "      <th>year</th>\n",
       "      <th>month</th>\n",
       "      <th>day</th>\n",
       "    </tr>\n",
       "  </thead>\n",
       "  <tbody>\n",
       "    <tr>\n",
       "      <th>28507</th>\n",
       "      <td>9</td>\n",
       "      <td>28</td>\n",
       "      <td>1</td>\n",
       "      <td>2017</td>\n",
       "      <td>8</td>\n",
       "      <td>31</td>\n",
       "    </tr>\n",
       "    <tr>\n",
       "      <th>28508</th>\n",
       "      <td>9</td>\n",
       "      <td>29</td>\n",
       "      <td>0</td>\n",
       "      <td>2017</td>\n",
       "      <td>8</td>\n",
       "      <td>31</td>\n",
       "    </tr>\n",
       "    <tr>\n",
       "      <th>28509</th>\n",
       "      <td>9</td>\n",
       "      <td>30</td>\n",
       "      <td>1</td>\n",
       "      <td>2017</td>\n",
       "      <td>8</td>\n",
       "      <td>31</td>\n",
       "    </tr>\n",
       "    <tr>\n",
       "      <th>28510</th>\n",
       "      <td>9</td>\n",
       "      <td>31</td>\n",
       "      <td>9</td>\n",
       "      <td>2017</td>\n",
       "      <td>8</td>\n",
       "      <td>31</td>\n",
       "    </tr>\n",
       "    <tr>\n",
       "      <th>28511</th>\n",
       "      <td>9</td>\n",
       "      <td>32</td>\n",
       "      <td>0</td>\n",
       "      <td>2017</td>\n",
       "      <td>8</td>\n",
       "      <td>31</td>\n",
       "    </tr>\n",
       "  </tbody>\n",
       "</table>\n",
       "</div>"
      ],
      "text/plain": [
       "       store_nbr  family  onpromotion  year  month  day\n",
       "28507          9      28            1  2017      8   31\n",
       "28508          9      29            0  2017      8   31\n",
       "28509          9      30            1  2017      8   31\n",
       "28510          9      31            9  2017      8   31\n",
       "28511          9      32            0  2017      8   31"
      ]
     },
     "execution_count": 38,
     "metadata": {},
     "output_type": "execute_result"
    }
   ],
   "source": [
    "# using the xgb model on the test data\n",
    "test_pred = test[column]\n",
    "test_pred[-5:]"
   ]
  },
  {
   "cell_type": "code",
   "execution_count": 39,
   "id": "2e5c011e",
   "metadata": {},
   "outputs": [
    {
     "data": {
      "text/plain": [
       "array([[-1.70026736, -1.6803361 , -0.33675892,  0.        ,  0.        ,\n",
       "        -1.62697843],\n",
       "       [-1.70026736, -1.57531509, -0.33675892,  0.        ,  0.        ,\n",
       "        -1.62697843],\n",
       "       [-1.70026736, -1.47029409, -0.2400639 ,  0.        ,  0.        ,\n",
       "        -1.62697843],\n",
       "       ...,\n",
       "       [-1.1869791 ,  1.47029409, -0.28841141,  0.        ,  0.        ,\n",
       "         1.62697843],\n",
       "       [-1.1869791 ,  1.57531509,  0.09836866,  0.        ,  0.        ,\n",
       "         1.62697843],\n",
       "       [-1.1869791 ,  1.6803361 , -0.33675892,  0.        ,  0.        ,\n",
       "         1.62697843]])"
      ]
     },
     "execution_count": 39,
     "metadata": {},
     "output_type": "execute_result"
    }
   ],
   "source": [
    "test_pred = scala.fit_transform(test_pred)\n",
    "test_pred"
   ]
  },
  {
   "cell_type": "code",
   "execution_count": 40,
   "id": "bbca4853",
   "metadata": {},
   "outputs": [
    {
     "data": {
      "text/plain": [
       "array([  14.741883,   11.743788,   13.05485 , ...,  316.40112 ,\n",
       "       -164.86412 ,  -58.051693], dtype=float32)"
      ]
     },
     "execution_count": 40,
     "metadata": {},
     "output_type": "execute_result"
    }
   ],
   "source": [
    "prediction = xgb_model.predict(test_pred)#prediction\n",
    "prediction"
   ]
  },
  {
   "cell_type": "code",
   "execution_count": 41,
   "id": "633d50d5",
   "metadata": {},
   "outputs": [
    {
     "data": {
      "text/html": [
       "<div>\n",
       "<style scoped>\n",
       "    .dataframe tbody tr th:only-of-type {\n",
       "        vertical-align: middle;\n",
       "    }\n",
       "\n",
       "    .dataframe tbody tr th {\n",
       "        vertical-align: top;\n",
       "    }\n",
       "\n",
       "    .dataframe thead th {\n",
       "        text-align: right;\n",
       "    }\n",
       "</style>\n",
       "<table border=\"1\" class=\"dataframe\">\n",
       "  <thead>\n",
       "    <tr style=\"text-align: right;\">\n",
       "      <th></th>\n",
       "      <th>id</th>\n",
       "      <th>sales</th>\n",
       "    </tr>\n",
       "  </thead>\n",
       "  <tbody>\n",
       "    <tr>\n",
       "      <th>0</th>\n",
       "      <td>3000888</td>\n",
       "      <td>0.0</td>\n",
       "    </tr>\n",
       "    <tr>\n",
       "      <th>1</th>\n",
       "      <td>3000889</td>\n",
       "      <td>0.0</td>\n",
       "    </tr>\n",
       "  </tbody>\n",
       "</table>\n",
       "</div>"
      ],
      "text/plain": [
       "        id  sales\n",
       "0  3000888    0.0\n",
       "1  3000889    0.0"
      ]
     },
     "execution_count": 41,
     "metadata": {},
     "output_type": "execute_result"
    }
   ],
   "source": [
    "sub = pd.read_csv('store-sales-time-series-forecasting/sample_submission.csv')\n",
    "submission = sub\n",
    "submission[:2]"
   ]
  },
  {
   "cell_type": "code",
   "execution_count": 42,
   "id": "90f99d7b",
   "metadata": {},
   "outputs": [
    {
     "data": {
      "text/html": [
       "<div>\n",
       "<style scoped>\n",
       "    .dataframe tbody tr th:only-of-type {\n",
       "        vertical-align: middle;\n",
       "    }\n",
       "\n",
       "    .dataframe tbody tr th {\n",
       "        vertical-align: top;\n",
       "    }\n",
       "\n",
       "    .dataframe thead th {\n",
       "        text-align: right;\n",
       "    }\n",
       "</style>\n",
       "<table border=\"1\" class=\"dataframe\">\n",
       "  <thead>\n",
       "    <tr style=\"text-align: right;\">\n",
       "      <th></th>\n",
       "      <th>id</th>\n",
       "      <th>sales</th>\n",
       "    </tr>\n",
       "  </thead>\n",
       "  <tbody>\n",
       "    <tr>\n",
       "      <th>0</th>\n",
       "      <td>3000888</td>\n",
       "      <td>14.741883</td>\n",
       "    </tr>\n",
       "    <tr>\n",
       "      <th>1</th>\n",
       "      <td>3000889</td>\n",
       "      <td>11.743788</td>\n",
       "    </tr>\n",
       "    <tr>\n",
       "      <th>2</th>\n",
       "      <td>3000890</td>\n",
       "      <td>13.054850</td>\n",
       "    </tr>\n",
       "    <tr>\n",
       "      <th>3</th>\n",
       "      <td>3000891</td>\n",
       "      <td>537.979797</td>\n",
       "    </tr>\n",
       "    <tr>\n",
       "      <th>4</th>\n",
       "      <td>3000892</td>\n",
       "      <td>-3.987240</td>\n",
       "    </tr>\n",
       "    <tr>\n",
       "      <th>5</th>\n",
       "      <td>3000893</td>\n",
       "      <td>611.635986</td>\n",
       "    </tr>\n",
       "    <tr>\n",
       "      <th>6</th>\n",
       "      <td>3000894</td>\n",
       "      <td>32.395714</td>\n",
       "    </tr>\n",
       "    <tr>\n",
       "      <th>7</th>\n",
       "      <td>3000895</td>\n",
       "      <td>1167.539429</td>\n",
       "    </tr>\n",
       "    <tr>\n",
       "      <th>8</th>\n",
       "      <td>3000896</td>\n",
       "      <td>2054.961670</td>\n",
       "    </tr>\n",
       "    <tr>\n",
       "      <th>9</th>\n",
       "      <td>3000897</td>\n",
       "      <td>540.147156</td>\n",
       "    </tr>\n",
       "  </tbody>\n",
       "</table>\n",
       "</div>"
      ],
      "text/plain": [
       "        id        sales\n",
       "0  3000888    14.741883\n",
       "1  3000889    11.743788\n",
       "2  3000890    13.054850\n",
       "3  3000891   537.979797\n",
       "4  3000892    -3.987240\n",
       "5  3000893   611.635986\n",
       "6  3000894    32.395714\n",
       "7  3000895  1167.539429\n",
       "8  3000896  2054.961670\n",
       "9  3000897   540.147156"
      ]
     },
     "execution_count": 42,
     "metadata": {},
     "output_type": "execute_result"
    }
   ],
   "source": [
    "submission['sales'] = prediction\n",
    "submission[:10]"
   ]
  },
  {
   "cell_type": "code",
   "execution_count": 43,
   "id": "a256fc7f",
   "metadata": {},
   "outputs": [
    {
     "data": {
      "text/plain": [
       "<Axes: xlabel='sales', ylabel='Density'>"
      ]
     },
     "execution_count": 43,
     "metadata": {},
     "output_type": "execute_result"
    },
    {
     "data": {
      "image/png": "[encoded data removed]",
      "text/plain": [
       "<Figure size 640x480 with 1 Axes>"
      ]
     },
     "metadata": {},
     "output_type": "display_data"
    }
   ],
   "source": [
    "sns.kdeplot(submission, x='sales', fill=True, color='red')"
   ]
  },
  {
   "cell_type": "code",
   "execution_count": 44,
   "id": "65129c2b",
   "metadata": {},
   "outputs": [],
   "source": [
    "submission.to_csv('submission.csv', index=False)"
   ]
  },
  {
   "cell_type": "code",
   "execution_count": null,
   "id": "178c6a4e",
   "metadata": {},
   "outputs": [],
   "source": []
  }
 ],
 "metadata": {
  "kernelspec": {
   "display_name": "Python 3 (ipykernel)",
   "language": "python",
   "name": "python3"
  },
  "language_info": {
   "codemirror_mode": {
    "name": "ipython",
    "version": 3
   },
   "file_extension": ".py",
   "mimetype": "text/x-python",
   "name": "python",
   "nbconvert_exporter": "python",
   "pygments_lexer": "ipython3",
   "version": "3.11.4"
  }
 },
 "nbformat": 4,
 "nbformat_minor": 5
}
